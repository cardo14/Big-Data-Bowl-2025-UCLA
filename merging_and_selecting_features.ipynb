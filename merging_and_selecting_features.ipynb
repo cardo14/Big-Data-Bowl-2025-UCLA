{
 "cells": [
  {
   "cell_type": "code",
   "execution_count": 2,
   "metadata": {},
   "outputs": [],
   "source": [
    "import pandas as pd\n",
    "import plotly.graph_objects as go\n",
    "import numpy as np\n",
    "from datetime import datetime"
   ]
  },
  {
   "cell_type": "code",
   "execution_count": 3,
   "metadata": {},
   "outputs": [],
   "source": [
    "def aggregate_data(\n",
    "    plays_fname: str, player_play_fname: str, players_fname: str, tracking_fname_list: list\n",
    ") -> pd.DataFrame:\n",
    "    \"\"\"\n",
    "    Create the aggregate dataframe by merging together the plays data, tracking data, and tackles data\n",
    "    In the aggregate dataframe, the tackles will be represented by a tackle_dict column. Each entry is a\n",
    "    dict which consists of the nflId of the tackler as the key, and a tuple of (tackles, assists) as the value\n",
    "\n",
    "    :param plays_fname: the filename of the plays data\n",
    "    :param tackle_fname: the filename of the tackles data\n",
    "    :param players_fname: the filename of the players data\n",
    "    :param tracking_fname_list: a list of filenames of all tracking data\n",
    "\n",
    "    :return df_agg3: the aggregate dataframe\n",
    "    \"\"\"\n",
    "    print(\n",
    "        \"INFO: Aggregating data from play data, tracking data, tackles data, and players data into a master dataframe...\"\n",
    "    )\n",
    "    # import files\n",
    "    df_plays = pd.read_csv(plays_fname)\n",
    "    df_tracking = pd.concat(\n",
    "        [pd.read_csv(tracking_fname) for tracking_fname in tracking_fname_list]\n",
    "    )\n",
    "    df_players = pd.read_csv(players_fname)\n",
    "    df_player_play = pd.read_csv(player_play_fname)\n",
    "    # Create column for age\n",
    "    # Birthdays have NAs but we'll ignore those for now.\n",
    "    # df_players[\"birthDate\"] = pd.to_datetime(\n",
    "    #     df_players[\"birthDate\"], format=\"%Y-%m-%d\", errors=\"coerce\"\n",
    "    # )\n",
    "    # df_players[\"age\"] = (\n",
    "    #     datetime.now().year\n",
    "    #     - df_players[\"birthDate\"].dt.year\n",
    "    #     + (datetime.now().month - df_players[\"birthDate\"].dt.month) / 12\n",
    "    # )\n",
    "    # df_players[\"age\"] = df_players[\"age\"].astype(\"float32\")\n",
    "    # df_players[\"age\"] = df_players[\"age\"].fillna(df_players[\"age\"].mean())\n",
    "    # aggregate plays, tracking, players tables\n",
    "    df_agg1 = pd.merge(df_plays, df_tracking, on=[\"gameId\", \"playId\"], how=\"inner\")\n",
    "    df_agg2 = pd.merge(\n",
    "        df_agg1, df_player_play, on=[\"gameId\", \"playId\", \"nflId\"], how=\"inner\"\n",
    "    )  # how = inner will drop any nflId and displayNames that are not common in both dataframes. For example the \"football\" rows are dropped.\n",
    "    # df_agg3 = pd.merge(\n",
    "    #     df_agg2, df_players, on = [\"nflId\"], how = \"inner\"\n",
    "    # )\n",
    "    return df_agg2"
   ]
  },
  {
   "cell_type": "code",
   "execution_count": 4,
   "metadata": {},
   "outputs": [
    {
     "name": "stdout",
     "output_type": "stream",
     "text": [
      "INFO: Aggregating data from play data, tracking data, tackles data, and players data into a master dataframe...\n"
     ]
    }
   ],
   "source": [
    "tracking_list = ['data/tracking_week_1.csv', 'data/tracking_week_2.csv', 'data/tracking_week_3.csv', 'data/tracking_week_4.csv', 'data/tracking_week_5.csv', 'data/tracking_week_6.csv', 'data/tracking_week_7.csv',\n",
    "'data/tracking_week_8.csv', 'data/tracking_week_9.csv']\n",
    "combined_df = aggregate_data('data/plays.csv', 'data/player_play.csv', 'data/players.csv', ['data/tracking_week_1.csv'])"
   ]
  },
  {
   "cell_type": "code",
   "execution_count": 5,
   "metadata": {},
   "outputs": [],
   "source": [
    "def rotate_direction_and_orientation(df: pd.DataFrame) -> pd.DataFrame:\n",
    "    \"\"\"\n",
    "    Rotate the direction and orientation angles so that 0° points from left to right on the field, and increasing angle goes counterclockwise\n",
    "    This should be done BEFORE the call to make_plays_left_to_right, because that function with compensate for the flipped angles.\n",
    "\n",
    "    :param df: the aggregate dataframe created using the aggregate_data() method\n",
    "\n",
    "    :return df: the aggregate dataframe with orientation and direction angles rotated 90° clockwise\n",
    "    \"\"\"\n",
    "    print(\n",
    "        \"INFO: Transforming orientation and direction angles so that 0° points from left to right, and increasing angle goes counterclockwise...\"\n",
    "    )\n",
    "    df[\"o_clean\"] = (-(df[\"o\"] - 90)) % 360\n",
    "    df[\"dir_clean\"] = (-(df[\"dir\"] - 90)) % 360\n",
    "    return df\n",
    "\n",
    "\n",
    "def make_plays_left_to_right(df: pd.DataFrame) -> pd.DataFrame:\n",
    "    \"\"\"\n",
    "    Flip tracking data so that all plays run from left to right. The new x, y, s, a, dis, o, and dir data\n",
    "    will be stored in new columns with the suffix \"_clean\" even if the variables do not change from their original value.\n",
    "\n",
    "    :param df: the aggregate dataframe created using the aggregate_data() method\n",
    "\n",
    "    :return df: the aggregate dataframe with the new columns such that all plays run left to right\n",
    "    \"\"\"\n",
    "    print(\"INFO: Flipping plays so that they all run from left to right...\")\n",
    "    df[\"x_clean\"] = np.where(\n",
    "        df[\"playDirection\"] == \"left\",\n",
    "        120 - df[\"x\"],\n",
    "        df[\n",
    "            \"x\"\n",
    "        ],  # 120 because the endzones (10 yds each) are included in the [\"x\"] values\n",
    "    )\n",
    "    df[\"y_clean\"] = df[\"y\"]\n",
    "    df[\"s_clean\"] = df[\"s\"]\n",
    "    df[\"a_clean\"] = df[\"a\"]\n",
    "    df[\"dis_clean\"] = df[\"dis\"]\n",
    "    df[\"o_clean\"] = np.where(\n",
    "        df[\"playDirection\"] == \"left\", 180 - df[\"o_clean\"], df[\"o_clean\"]\n",
    "    )\n",
    "    df[\"o_clean\"] = (df[\"o_clean\"] + 360) % 360  # remove negative angles\n",
    "    df[\"dir_clean\"] = np.where(\n",
    "        df[\"playDirection\"] == \"left\", 180 - df[\"dir_clean\"], df[\"dir_clean\"]\n",
    "    )\n",
    "    df[\"dir_clean\"] = (df[\"dir_clean\"] + 360) % 360  # remove negative angles\n",
    "    return df\n",
    "\n",
    "def label_run_or_pass(df: pd.DataFrame) -> pd.DataFrame:\n",
    "    print(\"INFO: Labeling plays as runs or passes\")\n",
    "    df[\"is_run\"] = pd.isna(df[\"passResult\"]) | (df[\"passResult\"] == \"R\")\n",
    "    return df"
   ]
  },
  {
   "cell_type": "code",
   "execution_count": 6,
   "metadata": {},
   "outputs": [],
   "source": [
    "def select_frames(df: pd.DataFrame) -> pd.DataFrame:\n",
    "    \"\"\"\n",
    "    Remove frames during and after the ball is snapped.\n",
    "\n",
    "    Args:\n",
    "        df (pd.DataFrame): DataFrame of tracking plays\n",
    "\n",
    "    Returns:\n",
    "        pd.DataFrame: DataFrame with frames during and after snap are removed\n",
    "    \"\"\"\n",
    "    print(\"INFO: Removing inactive frames...\")\n",
    "    before = len(df)\n",
    "    df = df[df['frameType'] == 'BEFORE_SNAP']\n",
    "    after = len(df)\n",
    "    print(f\"INFO: {before - after} rows removed\")\n",
    "    return df\n",
    "\n",
    "def select_dropbacks(df: pd.DataFrame) -> pd.DataFrame:\n",
    "    \"\"\"\n",
    "    Remove non-dropback plays.\n",
    "\n",
    "    Args:\n",
    "        df (pd.DataFrame): DataFrame of tracking plays\n",
    "\n",
    "    Returns:\n",
    "        pd.DataFrame: DataFrame with isDropback = True\n",
    "    \"\"\"\n",
    "    print(\"INFO: Removing irrelevant plays...\")\n",
    "    before = len(df)\n",
    "    df = df[df['isDropback'] == True]\n",
    "    after = len(df)\n",
    "    print(f\"INFO: {before - after} rows removed\")\n",
    "    return df"
   ]
  },
  {
   "cell_type": "code",
   "execution_count": 7,
   "metadata": {},
   "outputs": [],
   "source": [
    "def clean_data(df: pd.DataFrame) -> pd.DataFrame:\n",
    "    \"\"\"\n",
    "    Takes as input the aggregated dataframe of plays, tackles, players, and tracking data and performs\n",
    "    the following preprocessing operations:\n",
    "\n",
    "    1) Rotates the direction and orientation data so that the convention matches the unit circle\n",
    "    2) Flips plays so that they run from left to right\n",
    "    3) Adds a label to indicate whether the play is a pass or a run\n",
    "\n",
    "    Subsequently, it cleans the data as follows:\n",
    "\n",
    "    1) Remove plays with penalties\n",
    "    2) Remove plays that resulted in touchdowns\n",
    "    3) Convert teams from strings to ints to reduce memory\n",
    "    4) Remove inactive frames (before the ball snap and after the tackle)\n",
    "    5) Remove any bad data (not all players are tracked, multiple ballcarriers)\n",
    "    6) Strip unused df columns to save memory\n",
    "\n",
    "    :param df (pd.DataFrame): the original, aggregated dataframe\n",
    "    :return df_clean (pd.DataFrame): the cleaned dataframe\n",
    "    \"\"\"\n",
    "\n",
    "    # Data preprocessing so that all plays run from left-to-right and all angles match the standard unit circle convention\n",
    "    df = rotate_direction_and_orientation(df)\n",
    "    df = make_plays_left_to_right(df)\n",
    "    df = label_run_or_pass(df)\n",
    "\n",
    "    # Data cleaning\n",
    "    df = select_frames(df)\n",
    "    df = select_dropbacks(df)\n",
    "\n",
    "    return df"
   ]
  },
  {
   "cell_type": "code",
   "execution_count": 8,
   "metadata": {},
   "outputs": [
    {
     "name": "stdout",
     "output_type": "stream",
     "text": [
      "INFO: Transforming orientation and direction angles so that 0° points from left to right, and increasing angle goes counterclockwise...\n",
      "INFO: Flipping plays so that they all run from left to right...\n",
      "INFO: Labeling plays as runs or passes\n",
      "INFO: Removing inactive frames...\n",
      "INFO: 2350304 rows removed\n",
      "INFO: Removing irrelevant plays...\n",
      "INFO: 1671802 rows removed\n"
     ]
    }
   ],
   "source": [
    "combined_df = clean_data(combined_df)"
   ]
  },
  {
   "cell_type": "code",
   "execution_count": 9,
   "metadata": {},
   "outputs": [
    {
     "data": {
      "text/plain": [
       "2773694"
      ]
     },
     "execution_count": 9,
     "metadata": {},
     "output_type": "execute_result"
    }
   ],
   "source": [
    "len(combined_df)"
   ]
  },
  {
   "cell_type": "code",
   "execution_count": 22,
   "metadata": {},
   "outputs": [
    {
     "data": {
      "text/plain": [
       "Index(['inMotionAtBallSnap', 'shiftSinceLineset', 'motionSinceLineset',\n",
       "       'wasRunningRoute', 'routeRan', 'blockedPlayerNFLId1',\n",
       "       'blockedPlayerNFLId2', 'blockedPlayerNFLId3',\n",
       "       'pressureAllowedAsBlocker', 'timeToPressureAllowedAsBlocker',\n",
       "       'pff_defensiveCoverageAssignment',\n",
       "       'pff_primaryDefensiveCoverageMatchupNflId',\n",
       "       'pff_secondaryDefensiveCoverageMatchupNflId', 'o_clean', 'dir_clean',\n",
       "       'x_clean', 'y_clean', 's_clean', 'a_clean', 'dis_clean', 'is_run'],\n",
       "      dtype='object')"
      ]
     },
     "execution_count": 22,
     "metadata": {},
     "output_type": "execute_result"
    }
   ],
   "source": [
    "combined_df.columns[100:]"
   ]
  },
  {
   "cell_type": "code",
   "execution_count": 17,
   "metadata": {},
   "outputs": [
    {
     "data": {
      "text/plain": [
       "array([nan, 'OUT', 'SLANT', 'SCREEN', 'CROSS', 'GO', 'FLAT', 'HITCH',\n",
       "       'IN', 'CORNER', 'POST', 'ANGLE', 'WHEEL'], dtype=object)"
      ]
     },
     "execution_count": 17,
     "metadata": {},
     "output_type": "execute_result"
    }
   ],
   "source": [
    "combined_df['routeRan'].unique()"
   ]
  },
  {
   "cell_type": "code",
   "execution_count": 18,
   "metadata": {},
   "outputs": [
    {
     "data": {
      "text/plain": [
       "array(['SHOTGUN', 'EMPTY', 'SINGLEBACK', 'I_FORM', 'PISTOL', nan, 'JUMBO'],\n",
       "      dtype=object)"
      ]
     },
     "execution_count": 18,
     "metadata": {},
     "output_type": "execute_result"
    }
   ],
   "source": [
    "combined_df['offenseFormation'].unique()"
   ]
  },
  {
   "cell_type": "code",
   "execution_count": 19,
   "metadata": {},
   "outputs": [
    {
     "data": {
      "text/plain": [
       "array(['3x1', '4x1', '2x2', '2x1', '3x2', nan, '1x0', '1x1', '2x0'],\n",
       "      dtype=object)"
      ]
     },
     "execution_count": 19,
     "metadata": {},
     "output_type": "execute_result"
    }
   ],
   "source": [
    "combined_df['receiverAlignment'].unique()"
   ]
  },
  {
   "cell_type": "code",
   "execution_count": 20,
   "metadata": {},
   "outputs": [
    {
     "data": {
      "text/plain": [
       "array(['Cover-0', 'Cover-2', 'Cover-3', 'Cover-6 Right', 'Red Zone',\n",
       "       'Quarters', 'Cover-1', 'Cover-3 Seam', 'Cover 6-Left', nan,\n",
       "       '2-Man', 'Cover-3 Cloud Right', 'Bracket', 'Prevent', 'Goal Line',\n",
       "       'Cover-3 Double Cloud', 'Cover-3 Cloud Left'], dtype=object)"
      ]
     },
     "execution_count": 20,
     "metadata": {},
     "output_type": "execute_result"
    }
   ],
   "source": [
    "combined_df['pff_passCoverage'].unique()"
   ]
  },
  {
   "cell_type": "code",
   "execution_count": 21,
   "metadata": {},
   "outputs": [
    {
     "data": {
      "text/plain": [
       "array(['Man', 'Zone', 'Other', nan], dtype=object)"
      ]
     },
     "execution_count": 21,
     "metadata": {},
     "output_type": "execute_result"
    }
   ],
   "source": [
    "combined_df['pff_manZone'].unique()"
   ]
  },
  {
   "cell_type": "code",
   "execution_count": 23,
   "metadata": {},
   "outputs": [
    {
     "data": {
      "text/plain": [
       "array([False, nan, True], dtype=object)"
      ]
     },
     "execution_count": 23,
     "metadata": {},
     "output_type": "execute_result"
    }
   ],
   "source": [
    "combined_df['inMotionAtBallSnap'].unique()"
   ]
  },
  {
   "cell_type": "code",
   "execution_count": 24,
   "metadata": {},
   "outputs": [
    {
     "data": {
      "text/plain": [
       "array([False, nan, True], dtype=object)"
      ]
     },
     "execution_count": 24,
     "metadata": {},
     "output_type": "execute_result"
    }
   ],
   "source": [
    "combined_df['shiftSinceLineset'].unique()"
   ]
  },
  {
   "cell_type": "code",
   "execution_count": 26,
   "metadata": {},
   "outputs": [
    {
     "data": {
      "text/plain": [
       "array([False, nan, True], dtype=object)"
      ]
     },
     "execution_count": 26,
     "metadata": {},
     "output_type": "execute_result"
    }
   ],
   "source": [
    "combined_df['motionSinceLineset'].unique()"
   ]
  }
 ],
 "metadata": {
  "kernelspec": {
   "display_name": "Python 3.11.7 ('m148')",
   "language": "python",
   "name": "python3"
  },
  "language_info": {
   "codemirror_mode": {
    "name": "ipython",
    "version": 3
   },
   "file_extension": ".py",
   "mimetype": "text/x-python",
   "name": "python",
   "nbconvert_exporter": "python",
   "pygments_lexer": "ipython3",
   "version": "3.11.7"
  },
  "orig_nbformat": 4,
  "vscode": {
   "interpreter": {
    "hash": "a2720be4e965180de30c1a654acfdd0c1b9dd1ebbf99285d20051f30c1cfe82a"
   }
  }
 },
 "nbformat": 4,
 "nbformat_minor": 2
}
