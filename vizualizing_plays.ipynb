{
 "cells": [
  {
   "cell_type": "code",
   "execution_count": 3,
   "metadata": {},
   "outputs": [],
   "source": [
    "import pandas as pd\n",
    "import plotly.graph_objects as go\n",
    "import numpy as np\n"
   ]
  },
  {
   "cell_type": "code",
   "execution_count": 4,
   "metadata": {},
   "outputs": [],
   "source": [
    "plays = pd.read_csv('data/plays.csv')\n",
    "games = pd.read_csv('data/games.csv')\n",
    "player_play = pd.read_csv('data/player_play.csv')\n",
    "players = pd.read_csv('data/players.csv')\n"
   ]
  },
  {
   "cell_type": "code",
   "execution_count": 5,
   "metadata": {},
   "outputs": [],
   "source": [
    "tracking = pd.read_csv('data/tracking_week_1.csv')"
   ]
  },
  {
   "cell_type": "code",
   "execution_count": 9,
   "metadata": {},
   "outputs": [
    {
     "data": {
      "text/html": [
       "<div>\n",
       "<style scoped>\n",
       "    .dataframe tbody tr th:only-of-type {\n",
       "        vertical-align: middle;\n",
       "    }\n",
       "\n",
       "    .dataframe tbody tr th {\n",
       "        vertical-align: top;\n",
       "    }\n",
       "\n",
       "    .dataframe thead th {\n",
       "        text-align: right;\n",
       "    }\n",
       "</style>\n",
       "<table border=\"1\" class=\"dataframe\">\n",
       "  <thead>\n",
       "    <tr style=\"text-align: right;\">\n",
       "      <th></th>\n",
       "      <th>gameId</th>\n",
       "      <th>playId</th>\n",
       "      <th>nflId</th>\n",
       "      <th>displayName</th>\n",
       "      <th>frameId</th>\n",
       "      <th>frameType</th>\n",
       "      <th>time</th>\n",
       "      <th>jerseyNumber</th>\n",
       "      <th>club</th>\n",
       "      <th>playDirection</th>\n",
       "      <th>x</th>\n",
       "      <th>y</th>\n",
       "      <th>s</th>\n",
       "      <th>a</th>\n",
       "      <th>dis</th>\n",
       "      <th>o</th>\n",
       "      <th>dir</th>\n",
       "      <th>event</th>\n",
       "    </tr>\n",
       "  </thead>\n",
       "  <tbody>\n",
       "    <tr>\n",
       "      <th>0</th>\n",
       "      <td>2022091200</td>\n",
       "      <td>64</td>\n",
       "      <td>35459.0</td>\n",
       "      <td>Kareem Jackson</td>\n",
       "      <td>1</td>\n",
       "      <td>BEFORE_SNAP</td>\n",
       "      <td>2022-09-13 00:16:03.5</td>\n",
       "      <td>22.0</td>\n",
       "      <td>DEN</td>\n",
       "      <td>right</td>\n",
       "      <td>51.06</td>\n",
       "      <td>28.55</td>\n",
       "      <td>0.72</td>\n",
       "      <td>0.37</td>\n",
       "      <td>0.07</td>\n",
       "      <td>246.17</td>\n",
       "      <td>68.34</td>\n",
       "      <td>huddle_break_offense</td>\n",
       "    </tr>\n",
       "    <tr>\n",
       "      <th>1</th>\n",
       "      <td>2022091200</td>\n",
       "      <td>64</td>\n",
       "      <td>35459.0</td>\n",
       "      <td>Kareem Jackson</td>\n",
       "      <td>2</td>\n",
       "      <td>BEFORE_SNAP</td>\n",
       "      <td>2022-09-13 00:16:03.6</td>\n",
       "      <td>22.0</td>\n",
       "      <td>DEN</td>\n",
       "      <td>right</td>\n",
       "      <td>51.13</td>\n",
       "      <td>28.57</td>\n",
       "      <td>0.71</td>\n",
       "      <td>0.36</td>\n",
       "      <td>0.07</td>\n",
       "      <td>245.41</td>\n",
       "      <td>71.21</td>\n",
       "      <td>NaN</td>\n",
       "    </tr>\n",
       "    <tr>\n",
       "      <th>2</th>\n",
       "      <td>2022091200</td>\n",
       "      <td>64</td>\n",
       "      <td>35459.0</td>\n",
       "      <td>Kareem Jackson</td>\n",
       "      <td>3</td>\n",
       "      <td>BEFORE_SNAP</td>\n",
       "      <td>2022-09-13 00:16:03.7</td>\n",
       "      <td>22.0</td>\n",
       "      <td>DEN</td>\n",
       "      <td>right</td>\n",
       "      <td>51.20</td>\n",
       "      <td>28.59</td>\n",
       "      <td>0.69</td>\n",
       "      <td>0.23</td>\n",
       "      <td>0.07</td>\n",
       "      <td>244.45</td>\n",
       "      <td>69.90</td>\n",
       "      <td>NaN</td>\n",
       "    </tr>\n",
       "    <tr>\n",
       "      <th>3</th>\n",
       "      <td>2022091200</td>\n",
       "      <td>64</td>\n",
       "      <td>35459.0</td>\n",
       "      <td>Kareem Jackson</td>\n",
       "      <td>4</td>\n",
       "      <td>BEFORE_SNAP</td>\n",
       "      <td>2022-09-13 00:16:03.8</td>\n",
       "      <td>22.0</td>\n",
       "      <td>DEN</td>\n",
       "      <td>right</td>\n",
       "      <td>51.26</td>\n",
       "      <td>28.62</td>\n",
       "      <td>0.67</td>\n",
       "      <td>0.22</td>\n",
       "      <td>0.07</td>\n",
       "      <td>244.45</td>\n",
       "      <td>67.98</td>\n",
       "      <td>NaN</td>\n",
       "    </tr>\n",
       "    <tr>\n",
       "      <th>4</th>\n",
       "      <td>2022091200</td>\n",
       "      <td>64</td>\n",
       "      <td>35459.0</td>\n",
       "      <td>Kareem Jackson</td>\n",
       "      <td>5</td>\n",
       "      <td>BEFORE_SNAP</td>\n",
       "      <td>2022-09-13 00:16:03.9</td>\n",
       "      <td>22.0</td>\n",
       "      <td>DEN</td>\n",
       "      <td>right</td>\n",
       "      <td>51.32</td>\n",
       "      <td>28.65</td>\n",
       "      <td>0.65</td>\n",
       "      <td>0.34</td>\n",
       "      <td>0.07</td>\n",
       "      <td>245.74</td>\n",
       "      <td>62.83</td>\n",
       "      <td>NaN</td>\n",
       "    </tr>\n",
       "  </tbody>\n",
       "</table>\n",
       "</div>"
      ],
      "text/plain": [
       "       gameId  playId    nflId     displayName  frameId    frameType  \\\n",
       "0  2022091200      64  35459.0  Kareem Jackson        1  BEFORE_SNAP   \n",
       "1  2022091200      64  35459.0  Kareem Jackson        2  BEFORE_SNAP   \n",
       "2  2022091200      64  35459.0  Kareem Jackson        3  BEFORE_SNAP   \n",
       "3  2022091200      64  35459.0  Kareem Jackson        4  BEFORE_SNAP   \n",
       "4  2022091200      64  35459.0  Kareem Jackson        5  BEFORE_SNAP   \n",
       "\n",
       "                    time  jerseyNumber club playDirection      x      y     s  \\\n",
       "0  2022-09-13 00:16:03.5          22.0  DEN         right  51.06  28.55  0.72   \n",
       "1  2022-09-13 00:16:03.6          22.0  DEN         right  51.13  28.57  0.71   \n",
       "2  2022-09-13 00:16:03.7          22.0  DEN         right  51.20  28.59  0.69   \n",
       "3  2022-09-13 00:16:03.8          22.0  DEN         right  51.26  28.62  0.67   \n",
       "4  2022-09-13 00:16:03.9          22.0  DEN         right  51.32  28.65  0.65   \n",
       "\n",
       "      a   dis       o    dir                 event  \n",
       "0  0.37  0.07  246.17  68.34  huddle_break_offense  \n",
       "1  0.36  0.07  245.41  71.21                   NaN  \n",
       "2  0.23  0.07  244.45  69.90                   NaN  \n",
       "3  0.22  0.07  244.45  67.98                   NaN  \n",
       "4  0.34  0.07  245.74  62.83                   NaN  "
      ]
     },
     "execution_count": 9,
     "metadata": {},
     "output_type": "execute_result"
    }
   ],
   "source": [
    "tracking.head()"
   ]
  },
  {
   "cell_type": "code",
   "execution_count": 19,
   "metadata": {},
   "outputs": [
    {
     "data": {
      "text/html": [
       "<div>\n",
       "<style scoped>\n",
       "    .dataframe tbody tr th:only-of-type {\n",
       "        vertical-align: middle;\n",
       "    }\n",
       "\n",
       "    .dataframe tbody tr th {\n",
       "        vertical-align: top;\n",
       "    }\n",
       "\n",
       "    .dataframe thead th {\n",
       "        text-align: right;\n",
       "    }\n",
       "</style>\n",
       "<table border=\"1\" class=\"dataframe\">\n",
       "  <thead>\n",
       "    <tr style=\"text-align: right;\">\n",
       "      <th></th>\n",
       "      <th>gameId</th>\n",
       "      <th>playId</th>\n",
       "      <th>playDescription</th>\n",
       "      <th>quarter</th>\n",
       "      <th>down</th>\n",
       "      <th>yardsToGo</th>\n",
       "      <th>possessionTeam</th>\n",
       "      <th>defensiveTeam</th>\n",
       "      <th>yardlineSide</th>\n",
       "      <th>yardlineNumber</th>\n",
       "      <th>...</th>\n",
       "      <th>yardsGained</th>\n",
       "      <th>homeTeamWinProbabilityAdded</th>\n",
       "      <th>visitorTeamWinProbilityAdded</th>\n",
       "      <th>expectedPointsAdded</th>\n",
       "      <th>isDropback</th>\n",
       "      <th>pff_runConceptPrimary</th>\n",
       "      <th>pff_runConceptSecondary</th>\n",
       "      <th>pff_runPassOption</th>\n",
       "      <th>pff_passCoverage</th>\n",
       "      <th>pff_manZone</th>\n",
       "    </tr>\n",
       "  </thead>\n",
       "  <tbody>\n",
       "    <tr>\n",
       "      <th>566</th>\n",
       "      <td>2022091200</td>\n",
       "      <td>3574</td>\n",
       "      <td>(3:25) (Shotgun) R.Wilson pass incomplete shor...</td>\n",
       "      <td>4</td>\n",
       "      <td>2</td>\n",
       "      <td>5</td>\n",
       "      <td>DEN</td>\n",
       "      <td>SEA</td>\n",
       "      <td>DEN</td>\n",
       "      <td>27</td>\n",
       "      <td>...</td>\n",
       "      <td>0</td>\n",
       "      <td>0.063136</td>\n",
       "      <td>-0.063136</td>\n",
       "      <td>-0.575654</td>\n",
       "      <td>True</td>\n",
       "      <td>NaN</td>\n",
       "      <td>NaN</td>\n",
       "      <td>0</td>\n",
       "      <td>Cover 6-Left</td>\n",
       "      <td>Zone</td>\n",
       "    </tr>\n",
       "    <tr>\n",
       "      <th>593</th>\n",
       "      <td>2022091200</td>\n",
       "      <td>1465</td>\n",
       "      <td>(4:20) G.Smith pass incomplete short left to R...</td>\n",
       "      <td>2</td>\n",
       "      <td>1</td>\n",
       "      <td>10</td>\n",
       "      <td>SEA</td>\n",
       "      <td>DEN</td>\n",
       "      <td>SEA</td>\n",
       "      <td>37</td>\n",
       "      <td>...</td>\n",
       "      <td>0</td>\n",
       "      <td>-0.014644</td>\n",
       "      <td>0.014644</td>\n",
       "      <td>-0.535125</td>\n",
       "      <td>True</td>\n",
       "      <td>OUTSIDE ZONE</td>\n",
       "      <td>NaN</td>\n",
       "      <td>0</td>\n",
       "      <td>Cover-3 Seam</td>\n",
       "      <td>Zone</td>\n",
       "    </tr>\n",
       "    <tr>\n",
       "      <th>723</th>\n",
       "      <td>2022091200</td>\n",
       "      <td>109</td>\n",
       "      <td>(13:38) (Shotgun) G.Smith pass short middle to...</td>\n",
       "      <td>1</td>\n",
       "      <td>3</td>\n",
       "      <td>3</td>\n",
       "      <td>SEA</td>\n",
       "      <td>DEN</td>\n",
       "      <td>SEA</td>\n",
       "      <td>37</td>\n",
       "      <td>...</td>\n",
       "      <td>17</td>\n",
       "      <td>0.044197</td>\n",
       "      <td>-0.044197</td>\n",
       "      <td>2.206573</td>\n",
       "      <td>True</td>\n",
       "      <td>NaN</td>\n",
       "      <td>NaN</td>\n",
       "      <td>0</td>\n",
       "      <td>Cover-3 Seam</td>\n",
       "      <td>Zone</td>\n",
       "    </tr>\n",
       "    <tr>\n",
       "      <th>821</th>\n",
       "      <td>2022091200</td>\n",
       "      <td>286</td>\n",
       "      <td>(11:18) R.Wilson pass short right to A.Beck to...</td>\n",
       "      <td>1</td>\n",
       "      <td>2</td>\n",
       "      <td>10</td>\n",
       "      <td>DEN</td>\n",
       "      <td>SEA</td>\n",
       "      <td>DEN</td>\n",
       "      <td>11</td>\n",
       "      <td>...</td>\n",
       "      <td>25</td>\n",
       "      <td>-0.053480</td>\n",
       "      <td>0.053480</td>\n",
       "      <td>2.353510</td>\n",
       "      <td>True</td>\n",
       "      <td>OUTSIDE ZONE</td>\n",
       "      <td>NaN</td>\n",
       "      <td>0</td>\n",
       "      <td>Cover-6 Right</td>\n",
       "      <td>Zone</td>\n",
       "    </tr>\n",
       "    <tr>\n",
       "      <th>830</th>\n",
       "      <td>2022091200</td>\n",
       "      <td>1299</td>\n",
       "      <td>(7:20) J.Williams right guard to DEN 24 for -1...</td>\n",
       "      <td>2</td>\n",
       "      <td>1</td>\n",
       "      <td>10</td>\n",
       "      <td>DEN</td>\n",
       "      <td>SEA</td>\n",
       "      <td>DEN</td>\n",
       "      <td>25</td>\n",
       "      <td>...</td>\n",
       "      <td>-1</td>\n",
       "      <td>0.017426</td>\n",
       "      <td>-0.017426</td>\n",
       "      <td>-1.156474</td>\n",
       "      <td>False</td>\n",
       "      <td>INSIDE ZONE</td>\n",
       "      <td>PITCH;SPLIT</td>\n",
       "      <td>0</td>\n",
       "      <td>Quarters</td>\n",
       "      <td>Zone</td>\n",
       "    </tr>\n",
       "    <tr>\n",
       "      <th>1301</th>\n",
       "      <td>2022091200</td>\n",
       "      <td>3515</td>\n",
       "      <td>(4:54) (Shotgun) G.Smith sacked at SEA 24 for ...</td>\n",
       "      <td>4</td>\n",
       "      <td>3</td>\n",
       "      <td>6</td>\n",
       "      <td>SEA</td>\n",
       "      <td>DEN</td>\n",
       "      <td>SEA</td>\n",
       "      <td>34</td>\n",
       "      <td>...</td>\n",
       "      <td>-10</td>\n",
       "      <td>-0.170094</td>\n",
       "      <td>0.170094</td>\n",
       "      <td>-1.966423</td>\n",
       "      <td>True</td>\n",
       "      <td>NaN</td>\n",
       "      <td>NaN</td>\n",
       "      <td>0</td>\n",
       "      <td>Cover-1</td>\n",
       "      <td>Man</td>\n",
       "    </tr>\n",
       "    <tr>\n",
       "      <th>1366</th>\n",
       "      <td>2022091200</td>\n",
       "      <td>1988</td>\n",
       "      <td>(14:20) M.Gordon up the middle to DEN 26 for 8...</td>\n",
       "      <td>3</td>\n",
       "      <td>2</td>\n",
       "      <td>12</td>\n",
       "      <td>DEN</td>\n",
       "      <td>SEA</td>\n",
       "      <td>DEN</td>\n",
       "      <td>18</td>\n",
       "      <td>...</td>\n",
       "      <td>8</td>\n",
       "      <td>-0.014610</td>\n",
       "      <td>0.014610</td>\n",
       "      <td>0.290619</td>\n",
       "      <td>False</td>\n",
       "      <td>POWER</td>\n",
       "      <td>LEAD</td>\n",
       "      <td>0</td>\n",
       "      <td>Cover 6-Left</td>\n",
       "      <td>Zone</td>\n",
       "    </tr>\n",
       "    <tr>\n",
       "      <th>1414</th>\n",
       "      <td>2022091200</td>\n",
       "      <td>180</td>\n",
       "      <td>(12:19) R.Penny left guard to DEN 38 for 4 yar...</td>\n",
       "      <td>1</td>\n",
       "      <td>2</td>\n",
       "      <td>6</td>\n",
       "      <td>SEA</td>\n",
       "      <td>DEN</td>\n",
       "      <td>DEN</td>\n",
       "      <td>42</td>\n",
       "      <td>...</td>\n",
       "      <td>4</td>\n",
       "      <td>-0.012123</td>\n",
       "      <td>0.012123</td>\n",
       "      <td>-0.162190</td>\n",
       "      <td>False</td>\n",
       "      <td>INSIDE ZONE</td>\n",
       "      <td>NaN</td>\n",
       "      <td>0</td>\n",
       "      <td>Cover-3</td>\n",
       "      <td>Zone</td>\n",
       "    </tr>\n",
       "    <tr>\n",
       "      <th>1440</th>\n",
       "      <td>2022091200</td>\n",
       "      <td>2093</td>\n",
       "      <td>(11:35) (Shotgun) R.Wilson pass short left to ...</td>\n",
       "      <td>3</td>\n",
       "      <td>1</td>\n",
       "      <td>10</td>\n",
       "      <td>DEN</td>\n",
       "      <td>SEA</td>\n",
       "      <td>SEA</td>\n",
       "      <td>36</td>\n",
       "      <td>...</td>\n",
       "      <td>1</td>\n",
       "      <td>0.023995</td>\n",
       "      <td>-0.023995</td>\n",
       "      <td>-0.397402</td>\n",
       "      <td>True</td>\n",
       "      <td>NaN</td>\n",
       "      <td>NaN</td>\n",
       "      <td>0</td>\n",
       "      <td>Cover 6-Left</td>\n",
       "      <td>Zone</td>\n",
       "    </tr>\n",
       "    <tr>\n",
       "      <th>1552</th>\n",
       "      <td>2022091200</td>\n",
       "      <td>3491</td>\n",
       "      <td>(5:31) (Shotgun) G.Smith pass short right to N...</td>\n",
       "      <td>4</td>\n",
       "      <td>2</td>\n",
       "      <td>8</td>\n",
       "      <td>SEA</td>\n",
       "      <td>DEN</td>\n",
       "      <td>SEA</td>\n",
       "      <td>32</td>\n",
       "      <td>...</td>\n",
       "      <td>2</td>\n",
       "      <td>-0.002844</td>\n",
       "      <td>0.002844</td>\n",
       "      <td>-0.505535</td>\n",
       "      <td>True</td>\n",
       "      <td>NaN</td>\n",
       "      <td>NaN</td>\n",
       "      <td>0</td>\n",
       "      <td>Quarters</td>\n",
       "      <td>Zone</td>\n",
       "    </tr>\n",
       "    <tr>\n",
       "      <th>1590</th>\n",
       "      <td>2022091200</td>\n",
       "      <td>1092</td>\n",
       "      <td>(11:01) R.Penny right tackle to DEN 28 for 26 ...</td>\n",
       "      <td>2</td>\n",
       "      <td>1</td>\n",
       "      <td>10</td>\n",
       "      <td>SEA</td>\n",
       "      <td>DEN</td>\n",
       "      <td>SEA</td>\n",
       "      <td>46</td>\n",
       "      <td>...</td>\n",
       "      <td>28</td>\n",
       "      <td>0.047029</td>\n",
       "      <td>-0.047029</td>\n",
       "      <td>1.805704</td>\n",
       "      <td>False</td>\n",
       "      <td>MAN</td>\n",
       "      <td>NaN</td>\n",
       "      <td>0</td>\n",
       "      <td>Cover-3</td>\n",
       "      <td>Zone</td>\n",
       "    </tr>\n",
       "    <tr>\n",
       "      <th>1625</th>\n",
       "      <td>2022091200</td>\n",
       "      <td>1344</td>\n",
       "      <td>(5:46) (Shotgun) R.Wilson pass deep left to J....</td>\n",
       "      <td>2</td>\n",
       "      <td>3</td>\n",
       "      <td>2</td>\n",
       "      <td>DEN</td>\n",
       "      <td>SEA</td>\n",
       "      <td>DEN</td>\n",
       "      <td>33</td>\n",
       "      <td>...</td>\n",
       "      <td>67</td>\n",
       "      <td>-0.195855</td>\n",
       "      <td>0.195855</td>\n",
       "      <td>6.065577</td>\n",
       "      <td>True</td>\n",
       "      <td>NaN</td>\n",
       "      <td>NaN</td>\n",
       "      <td>0</td>\n",
       "      <td>Cover-1</td>\n",
       "      <td>Man</td>\n",
       "    </tr>\n",
       "    <tr>\n",
       "      <th>1722</th>\n",
       "      <td>2022091200</td>\n",
       "      <td>882</td>\n",
       "      <td>(15:00) (Shotgun) R.Wilson sacked at DEN 40 fo...</td>\n",
       "      <td>2</td>\n",
       "      <td>1</td>\n",
       "      <td>15</td>\n",
       "      <td>DEN</td>\n",
       "      <td>SEA</td>\n",
       "      <td>DEN</td>\n",
       "      <td>42</td>\n",
       "      <td>...</td>\n",
       "      <td>-2</td>\n",
       "      <td>0.014348</td>\n",
       "      <td>-0.014348</td>\n",
       "      <td>-0.619681</td>\n",
       "      <td>True</td>\n",
       "      <td>NaN</td>\n",
       "      <td>NaN</td>\n",
       "      <td>0</td>\n",
       "      <td>Cover 6-Left</td>\n",
       "      <td>Zone</td>\n",
       "    </tr>\n",
       "    <tr>\n",
       "      <th>2343</th>\n",
       "      <td>2022091200</td>\n",
       "      <td>3173</td>\n",
       "      <td>(9:21) M.Gordon right guard to SEA 30 for 8 ya...</td>\n",
       "      <td>4</td>\n",
       "      <td>1</td>\n",
       "      <td>10</td>\n",
       "      <td>DEN</td>\n",
       "      <td>SEA</td>\n",
       "      <td>SEA</td>\n",
       "      <td>38</td>\n",
       "      <td>...</td>\n",
       "      <td>8</td>\n",
       "      <td>-0.028887</td>\n",
       "      <td>0.028887</td>\n",
       "      <td>0.504915</td>\n",
       "      <td>False</td>\n",
       "      <td>MAN</td>\n",
       "      <td>NaN</td>\n",
       "      <td>0</td>\n",
       "      <td>Quarters</td>\n",
       "      <td>Zone</td>\n",
       "    </tr>\n",
       "    <tr>\n",
       "      <th>2470</th>\n",
       "      <td>2022091200</td>\n",
       "      <td>565</td>\n",
       "      <td>(6:40) (Shotgun) G.Smith pass short middle to ...</td>\n",
       "      <td>1</td>\n",
       "      <td>1</td>\n",
       "      <td>10</td>\n",
       "      <td>SEA</td>\n",
       "      <td>DEN</td>\n",
       "      <td>SEA</td>\n",
       "      <td>42</td>\n",
       "      <td>...</td>\n",
       "      <td>28</td>\n",
       "      <td>0.050136</td>\n",
       "      <td>-0.050136</td>\n",
       "      <td>1.748425</td>\n",
       "      <td>True</td>\n",
       "      <td>OUTSIDE ZONE</td>\n",
       "      <td>NaN</td>\n",
       "      <td>1</td>\n",
       "      <td>Quarters</td>\n",
       "      <td>Zone</td>\n",
       "    </tr>\n",
       "    <tr>\n",
       "      <th>2677</th>\n",
       "      <td>2022091200</td>\n",
       "      <td>64</td>\n",
       "      <td>(14:54) R.Penny right end to SEA 30 for no gai...</td>\n",
       "      <td>1</td>\n",
       "      <td>1</td>\n",
       "      <td>10</td>\n",
       "      <td>SEA</td>\n",
       "      <td>DEN</td>\n",
       "      <td>SEA</td>\n",
       "      <td>30</td>\n",
       "      <td>...</td>\n",
       "      <td>0</td>\n",
       "      <td>0.004575</td>\n",
       "      <td>-0.004575</td>\n",
       "      <td>-0.362858</td>\n",
       "      <td>False</td>\n",
       "      <td>OUTSIDE ZONE</td>\n",
       "      <td>LEAD;PITCH</td>\n",
       "      <td>0</td>\n",
       "      <td>Cover-3</td>\n",
       "      <td>Zone</td>\n",
       "    </tr>\n",
       "    <tr>\n",
       "      <th>2843</th>\n",
       "      <td>2022091200</td>\n",
       "      <td>1320</td>\n",
       "      <td>(6:34) (Shotgun) R.Wilson pass short right to ...</td>\n",
       "      <td>2</td>\n",
       "      <td>2</td>\n",
       "      <td>11</td>\n",
       "      <td>DEN</td>\n",
       "      <td>SEA</td>\n",
       "      <td>DEN</td>\n",
       "      <td>24</td>\n",
       "      <td>...</td>\n",
       "      <td>9</td>\n",
       "      <td>-0.005968</td>\n",
       "      <td>0.005968</td>\n",
       "      <td>0.716001</td>\n",
       "      <td>True</td>\n",
       "      <td>NaN</td>\n",
       "      <td>NaN</td>\n",
       "      <td>0</td>\n",
       "      <td>Cover 6-Left</td>\n",
       "      <td>Zone</td>\n",
       "    </tr>\n",
       "    <tr>\n",
       "      <th>3180</th>\n",
       "      <td>2022091200</td>\n",
       "      <td>3001</td>\n",
       "      <td>(13:08) (Shotgun) G.Smith pass incomplete shor...</td>\n",
       "      <td>4</td>\n",
       "      <td>3</td>\n",
       "      <td>16</td>\n",
       "      <td>SEA</td>\n",
       "      <td>DEN</td>\n",
       "      <td>SEA</td>\n",
       "      <td>36</td>\n",
       "      <td>...</td>\n",
       "      <td>0</td>\n",
       "      <td>-0.058317</td>\n",
       "      <td>0.058317</td>\n",
       "      <td>-1.094981</td>\n",
       "      <td>True</td>\n",
       "      <td>NaN</td>\n",
       "      <td>NaN</td>\n",
       "      <td>0</td>\n",
       "      <td>Cover 6-Left</td>\n",
       "      <td>Zone</td>\n",
       "    </tr>\n",
       "    <tr>\n",
       "      <th>3266</th>\n",
       "      <td>2022091200</td>\n",
       "      <td>2244</td>\n",
       "      <td>(9:09) (Shotgun) R.Wilson pass short left to M...</td>\n",
       "      <td>3</td>\n",
       "      <td>2</td>\n",
       "      <td>11</td>\n",
       "      <td>DEN</td>\n",
       "      <td>SEA</td>\n",
       "      <td>SEA</td>\n",
       "      <td>11</td>\n",
       "      <td>...</td>\n",
       "      <td>2</td>\n",
       "      <td>0.012987</td>\n",
       "      <td>-0.012987</td>\n",
       "      <td>-0.460299</td>\n",
       "      <td>True</td>\n",
       "      <td>NaN</td>\n",
       "      <td>NaN</td>\n",
       "      <td>0</td>\n",
       "      <td>Red Zone</td>\n",
       "      <td>Other</td>\n",
       "    </tr>\n",
       "    <tr>\n",
       "      <th>3390</th>\n",
       "      <td>2022091200</td>\n",
       "      <td>2667</td>\n",
       "      <td>(4:38) M.Gordon left guard to SEA 4 for no gai...</td>\n",
       "      <td>3</td>\n",
       "      <td>1</td>\n",
       "      <td>4</td>\n",
       "      <td>DEN</td>\n",
       "      <td>SEA</td>\n",
       "      <td>SEA</td>\n",
       "      <td>4</td>\n",
       "      <td>...</td>\n",
       "      <td>0</td>\n",
       "      <td>0.002018</td>\n",
       "      <td>-0.002018</td>\n",
       "      <td>-0.334128</td>\n",
       "      <td>False</td>\n",
       "      <td>INSIDE ZONE</td>\n",
       "      <td>NaN</td>\n",
       "      <td>0</td>\n",
       "      <td>Red Zone</td>\n",
       "      <td>Other</td>\n",
       "    </tr>\n",
       "    <tr>\n",
       "      <th>3399</th>\n",
       "      <td>2022091200</td>\n",
       "      <td>2613</td>\n",
       "      <td>(5:26) (Shotgun) M.Gordon left tackle to SEA 2...</td>\n",
       "      <td>3</td>\n",
       "      <td>2</td>\n",
       "      <td>10</td>\n",
       "      <td>DEN</td>\n",
       "      <td>SEA</td>\n",
       "      <td>SEA</td>\n",
       "      <td>32</td>\n",
       "      <td>...</td>\n",
       "      <td>7</td>\n",
       "      <td>0.007034</td>\n",
       "      <td>-0.007034</td>\n",
       "      <td>-0.013335</td>\n",
       "      <td>False</td>\n",
       "      <td>OUTSIDE ZONE</td>\n",
       "      <td>NaN</td>\n",
       "      <td>1</td>\n",
       "      <td>Quarters</td>\n",
       "      <td>Zone</td>\n",
       "    </tr>\n",
       "    <tr>\n",
       "      <th>3400</th>\n",
       "      <td>2022091200</td>\n",
       "      <td>2923</td>\n",
       "      <td>(15:00) (Shotgun) G.Smith right end pushed ob ...</td>\n",
       "      <td>4</td>\n",
       "      <td>3</td>\n",
       "      <td>2</td>\n",
       "      <td>SEA</td>\n",
       "      <td>DEN</td>\n",
       "      <td>SEA</td>\n",
       "      <td>39</td>\n",
       "      <td>...</td>\n",
       "      <td>3</td>\n",
       "      <td>0.082139</td>\n",
       "      <td>-0.082139</td>\n",
       "      <td>1.020262</td>\n",
       "      <td>False</td>\n",
       "      <td>PULL LEAD</td>\n",
       "      <td>QB RUNS</td>\n",
       "      <td>1</td>\n",
       "      <td>Cover-3</td>\n",
       "      <td>Zone</td>\n",
       "    </tr>\n",
       "    <tr>\n",
       "      <th>3490</th>\n",
       "      <td>2022091200</td>\n",
       "      <td>983</td>\n",
       "      <td>(13:14) (Shotgun) R.Penny right guard to SEA 2...</td>\n",
       "      <td>2</td>\n",
       "      <td>1</td>\n",
       "      <td>10</td>\n",
       "      <td>SEA</td>\n",
       "      <td>DEN</td>\n",
       "      <td>SEA</td>\n",
       "      <td>19</td>\n",
       "      <td>...</td>\n",
       "      <td>1</td>\n",
       "      <td>-0.003412</td>\n",
       "      <td>0.003412</td>\n",
       "      <td>-0.528796</td>\n",
       "      <td>False</td>\n",
       "      <td>OUTSIDE ZONE</td>\n",
       "      <td>NaN</td>\n",
       "      <td>0</td>\n",
       "      <td>Cover-6 Right</td>\n",
       "      <td>Zone</td>\n",
       "    </tr>\n",
       "    <tr>\n",
       "      <th>3808</th>\n",
       "      <td>2022091200</td>\n",
       "      <td>2712</td>\n",
       "      <td>(3:08) (Shotgun) J.Williams up the middle to S...</td>\n",
       "      <td>3</td>\n",
       "      <td>3</td>\n",
       "      <td>1</td>\n",
       "      <td>DEN</td>\n",
       "      <td>SEA</td>\n",
       "      <td>SEA</td>\n",
       "      <td>1</td>\n",
       "      <td>...</td>\n",
       "      <td>-19</td>\n",
       "      <td>0.249610</td>\n",
       "      <td>-0.249610</td>\n",
       "      <td>-6.730951</td>\n",
       "      <td>False</td>\n",
       "      <td>INSIDE ZONE</td>\n",
       "      <td>NaN</td>\n",
       "      <td>0</td>\n",
       "      <td>Cover-0</td>\n",
       "      <td>Man</td>\n",
       "    </tr>\n",
       "    <tr>\n",
       "      <th>4087</th>\n",
       "      <td>2022091200</td>\n",
       "      <td>446</td>\n",
       "      <td>(8:25) M.Gordon right guard to SEA 18 for 5 ya...</td>\n",
       "      <td>1</td>\n",
       "      <td>2</td>\n",
       "      <td>15</td>\n",
       "      <td>DEN</td>\n",
       "      <td>SEA</td>\n",
       "      <td>SEA</td>\n",
       "      <td>23</td>\n",
       "      <td>...</td>\n",
       "      <td>5</td>\n",
       "      <td>-0.006021</td>\n",
       "      <td>0.006021</td>\n",
       "      <td>0.058678</td>\n",
       "      <td>False</td>\n",
       "      <td>MAN</td>\n",
       "      <td>NaN</td>\n",
       "      <td>0</td>\n",
       "      <td>Cover-3</td>\n",
       "      <td>Zone</td>\n",
       "    </tr>\n",
       "    <tr>\n",
       "      <th>4232</th>\n",
       "      <td>2022091200</td>\n",
       "      <td>3048</td>\n",
       "      <td>(12:50) R.Wilson pass short right to J.William...</td>\n",
       "      <td>4</td>\n",
       "      <td>1</td>\n",
       "      <td>10</td>\n",
       "      <td>DEN</td>\n",
       "      <td>SEA</td>\n",
       "      <td>DEN</td>\n",
       "      <td>20</td>\n",
       "      <td>...</td>\n",
       "      <td>4</td>\n",
       "      <td>0.015170</td>\n",
       "      <td>-0.015170</td>\n",
       "      <td>-0.192908</td>\n",
       "      <td>True</td>\n",
       "      <td>OUTSIDE ZONE</td>\n",
       "      <td>NaN</td>\n",
       "      <td>0</td>\n",
       "      <td>Cover-3 Seam</td>\n",
       "      <td>Zone</td>\n",
       "    </tr>\n",
       "    <tr>\n",
       "      <th>4444</th>\n",
       "      <td>2022091200</td>\n",
       "      <td>1579</td>\n",
       "      <td>(2:31) (Shotgun) G.Smith pass deep right to C....</td>\n",
       "      <td>2</td>\n",
       "      <td>2</td>\n",
       "      <td>6</td>\n",
       "      <td>SEA</td>\n",
       "      <td>DEN</td>\n",
       "      <td>DEN</td>\n",
       "      <td>25</td>\n",
       "      <td>...</td>\n",
       "      <td>25</td>\n",
       "      <td>0.111828</td>\n",
       "      <td>-0.111828</td>\n",
       "      <td>3.381919</td>\n",
       "      <td>True</td>\n",
       "      <td>NaN</td>\n",
       "      <td>NaN</td>\n",
       "      <td>0</td>\n",
       "      <td>Cover-3</td>\n",
       "      <td>Zone</td>\n",
       "    </tr>\n",
       "    <tr>\n",
       "      <th>4525</th>\n",
       "      <td>2022091200</td>\n",
       "      <td>2268</td>\n",
       "      <td>(8:25) (Shotgun) R.Wilson pass short middle to...</td>\n",
       "      <td>3</td>\n",
       "      <td>3</td>\n",
       "      <td>9</td>\n",
       "      <td>DEN</td>\n",
       "      <td>SEA</td>\n",
       "      <td>SEA</td>\n",
       "      <td>9</td>\n",
       "      <td>...</td>\n",
       "      <td>8</td>\n",
       "      <td>-0.031702</td>\n",
       "      <td>0.031702</td>\n",
       "      <td>0.973737</td>\n",
       "      <td>True</td>\n",
       "      <td>NaN</td>\n",
       "      <td>NaN</td>\n",
       "      <td>0</td>\n",
       "      <td>Red Zone</td>\n",
       "      <td>Other</td>\n",
       "    </tr>\n",
       "    <tr>\n",
       "      <th>4556</th>\n",
       "      <td>2022091200</td>\n",
       "      <td>2883</td>\n",
       "      <td>(:40) (Shotgun) G.Smith scrambles right end to...</td>\n",
       "      <td>3</td>\n",
       "      <td>2</td>\n",
       "      <td>16</td>\n",
       "      <td>SEA</td>\n",
       "      <td>DEN</td>\n",
       "      <td>SEA</td>\n",
       "      <td>25</td>\n",
       "      <td>...</td>\n",
       "      <td>14</td>\n",
       "      <td>0.030441</td>\n",
       "      <td>-0.030441</td>\n",
       "      <td>1.003418</td>\n",
       "      <td>True</td>\n",
       "      <td>NaN</td>\n",
       "      <td>NaN</td>\n",
       "      <td>0</td>\n",
       "      <td>Cover-3 Seam</td>\n",
       "      <td>Zone</td>\n",
       "    </tr>\n",
       "  </tbody>\n",
       "</table>\n",
       "<p>29 rows × 50 columns</p>\n",
       "</div>"
      ],
      "text/plain": [
       "          gameId  playId                                    playDescription  \\\n",
       "566   2022091200    3574  (3:25) (Shotgun) R.Wilson pass incomplete shor...   \n",
       "593   2022091200    1465  (4:20) G.Smith pass incomplete short left to R...   \n",
       "723   2022091200     109  (13:38) (Shotgun) G.Smith pass short middle to...   \n",
       "821   2022091200     286  (11:18) R.Wilson pass short right to A.Beck to...   \n",
       "830   2022091200    1299  (7:20) J.Williams right guard to DEN 24 for -1...   \n",
       "1301  2022091200    3515  (4:54) (Shotgun) G.Smith sacked at SEA 24 for ...   \n",
       "1366  2022091200    1988  (14:20) M.Gordon up the middle to DEN 26 for 8...   \n",
       "1414  2022091200     180  (12:19) R.Penny left guard to DEN 38 for 4 yar...   \n",
       "1440  2022091200    2093  (11:35) (Shotgun) R.Wilson pass short left to ...   \n",
       "1552  2022091200    3491  (5:31) (Shotgun) G.Smith pass short right to N...   \n",
       "1590  2022091200    1092  (11:01) R.Penny right tackle to DEN 28 for 26 ...   \n",
       "1625  2022091200    1344  (5:46) (Shotgun) R.Wilson pass deep left to J....   \n",
       "1722  2022091200     882  (15:00) (Shotgun) R.Wilson sacked at DEN 40 fo...   \n",
       "2343  2022091200    3173  (9:21) M.Gordon right guard to SEA 30 for 8 ya...   \n",
       "2470  2022091200     565  (6:40) (Shotgun) G.Smith pass short middle to ...   \n",
       "2677  2022091200      64  (14:54) R.Penny right end to SEA 30 for no gai...   \n",
       "2843  2022091200    1320  (6:34) (Shotgun) R.Wilson pass short right to ...   \n",
       "3180  2022091200    3001  (13:08) (Shotgun) G.Smith pass incomplete shor...   \n",
       "3266  2022091200    2244  (9:09) (Shotgun) R.Wilson pass short left to M...   \n",
       "3390  2022091200    2667  (4:38) M.Gordon left guard to SEA 4 for no gai...   \n",
       "3399  2022091200    2613  (5:26) (Shotgun) M.Gordon left tackle to SEA 2...   \n",
       "3400  2022091200    2923  (15:00) (Shotgun) G.Smith right end pushed ob ...   \n",
       "3490  2022091200     983  (13:14) (Shotgun) R.Penny right guard to SEA 2...   \n",
       "3808  2022091200    2712  (3:08) (Shotgun) J.Williams up the middle to S...   \n",
       "4087  2022091200     446  (8:25) M.Gordon right guard to SEA 18 for 5 ya...   \n",
       "4232  2022091200    3048  (12:50) R.Wilson pass short right to J.William...   \n",
       "4444  2022091200    1579  (2:31) (Shotgun) G.Smith pass deep right to C....   \n",
       "4525  2022091200    2268  (8:25) (Shotgun) R.Wilson pass short middle to...   \n",
       "4556  2022091200    2883  (:40) (Shotgun) G.Smith scrambles right end to...   \n",
       "\n",
       "      quarter  down  yardsToGo possessionTeam defensiveTeam yardlineSide  \\\n",
       "566         4     2          5            DEN           SEA          DEN   \n",
       "593         2     1         10            SEA           DEN          SEA   \n",
       "723         1     3          3            SEA           DEN          SEA   \n",
       "821         1     2         10            DEN           SEA          DEN   \n",
       "830         2     1         10            DEN           SEA          DEN   \n",
       "1301        4     3          6            SEA           DEN          SEA   \n",
       "1366        3     2         12            DEN           SEA          DEN   \n",
       "1414        1     2          6            SEA           DEN          DEN   \n",
       "1440        3     1         10            DEN           SEA          SEA   \n",
       "1552        4     2          8            SEA           DEN          SEA   \n",
       "1590        2     1         10            SEA           DEN          SEA   \n",
       "1625        2     3          2            DEN           SEA          DEN   \n",
       "1722        2     1         15            DEN           SEA          DEN   \n",
       "2343        4     1         10            DEN           SEA          SEA   \n",
       "2470        1     1         10            SEA           DEN          SEA   \n",
       "2677        1     1         10            SEA           DEN          SEA   \n",
       "2843        2     2         11            DEN           SEA          DEN   \n",
       "3180        4     3         16            SEA           DEN          SEA   \n",
       "3266        3     2         11            DEN           SEA          SEA   \n",
       "3390        3     1          4            DEN           SEA          SEA   \n",
       "3399        3     2         10            DEN           SEA          SEA   \n",
       "3400        4     3          2            SEA           DEN          SEA   \n",
       "3490        2     1         10            SEA           DEN          SEA   \n",
       "3808        3     3          1            DEN           SEA          SEA   \n",
       "4087        1     2         15            DEN           SEA          SEA   \n",
       "4232        4     1         10            DEN           SEA          DEN   \n",
       "4444        2     2          6            SEA           DEN          DEN   \n",
       "4525        3     3          9            DEN           SEA          SEA   \n",
       "4556        3     2         16            SEA           DEN          SEA   \n",
       "\n",
       "      yardlineNumber  ... yardsGained  homeTeamWinProbabilityAdded  \\\n",
       "566               27  ...           0                     0.063136   \n",
       "593               37  ...           0                    -0.014644   \n",
       "723               37  ...          17                     0.044197   \n",
       "821               11  ...          25                    -0.053480   \n",
       "830               25  ...          -1                     0.017426   \n",
       "1301              34  ...         -10                    -0.170094   \n",
       "1366              18  ...           8                    -0.014610   \n",
       "1414              42  ...           4                    -0.012123   \n",
       "1440              36  ...           1                     0.023995   \n",
       "1552              32  ...           2                    -0.002844   \n",
       "1590              46  ...          28                     0.047029   \n",
       "1625              33  ...          67                    -0.195855   \n",
       "1722              42  ...          -2                     0.014348   \n",
       "2343              38  ...           8                    -0.028887   \n",
       "2470              42  ...          28                     0.050136   \n",
       "2677              30  ...           0                     0.004575   \n",
       "2843              24  ...           9                    -0.005968   \n",
       "3180              36  ...           0                    -0.058317   \n",
       "3266              11  ...           2                     0.012987   \n",
       "3390               4  ...           0                     0.002018   \n",
       "3399              32  ...           7                     0.007034   \n",
       "3400              39  ...           3                     0.082139   \n",
       "3490              19  ...           1                    -0.003412   \n",
       "3808               1  ...         -19                     0.249610   \n",
       "4087              23  ...           5                    -0.006021   \n",
       "4232              20  ...           4                     0.015170   \n",
       "4444              25  ...          25                     0.111828   \n",
       "4525               9  ...           8                    -0.031702   \n",
       "4556              25  ...          14                     0.030441   \n",
       "\n",
       "      visitorTeamWinProbilityAdded expectedPointsAdded  isDropback  \\\n",
       "566                      -0.063136           -0.575654        True   \n",
       "593                       0.014644           -0.535125        True   \n",
       "723                      -0.044197            2.206573        True   \n",
       "821                       0.053480            2.353510        True   \n",
       "830                      -0.017426           -1.156474       False   \n",
       "1301                      0.170094           -1.966423        True   \n",
       "1366                      0.014610            0.290619       False   \n",
       "1414                      0.012123           -0.162190       False   \n",
       "1440                     -0.023995           -0.397402        True   \n",
       "1552                      0.002844           -0.505535        True   \n",
       "1590                     -0.047029            1.805704       False   \n",
       "1625                      0.195855            6.065577        True   \n",
       "1722                     -0.014348           -0.619681        True   \n",
       "2343                      0.028887            0.504915       False   \n",
       "2470                     -0.050136            1.748425        True   \n",
       "2677                     -0.004575           -0.362858       False   \n",
       "2843                      0.005968            0.716001        True   \n",
       "3180                      0.058317           -1.094981        True   \n",
       "3266                     -0.012987           -0.460299        True   \n",
       "3390                     -0.002018           -0.334128       False   \n",
       "3399                     -0.007034           -0.013335       False   \n",
       "3400                     -0.082139            1.020262       False   \n",
       "3490                      0.003412           -0.528796       False   \n",
       "3808                     -0.249610           -6.730951       False   \n",
       "4087                      0.006021            0.058678       False   \n",
       "4232                     -0.015170           -0.192908        True   \n",
       "4444                     -0.111828            3.381919        True   \n",
       "4525                      0.031702            0.973737        True   \n",
       "4556                     -0.030441            1.003418        True   \n",
       "\n",
       "      pff_runConceptPrimary  pff_runConceptSecondary  pff_runPassOption  \\\n",
       "566                     NaN                      NaN                  0   \n",
       "593            OUTSIDE ZONE                      NaN                  0   \n",
       "723                     NaN                      NaN                  0   \n",
       "821            OUTSIDE ZONE                      NaN                  0   \n",
       "830             INSIDE ZONE              PITCH;SPLIT                  0   \n",
       "1301                    NaN                      NaN                  0   \n",
       "1366                  POWER                     LEAD                  0   \n",
       "1414            INSIDE ZONE                      NaN                  0   \n",
       "1440                    NaN                      NaN                  0   \n",
       "1552                    NaN                      NaN                  0   \n",
       "1590                    MAN                      NaN                  0   \n",
       "1625                    NaN                      NaN                  0   \n",
       "1722                    NaN                      NaN                  0   \n",
       "2343                    MAN                      NaN                  0   \n",
       "2470           OUTSIDE ZONE                      NaN                  1   \n",
       "2677           OUTSIDE ZONE               LEAD;PITCH                  0   \n",
       "2843                    NaN                      NaN                  0   \n",
       "3180                    NaN                      NaN                  0   \n",
       "3266                    NaN                      NaN                  0   \n",
       "3390            INSIDE ZONE                      NaN                  0   \n",
       "3399           OUTSIDE ZONE                      NaN                  1   \n",
       "3400              PULL LEAD                  QB RUNS                  1   \n",
       "3490           OUTSIDE ZONE                      NaN                  0   \n",
       "3808            INSIDE ZONE                      NaN                  0   \n",
       "4087                    MAN                      NaN                  0   \n",
       "4232           OUTSIDE ZONE                      NaN                  0   \n",
       "4444                    NaN                      NaN                  0   \n",
       "4525                    NaN                      NaN                  0   \n",
       "4556                    NaN                      NaN                  0   \n",
       "\n",
       "     pff_passCoverage pff_manZone  \n",
       "566      Cover 6-Left        Zone  \n",
       "593      Cover-3 Seam        Zone  \n",
       "723      Cover-3 Seam        Zone  \n",
       "821     Cover-6 Right        Zone  \n",
       "830          Quarters        Zone  \n",
       "1301          Cover-1         Man  \n",
       "1366     Cover 6-Left        Zone  \n",
       "1414          Cover-3        Zone  \n",
       "1440     Cover 6-Left        Zone  \n",
       "1552         Quarters        Zone  \n",
       "1590          Cover-3        Zone  \n",
       "1625          Cover-1         Man  \n",
       "1722     Cover 6-Left        Zone  \n",
       "2343         Quarters        Zone  \n",
       "2470         Quarters        Zone  \n",
       "2677          Cover-3        Zone  \n",
       "2843     Cover 6-Left        Zone  \n",
       "3180     Cover 6-Left        Zone  \n",
       "3266         Red Zone       Other  \n",
       "3390         Red Zone       Other  \n",
       "3399         Quarters        Zone  \n",
       "3400          Cover-3        Zone  \n",
       "3490    Cover-6 Right        Zone  \n",
       "3808          Cover-0         Man  \n",
       "4087          Cover-3        Zone  \n",
       "4232     Cover-3 Seam        Zone  \n",
       "4444          Cover-3        Zone  \n",
       "4525         Red Zone       Other  \n",
       "4556     Cover-3 Seam        Zone  \n",
       "\n",
       "[29 rows x 50 columns]"
      ]
     },
     "execution_count": 19,
     "metadata": {},
     "output_type": "execute_result"
    }
   ],
   "source": [
    "# Filter by pass plays only\n",
    "plays = plays[plays['isDropback' == True]]"
   ]
  },
  {
   "cell_type": "code",
   "execution_count": 6,
   "metadata": {},
   "outputs": [],
   "source": [
    "colors = {\n",
    "    'ARI':\"#97233F\", \n",
    "    'ATL':\"#A71930\", \n",
    "    'BAL':'#241773', \n",
    "    'BUF':\"#00338D\", \n",
    "    'CAR':\"#0085CA\", \n",
    "    'CHI':\"#C83803\", \n",
    "    'CIN':\"#FB4F14\", \n",
    "    'CLE':\"#311D00\", \n",
    "    'DAL':'#003594',\n",
    "    'DEN':\"#FB4F14\", \n",
    "    'DET':\"#0076B6\", \n",
    "    'GB':\"#203731\", \n",
    "    'HOU':\"#03202F\", \n",
    "    'IND':\"#002C5F\", \n",
    "    'JAX':\"#9F792C\", \n",
    "    'KC':\"#E31837\", \n",
    "    'LA':\"#003594\", \n",
    "    'LAC':\"#0080C6\", \n",
    "    'LV':\"#000000\",\n",
    "    'MIA':\"#008E97\", \n",
    "    'MIN':\"#4F2683\", \n",
    "    'NE':\"#002244\", \n",
    "    'NO':\"#D3BC8D\", \n",
    "    'NYG':\"#0B2265\", \n",
    "    'NYJ':\"#125740\", \n",
    "    'PHI':\"#004C54\", \n",
    "    'PIT':\"#FFB612\", \n",
    "    'SEA':\"#69BE28\", \n",
    "    'SF':\"#AA0000\",\n",
    "    'TB':'#D50A0A', \n",
    "    'TEN':\"#4B92DB\", \n",
    "    'WAS':\"#5A1414\", \n",
    "    'football':'#CBB67C'\n",
    "}\n"
   ]
  },
  {
   "cell_type": "code",
   "execution_count": 28,
   "metadata": {},
   "outputs": [],
   "source": [
    "focused_df = tracking[(tracking['gameId'] == 2022091200) & (tracking['playId'] == 64)]"
   ]
  },
  {
   "cell_type": "code",
   "execution_count": 29,
   "metadata": {},
   "outputs": [
    {
     "data": {
      "application/vnd.plotly.v1+json": {
       "config": {
        "plotlyServerURL": "https://plot.ly"
       },
       "data": [
        {
         "marker": {
          "color": "#FB4F14"
         },
         "mode": "markers",
         "name": "DEN",
         "type": "scatter",
         "x": [
          51.06,
          45.03,
          41.23,
          41.68,
          43.74,
          50.44,
          41.36,
          41.19,
          40.59,
          43.44,
          43.92
         ],
         "y": [
          28.55,
          22.02,
          19.31,
          23.09,
          25.21,
          16.8,
          23.75,
          30.22,
          23.99,
          21.74,
          21.53
         ]
        },
        {
         "marker": {
          "color": "#69BE28"
         },
         "mode": "markers",
         "name": "SEA",
         "type": "scatter",
         "x": [
          33.94,
          35,
          32.49,
          35.53,
          32.89,
          33.97,
          33.41,
          32.73,
          35.31,
          35.05,
          35.02
         ],
         "y": [
          23.46,
          23.25,
          22.32,
          24.05,
          23.2,
          25.45,
          25.62,
          25.94,
          24.83,
          25.65,
          22.47
         ]
        },
        {
         "marker": {
          "color": "#CBB67C"
         },
         "mode": "markers",
         "name": "football",
         "type": "scatter",
         "x": [
          39.4700012207031
         ],
         "y": [
          23.8700008392334
         ]
        }
       ],
       "layout": {
        "template": {
         "data": {
          "bar": [
           {
            "error_x": {
             "color": "#2a3f5f"
            },
            "error_y": {
             "color": "#2a3f5f"
            },
            "marker": {
             "line": {
              "color": "#E5ECF6",
              "width": 0.5
             },
             "pattern": {
              "fillmode": "overlay",
              "size": 10,
              "solidity": 0.2
             }
            },
            "type": "bar"
           }
          ],
          "barpolar": [
           {
            "marker": {
             "line": {
              "color": "#E5ECF6",
              "width": 0.5
             },
             "pattern": {
              "fillmode": "overlay",
              "size": 10,
              "solidity": 0.2
             }
            },
            "type": "barpolar"
           }
          ],
          "carpet": [
           {
            "aaxis": {
             "endlinecolor": "#2a3f5f",
             "gridcolor": "white",
             "linecolor": "white",
             "minorgridcolor": "white",
             "startlinecolor": "#2a3f5f"
            },
            "baxis": {
             "endlinecolor": "#2a3f5f",
             "gridcolor": "white",
             "linecolor": "white",
             "minorgridcolor": "white",
             "startlinecolor": "#2a3f5f"
            },
            "type": "carpet"
           }
          ],
          "choropleth": [
           {
            "colorbar": {
             "outlinewidth": 0,
             "ticks": ""
            },
            "type": "choropleth"
           }
          ],
          "contour": [
           {
            "colorbar": {
             "outlinewidth": 0,
             "ticks": ""
            },
            "colorscale": [
             [
              0,
              "#0d0887"
             ],
             [
              0.1111111111111111,
              "#46039f"
             ],
             [
              0.2222222222222222,
              "#7201a8"
             ],
             [
              0.3333333333333333,
              "#9c179e"
             ],
             [
              0.4444444444444444,
              "#bd3786"
             ],
             [
              0.5555555555555556,
              "#d8576b"
             ],
             [
              0.6666666666666666,
              "#ed7953"
             ],
             [
              0.7777777777777778,
              "#fb9f3a"
             ],
             [
              0.8888888888888888,
              "#fdca26"
             ],
             [
              1,
              "#f0f921"
             ]
            ],
            "type": "contour"
           }
          ],
          "contourcarpet": [
           {
            "colorbar": {
             "outlinewidth": 0,
             "ticks": ""
            },
            "type": "contourcarpet"
           }
          ],
          "heatmap": [
           {
            "colorbar": {
             "outlinewidth": 0,
             "ticks": ""
            },
            "colorscale": [
             [
              0,
              "#0d0887"
             ],
             [
              0.1111111111111111,
              "#46039f"
             ],
             [
              0.2222222222222222,
              "#7201a8"
             ],
             [
              0.3333333333333333,
              "#9c179e"
             ],
             [
              0.4444444444444444,
              "#bd3786"
             ],
             [
              0.5555555555555556,
              "#d8576b"
             ],
             [
              0.6666666666666666,
              "#ed7953"
             ],
             [
              0.7777777777777778,
              "#fb9f3a"
             ],
             [
              0.8888888888888888,
              "#fdca26"
             ],
             [
              1,
              "#f0f921"
             ]
            ],
            "type": "heatmap"
           }
          ],
          "heatmapgl": [
           {
            "colorbar": {
             "outlinewidth": 0,
             "ticks": ""
            },
            "colorscale": [
             [
              0,
              "#0d0887"
             ],
             [
              0.1111111111111111,
              "#46039f"
             ],
             [
              0.2222222222222222,
              "#7201a8"
             ],
             [
              0.3333333333333333,
              "#9c179e"
             ],
             [
              0.4444444444444444,
              "#bd3786"
             ],
             [
              0.5555555555555556,
              "#d8576b"
             ],
             [
              0.6666666666666666,
              "#ed7953"
             ],
             [
              0.7777777777777778,
              "#fb9f3a"
             ],
             [
              0.8888888888888888,
              "#fdca26"
             ],
             [
              1,
              "#f0f921"
             ]
            ],
            "type": "heatmapgl"
           }
          ],
          "histogram": [
           {
            "marker": {
             "pattern": {
              "fillmode": "overlay",
              "size": 10,
              "solidity": 0.2
             }
            },
            "type": "histogram"
           }
          ],
          "histogram2d": [
           {
            "colorbar": {
             "outlinewidth": 0,
             "ticks": ""
            },
            "colorscale": [
             [
              0,
              "#0d0887"
             ],
             [
              0.1111111111111111,
              "#46039f"
             ],
             [
              0.2222222222222222,
              "#7201a8"
             ],
             [
              0.3333333333333333,
              "#9c179e"
             ],
             [
              0.4444444444444444,
              "#bd3786"
             ],
             [
              0.5555555555555556,
              "#d8576b"
             ],
             [
              0.6666666666666666,
              "#ed7953"
             ],
             [
              0.7777777777777778,
              "#fb9f3a"
             ],
             [
              0.8888888888888888,
              "#fdca26"
             ],
             [
              1,
              "#f0f921"
             ]
            ],
            "type": "histogram2d"
           }
          ],
          "histogram2dcontour": [
           {
            "colorbar": {
             "outlinewidth": 0,
             "ticks": ""
            },
            "colorscale": [
             [
              0,
              "#0d0887"
             ],
             [
              0.1111111111111111,
              "#46039f"
             ],
             [
              0.2222222222222222,
              "#7201a8"
             ],
             [
              0.3333333333333333,
              "#9c179e"
             ],
             [
              0.4444444444444444,
              "#bd3786"
             ],
             [
              0.5555555555555556,
              "#d8576b"
             ],
             [
              0.6666666666666666,
              "#ed7953"
             ],
             [
              0.7777777777777778,
              "#fb9f3a"
             ],
             [
              0.8888888888888888,
              "#fdca26"
             ],
             [
              1,
              "#f0f921"
             ]
            ],
            "type": "histogram2dcontour"
           }
          ],
          "mesh3d": [
           {
            "colorbar": {
             "outlinewidth": 0,
             "ticks": ""
            },
            "type": "mesh3d"
           }
          ],
          "parcoords": [
           {
            "line": {
             "colorbar": {
              "outlinewidth": 0,
              "ticks": ""
             }
            },
            "type": "parcoords"
           }
          ],
          "pie": [
           {
            "automargin": true,
            "type": "pie"
           }
          ],
          "scatter": [
           {
            "fillpattern": {
             "fillmode": "overlay",
             "size": 10,
             "solidity": 0.2
            },
            "type": "scatter"
           }
          ],
          "scatter3d": [
           {
            "line": {
             "colorbar": {
              "outlinewidth": 0,
              "ticks": ""
             }
            },
            "marker": {
             "colorbar": {
              "outlinewidth": 0,
              "ticks": ""
             }
            },
            "type": "scatter3d"
           }
          ],
          "scattercarpet": [
           {
            "marker": {
             "colorbar": {
              "outlinewidth": 0,
              "ticks": ""
             }
            },
            "type": "scattercarpet"
           }
          ],
          "scattergeo": [
           {
            "marker": {
             "colorbar": {
              "outlinewidth": 0,
              "ticks": ""
             }
            },
            "type": "scattergeo"
           }
          ],
          "scattergl": [
           {
            "marker": {
             "colorbar": {
              "outlinewidth": 0,
              "ticks": ""
             }
            },
            "type": "scattergl"
           }
          ],
          "scattermapbox": [
           {
            "marker": {
             "colorbar": {
              "outlinewidth": 0,
              "ticks": ""
             }
            },
            "type": "scattermapbox"
           }
          ],
          "scatterpolar": [
           {
            "marker": {
             "colorbar": {
              "outlinewidth": 0,
              "ticks": ""
             }
            },
            "type": "scatterpolar"
           }
          ],
          "scatterpolargl": [
           {
            "marker": {
             "colorbar": {
              "outlinewidth": 0,
              "ticks": ""
             }
            },
            "type": "scatterpolargl"
           }
          ],
          "scatterternary": [
           {
            "marker": {
             "colorbar": {
              "outlinewidth": 0,
              "ticks": ""
             }
            },
            "type": "scatterternary"
           }
          ],
          "surface": [
           {
            "colorbar": {
             "outlinewidth": 0,
             "ticks": ""
            },
            "colorscale": [
             [
              0,
              "#0d0887"
             ],
             [
              0.1111111111111111,
              "#46039f"
             ],
             [
              0.2222222222222222,
              "#7201a8"
             ],
             [
              0.3333333333333333,
              "#9c179e"
             ],
             [
              0.4444444444444444,
              "#bd3786"
             ],
             [
              0.5555555555555556,
              "#d8576b"
             ],
             [
              0.6666666666666666,
              "#ed7953"
             ],
             [
              0.7777777777777778,
              "#fb9f3a"
             ],
             [
              0.8888888888888888,
              "#fdca26"
             ],
             [
              1,
              "#f0f921"
             ]
            ],
            "type": "surface"
           }
          ],
          "table": [
           {
            "cells": {
             "fill": {
              "color": "#EBF0F8"
             },
             "line": {
              "color": "white"
             }
            },
            "header": {
             "fill": {
              "color": "#C8D4E3"
             },
             "line": {
              "color": "white"
             }
            },
            "type": "table"
           }
          ]
         },
         "layout": {
          "annotationdefaults": {
           "arrowcolor": "#2a3f5f",
           "arrowhead": 0,
           "arrowwidth": 1
          },
          "autotypenumbers": "strict",
          "coloraxis": {
           "colorbar": {
            "outlinewidth": 0,
            "ticks": ""
           }
          },
          "colorscale": {
           "diverging": [
            [
             0,
             "#8e0152"
            ],
            [
             0.1,
             "#c51b7d"
            ],
            [
             0.2,
             "#de77ae"
            ],
            [
             0.3,
             "#f1b6da"
            ],
            [
             0.4,
             "#fde0ef"
            ],
            [
             0.5,
             "#f7f7f7"
            ],
            [
             0.6,
             "#e6f5d0"
            ],
            [
             0.7,
             "#b8e186"
            ],
            [
             0.8,
             "#7fbc41"
            ],
            [
             0.9,
             "#4d9221"
            ],
            [
             1,
             "#276419"
            ]
           ],
           "sequential": [
            [
             0,
             "#0d0887"
            ],
            [
             0.1111111111111111,
             "#46039f"
            ],
            [
             0.2222222222222222,
             "#7201a8"
            ],
            [
             0.3333333333333333,
             "#9c179e"
            ],
            [
             0.4444444444444444,
             "#bd3786"
            ],
            [
             0.5555555555555556,
             "#d8576b"
            ],
            [
             0.6666666666666666,
             "#ed7953"
            ],
            [
             0.7777777777777778,
             "#fb9f3a"
            ],
            [
             0.8888888888888888,
             "#fdca26"
            ],
            [
             1,
             "#f0f921"
            ]
           ],
           "sequentialminus": [
            [
             0,
             "#0d0887"
            ],
            [
             0.1111111111111111,
             "#46039f"
            ],
            [
             0.2222222222222222,
             "#7201a8"
            ],
            [
             0.3333333333333333,
             "#9c179e"
            ],
            [
             0.4444444444444444,
             "#bd3786"
            ],
            [
             0.5555555555555556,
             "#d8576b"
            ],
            [
             0.6666666666666666,
             "#ed7953"
            ],
            [
             0.7777777777777778,
             "#fb9f3a"
            ],
            [
             0.8888888888888888,
             "#fdca26"
            ],
            [
             1,
             "#f0f921"
            ]
           ]
          },
          "colorway": [
           "#636efa",
           "#EF553B",
           "#00cc96",
           "#ab63fa",
           "#FFA15A",
           "#19d3f3",
           "#FF6692",
           "#B6E880",
           "#FF97FF",
           "#FECB52"
          ],
          "font": {
           "color": "#2a3f5f"
          },
          "geo": {
           "bgcolor": "white",
           "lakecolor": "white",
           "landcolor": "#E5ECF6",
           "showlakes": true,
           "showland": true,
           "subunitcolor": "white"
          },
          "hoverlabel": {
           "align": "left"
          },
          "hovermode": "closest",
          "mapbox": {
           "style": "light"
          },
          "paper_bgcolor": "white",
          "plot_bgcolor": "#E5ECF6",
          "polar": {
           "angularaxis": {
            "gridcolor": "white",
            "linecolor": "white",
            "ticks": ""
           },
           "bgcolor": "#E5ECF6",
           "radialaxis": {
            "gridcolor": "white",
            "linecolor": "white",
            "ticks": ""
           }
          },
          "scene": {
           "xaxis": {
            "backgroundcolor": "#E5ECF6",
            "gridcolor": "white",
            "gridwidth": 2,
            "linecolor": "white",
            "showbackground": true,
            "ticks": "",
            "zerolinecolor": "white"
           },
           "yaxis": {
            "backgroundcolor": "#E5ECF6",
            "gridcolor": "white",
            "gridwidth": 2,
            "linecolor": "white",
            "showbackground": true,
            "ticks": "",
            "zerolinecolor": "white"
           },
           "zaxis": {
            "backgroundcolor": "#E5ECF6",
            "gridcolor": "white",
            "gridwidth": 2,
            "linecolor": "white",
            "showbackground": true,
            "ticks": "",
            "zerolinecolor": "white"
           }
          },
          "shapedefaults": {
           "line": {
            "color": "#2a3f5f"
           }
          },
          "ternary": {
           "aaxis": {
            "gridcolor": "white",
            "linecolor": "white",
            "ticks": ""
           },
           "baxis": {
            "gridcolor": "white",
            "linecolor": "white",
            "ticks": ""
           },
           "bgcolor": "#E5ECF6",
           "caxis": {
            "gridcolor": "white",
            "linecolor": "white",
            "ticks": ""
           }
          },
          "title": {
           "x": 0.05
          },
          "xaxis": {
           "automargin": true,
           "gridcolor": "white",
           "linecolor": "white",
           "ticks": "",
           "title": {
            "standoff": 15
           },
           "zerolinecolor": "white",
           "zerolinewidth": 2
          },
          "yaxis": {
           "automargin": true,
           "gridcolor": "white",
           "linecolor": "white",
           "ticks": "",
           "title": {
            "standoff": 15
           },
           "zerolinecolor": "white",
           "zerolinewidth": 2
          }
         }
        },
        "xaxis": {
         "range": [
          0,
          120
         ]
        },
        "yaxis": {
         "range": [
          0,
          53.3
         ]
        }
       }
      }
     },
     "metadata": {},
     "output_type": "display_data"
    }
   ],
   "source": [
    "fig = go.Figure( layout_yaxis_range=[0,53.3], layout_xaxis_range=[0,120])\n",
    "for team in focused_df.club.unique():\n",
    "    plot_df = focused_df[(focused_df.club==team)&(focused_df.frameId==1)]\n",
    "    fig.add_trace(go.Scatter(x=plot_df[\"x\"], y=plot_df[\"y\"],mode = 'markers',marker_color=colors[team],name=team))\n",
    "fig.show()\n"
   ]
  },
  {
   "cell_type": "code",
   "execution_count": 23,
   "metadata": {},
   "outputs": [],
   "source": [
    "#TODO:\n",
    "# Add Useful Player Labels\n",
    "# Add ability to keep or remove the extra stuff (line markers etc)\n",
    "# Add Team Colors to dict\n",
    "# Turn into Function \n",
    "\n",
    "def animate_play(tracking_df, play_df,players,pffScoutingData, gameId,playId):\n",
    "    selected_play_df = play_df[(play_df.playId==playId)&(play_df.gameId==gameId)].copy()\n",
    "    \n",
    "    tracking_players_df = pd.merge(tracking_df,players,how=\"left\",on = \"nflId\")\n",
    "    tracking_players_df = pd.merge(tracking_players_df,pffScoutingData,how=\"left\",on = [\"nflId\",\"playId\",\"gameId\"])\n",
    "    selected_tracking_df = tracking_players_df[(tracking_players_df.playId==playId)&(tracking_players_df.gameId==gameId)].copy()\n",
    "\n",
    "    sorted_frame_list = selected_tracking_df.frameId.unique()\n",
    "    sorted_frame_list.sort()\n",
    "\n",
    "    # get play General information \n",
    "    line_of_scrimmage = selected_play_df.absoluteYardlineNumber.values[0]\n",
    "    first_down_marker = line_of_scrimmage + selected_play_df.yardsToGo.values[0]\n",
    "    down = selected_play_df.down.values[0]\n",
    "    quarter = selected_play_df.quarter.values[0]\n",
    "    gameClock = selected_play_df.gameClock.values[0]\n",
    "    if (quarter % 2) == 0:\n",
    "        first_down_marker = line_of_scrimmage - selected_play_df.yardsToGo.values[0]\n",
    "    playDescription = selected_play_df.playDescription.values[0]\n",
    "    # Handle case where we have a really long Play Description and want to split it into two lines\n",
    "    if len(playDescription.split(\" \"))>15 and len(playDescription)>115:\n",
    "        playDescription = \" \".join(playDescription.split(\" \")[0:16]) + \"<br>\" + \" \".join(playDescription.split(\" \")[16:])\n",
    "\n",
    "    # initialize plotly start and stop buttons for animation\n",
    "    updatemenus_dict = [\n",
    "        {\n",
    "            \"buttons\": [\n",
    "                {\n",
    "                    \"args\": [None, {\"frame\": {\"duration\": 100, \"redraw\": False},\n",
    "                                \"fromcurrent\": True, \"transition\": {\"duration\": 0}}],\n",
    "                    \"label\": \"Play\",\n",
    "                    \"method\": \"animate\"\n",
    "                },\n",
    "                {\n",
    "                    \"args\": [[None], {\"frame\": {\"duration\": 0, \"redraw\": False},\n",
    "                                      \"mode\": \"immediate\",\n",
    "                                      \"transition\": {\"duration\": 0}}],\n",
    "                    \"label\": \"Pause\",\n",
    "                    \"method\": \"animate\"\n",
    "                }\n",
    "            ],\n",
    "            \"direction\": \"left\",\n",
    "            \"pad\": {\"r\": 10, \"t\": 87},\n",
    "            \"showactive\": False,\n",
    "            \"type\": \"buttons\",\n",
    "            \"x\": 0.1,\n",
    "            \"xanchor\": \"right\",\n",
    "            \"y\": 0,\n",
    "            \"yanchor\": \"top\"\n",
    "        }\n",
    "    ]\n",
    "    # initialize plotly slider to show frame position in animation\n",
    "    sliders_dict = {\n",
    "        \"active\": 0,\n",
    "        \"yanchor\": \"top\",\n",
    "        \"xanchor\": \"left\",\n",
    "        \"currentvalue\": {\n",
    "            \"font\": {\"size\": 20},\n",
    "            \"prefix\": \"Frame:\",\n",
    "            \"visible\": True,\n",
    "            \"xanchor\": \"right\"\n",
    "        },\n",
    "        \"transition\": {\"duration\": 300, \"easing\": \"cubic-in-out\"},\n",
    "        \"pad\": {\"b\": 10, \"t\": 50},\n",
    "        \"len\": 0.9,\n",
    "        \"x\": 0.1,\n",
    "        \"y\": 0,\n",
    "        \"steps\": []\n",
    "    }\n",
    "\n",
    "\n",
    "    frames = []\n",
    "    for frameId in sorted_frame_list:\n",
    "        data = []\n",
    "        # Add Numbers to Field \n",
    "        data.append(\n",
    "            go.Scatter(\n",
    "                x=np.arange(20,110,10), \n",
    "                y=[5]*len(np.arange(20,110,10)),\n",
    "                mode='text',\n",
    "                text=list(map(str,list(np.arange(20, 61, 10)-10)+list(np.arange(40, 9, -10)))),\n",
    "                textfont_size = 30,\n",
    "                textfont_family = \"Courier New, monospace\",\n",
    "                textfont_color = \"#ffffff\",\n",
    "                showlegend=False,\n",
    "                hoverinfo='none'\n",
    "            )\n",
    "        )\n",
    "        data.append(\n",
    "            go.Scatter(\n",
    "                x=np.arange(20,110,10), \n",
    "                y=[53.5-5]*len(np.arange(20,110,10)),\n",
    "                mode='text',\n",
    "                text=list(map(str,list(np.arange(20, 61, 10)-10)+list(np.arange(40, 9, -10)))),\n",
    "                textfont_size = 30,\n",
    "                textfont_family = \"Courier New, monospace\",\n",
    "                textfont_color = \"#ffffff\",\n",
    "                showlegend=False,\n",
    "                hoverinfo='none'\n",
    "            )\n",
    "        )\n",
    "        # Add line of scrimage \n",
    "        data.append(\n",
    "            go.Scatter(\n",
    "                x=[line_of_scrimmage,line_of_scrimmage], \n",
    "                y=[0,53.5],\n",
    "                line_dash='dash',\n",
    "                line_color='blue',\n",
    "                showlegend=False,\n",
    "                hoverinfo='none'\n",
    "            )\n",
    "        )\n",
    "        # Add First down line \n",
    "        data.append(\n",
    "            go.Scatter(\n",
    "                x=[first_down_marker,first_down_marker], \n",
    "                y=[0,53.5],\n",
    "                line_dash='dash',\n",
    "                line_color='yellow',\n",
    "                showlegend=False,\n",
    "                hoverinfo='none'\n",
    "            )\n",
    "        )\n",
    "        # Plot Players\n",
    "        for team in selected_tracking_df.club.unique():\n",
    "            plot_df = selected_tracking_df[(selected_tracking_df.club==team)&(selected_tracking_df.frameId==frameId)].copy()\n",
    "            if team != \"football\":\n",
    "                hover_text_array=[]\n",
    "                for nflId in plot_df.nflId:\n",
    "                    selected_player_df = plot_df[plot_df.nflId==nflId]\n",
    "                    hover_text_array.append(\"nflId:{}<br>displayName:{}<br>Route Ran:{}\".format(selected_player_df[\"nflId\"].values[0],\n",
    "                                                                                      selected_player_df[\"displayName_x\"].values[0],\n",
    "                                                                                      selected_player_df[\"routeRan\"].values[0]))\n",
    "                data.append(go.Scatter(x=plot_df[\"x\"], y=plot_df[\"y\"],mode = 'markers',marker_color=colors[team],name=team,hovertext=hover_text_array,hoverinfo=\"text\"))\n",
    "            else:\n",
    "                data.append(go.Scatter(x=plot_df[\"x\"], y=plot_df[\"y\"],mode = 'markers',marker_color=colors[team],name=team,hoverinfo='none'))\n",
    "        # add frame to slider\n",
    "        slider_step = {\"args\": [\n",
    "            [frameId],\n",
    "            {\"frame\": {\"duration\": 100, \"redraw\": False},\n",
    "             \"mode\": \"immediate\",\n",
    "             \"transition\": {\"duration\": 0}}\n",
    "        ],\n",
    "            \"label\": str(frameId),\n",
    "            \"method\": \"animate\"}\n",
    "        sliders_dict[\"steps\"].append(slider_step)\n",
    "        frames.append(go.Frame(data=data, name=str(frameId)))\n",
    "\n",
    "    scale=10\n",
    "    layout = go.Layout(\n",
    "        autosize=False,\n",
    "        width=120*scale,\n",
    "        height=60*scale,\n",
    "        xaxis=dict(range=[0, 120], autorange=False, tickmode='array',tickvals=np.arange(10, 111, 5).tolist(),showticklabels=False),\n",
    "        yaxis=dict(range=[0, 53.3], autorange=False,showgrid=False,showticklabels=False),\n",
    "\n",
    "        plot_bgcolor='#00B140',\n",
    "        # Create title and add play description at the bottom of the chart for better visual appeal\n",
    "        title=f\"GameId: {gameId}, PlayId: {playId}<br>{gameClock} {quarter}Q\"+\"<br>\"*19+f\"{playDescription}\",\n",
    "        updatemenus=updatemenus_dict,\n",
    "        sliders = [sliders_dict]\n",
    "    )\n",
    "\n",
    "    fig = go.Figure(\n",
    "        data=frames[0][\"data\"],\n",
    "        layout= layout,\n",
    "        frames=frames[1:]\n",
    "    )\n",
    "    # Create First Down Markers \n",
    "    for y_val in [0,53]:\n",
    "        fig.add_annotation(\n",
    "                x=first_down_marker,\n",
    "                y=y_val,\n",
    "                text=str(down),\n",
    "                showarrow=False,\n",
    "                font=dict(\n",
    "                    family=\"Courier New, monospace\",\n",
    "                    size=16,\n",
    "                    color=\"black\"\n",
    "                    ),\n",
    "                align=\"center\",\n",
    "                bordercolor=\"black\",\n",
    "                borderwidth=2,\n",
    "                borderpad=4,\n",
    "                bgcolor=\"#ff7f0e\",\n",
    "                opacity=1\n",
    "                )\n",
    "\n",
    "    return fig"
   ]
  },
  {
   "cell_type": "code",
   "execution_count": 25,
   "metadata": {},
   "outputs": [
    {
     "data": {
      "application/vnd.plotly.v1+json": {
       "config": {
        "plotlyServerURL": "https://plot.ly"
       },
       "data": [
        {
         "hoverinfo": "none",
         "mode": "text",
         "showlegend": false,
         "text": [
          "10",
          "20",
          "30",
          "40",
          "50",
          "40",
          "30",
          "20",
          "10"
         ],
         "textfont": {
          "color": "#ffffff",
          "family": "Courier New, monospace",
          "size": 30
         },
         "type": "scatter",
         "x": [
          20,
          30,
          40,
          50,
          60,
          70,
          80,
          90,
          100
         ],
         "y": [
          5,
          5,
          5,
          5,
          5,
          5,
          5,
          5,
          5
         ]
        },
        {
         "hoverinfo": "none",
         "mode": "text",
         "showlegend": false,
         "text": [
          "10",
          "20",
          "30",
          "40",
          "50",
          "40",
          "30",
          "20",
          "10"
         ],
         "textfont": {
          "color": "#ffffff",
          "family": "Courier New, monospace",
          "size": 30
         },
         "type": "scatter",
         "x": [
          20,
          30,
          40,
          50,
          60,
          70,
          80,
          90,
          100
         ],
         "y": [
          48.5,
          48.5,
          48.5,
          48.5,
          48.5,
          48.5,
          48.5,
          48.5,
          48.5
         ]
        },
        {
         "hoverinfo": "none",
         "line": {
          "color": "blue",
          "dash": "dash"
         },
         "showlegend": false,
         "type": "scatter",
         "x": [
          68,
          68
         ],
         "y": [
          0,
          53.5
         ]
        },
        {
         "hoverinfo": "none",
         "line": {
          "color": "yellow",
          "dash": "dash"
         },
         "showlegend": false,
         "type": "scatter",
         "x": [
          74,
          74
         ],
         "y": [
          0,
          53.5
         ]
        },
        {
         "hoverinfo": "text",
         "hovertext": [
          "nflId:35459.0<br>displayName:Kareem Jackson<br>Route Ran:nan",
          "nflId:40347.0<br>displayName:Mike Purcell<br>Route Ran:nan",
          "nflId:42393.0<br>displayName:Ronald Darby<br>Route Ran:nan",
          "nflId:42826.0<br>displayName:DeShawn Williams<br>Route Ran:nan",
          "nflId:42929.0<br>displayName:Alex Singleton<br>Route Ran:nan",
          "nflId:43387.0<br>displayName:Justin Simmons<br>Route Ran:nan",
          "nflId:46074.0<br>displayName:Bradley Chubb<br>Route Ran:nan",
          "nflId:47854.0<br>displayName:Dre'Mont Jones<br>Route Ran:nan",
          "nflId:52706.0<br>displayName:Jonas Griffith<br>Route Ran:nan",
          "nflId:53438.0<br>displayName:Patrick Surtain<br>Route Ran:nan",
          "nflId:53534.0<br>displayName:Baron Browning<br>Route Ran:nan"
         ],
         "marker": {
          "color": "#FB4F14"
         },
         "mode": "markers",
         "name": "DEN",
         "type": "scatter",
         "x": [
          76.54,
          69.38,
          73.41,
          68.85,
          72.76,
          76.07,
          68.82,
          68.92,
          72.52,
          70.03,
          68.94
         ],
         "y": [
          28.57,
          23.58,
          25.72,
          25,
          23.53,
          20.23,
          27.68,
          22.5,
          24.77,
          21.57,
          19.37
         ]
        },
        {
         "hoverinfo": "text",
         "hovertext": [
          "nflId:39987.0<br>displayName:Geno Smith<br>Route Ran:nan",
          "nflId:41310.0<br>displayName:Gabe Jackson<br>Route Ran:nan",
          "nflId:43537.0<br>displayName:Austin Blythe<br>Route Ran:nan",
          "nflId:46096.0<br>displayName:Rashaad Penny<br>Route Ran:nan",
          "nflId:46189.0<br>displayName:Will Dissly<br>Route Ran:nan",
          "nflId:47803.0<br>displayName:Noah Fant<br>Route Ran:nan",
          "nflId:47847.0<br>displayName:DK Metcalf<br>Route Ran:nan",
          "nflId:47907.0<br>displayName:Phil Haynes<br>Route Ran:nan",
          "nflId:52541.0<br>displayName:Colby Parkinson<br>Route Ran:nan",
          "nflId:54474.0<br>displayName:Charles Cross<br>Route Ran:nan",
          "nflId:54537.0<br>displayName:Abraham Lucas<br>Route Ran:nan"
         ],
         "marker": {
          "color": "#69BE28"
         },
         "mode": "markers",
         "name": "SEA",
         "type": "scatter",
         "x": [
          62.38,
          63.44,
          63.99,
          61.33,
          62.64,
          61.79,
          60.69,
          63.64,
          61.86,
          63.41,
          63.45
         ],
         "y": [
          22.88,
          22.92,
          23.91,
          22.66,
          24.06,
          23.13,
          24.41,
          24.86,
          23.87,
          25.73,
          22.03
         ]
        },
        {
         "hoverinfo": "none",
         "marker": {
          "color": "#CBB67C"
         },
         "mode": "markers",
         "name": "football",
         "type": "scatter",
         "x": [
          67.5199966430664
         ],
         "y": [
          23.6399993896484
         ]
        }
       ],
       "frames": [
        {
         "data": [
          {
           "hoverinfo": "none",
           "mode": "text",
           "showlegend": false,
           "text": [
            "10",
            "20",
            "30",
            "40",
            "50",
            "40",
            "30",
            "20",
            "10"
           ],
           "textfont": {
            "color": "#ffffff",
            "family": "Courier New, monospace",
            "size": 30
           },
           "type": "scatter",
           "x": [
            20,
            30,
            40,
            50,
            60,
            70,
            80,
            90,
            100
           ],
           "y": [
            5,
            5,
            5,
            5,
            5,
            5,
            5,
            5,
            5
           ]
          },
          {
           "hoverinfo": "none",
           "mode": "text",
           "showlegend": false,
           "text": [
            "10",
            "20",
            "30",
            "40",
            "50",
            "40",
            "30",
            "20",
            "10"
           ],
           "textfont": {
            "color": "#ffffff",
            "family": "Courier New, monospace",
            "size": 30
           },
           "type": "scatter",
           "x": [
            20,
            30,
            40,
            50,
            60,
            70,
            80,
            90,
            100
           ],
           "y": [
            48.5,
            48.5,
            48.5,
            48.5,
            48.5,
            48.5,
            48.5,
            48.5,
            48.5
           ]
          },
          {
           "hoverinfo": "none",
           "line": {
            "color": "blue",
            "dash": "dash"
           },
           "showlegend": false,
           "type": "scatter",
           "x": [
            68,
            68
           ],
           "y": [
            0,
            53.5
           ]
          },
          {
           "hoverinfo": "none",
           "line": {
            "color": "yellow",
            "dash": "dash"
           },
           "showlegend": false,
           "type": "scatter",
           "x": [
            74,
            74
           ],
           "y": [
            0,
            53.5
           ]
          },
          {
           "hoverinfo": "text",
           "hovertext": [
            "nflId:35459.0<br>displayName:Kareem Jackson<br>Route Ran:nan",
            "nflId:40347.0<br>displayName:Mike Purcell<br>Route Ran:nan",
            "nflId:42393.0<br>displayName:Ronald Darby<br>Route Ran:nan",
            "nflId:42826.0<br>displayName:DeShawn Williams<br>Route Ran:nan",
            "nflId:42929.0<br>displayName:Alex Singleton<br>Route Ran:nan",
            "nflId:43387.0<br>displayName:Justin Simmons<br>Route Ran:nan",
            "nflId:46074.0<br>displayName:Bradley Chubb<br>Route Ran:nan",
            "nflId:47854.0<br>displayName:Dre'Mont Jones<br>Route Ran:nan",
            "nflId:52706.0<br>displayName:Jonas Griffith<br>Route Ran:nan",
            "nflId:53438.0<br>displayName:Patrick Surtain<br>Route Ran:nan",
            "nflId:53534.0<br>displayName:Baron Browning<br>Route Ran:nan"
           ],
           "marker": {
            "color": "#FB4F14"
           },
           "mode": "markers",
           "name": "DEN",
           "type": "scatter",
           "x": [
            76.54,
            69.38,
            73.42,
            68.85,
            72.83,
            76.05,
            68.77,
            68.92,
            72.5,
            70.1,
            68.98
           ],
           "y": [
            28.6,
            23.59,
            25.67,
            25.01,
            23.48,
            20.23,
            27.76,
            22.49,
            24.78,
            21.81,
            19.38
           ]
          },
          {
           "hoverinfo": "text",
           "hovertext": [
            "nflId:39987.0<br>displayName:Geno Smith<br>Route Ran:nan",
            "nflId:41310.0<br>displayName:Gabe Jackson<br>Route Ran:nan",
            "nflId:43537.0<br>displayName:Austin Blythe<br>Route Ran:nan",
            "nflId:46096.0<br>displayName:Rashaad Penny<br>Route Ran:nan",
            "nflId:46189.0<br>displayName:Will Dissly<br>Route Ran:nan",
            "nflId:47803.0<br>displayName:Noah Fant<br>Route Ran:nan",
            "nflId:47847.0<br>displayName:DK Metcalf<br>Route Ran:nan",
            "nflId:47907.0<br>displayName:Phil Haynes<br>Route Ran:nan",
            "nflId:52541.0<br>displayName:Colby Parkinson<br>Route Ran:nan",
            "nflId:54474.0<br>displayName:Charles Cross<br>Route Ran:nan",
            "nflId:54537.0<br>displayName:Abraham Lucas<br>Route Ran:nan"
           ],
           "marker": {
            "color": "#69BE28"
           },
           "mode": "markers",
           "name": "SEA",
           "type": "scatter",
           "x": [
            62.43,
            63.58,
            64.16,
            61.3,
            62.75,
            61.86,
            60.69,
            63.8,
            61.91,
            63.56,
            63.6
           ],
           "y": [
            22.92,
            22.92,
            23.91,
            22.73,
            23.88,
            22.97,
            24.69,
            24.88,
            23.72,
            25.81,
            21.99
           ]
          },
          {
           "hoverinfo": "none",
           "marker": {
            "color": "#CBB67C"
           },
           "mode": "markers",
           "name": "football",
           "type": "scatter",
           "x": [
            67.5199966430664
           ],
           "y": [
            23.6399993896484
           ]
          }
         ],
         "name": "2"
        },
        {
         "data": [
          {
           "hoverinfo": "none",
           "mode": "text",
           "showlegend": false,
           "text": [
            "10",
            "20",
            "30",
            "40",
            "50",
            "40",
            "30",
            "20",
            "10"
           ],
           "textfont": {
            "color": "#ffffff",
            "family": "Courier New, monospace",
            "size": 30
           },
           "type": "scatter",
           "x": [
            20,
            30,
            40,
            50,
            60,
            70,
            80,
            90,
            100
           ],
           "y": [
            5,
            5,
            5,
            5,
            5,
            5,
            5,
            5,
            5
           ]
          },
          {
           "hoverinfo": "none",
           "mode": "text",
           "showlegend": false,
           "text": [
            "10",
            "20",
            "30",
            "40",
            "50",
            "40",
            "30",
            "20",
            "10"
           ],
           "textfont": {
            "color": "#ffffff",
            "family": "Courier New, monospace",
            "size": 30
           },
           "type": "scatter",
           "x": [
            20,
            30,
            40,
            50,
            60,
            70,
            80,
            90,
            100
           ],
           "y": [
            48.5,
            48.5,
            48.5,
            48.5,
            48.5,
            48.5,
            48.5,
            48.5,
            48.5
           ]
          },
          {
           "hoverinfo": "none",
           "line": {
            "color": "blue",
            "dash": "dash"
           },
           "showlegend": false,
           "type": "scatter",
           "x": [
            68,
            68
           ],
           "y": [
            0,
            53.5
           ]
          },
          {
           "hoverinfo": "none",
           "line": {
            "color": "yellow",
            "dash": "dash"
           },
           "showlegend": false,
           "type": "scatter",
           "x": [
            74,
            74
           ],
           "y": [
            0,
            53.5
           ]
          },
          {
           "hoverinfo": "text",
           "hovertext": [
            "nflId:35459.0<br>displayName:Kareem Jackson<br>Route Ran:nan",
            "nflId:40347.0<br>displayName:Mike Purcell<br>Route Ran:nan",
            "nflId:42393.0<br>displayName:Ronald Darby<br>Route Ran:nan",
            "nflId:42826.0<br>displayName:DeShawn Williams<br>Route Ran:nan",
            "nflId:42929.0<br>displayName:Alex Singleton<br>Route Ran:nan",
            "nflId:43387.0<br>displayName:Justin Simmons<br>Route Ran:nan",
            "nflId:46074.0<br>displayName:Bradley Chubb<br>Route Ran:nan",
            "nflId:47854.0<br>displayName:Dre'Mont Jones<br>Route Ran:nan",
            "nflId:52706.0<br>displayName:Jonas Griffith<br>Route Ran:nan",
            "nflId:53438.0<br>displayName:Patrick Surtain<br>Route Ran:nan",
            "nflId:53534.0<br>displayName:Baron Browning<br>Route Ran:nan"
           ],
           "marker": {
            "color": "#FB4F14"
           },
           "mode": "markers",
           "name": "DEN",
           "type": "scatter",
           "x": [
            76.54,
            69.37,
            73.44,
            68.85,
            72.9,
            76.05,
            68.73,
            68.92,
            72.48,
            70.17,
            69.01
           ],
           "y": [
            28.63,
            23.59,
            25.61,
            25.01,
            23.44,
            20.23,
            27.86,
            22.48,
            24.8,
            22.08,
            19.39
           ]
          },
          {
           "hoverinfo": "text",
           "hovertext": [
            "nflId:39987.0<br>displayName:Geno Smith<br>Route Ran:nan",
            "nflId:41310.0<br>displayName:Gabe Jackson<br>Route Ran:nan",
            "nflId:43537.0<br>displayName:Austin Blythe<br>Route Ran:nan",
            "nflId:46096.0<br>displayName:Rashaad Penny<br>Route Ran:nan",
            "nflId:46189.0<br>displayName:Will Dissly<br>Route Ran:nan",
            "nflId:47803.0<br>displayName:Noah Fant<br>Route Ran:nan",
            "nflId:47847.0<br>displayName:DK Metcalf<br>Route Ran:nan",
            "nflId:47907.0<br>displayName:Phil Haynes<br>Route Ran:nan",
            "nflId:52541.0<br>displayName:Colby Parkinson<br>Route Ran:nan",
            "nflId:54474.0<br>displayName:Charles Cross<br>Route Ran:nan",
            "nflId:54537.0<br>displayName:Abraham Lucas<br>Route Ran:nan"
           ],
           "marker": {
            "color": "#69BE28"
           },
           "mode": "markers",
           "name": "SEA",
           "type": "scatter",
           "x": [
            62.47,
            63.74,
            64.35,
            61.26,
            62.87,
            61.93,
            60.73,
            63.98,
            61.96,
            63.72,
            63.76
           ],
           "y": [
            22.96,
            22.91,
            23.91,
            22.81,
            23.68,
            22.79,
            24.99,
            24.9,
            23.57,
            25.9,
            21.94
           ]
          },
          {
           "hoverinfo": "none",
           "marker": {
            "color": "#CBB67C"
           },
           "mode": "markers",
           "name": "football",
           "type": "scatter",
           "x": [
            67.5199966430664
           ],
           "y": [
            23.6399993896484
           ]
          }
         ],
         "name": "3"
        },
        {
         "data": [
          {
           "hoverinfo": "none",
           "mode": "text",
           "showlegend": false,
           "text": [
            "10",
            "20",
            "30",
            "40",
            "50",
            "40",
            "30",
            "20",
            "10"
           ],
           "textfont": {
            "color": "#ffffff",
            "family": "Courier New, monospace",
            "size": 30
           },
           "type": "scatter",
           "x": [
            20,
            30,
            40,
            50,
            60,
            70,
            80,
            90,
            100
           ],
           "y": [
            5,
            5,
            5,
            5,
            5,
            5,
            5,
            5,
            5
           ]
          },
          {
           "hoverinfo": "none",
           "mode": "text",
           "showlegend": false,
           "text": [
            "10",
            "20",
            "30",
            "40",
            "50",
            "40",
            "30",
            "20",
            "10"
           ],
           "textfont": {
            "color": "#ffffff",
            "family": "Courier New, monospace",
            "size": 30
           },
           "type": "scatter",
           "x": [
            20,
            30,
            40,
            50,
            60,
            70,
            80,
            90,
            100
           ],
           "y": [
            48.5,
            48.5,
            48.5,
            48.5,
            48.5,
            48.5,
            48.5,
            48.5,
            48.5
           ]
          },
          {
           "hoverinfo": "none",
           "line": {
            "color": "blue",
            "dash": "dash"
           },
           "showlegend": false,
           "type": "scatter",
           "x": [
            68,
            68
           ],
           "y": [
            0,
            53.5
           ]
          },
          {
           "hoverinfo": "none",
           "line": {
            "color": "yellow",
            "dash": "dash"
           },
           "showlegend": false,
           "type": "scatter",
           "x": [
            74,
            74
           ],
           "y": [
            0,
            53.5
           ]
          },
          {
           "hoverinfo": "text",
           "hovertext": [
            "nflId:35459.0<br>displayName:Kareem Jackson<br>Route Ran:nan",
            "nflId:40347.0<br>displayName:Mike Purcell<br>Route Ran:nan",
            "nflId:42393.0<br>displayName:Ronald Darby<br>Route Ran:nan",
            "nflId:42826.0<br>displayName:DeShawn Williams<br>Route Ran:nan",
            "nflId:42929.0<br>displayName:Alex Singleton<br>Route Ran:nan",
            "nflId:43387.0<br>displayName:Justin Simmons<br>Route Ran:nan",
            "nflId:46074.0<br>displayName:Bradley Chubb<br>Route Ran:nan",
            "nflId:47854.0<br>displayName:Dre'Mont Jones<br>Route Ran:nan",
            "nflId:52706.0<br>displayName:Jonas Griffith<br>Route Ran:nan",
            "nflId:53438.0<br>displayName:Patrick Surtain<br>Route Ran:nan",
            "nflId:53534.0<br>displayName:Baron Browning<br>Route Ran:nan"
           ],
           "marker": {
            "color": "#FB4F14"
           },
           "mode": "markers",
           "name": "DEN",
           "type": "scatter",
           "x": [
            76.54,
            69.37,
            73.45,
            68.86,
            72.97,
            76.06,
            68.7,
            68.92,
            72.46,
            70.24,
            69.04
           ],
           "y": [
            28.66,
            23.59,
            25.54,
            25.02,
            23.41,
            20.22,
            27.96,
            22.48,
            24.82,
            22.38,
            19.4
           ]
          },
          {
           "hoverinfo": "text",
           "hovertext": [
            "nflId:39987.0<br>displayName:Geno Smith<br>Route Ran:nan",
            "nflId:41310.0<br>displayName:Gabe Jackson<br>Route Ran:nan",
            "nflId:43537.0<br>displayName:Austin Blythe<br>Route Ran:nan",
            "nflId:46096.0<br>displayName:Rashaad Penny<br>Route Ran:nan",
            "nflId:46189.0<br>displayName:Will Dissly<br>Route Ran:nan",
            "nflId:47803.0<br>displayName:Noah Fant<br>Route Ran:nan",
            "nflId:47847.0<br>displayName:DK Metcalf<br>Route Ran:nan",
            "nflId:47907.0<br>displayName:Phil Haynes<br>Route Ran:nan",
            "nflId:52541.0<br>displayName:Colby Parkinson<br>Route Ran:nan",
            "nflId:54474.0<br>displayName:Charles Cross<br>Route Ran:nan",
            "nflId:54537.0<br>displayName:Abraham Lucas<br>Route Ran:nan"
           ],
           "marker": {
            "color": "#69BE28"
           },
           "mode": "markers",
           "name": "SEA",
           "type": "scatter",
           "x": [
            62.53,
            63.9,
            64.54,
            61.24,
            63,
            62.02,
            60.78,
            64.16,
            62.02,
            63.89,
            63.93
           ],
           "y": [
            23.01,
            22.91,
            23.91,
            22.89,
            23.47,
            22.6,
            25.31,
            24.92,
            23.39,
            25.99,
            21.89
           ]
          },
          {
           "hoverinfo": "none",
           "marker": {
            "color": "#CBB67C"
           },
           "mode": "markers",
           "name": "football",
           "type": "scatter",
           "x": [
            67.5199966430664
           ],
           "y": [
            23.6399993896484
           ]
          }
         ],
         "name": "4"
        },
        {
         "data": [
          {
           "hoverinfo": "none",
           "mode": "text",
           "showlegend": false,
           "text": [
            "10",
            "20",
            "30",
            "40",
            "50",
            "40",
            "30",
            "20",
            "10"
           ],
           "textfont": {
            "color": "#ffffff",
            "family": "Courier New, monospace",
            "size": 30
           },
           "type": "scatter",
           "x": [
            20,
            30,
            40,
            50,
            60,
            70,
            80,
            90,
            100
           ],
           "y": [
            5,
            5,
            5,
            5,
            5,
            5,
            5,
            5,
            5
           ]
          },
          {
           "hoverinfo": "none",
           "mode": "text",
           "showlegend": false,
           "text": [
            "10",
            "20",
            "30",
            "40",
            "50",
            "40",
            "30",
            "20",
            "10"
           ],
           "textfont": {
            "color": "#ffffff",
            "family": "Courier New, monospace",
            "size": 30
           },
           "type": "scatter",
           "x": [
            20,
            30,
            40,
            50,
            60,
            70,
            80,
            90,
            100
           ],
           "y": [
            48.5,
            48.5,
            48.5,
            48.5,
            48.5,
            48.5,
            48.5,
            48.5,
            48.5
           ]
          },
          {
           "hoverinfo": "none",
           "line": {
            "color": "blue",
            "dash": "dash"
           },
           "showlegend": false,
           "type": "scatter",
           "x": [
            68,
            68
           ],
           "y": [
            0,
            53.5
           ]
          },
          {
           "hoverinfo": "none",
           "line": {
            "color": "yellow",
            "dash": "dash"
           },
           "showlegend": false,
           "type": "scatter",
           "x": [
            74,
            74
           ],
           "y": [
            0,
            53.5
           ]
          },
          {
           "hoverinfo": "text",
           "hovertext": [
            "nflId:35459.0<br>displayName:Kareem Jackson<br>Route Ran:nan",
            "nflId:40347.0<br>displayName:Mike Purcell<br>Route Ran:nan",
            "nflId:42393.0<br>displayName:Ronald Darby<br>Route Ran:nan",
            "nflId:42826.0<br>displayName:DeShawn Williams<br>Route Ran:nan",
            "nflId:42929.0<br>displayName:Alex Singleton<br>Route Ran:nan",
            "nflId:43387.0<br>displayName:Justin Simmons<br>Route Ran:nan",
            "nflId:46074.0<br>displayName:Bradley Chubb<br>Route Ran:nan",
            "nflId:47854.0<br>displayName:Dre'Mont Jones<br>Route Ran:nan",
            "nflId:52706.0<br>displayName:Jonas Griffith<br>Route Ran:nan",
            "nflId:53438.0<br>displayName:Patrick Surtain<br>Route Ran:nan",
            "nflId:53534.0<br>displayName:Baron Browning<br>Route Ran:nan"
           ],
           "marker": {
            "color": "#FB4F14"
           },
           "mode": "markers",
           "name": "DEN",
           "type": "scatter",
           "x": [
            76.54,
            69.36,
            73.47,
            68.87,
            73.03,
            76.08,
            68.67,
            68.92,
            72.44,
            70.32,
            69.06
           ],
           "y": [
            28.7,
            23.6,
            25.44,
            25.03,
            23.37,
            20.18,
            28.07,
            22.47,
            24.84,
            22.71,
            19.41
           ]
          },
          {
           "hoverinfo": "text",
           "hovertext": [
            "nflId:39987.0<br>displayName:Geno Smith<br>Route Ran:nan",
            "nflId:41310.0<br>displayName:Gabe Jackson<br>Route Ran:nan",
            "nflId:43537.0<br>displayName:Austin Blythe<br>Route Ran:nan",
            "nflId:46096.0<br>displayName:Rashaad Penny<br>Route Ran:nan",
            "nflId:46189.0<br>displayName:Will Dissly<br>Route Ran:nan",
            "nflId:47803.0<br>displayName:Noah Fant<br>Route Ran:nan",
            "nflId:47847.0<br>displayName:DK Metcalf<br>Route Ran:nan",
            "nflId:47907.0<br>displayName:Phil Haynes<br>Route Ran:nan",
            "nflId:52541.0<br>displayName:Colby Parkinson<br>Route Ran:nan",
            "nflId:54474.0<br>displayName:Charles Cross<br>Route Ran:nan",
            "nflId:54537.0<br>displayName:Abraham Lucas<br>Route Ran:nan"
           ],
           "marker": {
            "color": "#69BE28"
           },
           "mode": "markers",
           "name": "SEA",
           "type": "scatter",
           "x": [
            62.58,
            64.07,
            64.73,
            61.22,
            63.13,
            62.12,
            60.86,
            64.34,
            62.1,
            64.07,
            64.1
           ],
           "y": [
            23.06,
            22.9,
            23.91,
            22.96,
            23.24,
            22.4,
            25.64,
            24.94,
            23.2,
            26.08,
            21.84
           ]
          },
          {
           "hoverinfo": "none",
           "marker": {
            "color": "#CBB67C"
           },
           "mode": "markers",
           "name": "football",
           "type": "scatter",
           "x": [
            67.5299987792969
           ],
           "y": [
            23.6399993896484
           ]
          }
         ],
         "name": "5"
        },
        {
         "data": [
          {
           "hoverinfo": "none",
           "mode": "text",
           "showlegend": false,
           "text": [
            "10",
            "20",
            "30",
            "40",
            "50",
            "40",
            "30",
            "20",
            "10"
           ],
           "textfont": {
            "color": "#ffffff",
            "family": "Courier New, monospace",
            "size": 30
           },
           "type": "scatter",
           "x": [
            20,
            30,
            40,
            50,
            60,
            70,
            80,
            90,
            100
           ],
           "y": [
            5,
            5,
            5,
            5,
            5,
            5,
            5,
            5,
            5
           ]
          },
          {
           "hoverinfo": "none",
           "mode": "text",
           "showlegend": false,
           "text": [
            "10",
            "20",
            "30",
            "40",
            "50",
            "40",
            "30",
            "20",
            "10"
           ],
           "textfont": {
            "color": "#ffffff",
            "family": "Courier New, monospace",
            "size": 30
           },
           "type": "scatter",
           "x": [
            20,
            30,
            40,
            50,
            60,
            70,
            80,
            90,
            100
           ],
           "y": [
            48.5,
            48.5,
            48.5,
            48.5,
            48.5,
            48.5,
            48.5,
            48.5,
            48.5
           ]
          },
          {
           "hoverinfo": "none",
           "line": {
            "color": "blue",
            "dash": "dash"
           },
           "showlegend": false,
           "type": "scatter",
           "x": [
            68,
            68
           ],
           "y": [
            0,
            53.5
           ]
          },
          {
           "hoverinfo": "none",
           "line": {
            "color": "yellow",
            "dash": "dash"
           },
           "showlegend": false,
           "type": "scatter",
           "x": [
            74,
            74
           ],
           "y": [
            0,
            53.5
           ]
          },
          {
           "hoverinfo": "text",
           "hovertext": [
            "nflId:35459.0<br>displayName:Kareem Jackson<br>Route Ran:nan",
            "nflId:40347.0<br>displayName:Mike Purcell<br>Route Ran:nan",
            "nflId:42393.0<br>displayName:Ronald Darby<br>Route Ran:nan",
            "nflId:42826.0<br>displayName:DeShawn Williams<br>Route Ran:nan",
            "nflId:42929.0<br>displayName:Alex Singleton<br>Route Ran:nan",
            "nflId:43387.0<br>displayName:Justin Simmons<br>Route Ran:nan",
            "nflId:46074.0<br>displayName:Bradley Chubb<br>Route Ran:nan",
            "nflId:47854.0<br>displayName:Dre'Mont Jones<br>Route Ran:nan",
            "nflId:52706.0<br>displayName:Jonas Griffith<br>Route Ran:nan",
            "nflId:53438.0<br>displayName:Patrick Surtain<br>Route Ran:nan",
            "nflId:53534.0<br>displayName:Baron Browning<br>Route Ran:nan"
           ],
           "marker": {
            "color": "#FB4F14"
           },
           "mode": "markers",
           "name": "DEN",
           "type": "scatter",
           "x": [
            76.54,
            69.36,
            73.47,
            68.87,
            73.08,
            76.11,
            68.64,
            68.92,
            72.42,
            70.4,
            69.08
           ],
           "y": [
            28.73,
            23.6,
            25.32,
            25.06,
            23.35,
            20.14,
            28.19,
            22.47,
            24.86,
            23.06,
            19.42
           ]
          },
          {
           "hoverinfo": "text",
           "hovertext": [
            "nflId:39987.0<br>displayName:Geno Smith<br>Route Ran:nan",
            "nflId:41310.0<br>displayName:Gabe Jackson<br>Route Ran:nan",
            "nflId:43537.0<br>displayName:Austin Blythe<br>Route Ran:nan",
            "nflId:46096.0<br>displayName:Rashaad Penny<br>Route Ran:nan",
            "nflId:46189.0<br>displayName:Will Dissly<br>Route Ran:nan",
            "nflId:47803.0<br>displayName:Noah Fant<br>Route Ran:nan",
            "nflId:47847.0<br>displayName:DK Metcalf<br>Route Ran:nan",
            "nflId:47907.0<br>displayName:Phil Haynes<br>Route Ran:nan",
            "nflId:52541.0<br>displayName:Colby Parkinson<br>Route Ran:nan",
            "nflId:54474.0<br>displayName:Charles Cross<br>Route Ran:nan",
            "nflId:54537.0<br>displayName:Abraham Lucas<br>Route Ran:nan"
           ],
           "marker": {
            "color": "#69BE28"
           },
           "mode": "markers",
           "name": "SEA",
           "type": "scatter",
           "x": [
            62.65,
            64.24,
            64.92,
            61.2,
            63.27,
            62.22,
            60.96,
            64.52,
            62.2,
            64.25,
            64.28
           ],
           "y": [
            23.12,
            22.87,
            23.91,
            23.04,
            23.01,
            22.2,
            25.99,
            24.96,
            23,
            26.17,
            21.78
           ]
          },
          {
           "hoverinfo": "none",
           "marker": {
            "color": "#CBB67C"
           },
           "mode": "markers",
           "name": "football",
           "type": "scatter",
           "x": [
            67.5299987792969
           ],
           "y": [
            23.6399993896484
           ]
          }
         ],
         "name": "6"
        },
        {
         "data": [
          {
           "hoverinfo": "none",
           "mode": "text",
           "showlegend": false,
           "text": [
            "10",
            "20",
            "30",
            "40",
            "50",
            "40",
            "30",
            "20",
            "10"
           ],
           "textfont": {
            "color": "#ffffff",
            "family": "Courier New, monospace",
            "size": 30
           },
           "type": "scatter",
           "x": [
            20,
            30,
            40,
            50,
            60,
            70,
            80,
            90,
            100
           ],
           "y": [
            5,
            5,
            5,
            5,
            5,
            5,
            5,
            5,
            5
           ]
          },
          {
           "hoverinfo": "none",
           "mode": "text",
           "showlegend": false,
           "text": [
            "10",
            "20",
            "30",
            "40",
            "50",
            "40",
            "30",
            "20",
            "10"
           ],
           "textfont": {
            "color": "#ffffff",
            "family": "Courier New, monospace",
            "size": 30
           },
           "type": "scatter",
           "x": [
            20,
            30,
            40,
            50,
            60,
            70,
            80,
            90,
            100
           ],
           "y": [
            48.5,
            48.5,
            48.5,
            48.5,
            48.5,
            48.5,
            48.5,
            48.5,
            48.5
           ]
          },
          {
           "hoverinfo": "none",
           "line": {
            "color": "blue",
            "dash": "dash"
           },
           "showlegend": false,
           "type": "scatter",
           "x": [
            68,
            68
           ],
           "y": [
            0,
            53.5
           ]
          },
          {
           "hoverinfo": "none",
           "line": {
            "color": "yellow",
            "dash": "dash"
           },
           "showlegend": false,
           "type": "scatter",
           "x": [
            74,
            74
           ],
           "y": [
            0,
            53.5
           ]
          },
          {
           "hoverinfo": "text",
           "hovertext": [
            "nflId:35459.0<br>displayName:Kareem Jackson<br>Route Ran:nan",
            "nflId:40347.0<br>displayName:Mike Purcell<br>Route Ran:nan",
            "nflId:42393.0<br>displayName:Ronald Darby<br>Route Ran:nan",
            "nflId:42826.0<br>displayName:DeShawn Williams<br>Route Ran:nan",
            "nflId:42929.0<br>displayName:Alex Singleton<br>Route Ran:nan",
            "nflId:43387.0<br>displayName:Justin Simmons<br>Route Ran:nan",
            "nflId:46074.0<br>displayName:Bradley Chubb<br>Route Ran:nan",
            "nflId:47854.0<br>displayName:Dre'Mont Jones<br>Route Ran:nan",
            "nflId:52706.0<br>displayName:Jonas Griffith<br>Route Ran:nan",
            "nflId:53438.0<br>displayName:Patrick Surtain<br>Route Ran:nan",
            "nflId:53534.0<br>displayName:Baron Browning<br>Route Ran:nan"
           ],
           "marker": {
            "color": "#FB4F14"
           },
           "mode": "markers",
           "name": "DEN",
           "type": "scatter",
           "x": [
            76.54,
            69.35,
            73.47,
            68.88,
            73.14,
            76.15,
            68.62,
            68.92,
            72.41,
            70.48,
            69.1
           ],
           "y": [
            28.77,
            23.61,
            25.19,
            25.09,
            23.33,
            20.08,
            28.31,
            22.47,
            24.89,
            23.43,
            19.44
           ]
          },
          {
           "hoverinfo": "text",
           "hovertext": [
            "nflId:39987.0<br>displayName:Geno Smith<br>Route Ran:nan",
            "nflId:41310.0<br>displayName:Gabe Jackson<br>Route Ran:nan",
            "nflId:43537.0<br>displayName:Austin Blythe<br>Route Ran:nan",
            "nflId:46096.0<br>displayName:Rashaad Penny<br>Route Ran:nan",
            "nflId:46189.0<br>displayName:Will Dissly<br>Route Ran:nan",
            "nflId:47803.0<br>displayName:Noah Fant<br>Route Ran:nan",
            "nflId:47847.0<br>displayName:DK Metcalf<br>Route Ran:nan",
            "nflId:47907.0<br>displayName:Phil Haynes<br>Route Ran:nan",
            "nflId:52541.0<br>displayName:Colby Parkinson<br>Route Ran:nan",
            "nflId:54474.0<br>displayName:Charles Cross<br>Route Ran:nan",
            "nflId:54537.0<br>displayName:Abraham Lucas<br>Route Ran:nan"
           ],
           "marker": {
            "color": "#69BE28"
           },
           "mode": "markers",
           "name": "SEA",
           "type": "scatter",
           "x": [
            62.72,
            64.42,
            65.11,
            61.18,
            63.41,
            62.33,
            61.09,
            64.71,
            62.31,
            64.44,
            64.46
           ],
           "y": [
            23.18,
            22.84,
            23.91,
            23.12,
            22.77,
            21.99,
            26.34,
            24.97,
            22.78,
            26.25,
            21.71
           ]
          },
          {
           "hoverinfo": "none",
           "marker": {
            "color": "#CBB67C"
           },
           "mode": "markers",
           "name": "football",
           "type": "scatter",
           "x": [
            67.5299987792969
           ],
           "y": [
            23.6399993896484
           ]
          }
         ],
         "name": "7"
        },
        {
         "data": [
          {
           "hoverinfo": "none",
           "mode": "text",
           "showlegend": false,
           "text": [
            "10",
            "20",
            "30",
            "40",
            "50",
            "40",
            "30",
            "20",
            "10"
           ],
           "textfont": {
            "color": "#ffffff",
            "family": "Courier New, monospace",
            "size": 30
           },
           "type": "scatter",
           "x": [
            20,
            30,
            40,
            50,
            60,
            70,
            80,
            90,
            100
           ],
           "y": [
            5,
            5,
            5,
            5,
            5,
            5,
            5,
            5,
            5
           ]
          },
          {
           "hoverinfo": "none",
           "mode": "text",
           "showlegend": false,
           "text": [
            "10",
            "20",
            "30",
            "40",
            "50",
            "40",
            "30",
            "20",
            "10"
           ],
           "textfont": {
            "color": "#ffffff",
            "family": "Courier New, monospace",
            "size": 30
           },
           "type": "scatter",
           "x": [
            20,
            30,
            40,
            50,
            60,
            70,
            80,
            90,
            100
           ],
           "y": [
            48.5,
            48.5,
            48.5,
            48.5,
            48.5,
            48.5,
            48.5,
            48.5,
            48.5
           ]
          },
          {
           "hoverinfo": "none",
           "line": {
            "color": "blue",
            "dash": "dash"
           },
           "showlegend": false,
           "type": "scatter",
           "x": [
            68,
            68
           ],
           "y": [
            0,
            53.5
           ]
          },
          {
           "hoverinfo": "none",
           "line": {
            "color": "yellow",
            "dash": "dash"
           },
           "showlegend": false,
           "type": "scatter",
           "x": [
            74,
            74
           ],
           "y": [
            0,
            53.5
           ]
          },
          {
           "hoverinfo": "text",
           "hovertext": [
            "nflId:35459.0<br>displayName:Kareem Jackson<br>Route Ran:nan",
            "nflId:40347.0<br>displayName:Mike Purcell<br>Route Ran:nan",
            "nflId:42393.0<br>displayName:Ronald Darby<br>Route Ran:nan",
            "nflId:42826.0<br>displayName:DeShawn Williams<br>Route Ran:nan",
            "nflId:42929.0<br>displayName:Alex Singleton<br>Route Ran:nan",
            "nflId:43387.0<br>displayName:Justin Simmons<br>Route Ran:nan",
            "nflId:46074.0<br>displayName:Bradley Chubb<br>Route Ran:nan",
            "nflId:47854.0<br>displayName:Dre'Mont Jones<br>Route Ran:nan",
            "nflId:52706.0<br>displayName:Jonas Griffith<br>Route Ran:nan",
            "nflId:53438.0<br>displayName:Patrick Surtain<br>Route Ran:nan",
            "nflId:53534.0<br>displayName:Baron Browning<br>Route Ran:nan"
           ],
           "marker": {
            "color": "#FB4F14"
           },
           "mode": "markers",
           "name": "DEN",
           "type": "scatter",
           "x": [
            76.55,
            69.34,
            73.46,
            68.89,
            73.2,
            76.2,
            68.6,
            68.92,
            72.4,
            70.56,
            69.11
           ],
           "y": [
            28.8,
            23.62,
            25.05,
            25.12,
            23.3,
            20.02,
            28.43,
            22.47,
            24.9,
            23.83,
            19.45
           ]
          },
          {
           "hoverinfo": "text",
           "hovertext": [
            "nflId:39987.0<br>displayName:Geno Smith<br>Route Ran:nan",
            "nflId:41310.0<br>displayName:Gabe Jackson<br>Route Ran:nan",
            "nflId:43537.0<br>displayName:Austin Blythe<br>Route Ran:nan",
            "nflId:46096.0<br>displayName:Rashaad Penny<br>Route Ran:nan",
            "nflId:46189.0<br>displayName:Will Dissly<br>Route Ran:nan",
            "nflId:47803.0<br>displayName:Noah Fant<br>Route Ran:nan",
            "nflId:47847.0<br>displayName:DK Metcalf<br>Route Ran:nan",
            "nflId:47907.0<br>displayName:Phil Haynes<br>Route Ran:nan",
            "nflId:52541.0<br>displayName:Colby Parkinson<br>Route Ran:nan",
            "nflId:54474.0<br>displayName:Charles Cross<br>Route Ran:nan",
            "nflId:54537.0<br>displayName:Abraham Lucas<br>Route Ran:nan"
           ],
           "marker": {
            "color": "#69BE28"
           },
           "mode": "markers",
           "name": "SEA",
           "type": "scatter",
           "x": [
            62.8,
            64.6,
            65.29,
            61.17,
            63.56,
            62.43,
            61.23,
            64.9,
            62.43,
            64.63,
            64.64
           ],
           "y": [
            23.24,
            22.82,
            23.91,
            23.19,
            22.53,
            21.78,
            26.7,
            24.99,
            22.56,
            26.33,
            21.65
           ]
          },
          {
           "hoverinfo": "none",
           "marker": {
            "color": "#CBB67C"
           },
           "mode": "markers",
           "name": "football",
           "type": "scatter",
           "x": [
            67.5299987792969
           ],
           "y": [
            23.6399993896484
           ]
          }
         ],
         "name": "8"
        },
        {
         "data": [
          {
           "hoverinfo": "none",
           "mode": "text",
           "showlegend": false,
           "text": [
            "10",
            "20",
            "30",
            "40",
            "50",
            "40",
            "30",
            "20",
            "10"
           ],
           "textfont": {
            "color": "#ffffff",
            "family": "Courier New, monospace",
            "size": 30
           },
           "type": "scatter",
           "x": [
            20,
            30,
            40,
            50,
            60,
            70,
            80,
            90,
            100
           ],
           "y": [
            5,
            5,
            5,
            5,
            5,
            5,
            5,
            5,
            5
           ]
          },
          {
           "hoverinfo": "none",
           "mode": "text",
           "showlegend": false,
           "text": [
            "10",
            "20",
            "30",
            "40",
            "50",
            "40",
            "30",
            "20",
            "10"
           ],
           "textfont": {
            "color": "#ffffff",
            "family": "Courier New, monospace",
            "size": 30
           },
           "type": "scatter",
           "x": [
            20,
            30,
            40,
            50,
            60,
            70,
            80,
            90,
            100
           ],
           "y": [
            48.5,
            48.5,
            48.5,
            48.5,
            48.5,
            48.5,
            48.5,
            48.5,
            48.5
           ]
          },
          {
           "hoverinfo": "none",
           "line": {
            "color": "blue",
            "dash": "dash"
           },
           "showlegend": false,
           "type": "scatter",
           "x": [
            68,
            68
           ],
           "y": [
            0,
            53.5
           ]
          },
          {
           "hoverinfo": "none",
           "line": {
            "color": "yellow",
            "dash": "dash"
           },
           "showlegend": false,
           "type": "scatter",
           "x": [
            74,
            74
           ],
           "y": [
            0,
            53.5
           ]
          },
          {
           "hoverinfo": "text",
           "hovertext": [
            "nflId:35459.0<br>displayName:Kareem Jackson<br>Route Ran:nan",
            "nflId:40347.0<br>displayName:Mike Purcell<br>Route Ran:nan",
            "nflId:42393.0<br>displayName:Ronald Darby<br>Route Ran:nan",
            "nflId:42826.0<br>displayName:DeShawn Williams<br>Route Ran:nan",
            "nflId:42929.0<br>displayName:Alex Singleton<br>Route Ran:nan",
            "nflId:43387.0<br>displayName:Justin Simmons<br>Route Ran:nan",
            "nflId:46074.0<br>displayName:Bradley Chubb<br>Route Ran:nan",
            "nflId:47854.0<br>displayName:Dre'Mont Jones<br>Route Ran:nan",
            "nflId:52706.0<br>displayName:Jonas Griffith<br>Route Ran:nan",
            "nflId:53438.0<br>displayName:Patrick Surtain<br>Route Ran:nan",
            "nflId:53534.0<br>displayName:Baron Browning<br>Route Ran:nan"
           ],
           "marker": {
            "color": "#FB4F14"
           },
           "mode": "markers",
           "name": "DEN",
           "type": "scatter",
           "x": [
            76.57,
            69.34,
            73.43,
            68.9,
            73.25,
            76.26,
            68.6,
            68.92,
            72.39,
            70.64,
            69.12
           ],
           "y": [
            28.82,
            23.62,
            24.88,
            25.15,
            23.29,
            19.95,
            28.55,
            22.46,
            24.9,
            24.25,
            19.45
           ]
          },
          {
           "hoverinfo": "text",
           "hovertext": [
            "nflId:39987.0<br>displayName:Geno Smith<br>Route Ran:nan",
            "nflId:41310.0<br>displayName:Gabe Jackson<br>Route Ran:nan",
            "nflId:43537.0<br>displayName:Austin Blythe<br>Route Ran:nan",
            "nflId:46096.0<br>displayName:Rashaad Penny<br>Route Ran:nan",
            "nflId:46189.0<br>displayName:Will Dissly<br>Route Ran:nan",
            "nflId:47803.0<br>displayName:Noah Fant<br>Route Ran:nan",
            "nflId:47847.0<br>displayName:DK Metcalf<br>Route Ran:nan",
            "nflId:47907.0<br>displayName:Phil Haynes<br>Route Ran:nan",
            "nflId:52541.0<br>displayName:Colby Parkinson<br>Route Ran:nan",
            "nflId:54474.0<br>displayName:Charles Cross<br>Route Ran:nan",
            "nflId:54537.0<br>displayName:Abraham Lucas<br>Route Ran:nan"
           ],
           "marker": {
            "color": "#69BE28"
           },
           "mode": "markers",
           "name": "SEA",
           "type": "scatter",
           "x": [
            62.89,
            64.77,
            65.48,
            61.15,
            63.7,
            62.55,
            61.39,
            65.08,
            62.57,
            64.81,
            64.82
           ],
           "y": [
            23.31,
            22.8,
            23.91,
            23.26,
            22.28,
            21.56,
            27.07,
            25.01,
            22.32,
            26.41,
            21.58
           ]
          },
          {
           "hoverinfo": "none",
           "marker": {
            "color": "#CBB67C"
           },
           "mode": "markers",
           "name": "football",
           "type": "scatter",
           "x": [
            67.5299987792969
           ],
           "y": [
            23.6399993896484
           ]
          }
         ],
         "name": "9"
        },
        {
         "data": [
          {
           "hoverinfo": "none",
           "mode": "text",
           "showlegend": false,
           "text": [
            "10",
            "20",
            "30",
            "40",
            "50",
            "40",
            "30",
            "20",
            "10"
           ],
           "textfont": {
            "color": "#ffffff",
            "family": "Courier New, monospace",
            "size": 30
           },
           "type": "scatter",
           "x": [
            20,
            30,
            40,
            50,
            60,
            70,
            80,
            90,
            100
           ],
           "y": [
            5,
            5,
            5,
            5,
            5,
            5,
            5,
            5,
            5
           ]
          },
          {
           "hoverinfo": "none",
           "mode": "text",
           "showlegend": false,
           "text": [
            "10",
            "20",
            "30",
            "40",
            "50",
            "40",
            "30",
            "20",
            "10"
           ],
           "textfont": {
            "color": "#ffffff",
            "family": "Courier New, monospace",
            "size": 30
           },
           "type": "scatter",
           "x": [
            20,
            30,
            40,
            50,
            60,
            70,
            80,
            90,
            100
           ],
           "y": [
            48.5,
            48.5,
            48.5,
            48.5,
            48.5,
            48.5,
            48.5,
            48.5,
            48.5
           ]
          },
          {
           "hoverinfo": "none",
           "line": {
            "color": "blue",
            "dash": "dash"
           },
           "showlegend": false,
           "type": "scatter",
           "x": [
            68,
            68
           ],
           "y": [
            0,
            53.5
           ]
          },
          {
           "hoverinfo": "none",
           "line": {
            "color": "yellow",
            "dash": "dash"
           },
           "showlegend": false,
           "type": "scatter",
           "x": [
            74,
            74
           ],
           "y": [
            0,
            53.5
           ]
          },
          {
           "hoverinfo": "text",
           "hovertext": [
            "nflId:35459.0<br>displayName:Kareem Jackson<br>Route Ran:nan",
            "nflId:40347.0<br>displayName:Mike Purcell<br>Route Ran:nan",
            "nflId:42393.0<br>displayName:Ronald Darby<br>Route Ran:nan",
            "nflId:42826.0<br>displayName:DeShawn Williams<br>Route Ran:nan",
            "nflId:42929.0<br>displayName:Alex Singleton<br>Route Ran:nan",
            "nflId:43387.0<br>displayName:Justin Simmons<br>Route Ran:nan",
            "nflId:46074.0<br>displayName:Bradley Chubb<br>Route Ran:nan",
            "nflId:47854.0<br>displayName:Dre'Mont Jones<br>Route Ran:nan",
            "nflId:52706.0<br>displayName:Jonas Griffith<br>Route Ran:nan",
            "nflId:53438.0<br>displayName:Patrick Surtain<br>Route Ran:nan",
            "nflId:53534.0<br>displayName:Baron Browning<br>Route Ran:nan"
           ],
           "marker": {
            "color": "#FB4F14"
           },
           "mode": "markers",
           "name": "DEN",
           "type": "scatter",
           "x": [
            76.59,
            69.33,
            73.39,
            68.92,
            73.31,
            76.32,
            68.6,
            68.92,
            72.38,
            70.71,
            69.13
           ],
           "y": [
            28.84,
            23.62,
            24.68,
            25.2,
            23.27,
            19.88,
            28.68,
            22.46,
            24.89,
            24.67,
            19.46
           ]
          },
          {
           "hoverinfo": "text",
           "hovertext": [
            "nflId:39987.0<br>displayName:Geno Smith<br>Route Ran:nan",
            "nflId:41310.0<br>displayName:Gabe Jackson<br>Route Ran:nan",
            "nflId:43537.0<br>displayName:Austin Blythe<br>Route Ran:nan",
            "nflId:46096.0<br>displayName:Rashaad Penny<br>Route Ran:nan",
            "nflId:46189.0<br>displayName:Will Dissly<br>Route Ran:nan",
            "nflId:47803.0<br>displayName:Noah Fant<br>Route Ran:nan",
            "nflId:47847.0<br>displayName:DK Metcalf<br>Route Ran:nan",
            "nflId:47907.0<br>displayName:Phil Haynes<br>Route Ran:nan",
            "nflId:52541.0<br>displayName:Colby Parkinson<br>Route Ran:nan",
            "nflId:54474.0<br>displayName:Charles Cross<br>Route Ran:nan",
            "nflId:54537.0<br>displayName:Abraham Lucas<br>Route Ran:nan"
           ],
           "marker": {
            "color": "#69BE28"
           },
           "mode": "markers",
           "name": "SEA",
           "type": "scatter",
           "x": [
            62.98,
            64.95,
            65.66,
            61.13,
            63.83,
            62.67,
            61.57,
            65.25,
            62.73,
            64.99,
            65
           ],
           "y": [
            23.37,
            22.77,
            23.91,
            23.33,
            22.04,
            21.34,
            27.43,
            25.03,
            22.08,
            26.48,
            21.51
           ]
          },
          {
           "hoverinfo": "none",
           "marker": {
            "color": "#CBB67C"
           },
           "mode": "markers",
           "name": "football",
           "type": "scatter",
           "x": [
            67.5299987792969
           ],
           "y": [
            23.6399993896484
           ]
          }
         ],
         "name": "10"
        },
        {
         "data": [
          {
           "hoverinfo": "none",
           "mode": "text",
           "showlegend": false,
           "text": [
            "10",
            "20",
            "30",
            "40",
            "50",
            "40",
            "30",
            "20",
            "10"
           ],
           "textfont": {
            "color": "#ffffff",
            "family": "Courier New, monospace",
            "size": 30
           },
           "type": "scatter",
           "x": [
            20,
            30,
            40,
            50,
            60,
            70,
            80,
            90,
            100
           ],
           "y": [
            5,
            5,
            5,
            5,
            5,
            5,
            5,
            5,
            5
           ]
          },
          {
           "hoverinfo": "none",
           "mode": "text",
           "showlegend": false,
           "text": [
            "10",
            "20",
            "30",
            "40",
            "50",
            "40",
            "30",
            "20",
            "10"
           ],
           "textfont": {
            "color": "#ffffff",
            "family": "Courier New, monospace",
            "size": 30
           },
           "type": "scatter",
           "x": [
            20,
            30,
            40,
            50,
            60,
            70,
            80,
            90,
            100
           ],
           "y": [
            48.5,
            48.5,
            48.5,
            48.5,
            48.5,
            48.5,
            48.5,
            48.5,
            48.5
           ]
          },
          {
           "hoverinfo": "none",
           "line": {
            "color": "blue",
            "dash": "dash"
           },
           "showlegend": false,
           "type": "scatter",
           "x": [
            68,
            68
           ],
           "y": [
            0,
            53.5
           ]
          },
          {
           "hoverinfo": "none",
           "line": {
            "color": "yellow",
            "dash": "dash"
           },
           "showlegend": false,
           "type": "scatter",
           "x": [
            74,
            74
           ],
           "y": [
            0,
            53.5
           ]
          },
          {
           "hoverinfo": "text",
           "hovertext": [
            "nflId:35459.0<br>displayName:Kareem Jackson<br>Route Ran:nan",
            "nflId:40347.0<br>displayName:Mike Purcell<br>Route Ran:nan",
            "nflId:42393.0<br>displayName:Ronald Darby<br>Route Ran:nan",
            "nflId:42826.0<br>displayName:DeShawn Williams<br>Route Ran:nan",
            "nflId:42929.0<br>displayName:Alex Singleton<br>Route Ran:nan",
            "nflId:43387.0<br>displayName:Justin Simmons<br>Route Ran:nan",
            "nflId:46074.0<br>displayName:Bradley Chubb<br>Route Ran:nan",
            "nflId:47854.0<br>displayName:Dre'Mont Jones<br>Route Ran:nan",
            "nflId:52706.0<br>displayName:Jonas Griffith<br>Route Ran:nan",
            "nflId:53438.0<br>displayName:Patrick Surtain<br>Route Ran:nan",
            "nflId:53534.0<br>displayName:Baron Browning<br>Route Ran:nan"
           ],
           "marker": {
            "color": "#FB4F14"
           },
           "mode": "markers",
           "name": "DEN",
           "type": "scatter",
           "x": [
            76.62,
            69.33,
            73.34,
            68.93,
            73.36,
            76.39,
            68.61,
            68.93,
            72.38,
            70.79,
            69.13
           ],
           "y": [
            28.85,
            23.63,
            24.48,
            25.25,
            23.25,
            19.8,
            28.8,
            22.47,
            24.88,
            25.1,
            19.46
           ]
          },
          {
           "hoverinfo": "text",
           "hovertext": [
            "nflId:39987.0<br>displayName:Geno Smith<br>Route Ran:nan",
            "nflId:41310.0<br>displayName:Gabe Jackson<br>Route Ran:nan",
            "nflId:43537.0<br>displayName:Austin Blythe<br>Route Ran:nan",
            "nflId:46096.0<br>displayName:Rashaad Penny<br>Route Ran:nan",
            "nflId:46189.0<br>displayName:Will Dissly<br>Route Ran:nan",
            "nflId:47803.0<br>displayName:Noah Fant<br>Route Ran:nan",
            "nflId:47847.0<br>displayName:DK Metcalf<br>Route Ran:nan",
            "nflId:47907.0<br>displayName:Phil Haynes<br>Route Ran:nan",
            "nflId:52541.0<br>displayName:Colby Parkinson<br>Route Ran:nan",
            "nflId:54474.0<br>displayName:Charles Cross<br>Route Ran:nan",
            "nflId:54537.0<br>displayName:Abraham Lucas<br>Route Ran:nan"
           ],
           "marker": {
            "color": "#69BE28"
           },
           "mode": "markers",
           "name": "SEA",
           "type": "scatter",
           "x": [
            63.08,
            65.11,
            65.83,
            61.08,
            63.97,
            62.78,
            61.77,
            65.41,
            62.9,
            65.16,
            65.17
           ],
           "y": [
            23.43,
            22.74,
            23.92,
            23.4,
            21.8,
            21.12,
            27.79,
            25.05,
            21.83,
            26.55,
            21.43
           ]
          },
          {
           "hoverinfo": "none",
           "marker": {
            "color": "#CBB67C"
           },
           "mode": "markers",
           "name": "football",
           "type": "scatter",
           "x": [
            67.5299987792969
           ],
           "y": [
            23.6399993896484
           ]
          }
         ],
         "name": "11"
        },
        {
         "data": [
          {
           "hoverinfo": "none",
           "mode": "text",
           "showlegend": false,
           "text": [
            "10",
            "20",
            "30",
            "40",
            "50",
            "40",
            "30",
            "20",
            "10"
           ],
           "textfont": {
            "color": "#ffffff",
            "family": "Courier New, monospace",
            "size": 30
           },
           "type": "scatter",
           "x": [
            20,
            30,
            40,
            50,
            60,
            70,
            80,
            90,
            100
           ],
           "y": [
            5,
            5,
            5,
            5,
            5,
            5,
            5,
            5,
            5
           ]
          },
          {
           "hoverinfo": "none",
           "mode": "text",
           "showlegend": false,
           "text": [
            "10",
            "20",
            "30",
            "40",
            "50",
            "40",
            "30",
            "20",
            "10"
           ],
           "textfont": {
            "color": "#ffffff",
            "family": "Courier New, monospace",
            "size": 30
           },
           "type": "scatter",
           "x": [
            20,
            30,
            40,
            50,
            60,
            70,
            80,
            90,
            100
           ],
           "y": [
            48.5,
            48.5,
            48.5,
            48.5,
            48.5,
            48.5,
            48.5,
            48.5,
            48.5
           ]
          },
          {
           "hoverinfo": "none",
           "line": {
            "color": "blue",
            "dash": "dash"
           },
           "showlegend": false,
           "type": "scatter",
           "x": [
            68,
            68
           ],
           "y": [
            0,
            53.5
           ]
          },
          {
           "hoverinfo": "none",
           "line": {
            "color": "yellow",
            "dash": "dash"
           },
           "showlegend": false,
           "type": "scatter",
           "x": [
            74,
            74
           ],
           "y": [
            0,
            53.5
           ]
          },
          {
           "hoverinfo": "text",
           "hovertext": [
            "nflId:35459.0<br>displayName:Kareem Jackson<br>Route Ran:nan",
            "nflId:40347.0<br>displayName:Mike Purcell<br>Route Ran:nan",
            "nflId:42393.0<br>displayName:Ronald Darby<br>Route Ran:nan",
            "nflId:42826.0<br>displayName:DeShawn Williams<br>Route Ran:nan",
            "nflId:42929.0<br>displayName:Alex Singleton<br>Route Ran:nan",
            "nflId:43387.0<br>displayName:Justin Simmons<br>Route Ran:nan",
            "nflId:46074.0<br>displayName:Bradley Chubb<br>Route Ran:nan",
            "nflId:47854.0<br>displayName:Dre'Mont Jones<br>Route Ran:nan",
            "nflId:52706.0<br>displayName:Jonas Griffith<br>Route Ran:nan",
            "nflId:53438.0<br>displayName:Patrick Surtain<br>Route Ran:nan",
            "nflId:53534.0<br>displayName:Baron Browning<br>Route Ran:nan"
           ],
           "marker": {
            "color": "#FB4F14"
           },
           "mode": "markers",
           "name": "DEN",
           "type": "scatter",
           "x": [
            76.66,
            69.33,
            73.27,
            68.95,
            73.41,
            76.46,
            68.63,
            68.93,
            72.38,
            70.86,
            69.14
           ],
           "y": [
            28.86,
            23.63,
            24.24,
            25.3,
            23.24,
            19.73,
            28.92,
            22.48,
            24.87,
            25.54,
            19.46
           ]
          },
          {
           "hoverinfo": "text",
           "hovertext": [
            "nflId:39987.0<br>displayName:Geno Smith<br>Route Ran:nan",
            "nflId:41310.0<br>displayName:Gabe Jackson<br>Route Ran:nan",
            "nflId:43537.0<br>displayName:Austin Blythe<br>Route Ran:nan",
            "nflId:46096.0<br>displayName:Rashaad Penny<br>Route Ran:nan",
            "nflId:46189.0<br>displayName:Will Dissly<br>Route Ran:nan",
            "nflId:47803.0<br>displayName:Noah Fant<br>Route Ran:nan",
            "nflId:47847.0<br>displayName:DK Metcalf<br>Route Ran:nan",
            "nflId:47907.0<br>displayName:Phil Haynes<br>Route Ran:nan",
            "nflId:52541.0<br>displayName:Colby Parkinson<br>Route Ran:nan",
            "nflId:54474.0<br>displayName:Charles Cross<br>Route Ran:nan",
            "nflId:54537.0<br>displayName:Abraham Lucas<br>Route Ran:nan"
           ],
           "marker": {
            "color": "#69BE28"
           },
           "mode": "markers",
           "name": "SEA",
           "type": "scatter",
           "x": [
            63.18,
            65.27,
            66,
            61.03,
            64.1,
            62.91,
            61.98,
            65.57,
            63.09,
            65.32,
            65.33
           ],
           "y": [
            23.48,
            22.71,
            23.93,
            23.47,
            21.55,
            20.89,
            28.16,
            25.08,
            21.56,
            26.61,
            21.36
           ]
          },
          {
           "hoverinfo": "none",
           "marker": {
            "color": "#CBB67C"
           },
           "mode": "markers",
           "name": "football",
           "type": "scatter",
           "x": [
            67.5400009155273
           ],
           "y": [
            23.6399993896484
           ]
          }
         ],
         "name": "12"
        },
        {
         "data": [
          {
           "hoverinfo": "none",
           "mode": "text",
           "showlegend": false,
           "text": [
            "10",
            "20",
            "30",
            "40",
            "50",
            "40",
            "30",
            "20",
            "10"
           ],
           "textfont": {
            "color": "#ffffff",
            "family": "Courier New, monospace",
            "size": 30
           },
           "type": "scatter",
           "x": [
            20,
            30,
            40,
            50,
            60,
            70,
            80,
            90,
            100
           ],
           "y": [
            5,
            5,
            5,
            5,
            5,
            5,
            5,
            5,
            5
           ]
          },
          {
           "hoverinfo": "none",
           "mode": "text",
           "showlegend": false,
           "text": [
            "10",
            "20",
            "30",
            "40",
            "50",
            "40",
            "30",
            "20",
            "10"
           ],
           "textfont": {
            "color": "#ffffff",
            "family": "Courier New, monospace",
            "size": 30
           },
           "type": "scatter",
           "x": [
            20,
            30,
            40,
            50,
            60,
            70,
            80,
            90,
            100
           ],
           "y": [
            48.5,
            48.5,
            48.5,
            48.5,
            48.5,
            48.5,
            48.5,
            48.5,
            48.5
           ]
          },
          {
           "hoverinfo": "none",
           "line": {
            "color": "blue",
            "dash": "dash"
           },
           "showlegend": false,
           "type": "scatter",
           "x": [
            68,
            68
           ],
           "y": [
            0,
            53.5
           ]
          },
          {
           "hoverinfo": "none",
           "line": {
            "color": "yellow",
            "dash": "dash"
           },
           "showlegend": false,
           "type": "scatter",
           "x": [
            74,
            74
           ],
           "y": [
            0,
            53.5
           ]
          },
          {
           "hoverinfo": "text",
           "hovertext": [
            "nflId:35459.0<br>displayName:Kareem Jackson<br>Route Ran:nan",
            "nflId:40347.0<br>displayName:Mike Purcell<br>Route Ran:nan",
            "nflId:42393.0<br>displayName:Ronald Darby<br>Route Ran:nan",
            "nflId:42826.0<br>displayName:DeShawn Williams<br>Route Ran:nan",
            "nflId:42929.0<br>displayName:Alex Singleton<br>Route Ran:nan",
            "nflId:43387.0<br>displayName:Justin Simmons<br>Route Ran:nan",
            "nflId:46074.0<br>displayName:Bradley Chubb<br>Route Ran:nan",
            "nflId:47854.0<br>displayName:Dre'Mont Jones<br>Route Ran:nan",
            "nflId:52706.0<br>displayName:Jonas Griffith<br>Route Ran:nan",
            "nflId:53438.0<br>displayName:Patrick Surtain<br>Route Ran:nan",
            "nflId:53534.0<br>displayName:Baron Browning<br>Route Ran:nan"
           ],
           "marker": {
            "color": "#FB4F14"
           },
           "mode": "markers",
           "name": "DEN",
           "type": "scatter",
           "x": [
            76.7,
            69.33,
            73.19,
            68.97,
            73.45,
            76.53,
            68.66,
            68.93,
            72.39,
            70.92,
            69.15
           ],
           "y": [
            28.86,
            23.63,
            23.99,
            25.35,
            23.22,
            19.66,
            29.03,
            22.49,
            24.87,
            25.98,
            19.45
           ]
          },
          {
           "hoverinfo": "text",
           "hovertext": [
            "nflId:39987.0<br>displayName:Geno Smith<br>Route Ran:nan",
            "nflId:41310.0<br>displayName:Gabe Jackson<br>Route Ran:nan",
            "nflId:43537.0<br>displayName:Austin Blythe<br>Route Ran:nan",
            "nflId:46096.0<br>displayName:Rashaad Penny<br>Route Ran:nan",
            "nflId:46189.0<br>displayName:Will Dissly<br>Route Ran:nan",
            "nflId:47803.0<br>displayName:Noah Fant<br>Route Ran:nan",
            "nflId:47847.0<br>displayName:DK Metcalf<br>Route Ran:nan",
            "nflId:47907.0<br>displayName:Phil Haynes<br>Route Ran:nan",
            "nflId:52541.0<br>displayName:Colby Parkinson<br>Route Ran:nan",
            "nflId:54474.0<br>displayName:Charles Cross<br>Route Ran:nan",
            "nflId:54537.0<br>displayName:Abraham Lucas<br>Route Ran:nan"
           ],
           "marker": {
            "color": "#69BE28"
           },
           "mode": "markers",
           "name": "SEA",
           "type": "scatter",
           "x": [
            63.28,
            65.42,
            66.16,
            60.95,
            64.23,
            63.03,
            62.19,
            65.71,
            63.28,
            65.48,
            65.48
           ],
           "y": [
            23.54,
            22.68,
            23.94,
            23.53,
            21.31,
            20.66,
            28.52,
            25.1,
            21.3,
            26.66,
            21.29
           ]
          },
          {
           "hoverinfo": "none",
           "marker": {
            "color": "#CBB67C"
           },
           "mode": "markers",
           "name": "football",
           "type": "scatter",
           "x": [
            67.5500030517578
           ],
           "y": [
            23.6499996185303
           ]
          }
         ],
         "name": "13"
        },
        {
         "data": [
          {
           "hoverinfo": "none",
           "mode": "text",
           "showlegend": false,
           "text": [
            "10",
            "20",
            "30",
            "40",
            "50",
            "40",
            "30",
            "20",
            "10"
           ],
           "textfont": {
            "color": "#ffffff",
            "family": "Courier New, monospace",
            "size": 30
           },
           "type": "scatter",
           "x": [
            20,
            30,
            40,
            50,
            60,
            70,
            80,
            90,
            100
           ],
           "y": [
            5,
            5,
            5,
            5,
            5,
            5,
            5,
            5,
            5
           ]
          },
          {
           "hoverinfo": "none",
           "mode": "text",
           "showlegend": false,
           "text": [
            "10",
            "20",
            "30",
            "40",
            "50",
            "40",
            "30",
            "20",
            "10"
           ],
           "textfont": {
            "color": "#ffffff",
            "family": "Courier New, monospace",
            "size": 30
           },
           "type": "scatter",
           "x": [
            20,
            30,
            40,
            50,
            60,
            70,
            80,
            90,
            100
           ],
           "y": [
            48.5,
            48.5,
            48.5,
            48.5,
            48.5,
            48.5,
            48.5,
            48.5,
            48.5
           ]
          },
          {
           "hoverinfo": "none",
           "line": {
            "color": "blue",
            "dash": "dash"
           },
           "showlegend": false,
           "type": "scatter",
           "x": [
            68,
            68
           ],
           "y": [
            0,
            53.5
           ]
          },
          {
           "hoverinfo": "none",
           "line": {
            "color": "yellow",
            "dash": "dash"
           },
           "showlegend": false,
           "type": "scatter",
           "x": [
            74,
            74
           ],
           "y": [
            0,
            53.5
           ]
          },
          {
           "hoverinfo": "text",
           "hovertext": [
            "nflId:35459.0<br>displayName:Kareem Jackson<br>Route Ran:nan",
            "nflId:40347.0<br>displayName:Mike Purcell<br>Route Ran:nan",
            "nflId:42393.0<br>displayName:Ronald Darby<br>Route Ran:nan",
            "nflId:42826.0<br>displayName:DeShawn Williams<br>Route Ran:nan",
            "nflId:42929.0<br>displayName:Alex Singleton<br>Route Ran:nan",
            "nflId:43387.0<br>displayName:Justin Simmons<br>Route Ran:nan",
            "nflId:46074.0<br>displayName:Bradley Chubb<br>Route Ran:nan",
            "nflId:47854.0<br>displayName:Dre'Mont Jones<br>Route Ran:nan",
            "nflId:52706.0<br>displayName:Jonas Griffith<br>Route Ran:nan",
            "nflId:53438.0<br>displayName:Patrick Surtain<br>Route Ran:nan",
            "nflId:53534.0<br>displayName:Baron Browning<br>Route Ran:nan"
           ],
           "marker": {
            "color": "#FB4F14"
           },
           "mode": "markers",
           "name": "DEN",
           "type": "scatter",
           "x": [
            76.75,
            69.33,
            73.09,
            68.99,
            73.48,
            76.61,
            68.69,
            68.94,
            72.4,
            70.98,
            69.16
           ],
           "y": [
            28.85,
            23.63,
            23.72,
            25.39,
            23.22,
            19.58,
            29.14,
            22.5,
            24.86,
            26.42,
            19.44
           ]
          },
          {
           "hoverinfo": "text",
           "hovertext": [
            "nflId:39987.0<br>displayName:Geno Smith<br>Route Ran:nan",
            "nflId:41310.0<br>displayName:Gabe Jackson<br>Route Ran:nan",
            "nflId:43537.0<br>displayName:Austin Blythe<br>Route Ran:nan",
            "nflId:46096.0<br>displayName:Rashaad Penny<br>Route Ran:nan",
            "nflId:46189.0<br>displayName:Will Dissly<br>Route Ran:nan",
            "nflId:47803.0<br>displayName:Noah Fant<br>Route Ran:nan",
            "nflId:47847.0<br>displayName:DK Metcalf<br>Route Ran:nan",
            "nflId:47907.0<br>displayName:Phil Haynes<br>Route Ran:nan",
            "nflId:52541.0<br>displayName:Colby Parkinson<br>Route Ran:nan",
            "nflId:54474.0<br>displayName:Charles Cross<br>Route Ran:nan",
            "nflId:54537.0<br>displayName:Abraham Lucas<br>Route Ran:nan"
           ],
           "marker": {
            "color": "#69BE28"
           },
           "mode": "markers",
           "name": "SEA",
           "type": "scatter",
           "x": [
            63.38,
            65.56,
            66.31,
            60.87,
            64.36,
            63.15,
            62.41,
            65.84,
            63.47,
            65.62,
            65.62
           ],
           "y": [
            23.59,
            22.65,
            23.95,
            23.59,
            21.07,
            20.43,
            28.88,
            25.13,
            21.03,
            26.71,
            21.21
           ]
          },
          {
           "hoverinfo": "none",
           "marker": {
            "color": "#CBB67C"
           },
           "mode": "markers",
           "name": "football",
           "type": "scatter",
           "x": [
            67.5500030517578
           ],
           "y": [
            23.6499996185303
           ]
          }
         ],
         "name": "14"
        },
        {
         "data": [
          {
           "hoverinfo": "none",
           "mode": "text",
           "showlegend": false,
           "text": [
            "10",
            "20",
            "30",
            "40",
            "50",
            "40",
            "30",
            "20",
            "10"
           ],
           "textfont": {
            "color": "#ffffff",
            "family": "Courier New, monospace",
            "size": 30
           },
           "type": "scatter",
           "x": [
            20,
            30,
            40,
            50,
            60,
            70,
            80,
            90,
            100
           ],
           "y": [
            5,
            5,
            5,
            5,
            5,
            5,
            5,
            5,
            5
           ]
          },
          {
           "hoverinfo": "none",
           "mode": "text",
           "showlegend": false,
           "text": [
            "10",
            "20",
            "30",
            "40",
            "50",
            "40",
            "30",
            "20",
            "10"
           ],
           "textfont": {
            "color": "#ffffff",
            "family": "Courier New, monospace",
            "size": 30
           },
           "type": "scatter",
           "x": [
            20,
            30,
            40,
            50,
            60,
            70,
            80,
            90,
            100
           ],
           "y": [
            48.5,
            48.5,
            48.5,
            48.5,
            48.5,
            48.5,
            48.5,
            48.5,
            48.5
           ]
          },
          {
           "hoverinfo": "none",
           "line": {
            "color": "blue",
            "dash": "dash"
           },
           "showlegend": false,
           "type": "scatter",
           "x": [
            68,
            68
           ],
           "y": [
            0,
            53.5
           ]
          },
          {
           "hoverinfo": "none",
           "line": {
            "color": "yellow",
            "dash": "dash"
           },
           "showlegend": false,
           "type": "scatter",
           "x": [
            74,
            74
           ],
           "y": [
            0,
            53.5
           ]
          },
          {
           "hoverinfo": "text",
           "hovertext": [
            "nflId:35459.0<br>displayName:Kareem Jackson<br>Route Ran:nan",
            "nflId:40347.0<br>displayName:Mike Purcell<br>Route Ran:nan",
            "nflId:42393.0<br>displayName:Ronald Darby<br>Route Ran:nan",
            "nflId:42826.0<br>displayName:DeShawn Williams<br>Route Ran:nan",
            "nflId:42929.0<br>displayName:Alex Singleton<br>Route Ran:nan",
            "nflId:43387.0<br>displayName:Justin Simmons<br>Route Ran:nan",
            "nflId:46074.0<br>displayName:Bradley Chubb<br>Route Ran:nan",
            "nflId:47854.0<br>displayName:Dre'Mont Jones<br>Route Ran:nan",
            "nflId:52706.0<br>displayName:Jonas Griffith<br>Route Ran:nan",
            "nflId:53438.0<br>displayName:Patrick Surtain<br>Route Ran:nan",
            "nflId:53534.0<br>displayName:Baron Browning<br>Route Ran:nan"
           ],
           "marker": {
            "color": "#FB4F14"
           },
           "mode": "markers",
           "name": "DEN",
           "type": "scatter",
           "x": [
            76.81,
            69.34,
            72.98,
            69.02,
            73.51,
            76.69,
            68.72,
            68.95,
            72.43,
            71.04,
            69.17
           ],
           "y": [
            28.83,
            23.63,
            23.43,
            25.42,
            23.21,
            19.5,
            29.24,
            22.51,
            24.86,
            26.86,
            19.42
           ]
          },
          {
           "hoverinfo": "text",
           "hovertext": [
            "nflId:39987.0<br>displayName:Geno Smith<br>Route Ran:nan",
            "nflId:41310.0<br>displayName:Gabe Jackson<br>Route Ran:nan",
            "nflId:43537.0<br>displayName:Austin Blythe<br>Route Ran:nan",
            "nflId:46096.0<br>displayName:Rashaad Penny<br>Route Ran:nan",
            "nflId:46189.0<br>displayName:Will Dissly<br>Route Ran:nan",
            "nflId:47803.0<br>displayName:Noah Fant<br>Route Ran:nan",
            "nflId:47847.0<br>displayName:DK Metcalf<br>Route Ran:nan",
            "nflId:47907.0<br>displayName:Phil Haynes<br>Route Ran:nan",
            "nflId:52541.0<br>displayName:Colby Parkinson<br>Route Ran:nan",
            "nflId:54474.0<br>displayName:Charles Cross<br>Route Ran:nan",
            "nflId:54537.0<br>displayName:Abraham Lucas<br>Route Ran:nan"
           ],
           "marker": {
            "color": "#69BE28"
           },
           "mode": "markers",
           "name": "SEA",
           "type": "scatter",
           "x": [
            63.48,
            65.69,
            66.46,
            60.76,
            64.48,
            63.27,
            62.64,
            65.95,
            63.67,
            65.76,
            65.74
           ],
           "y": [
            23.65,
            22.61,
            23.96,
            23.64,
            20.84,
            20.21,
            29.23,
            25.17,
            20.76,
            26.75,
            21.13
           ]
          },
          {
           "hoverinfo": "none",
           "marker": {
            "color": "#CBB67C"
           },
           "mode": "markers",
           "name": "football",
           "type": "scatter",
           "x": [
            67.5500030517578
           ],
           "y": [
            23.6599998474121
           ]
          }
         ],
         "name": "15"
        },
        {
         "data": [
          {
           "hoverinfo": "none",
           "mode": "text",
           "showlegend": false,
           "text": [
            "10",
            "20",
            "30",
            "40",
            "50",
            "40",
            "30",
            "20",
            "10"
           ],
           "textfont": {
            "color": "#ffffff",
            "family": "Courier New, monospace",
            "size": 30
           },
           "type": "scatter",
           "x": [
            20,
            30,
            40,
            50,
            60,
            70,
            80,
            90,
            100
           ],
           "y": [
            5,
            5,
            5,
            5,
            5,
            5,
            5,
            5,
            5
           ]
          },
          {
           "hoverinfo": "none",
           "mode": "text",
           "showlegend": false,
           "text": [
            "10",
            "20",
            "30",
            "40",
            "50",
            "40",
            "30",
            "20",
            "10"
           ],
           "textfont": {
            "color": "#ffffff",
            "family": "Courier New, monospace",
            "size": 30
           },
           "type": "scatter",
           "x": [
            20,
            30,
            40,
            50,
            60,
            70,
            80,
            90,
            100
           ],
           "y": [
            48.5,
            48.5,
            48.5,
            48.5,
            48.5,
            48.5,
            48.5,
            48.5,
            48.5
           ]
          },
          {
           "hoverinfo": "none",
           "line": {
            "color": "blue",
            "dash": "dash"
           },
           "showlegend": false,
           "type": "scatter",
           "x": [
            68,
            68
           ],
           "y": [
            0,
            53.5
           ]
          },
          {
           "hoverinfo": "none",
           "line": {
            "color": "yellow",
            "dash": "dash"
           },
           "showlegend": false,
           "type": "scatter",
           "x": [
            74,
            74
           ],
           "y": [
            0,
            53.5
           ]
          },
          {
           "hoverinfo": "text",
           "hovertext": [
            "nflId:35459.0<br>displayName:Kareem Jackson<br>Route Ran:nan",
            "nflId:40347.0<br>displayName:Mike Purcell<br>Route Ran:nan",
            "nflId:42393.0<br>displayName:Ronald Darby<br>Route Ran:nan",
            "nflId:42826.0<br>displayName:DeShawn Williams<br>Route Ran:nan",
            "nflId:42929.0<br>displayName:Alex Singleton<br>Route Ran:nan",
            "nflId:43387.0<br>displayName:Justin Simmons<br>Route Ran:nan",
            "nflId:46074.0<br>displayName:Bradley Chubb<br>Route Ran:nan",
            "nflId:47854.0<br>displayName:Dre'Mont Jones<br>Route Ran:nan",
            "nflId:52706.0<br>displayName:Jonas Griffith<br>Route Ran:nan",
            "nflId:53438.0<br>displayName:Patrick Surtain<br>Route Ran:nan",
            "nflId:53534.0<br>displayName:Baron Browning<br>Route Ran:nan"
           ],
           "marker": {
            "color": "#FB4F14"
           },
           "mode": "markers",
           "name": "DEN",
           "type": "scatter",
           "x": [
            76.87,
            69.34,
            72.87,
            69.04,
            73.52,
            76.76,
            68.75,
            68.96,
            72.46,
            71.09,
            69.19
           ],
           "y": [
            28.82,
            23.63,
            23.12,
            25.45,
            23.21,
            19.43,
            29.32,
            22.53,
            24.87,
            27.3,
            19.39
           ]
          },
          {
           "hoverinfo": "text",
           "hovertext": [
            "nflId:39987.0<br>displayName:Geno Smith<br>Route Ran:nan",
            "nflId:41310.0<br>displayName:Gabe Jackson<br>Route Ran:nan",
            "nflId:43537.0<br>displayName:Austin Blythe<br>Route Ran:nan",
            "nflId:46096.0<br>displayName:Rashaad Penny<br>Route Ran:nan",
            "nflId:46189.0<br>displayName:Will Dissly<br>Route Ran:nan",
            "nflId:47803.0<br>displayName:Noah Fant<br>Route Ran:nan",
            "nflId:47847.0<br>displayName:DK Metcalf<br>Route Ran:nan",
            "nflId:47907.0<br>displayName:Phil Haynes<br>Route Ran:nan",
            "nflId:52541.0<br>displayName:Colby Parkinson<br>Route Ran:nan",
            "nflId:54474.0<br>displayName:Charles Cross<br>Route Ran:nan",
            "nflId:54537.0<br>displayName:Abraham Lucas<br>Route Ran:nan"
           ],
           "marker": {
            "color": "#69BE28"
           },
           "mode": "markers",
           "name": "SEA",
           "type": "scatter",
           "x": [
            63.59,
            65.81,
            66.6,
            60.65,
            64.6,
            63.38,
            62.86,
            66.06,
            63.85,
            65.88,
            65.85
           ],
           "y": [
            23.71,
            22.59,
            23.96,
            23.68,
            20.62,
            19.99,
            29.59,
            25.2,
            20.49,
            26.79,
            21.06
           ]
          },
          {
           "hoverinfo": "none",
           "marker": {
            "color": "#CBB67C"
           },
           "mode": "markers",
           "name": "football",
           "type": "scatter",
           "x": [
            67.5599975585938
           ],
           "y": [
            23.6599998474121
           ]
          }
         ],
         "name": "16"
        },
        {
         "data": [
          {
           "hoverinfo": "none",
           "mode": "text",
           "showlegend": false,
           "text": [
            "10",
            "20",
            "30",
            "40",
            "50",
            "40",
            "30",
            "20",
            "10"
           ],
           "textfont": {
            "color": "#ffffff",
            "family": "Courier New, monospace",
            "size": 30
           },
           "type": "scatter",
           "x": [
            20,
            30,
            40,
            50,
            60,
            70,
            80,
            90,
            100
           ],
           "y": [
            5,
            5,
            5,
            5,
            5,
            5,
            5,
            5,
            5
           ]
          },
          {
           "hoverinfo": "none",
           "mode": "text",
           "showlegend": false,
           "text": [
            "10",
            "20",
            "30",
            "40",
            "50",
            "40",
            "30",
            "20",
            "10"
           ],
           "textfont": {
            "color": "#ffffff",
            "family": "Courier New, monospace",
            "size": 30
           },
           "type": "scatter",
           "x": [
            20,
            30,
            40,
            50,
            60,
            70,
            80,
            90,
            100
           ],
           "y": [
            48.5,
            48.5,
            48.5,
            48.5,
            48.5,
            48.5,
            48.5,
            48.5,
            48.5
           ]
          },
          {
           "hoverinfo": "none",
           "line": {
            "color": "blue",
            "dash": "dash"
           },
           "showlegend": false,
           "type": "scatter",
           "x": [
            68,
            68
           ],
           "y": [
            0,
            53.5
           ]
          },
          {
           "hoverinfo": "none",
           "line": {
            "color": "yellow",
            "dash": "dash"
           },
           "showlegend": false,
           "type": "scatter",
           "x": [
            74,
            74
           ],
           "y": [
            0,
            53.5
           ]
          },
          {
           "hoverinfo": "text",
           "hovertext": [
            "nflId:35459.0<br>displayName:Kareem Jackson<br>Route Ran:nan",
            "nflId:40347.0<br>displayName:Mike Purcell<br>Route Ran:nan",
            "nflId:42393.0<br>displayName:Ronald Darby<br>Route Ran:nan",
            "nflId:42826.0<br>displayName:DeShawn Williams<br>Route Ran:nan",
            "nflId:42929.0<br>displayName:Alex Singleton<br>Route Ran:nan",
            "nflId:43387.0<br>displayName:Justin Simmons<br>Route Ran:nan",
            "nflId:46074.0<br>displayName:Bradley Chubb<br>Route Ran:nan",
            "nflId:47854.0<br>displayName:Dre'Mont Jones<br>Route Ran:nan",
            "nflId:52706.0<br>displayName:Jonas Griffith<br>Route Ran:nan",
            "nflId:53438.0<br>displayName:Patrick Surtain<br>Route Ran:nan",
            "nflId:53534.0<br>displayName:Baron Browning<br>Route Ran:nan"
           ],
           "marker": {
            "color": "#FB4F14"
           },
           "mode": "markers",
           "name": "DEN",
           "type": "scatter",
           "x": [
            76.94,
            69.35,
            72.76,
            69.06,
            73.52,
            76.84,
            68.78,
            68.97,
            72.49,
            71.14,
            69.21
           ],
           "y": [
            28.81,
            23.62,
            22.82,
            25.47,
            23.21,
            19.36,
            29.4,
            22.54,
            24.88,
            27.73,
            19.36
           ]
          },
          {
           "hoverinfo": "text",
           "hovertext": [
            "nflId:39987.0<br>displayName:Geno Smith<br>Route Ran:nan",
            "nflId:41310.0<br>displayName:Gabe Jackson<br>Route Ran:nan",
            "nflId:43537.0<br>displayName:Austin Blythe<br>Route Ran:nan",
            "nflId:46096.0<br>displayName:Rashaad Penny<br>Route Ran:nan",
            "nflId:46189.0<br>displayName:Will Dissly<br>Route Ran:nan",
            "nflId:47803.0<br>displayName:Noah Fant<br>Route Ran:nan",
            "nflId:47847.0<br>displayName:DK Metcalf<br>Route Ran:nan",
            "nflId:47907.0<br>displayName:Phil Haynes<br>Route Ran:nan",
            "nflId:52541.0<br>displayName:Colby Parkinson<br>Route Ran:nan",
            "nflId:54474.0<br>displayName:Charles Cross<br>Route Ran:nan",
            "nflId:54537.0<br>displayName:Abraham Lucas<br>Route Ran:nan"
           ],
           "marker": {
            "color": "#69BE28"
           },
           "mode": "markers",
           "name": "SEA",
           "type": "scatter",
           "x": [
            63.69,
            65.92,
            66.73,
            60.53,
            64.72,
            63.5,
            63.08,
            66.15,
            64.04,
            65.98,
            65.95
           ],
           "y": [
            23.76,
            22.57,
            23.97,
            23.71,
            20.42,
            19.77,
            29.93,
            25.24,
            20.22,
            26.83,
            20.99
           ]
          },
          {
           "hoverinfo": "none",
           "marker": {
            "color": "#CBB67C"
           },
           "mode": "markers",
           "name": "football",
           "type": "scatter",
           "x": [
            67.5599975585938
           ],
           "y": [
            23.6700000762939
           ]
          }
         ],
         "name": "17"
        },
        {
         "data": [
          {
           "hoverinfo": "none",
           "mode": "text",
           "showlegend": false,
           "text": [
            "10",
            "20",
            "30",
            "40",
            "50",
            "40",
            "30",
            "20",
            "10"
           ],
           "textfont": {
            "color": "#ffffff",
            "family": "Courier New, monospace",
            "size": 30
           },
           "type": "scatter",
           "x": [
            20,
            30,
            40,
            50,
            60,
            70,
            80,
            90,
            100
           ],
           "y": [
            5,
            5,
            5,
            5,
            5,
            5,
            5,
            5,
            5
           ]
          },
          {
           "hoverinfo": "none",
           "mode": "text",
           "showlegend": false,
           "text": [
            "10",
            "20",
            "30",
            "40",
            "50",
            "40",
            "30",
            "20",
            "10"
           ],
           "textfont": {
            "color": "#ffffff",
            "family": "Courier New, monospace",
            "size": 30
           },
           "type": "scatter",
           "x": [
            20,
            30,
            40,
            50,
            60,
            70,
            80,
            90,
            100
           ],
           "y": [
            48.5,
            48.5,
            48.5,
            48.5,
            48.5,
            48.5,
            48.5,
            48.5,
            48.5
           ]
          },
          {
           "hoverinfo": "none",
           "line": {
            "color": "blue",
            "dash": "dash"
           },
           "showlegend": false,
           "type": "scatter",
           "x": [
            68,
            68
           ],
           "y": [
            0,
            53.5
           ]
          },
          {
           "hoverinfo": "none",
           "line": {
            "color": "yellow",
            "dash": "dash"
           },
           "showlegend": false,
           "type": "scatter",
           "x": [
            74,
            74
           ],
           "y": [
            0,
            53.5
           ]
          },
          {
           "hoverinfo": "text",
           "hovertext": [
            "nflId:35459.0<br>displayName:Kareem Jackson<br>Route Ran:nan",
            "nflId:40347.0<br>displayName:Mike Purcell<br>Route Ran:nan",
            "nflId:42393.0<br>displayName:Ronald Darby<br>Route Ran:nan",
            "nflId:42826.0<br>displayName:DeShawn Williams<br>Route Ran:nan",
            "nflId:42929.0<br>displayName:Alex Singleton<br>Route Ran:nan",
            "nflId:43387.0<br>displayName:Justin Simmons<br>Route Ran:nan",
            "nflId:46074.0<br>displayName:Bradley Chubb<br>Route Ran:nan",
            "nflId:47854.0<br>displayName:Dre'Mont Jones<br>Route Ran:nan",
            "nflId:52706.0<br>displayName:Jonas Griffith<br>Route Ran:nan",
            "nflId:53438.0<br>displayName:Patrick Surtain<br>Route Ran:nan",
            "nflId:53534.0<br>displayName:Baron Browning<br>Route Ran:nan"
           ],
           "marker": {
            "color": "#FB4F14"
           },
           "mode": "markers",
           "name": "DEN",
           "type": "scatter",
           "x": [
            77.01,
            69.36,
            72.67,
            69.09,
            73.51,
            76.92,
            68.8,
            68.98,
            72.53,
            71.18,
            69.23
           ],
           "y": [
            28.8,
            23.62,
            22.5,
            25.49,
            23.2,
            19.29,
            29.48,
            22.54,
            24.9,
            28.15,
            19.33
           ]
          },
          {
           "hoverinfo": "text",
           "hovertext": [
            "nflId:39987.0<br>displayName:Geno Smith<br>Route Ran:nan",
            "nflId:41310.0<br>displayName:Gabe Jackson<br>Route Ran:nan",
            "nflId:43537.0<br>displayName:Austin Blythe<br>Route Ran:nan",
            "nflId:46096.0<br>displayName:Rashaad Penny<br>Route Ran:nan",
            "nflId:46189.0<br>displayName:Will Dissly<br>Route Ran:nan",
            "nflId:47803.0<br>displayName:Noah Fant<br>Route Ran:nan",
            "nflId:47847.0<br>displayName:DK Metcalf<br>Route Ran:nan",
            "nflId:47907.0<br>displayName:Phil Haynes<br>Route Ran:nan",
            "nflId:52541.0<br>displayName:Colby Parkinson<br>Route Ran:nan",
            "nflId:54474.0<br>displayName:Charles Cross<br>Route Ran:nan",
            "nflId:54537.0<br>displayName:Abraham Lucas<br>Route Ran:nan"
           ],
           "marker": {
            "color": "#69BE28"
           },
           "mode": "markers",
           "name": "SEA",
           "type": "scatter",
           "x": [
            63.79,
            66.03,
            66.86,
            60.41,
            64.84,
            63.61,
            63.31,
            66.24,
            64.21,
            66.07,
            66.05
           ],
           "y": [
            23.81,
            22.56,
            23.99,
            23.74,
            20.23,
            19.56,
            30.28,
            25.27,
            19.95,
            26.88,
            20.93
           ]
          },
          {
           "hoverinfo": "none",
           "marker": {
            "color": "#CBB67C"
           },
           "mode": "markers",
           "name": "football",
           "type": "scatter",
           "x": [
            67.5599975585938
           ],
           "y": [
            23.6800003051758
           ]
          }
         ],
         "name": "18"
        },
        {
         "data": [
          {
           "hoverinfo": "none",
           "mode": "text",
           "showlegend": false,
           "text": [
            "10",
            "20",
            "30",
            "40",
            "50",
            "40",
            "30",
            "20",
            "10"
           ],
           "textfont": {
            "color": "#ffffff",
            "family": "Courier New, monospace",
            "size": 30
           },
           "type": "scatter",
           "x": [
            20,
            30,
            40,
            50,
            60,
            70,
            80,
            90,
            100
           ],
           "y": [
            5,
            5,
            5,
            5,
            5,
            5,
            5,
            5,
            5
           ]
          },
          {
           "hoverinfo": "none",
           "mode": "text",
           "showlegend": false,
           "text": [
            "10",
            "20",
            "30",
            "40",
            "50",
            "40",
            "30",
            "20",
            "10"
           ],
           "textfont": {
            "color": "#ffffff",
            "family": "Courier New, monospace",
            "size": 30
           },
           "type": "scatter",
           "x": [
            20,
            30,
            40,
            50,
            60,
            70,
            80,
            90,
            100
           ],
           "y": [
            48.5,
            48.5,
            48.5,
            48.5,
            48.5,
            48.5,
            48.5,
            48.5,
            48.5
           ]
          },
          {
           "hoverinfo": "none",
           "line": {
            "color": "blue",
            "dash": "dash"
           },
           "showlegend": false,
           "type": "scatter",
           "x": [
            68,
            68
           ],
           "y": [
            0,
            53.5
           ]
          },
          {
           "hoverinfo": "none",
           "line": {
            "color": "yellow",
            "dash": "dash"
           },
           "showlegend": false,
           "type": "scatter",
           "x": [
            74,
            74
           ],
           "y": [
            0,
            53.5
           ]
          },
          {
           "hoverinfo": "text",
           "hovertext": [
            "nflId:35459.0<br>displayName:Kareem Jackson<br>Route Ran:nan",
            "nflId:40347.0<br>displayName:Mike Purcell<br>Route Ran:nan",
            "nflId:42393.0<br>displayName:Ronald Darby<br>Route Ran:nan",
            "nflId:42826.0<br>displayName:DeShawn Williams<br>Route Ran:nan",
            "nflId:42929.0<br>displayName:Alex Singleton<br>Route Ran:nan",
            "nflId:43387.0<br>displayName:Justin Simmons<br>Route Ran:nan",
            "nflId:46074.0<br>displayName:Bradley Chubb<br>Route Ran:nan",
            "nflId:47854.0<br>displayName:Dre'Mont Jones<br>Route Ran:nan",
            "nflId:52706.0<br>displayName:Jonas Griffith<br>Route Ran:nan",
            "nflId:53438.0<br>displayName:Patrick Surtain<br>Route Ran:nan",
            "nflId:53534.0<br>displayName:Baron Browning<br>Route Ran:nan"
           ],
           "marker": {
            "color": "#FB4F14"
           },
           "mode": "markers",
           "name": "DEN",
           "type": "scatter",
           "x": [
            77.07,
            69.37,
            72.58,
            69.11,
            73.5,
            77,
            68.82,
            68.99,
            72.58,
            71.23,
            69.25
           ],
           "y": [
            28.8,
            23.6,
            22.18,
            25.5,
            23.19,
            19.22,
            29.56,
            22.55,
            24.93,
            28.56,
            19.28
           ]
          },
          {
           "hoverinfo": "text",
           "hovertext": [
            "nflId:39987.0<br>displayName:Geno Smith<br>Route Ran:nan",
            "nflId:41310.0<br>displayName:Gabe Jackson<br>Route Ran:nan",
            "nflId:43537.0<br>displayName:Austin Blythe<br>Route Ran:nan",
            "nflId:46096.0<br>displayName:Rashaad Penny<br>Route Ran:nan",
            "nflId:46189.0<br>displayName:Will Dissly<br>Route Ran:nan",
            "nflId:47803.0<br>displayName:Noah Fant<br>Route Ran:nan",
            "nflId:47847.0<br>displayName:DK Metcalf<br>Route Ran:nan",
            "nflId:47907.0<br>displayName:Phil Haynes<br>Route Ran:nan",
            "nflId:52541.0<br>displayName:Colby Parkinson<br>Route Ran:nan",
            "nflId:54474.0<br>displayName:Charles Cross<br>Route Ran:nan",
            "nflId:54537.0<br>displayName:Abraham Lucas<br>Route Ran:nan"
           ],
           "marker": {
            "color": "#69BE28"
           },
           "mode": "markers",
           "name": "SEA",
           "type": "scatter",
           "x": [
            63.88,
            66.13,
            66.97,
            60.29,
            64.95,
            63.72,
            63.52,
            66.32,
            64.37,
            66.14,
            66.14
           ],
           "y": [
            23.86,
            22.56,
            24,
            23.76,
            20.05,
            19.35,
            30.62,
            25.3,
            19.69,
            26.92,
            20.89
           ]
          },
          {
           "hoverinfo": "none",
           "marker": {
            "color": "#CBB67C"
           },
           "mode": "markers",
           "name": "football",
           "type": "scatter",
           "x": [
            67.5500030517578
           ],
           "y": [
            23.6900005340576
           ]
          }
         ],
         "name": "19"
        },
        {
         "data": [
          {
           "hoverinfo": "none",
           "mode": "text",
           "showlegend": false,
           "text": [
            "10",
            "20",
            "30",
            "40",
            "50",
            "40",
            "30",
            "20",
            "10"
           ],
           "textfont": {
            "color": "#ffffff",
            "family": "Courier New, monospace",
            "size": 30
           },
           "type": "scatter",
           "x": [
            20,
            30,
            40,
            50,
            60,
            70,
            80,
            90,
            100
           ],
           "y": [
            5,
            5,
            5,
            5,
            5,
            5,
            5,
            5,
            5
           ]
          },
          {
           "hoverinfo": "none",
           "mode": "text",
           "showlegend": false,
           "text": [
            "10",
            "20",
            "30",
            "40",
            "50",
            "40",
            "30",
            "20",
            "10"
           ],
           "textfont": {
            "color": "#ffffff",
            "family": "Courier New, monospace",
            "size": 30
           },
           "type": "scatter",
           "x": [
            20,
            30,
            40,
            50,
            60,
            70,
            80,
            90,
            100
           ],
           "y": [
            48.5,
            48.5,
            48.5,
            48.5,
            48.5,
            48.5,
            48.5,
            48.5,
            48.5
           ]
          },
          {
           "hoverinfo": "none",
           "line": {
            "color": "blue",
            "dash": "dash"
           },
           "showlegend": false,
           "type": "scatter",
           "x": [
            68,
            68
           ],
           "y": [
            0,
            53.5
           ]
          },
          {
           "hoverinfo": "none",
           "line": {
            "color": "yellow",
            "dash": "dash"
           },
           "showlegend": false,
           "type": "scatter",
           "x": [
            74,
            74
           ],
           "y": [
            0,
            53.5
           ]
          },
          {
           "hoverinfo": "text",
           "hovertext": [
            "nflId:35459.0<br>displayName:Kareem Jackson<br>Route Ran:nan",
            "nflId:40347.0<br>displayName:Mike Purcell<br>Route Ran:nan",
            "nflId:42393.0<br>displayName:Ronald Darby<br>Route Ran:nan",
            "nflId:42826.0<br>displayName:DeShawn Williams<br>Route Ran:nan",
            "nflId:42929.0<br>displayName:Alex Singleton<br>Route Ran:nan",
            "nflId:43387.0<br>displayName:Justin Simmons<br>Route Ran:nan",
            "nflId:46074.0<br>displayName:Bradley Chubb<br>Route Ran:nan",
            "nflId:47854.0<br>displayName:Dre'Mont Jones<br>Route Ran:nan",
            "nflId:52706.0<br>displayName:Jonas Griffith<br>Route Ran:nan",
            "nflId:53438.0<br>displayName:Patrick Surtain<br>Route Ran:nan",
            "nflId:53534.0<br>displayName:Baron Browning<br>Route Ran:nan"
           ],
           "marker": {
            "color": "#FB4F14"
           },
           "mode": "markers",
           "name": "DEN",
           "type": "scatter",
           "x": [
            77.14,
            69.38,
            72.51,
            69.14,
            73.47,
            77.08,
            68.85,
            69.01,
            72.62,
            71.27,
            69.27
           ],
           "y": [
            28.8,
            23.59,
            21.85,
            25.5,
            23.18,
            19.15,
            29.63,
            22.54,
            24.95,
            28.95,
            19.22
           ]
          },
          {
           "hoverinfo": "text",
           "hovertext": [
            "nflId:39987.0<br>displayName:Geno Smith<br>Route Ran:nan",
            "nflId:41310.0<br>displayName:Gabe Jackson<br>Route Ran:nan",
            "nflId:43537.0<br>displayName:Austin Blythe<br>Route Ran:nan",
            "nflId:46096.0<br>displayName:Rashaad Penny<br>Route Ran:nan",
            "nflId:46189.0<br>displayName:Will Dissly<br>Route Ran:nan",
            "nflId:47803.0<br>displayName:Noah Fant<br>Route Ran:nan",
            "nflId:47847.0<br>displayName:DK Metcalf<br>Route Ran:nan",
            "nflId:47907.0<br>displayName:Phil Haynes<br>Route Ran:nan",
            "nflId:52541.0<br>displayName:Colby Parkinson<br>Route Ran:nan",
            "nflId:54474.0<br>displayName:Charles Cross<br>Route Ran:nan",
            "nflId:54537.0<br>displayName:Abraham Lucas<br>Route Ran:nan"
           ],
           "marker": {
            "color": "#69BE28"
           },
           "mode": "markers",
           "name": "SEA",
           "type": "scatter",
           "x": [
            63.98,
            66.21,
            67.07,
            60.18,
            65.07,
            63.83,
            63.73,
            66.4,
            64.51,
            66.2,
            66.22
           ],
           "y": [
            23.9,
            22.55,
            24.02,
            23.77,
            19.88,
            19.15,
            30.95,
            25.32,
            19.43,
            26.95,
            20.86
           ]
          },
          {
           "hoverinfo": "none",
           "marker": {
            "color": "#CBB67C"
           },
           "mode": "markers",
           "name": "football",
           "type": "scatter",
           "x": [
            67.5500030517578
           ],
           "y": [
            23.6900005340576
           ]
          }
         ],
         "name": "20"
        },
        {
         "data": [
          {
           "hoverinfo": "none",
           "mode": "text",
           "showlegend": false,
           "text": [
            "10",
            "20",
            "30",
            "40",
            "50",
            "40",
            "30",
            "20",
            "10"
           ],
           "textfont": {
            "color": "#ffffff",
            "family": "Courier New, monospace",
            "size": 30
           },
           "type": "scatter",
           "x": [
            20,
            30,
            40,
            50,
            60,
            70,
            80,
            90,
            100
           ],
           "y": [
            5,
            5,
            5,
            5,
            5,
            5,
            5,
            5,
            5
           ]
          },
          {
           "hoverinfo": "none",
           "mode": "text",
           "showlegend": false,
           "text": [
            "10",
            "20",
            "30",
            "40",
            "50",
            "40",
            "30",
            "20",
            "10"
           ],
           "textfont": {
            "color": "#ffffff",
            "family": "Courier New, monospace",
            "size": 30
           },
           "type": "scatter",
           "x": [
            20,
            30,
            40,
            50,
            60,
            70,
            80,
            90,
            100
           ],
           "y": [
            48.5,
            48.5,
            48.5,
            48.5,
            48.5,
            48.5,
            48.5,
            48.5,
            48.5
           ]
          },
          {
           "hoverinfo": "none",
           "line": {
            "color": "blue",
            "dash": "dash"
           },
           "showlegend": false,
           "type": "scatter",
           "x": [
            68,
            68
           ],
           "y": [
            0,
            53.5
           ]
          },
          {
           "hoverinfo": "none",
           "line": {
            "color": "yellow",
            "dash": "dash"
           },
           "showlegend": false,
           "type": "scatter",
           "x": [
            74,
            74
           ],
           "y": [
            0,
            53.5
           ]
          },
          {
           "hoverinfo": "text",
           "hovertext": [
            "nflId:35459.0<br>displayName:Kareem Jackson<br>Route Ran:nan",
            "nflId:40347.0<br>displayName:Mike Purcell<br>Route Ran:nan",
            "nflId:42393.0<br>displayName:Ronald Darby<br>Route Ran:nan",
            "nflId:42826.0<br>displayName:DeShawn Williams<br>Route Ran:nan",
            "nflId:42929.0<br>displayName:Alex Singleton<br>Route Ran:nan",
            "nflId:43387.0<br>displayName:Justin Simmons<br>Route Ran:nan",
            "nflId:46074.0<br>displayName:Bradley Chubb<br>Route Ran:nan",
            "nflId:47854.0<br>displayName:Dre'Mont Jones<br>Route Ran:nan",
            "nflId:52706.0<br>displayName:Jonas Griffith<br>Route Ran:nan",
            "nflId:53438.0<br>displayName:Patrick Surtain<br>Route Ran:nan",
            "nflId:53534.0<br>displayName:Baron Browning<br>Route Ran:nan"
           ],
           "marker": {
            "color": "#FB4F14"
           },
           "mode": "markers",
           "name": "DEN",
           "type": "scatter",
           "x": [
            77.2,
            69.38,
            72.46,
            69.16,
            73.44,
            77.15,
            68.88,
            69.02,
            72.67,
            71.3,
            69.28
           ],
           "y": [
            28.81,
            23.58,
            21.51,
            25.5,
            23.14,
            19.08,
            29.69,
            22.52,
            24.96,
            29.33,
            19.16
           ]
          },
          {
           "hoverinfo": "text",
           "hovertext": [
            "nflId:39987.0<br>displayName:Geno Smith<br>Route Ran:nan",
            "nflId:41310.0<br>displayName:Gabe Jackson<br>Route Ran:nan",
            "nflId:43537.0<br>displayName:Austin Blythe<br>Route Ran:nan",
            "nflId:46096.0<br>displayName:Rashaad Penny<br>Route Ran:nan",
            "nflId:46189.0<br>displayName:Will Dissly<br>Route Ran:nan",
            "nflId:47803.0<br>displayName:Noah Fant<br>Route Ran:nan",
            "nflId:47847.0<br>displayName:DK Metcalf<br>Route Ran:nan",
            "nflId:47907.0<br>displayName:Phil Haynes<br>Route Ran:nan",
            "nflId:52541.0<br>displayName:Colby Parkinson<br>Route Ran:nan",
            "nflId:54474.0<br>displayName:Charles Cross<br>Route Ran:nan",
            "nflId:54537.0<br>displayName:Abraham Lucas<br>Route Ran:nan"
           ],
           "marker": {
            "color": "#69BE28"
           },
           "mode": "markers",
           "name": "SEA",
           "type": "scatter",
           "x": [
            64.07,
            66.29,
            67.16,
            60.08,
            65.18,
            63.92,
            63.94,
            66.47,
            64.65,
            66.25,
            66.3
           ],
           "y": [
            23.93,
            22.54,
            24.04,
            23.78,
            19.73,
            18.95,
            31.27,
            25.34,
            19.19,
            26.98,
            20.83
           ]
          },
          {
           "hoverinfo": "none",
           "marker": {
            "color": "#CBB67C"
           },
           "mode": "markers",
           "name": "football",
           "type": "scatter",
           "x": [
            67.5500030517578
           ],
           "y": [
            23.7000007629395
           ]
          }
         ],
         "name": "21"
        },
        {
         "data": [
          {
           "hoverinfo": "none",
           "mode": "text",
           "showlegend": false,
           "text": [
            "10",
            "20",
            "30",
            "40",
            "50",
            "40",
            "30",
            "20",
            "10"
           ],
           "textfont": {
            "color": "#ffffff",
            "family": "Courier New, monospace",
            "size": 30
           },
           "type": "scatter",
           "x": [
            20,
            30,
            40,
            50,
            60,
            70,
            80,
            90,
            100
           ],
           "y": [
            5,
            5,
            5,
            5,
            5,
            5,
            5,
            5,
            5
           ]
          },
          {
           "hoverinfo": "none",
           "mode": "text",
           "showlegend": false,
           "text": [
            "10",
            "20",
            "30",
            "40",
            "50",
            "40",
            "30",
            "20",
            "10"
           ],
           "textfont": {
            "color": "#ffffff",
            "family": "Courier New, monospace",
            "size": 30
           },
           "type": "scatter",
           "x": [
            20,
            30,
            40,
            50,
            60,
            70,
            80,
            90,
            100
           ],
           "y": [
            48.5,
            48.5,
            48.5,
            48.5,
            48.5,
            48.5,
            48.5,
            48.5,
            48.5
           ]
          },
          {
           "hoverinfo": "none",
           "line": {
            "color": "blue",
            "dash": "dash"
           },
           "showlegend": false,
           "type": "scatter",
           "x": [
            68,
            68
           ],
           "y": [
            0,
            53.5
           ]
          },
          {
           "hoverinfo": "none",
           "line": {
            "color": "yellow",
            "dash": "dash"
           },
           "showlegend": false,
           "type": "scatter",
           "x": [
            74,
            74
           ],
           "y": [
            0,
            53.5
           ]
          },
          {
           "hoverinfo": "text",
           "hovertext": [
            "nflId:35459.0<br>displayName:Kareem Jackson<br>Route Ran:nan",
            "nflId:40347.0<br>displayName:Mike Purcell<br>Route Ran:nan",
            "nflId:42393.0<br>displayName:Ronald Darby<br>Route Ran:nan",
            "nflId:42826.0<br>displayName:DeShawn Williams<br>Route Ran:nan",
            "nflId:42929.0<br>displayName:Alex Singleton<br>Route Ran:nan",
            "nflId:43387.0<br>displayName:Justin Simmons<br>Route Ran:nan",
            "nflId:46074.0<br>displayName:Bradley Chubb<br>Route Ran:nan",
            "nflId:47854.0<br>displayName:Dre'Mont Jones<br>Route Ran:nan",
            "nflId:52706.0<br>displayName:Jonas Griffith<br>Route Ran:nan",
            "nflId:53438.0<br>displayName:Patrick Surtain<br>Route Ran:nan",
            "nflId:53534.0<br>displayName:Baron Browning<br>Route Ran:nan"
           ],
           "marker": {
            "color": "#FB4F14"
           },
           "mode": "markers",
           "name": "DEN",
           "type": "scatter",
           "x": [
            77.27,
            69.38,
            72.42,
            69.18,
            73.4,
            77.23,
            68.91,
            69.03,
            72.71,
            71.33,
            69.29
           ],
           "y": [
            28.82,
            23.56,
            21.18,
            25.51,
            23.1,
            19.02,
            29.76,
            22.5,
            24.97,
            29.69,
            19.1
           ]
          },
          {
           "hoverinfo": "text",
           "hovertext": [
            "nflId:39987.0<br>displayName:Geno Smith<br>Route Ran:nan",
            "nflId:41310.0<br>displayName:Gabe Jackson<br>Route Ran:nan",
            "nflId:43537.0<br>displayName:Austin Blythe<br>Route Ran:nan",
            "nflId:46096.0<br>displayName:Rashaad Penny<br>Route Ran:nan",
            "nflId:46189.0<br>displayName:Will Dissly<br>Route Ran:nan",
            "nflId:47803.0<br>displayName:Noah Fant<br>Route Ran:nan",
            "nflId:47847.0<br>displayName:DK Metcalf<br>Route Ran:nan",
            "nflId:47907.0<br>displayName:Phil Haynes<br>Route Ran:nan",
            "nflId:52541.0<br>displayName:Colby Parkinson<br>Route Ran:nan",
            "nflId:54474.0<br>displayName:Charles Cross<br>Route Ran:nan",
            "nflId:54537.0<br>displayName:Abraham Lucas<br>Route Ran:nan"
           ],
           "marker": {
            "color": "#69BE28"
           },
           "mode": "markers",
           "name": "SEA",
           "type": "scatter",
           "x": [
            64.17,
            66.36,
            67.23,
            60,
            65.28,
            64.01,
            64.13,
            66.54,
            64.77,
            66.29,
            66.36
           ],
           "y": [
            23.96,
            22.54,
            24.06,
            23.79,
            19.59,
            18.76,
            31.59,
            25.36,
            18.95,
            27.01,
            20.83
           ]
          },
          {
           "hoverinfo": "none",
           "marker": {
            "color": "#CBB67C"
           },
           "mode": "markers",
           "name": "football",
           "type": "scatter",
           "x": [
            67.5500030517578
           ],
           "y": [
            23.7099990844727
           ]
          }
         ],
         "name": "22"
        },
        {
         "data": [
          {
           "hoverinfo": "none",
           "mode": "text",
           "showlegend": false,
           "text": [
            "10",
            "20",
            "30",
            "40",
            "50",
            "40",
            "30",
            "20",
            "10"
           ],
           "textfont": {
            "color": "#ffffff",
            "family": "Courier New, monospace",
            "size": 30
           },
           "type": "scatter",
           "x": [
            20,
            30,
            40,
            50,
            60,
            70,
            80,
            90,
            100
           ],
           "y": [
            5,
            5,
            5,
            5,
            5,
            5,
            5,
            5,
            5
           ]
          },
          {
           "hoverinfo": "none",
           "mode": "text",
           "showlegend": false,
           "text": [
            "10",
            "20",
            "30",
            "40",
            "50",
            "40",
            "30",
            "20",
            "10"
           ],
           "textfont": {
            "color": "#ffffff",
            "family": "Courier New, monospace",
            "size": 30
           },
           "type": "scatter",
           "x": [
            20,
            30,
            40,
            50,
            60,
            70,
            80,
            90,
            100
           ],
           "y": [
            48.5,
            48.5,
            48.5,
            48.5,
            48.5,
            48.5,
            48.5,
            48.5,
            48.5
           ]
          },
          {
           "hoverinfo": "none",
           "line": {
            "color": "blue",
            "dash": "dash"
           },
           "showlegend": false,
           "type": "scatter",
           "x": [
            68,
            68
           ],
           "y": [
            0,
            53.5
           ]
          },
          {
           "hoverinfo": "none",
           "line": {
            "color": "yellow",
            "dash": "dash"
           },
           "showlegend": false,
           "type": "scatter",
           "x": [
            74,
            74
           ],
           "y": [
            0,
            53.5
           ]
          },
          {
           "hoverinfo": "text",
           "hovertext": [
            "nflId:35459.0<br>displayName:Kareem Jackson<br>Route Ran:nan",
            "nflId:40347.0<br>displayName:Mike Purcell<br>Route Ran:nan",
            "nflId:42393.0<br>displayName:Ronald Darby<br>Route Ran:nan",
            "nflId:42826.0<br>displayName:DeShawn Williams<br>Route Ran:nan",
            "nflId:42929.0<br>displayName:Alex Singleton<br>Route Ran:nan",
            "nflId:43387.0<br>displayName:Justin Simmons<br>Route Ran:nan",
            "nflId:46074.0<br>displayName:Bradley Chubb<br>Route Ran:nan",
            "nflId:47854.0<br>displayName:Dre'Mont Jones<br>Route Ran:nan",
            "nflId:52706.0<br>displayName:Jonas Griffith<br>Route Ran:nan",
            "nflId:53438.0<br>displayName:Patrick Surtain<br>Route Ran:nan",
            "nflId:53534.0<br>displayName:Baron Browning<br>Route Ran:nan"
           ],
           "marker": {
            "color": "#FB4F14"
           },
           "mode": "markers",
           "name": "DEN",
           "type": "scatter",
           "x": [
            77.33,
            69.38,
            72.39,
            69.19,
            73.37,
            77.3,
            68.94,
            69.05,
            72.74,
            71.36,
            69.29
           ],
           "y": [
            28.83,
            23.55,
            20.85,
            25.52,
            23.04,
            18.95,
            29.83,
            22.47,
            24.97,
            30.05,
            19.03
           ]
          },
          {
           "hoverinfo": "text",
           "hovertext": [
            "nflId:39987.0<br>displayName:Geno Smith<br>Route Ran:nan",
            "nflId:41310.0<br>displayName:Gabe Jackson<br>Route Ran:nan",
            "nflId:43537.0<br>displayName:Austin Blythe<br>Route Ran:nan",
            "nflId:46096.0<br>displayName:Rashaad Penny<br>Route Ran:nan",
            "nflId:46189.0<br>displayName:Will Dissly<br>Route Ran:nan",
            "nflId:47803.0<br>displayName:Noah Fant<br>Route Ran:nan",
            "nflId:47847.0<br>displayName:DK Metcalf<br>Route Ran:nan",
            "nflId:47907.0<br>displayName:Phil Haynes<br>Route Ran:nan",
            "nflId:52541.0<br>displayName:Colby Parkinson<br>Route Ran:nan",
            "nflId:54474.0<br>displayName:Charles Cross<br>Route Ran:nan",
            "nflId:54537.0<br>displayName:Abraham Lucas<br>Route Ran:nan"
           ],
           "marker": {
            "color": "#69BE28"
           },
           "mode": "markers",
           "name": "SEA",
           "type": "scatter",
           "x": [
            64.27,
            66.42,
            67.3,
            59.93,
            65.39,
            64.11,
            64.32,
            66.6,
            64.88,
            66.33,
            66.42
           ],
           "y": [
            23.98,
            22.53,
            24.07,
            23.8,
            19.47,
            18.57,
            31.91,
            25.38,
            18.72,
            27.03,
            20.83
           ]
          },
          {
           "hoverinfo": "none",
           "marker": {
            "color": "#CBB67C"
           },
           "mode": "markers",
           "name": "football",
           "type": "scatter",
           "x": [
            67.5500030517578
           ],
           "y": [
            23.7199993133545
           ]
          }
         ],
         "name": "23"
        },
        {
         "data": [
          {
           "hoverinfo": "none",
           "mode": "text",
           "showlegend": false,
           "text": [
            "10",
            "20",
            "30",
            "40",
            "50",
            "40",
            "30",
            "20",
            "10"
           ],
           "textfont": {
            "color": "#ffffff",
            "family": "Courier New, monospace",
            "size": 30
           },
           "type": "scatter",
           "x": [
            20,
            30,
            40,
            50,
            60,
            70,
            80,
            90,
            100
           ],
           "y": [
            5,
            5,
            5,
            5,
            5,
            5,
            5,
            5,
            5
           ]
          },
          {
           "hoverinfo": "none",
           "mode": "text",
           "showlegend": false,
           "text": [
            "10",
            "20",
            "30",
            "40",
            "50",
            "40",
            "30",
            "20",
            "10"
           ],
           "textfont": {
            "color": "#ffffff",
            "family": "Courier New, monospace",
            "size": 30
           },
           "type": "scatter",
           "x": [
            20,
            30,
            40,
            50,
            60,
            70,
            80,
            90,
            100
           ],
           "y": [
            48.5,
            48.5,
            48.5,
            48.5,
            48.5,
            48.5,
            48.5,
            48.5,
            48.5
           ]
          },
          {
           "hoverinfo": "none",
           "line": {
            "color": "blue",
            "dash": "dash"
           },
           "showlegend": false,
           "type": "scatter",
           "x": [
            68,
            68
           ],
           "y": [
            0,
            53.5
           ]
          },
          {
           "hoverinfo": "none",
           "line": {
            "color": "yellow",
            "dash": "dash"
           },
           "showlegend": false,
           "type": "scatter",
           "x": [
            74,
            74
           ],
           "y": [
            0,
            53.5
           ]
          },
          {
           "hoverinfo": "text",
           "hovertext": [
            "nflId:35459.0<br>displayName:Kareem Jackson<br>Route Ran:nan",
            "nflId:40347.0<br>displayName:Mike Purcell<br>Route Ran:nan",
            "nflId:42393.0<br>displayName:Ronald Darby<br>Route Ran:nan",
            "nflId:42826.0<br>displayName:DeShawn Williams<br>Route Ran:nan",
            "nflId:42929.0<br>displayName:Alex Singleton<br>Route Ran:nan",
            "nflId:43387.0<br>displayName:Justin Simmons<br>Route Ran:nan",
            "nflId:46074.0<br>displayName:Bradley Chubb<br>Route Ran:nan",
            "nflId:47854.0<br>displayName:Dre'Mont Jones<br>Route Ran:nan",
            "nflId:52706.0<br>displayName:Jonas Griffith<br>Route Ran:nan",
            "nflId:53438.0<br>displayName:Patrick Surtain<br>Route Ran:nan",
            "nflId:53534.0<br>displayName:Baron Browning<br>Route Ran:nan"
           ],
           "marker": {
            "color": "#FB4F14"
           },
           "mode": "markers",
           "name": "DEN",
           "type": "scatter",
           "x": [
            77.39,
            69.39,
            72.37,
            69.2,
            73.33,
            77.38,
            68.97,
            69.06,
            72.77,
            71.38,
            69.29
           ],
           "y": [
            28.84,
            23.54,
            20.53,
            25.53,
            22.97,
            18.89,
            29.89,
            22.42,
            24.96,
            30.39,
            18.95
           ]
          },
          {
           "hoverinfo": "text",
           "hovertext": [
            "nflId:39987.0<br>displayName:Geno Smith<br>Route Ran:nan",
            "nflId:41310.0<br>displayName:Gabe Jackson<br>Route Ran:nan",
            "nflId:43537.0<br>displayName:Austin Blythe<br>Route Ran:nan",
            "nflId:46096.0<br>displayName:Rashaad Penny<br>Route Ran:nan",
            "nflId:46189.0<br>displayName:Will Dissly<br>Route Ran:nan",
            "nflId:47803.0<br>displayName:Noah Fant<br>Route Ran:nan",
            "nflId:47847.0<br>displayName:DK Metcalf<br>Route Ran:nan",
            "nflId:47907.0<br>displayName:Phil Haynes<br>Route Ran:nan",
            "nflId:52541.0<br>displayName:Colby Parkinson<br>Route Ran:nan",
            "nflId:54474.0<br>displayName:Charles Cross<br>Route Ran:nan",
            "nflId:54537.0<br>displayName:Abraham Lucas<br>Route Ran:nan"
           ],
           "marker": {
            "color": "#69BE28"
           },
           "mode": "markers",
           "name": "SEA",
           "type": "scatter",
           "x": [
            64.37,
            66.47,
            67.34,
            59.88,
            65.49,
            64.19,
            64.49,
            66.65,
            64.98,
            66.36,
            66.47
           ],
           "y": [
            24,
            22.52,
            24.09,
            23.81,
            19.38,
            18.39,
            32.21,
            25.4,
            18.52,
            27.04,
            20.83
           ]
          },
          {
           "hoverinfo": "none",
           "marker": {
            "color": "#CBB67C"
           },
           "mode": "markers",
           "name": "football",
           "type": "scatter",
           "x": [
            67.5599975585938
           ],
           "y": [
            23.7199993133545
           ]
          }
         ],
         "name": "24"
        },
        {
         "data": [
          {
           "hoverinfo": "none",
           "mode": "text",
           "showlegend": false,
           "text": [
            "10",
            "20",
            "30",
            "40",
            "50",
            "40",
            "30",
            "20",
            "10"
           ],
           "textfont": {
            "color": "#ffffff",
            "family": "Courier New, monospace",
            "size": 30
           },
           "type": "scatter",
           "x": [
            20,
            30,
            40,
            50,
            60,
            70,
            80,
            90,
            100
           ],
           "y": [
            5,
            5,
            5,
            5,
            5,
            5,
            5,
            5,
            5
           ]
          },
          {
           "hoverinfo": "none",
           "mode": "text",
           "showlegend": false,
           "text": [
            "10",
            "20",
            "30",
            "40",
            "50",
            "40",
            "30",
            "20",
            "10"
           ],
           "textfont": {
            "color": "#ffffff",
            "family": "Courier New, monospace",
            "size": 30
           },
           "type": "scatter",
           "x": [
            20,
            30,
            40,
            50,
            60,
            70,
            80,
            90,
            100
           ],
           "y": [
            48.5,
            48.5,
            48.5,
            48.5,
            48.5,
            48.5,
            48.5,
            48.5,
            48.5
           ]
          },
          {
           "hoverinfo": "none",
           "line": {
            "color": "blue",
            "dash": "dash"
           },
           "showlegend": false,
           "type": "scatter",
           "x": [
            68,
            68
           ],
           "y": [
            0,
            53.5
           ]
          },
          {
           "hoverinfo": "none",
           "line": {
            "color": "yellow",
            "dash": "dash"
           },
           "showlegend": false,
           "type": "scatter",
           "x": [
            74,
            74
           ],
           "y": [
            0,
            53.5
           ]
          },
          {
           "hoverinfo": "text",
           "hovertext": [
            "nflId:35459.0<br>displayName:Kareem Jackson<br>Route Ran:nan",
            "nflId:40347.0<br>displayName:Mike Purcell<br>Route Ran:nan",
            "nflId:42393.0<br>displayName:Ronald Darby<br>Route Ran:nan",
            "nflId:42826.0<br>displayName:DeShawn Williams<br>Route Ran:nan",
            "nflId:42929.0<br>displayName:Alex Singleton<br>Route Ran:nan",
            "nflId:43387.0<br>displayName:Justin Simmons<br>Route Ran:nan",
            "nflId:46074.0<br>displayName:Bradley Chubb<br>Route Ran:nan",
            "nflId:47854.0<br>displayName:Dre'Mont Jones<br>Route Ran:nan",
            "nflId:52706.0<br>displayName:Jonas Griffith<br>Route Ran:nan",
            "nflId:53438.0<br>displayName:Patrick Surtain<br>Route Ran:nan",
            "nflId:53534.0<br>displayName:Baron Browning<br>Route Ran:nan"
           ],
           "marker": {
            "color": "#FB4F14"
           },
           "mode": "markers",
           "name": "DEN",
           "type": "scatter",
           "x": [
            77.45,
            69.38,
            72.37,
            69.19,
            73.28,
            77.45,
            69.01,
            69.07,
            72.79,
            71.4,
            69.28
           ],
           "y": [
            28.84,
            23.53,
            20.21,
            25.55,
            22.88,
            18.83,
            29.95,
            22.37,
            24.93,
            30.72,
            18.87
           ]
          },
          {
           "hoverinfo": "text",
           "hovertext": [
            "nflId:39987.0<br>displayName:Geno Smith<br>Route Ran:nan",
            "nflId:41310.0<br>displayName:Gabe Jackson<br>Route Ran:nan",
            "nflId:43537.0<br>displayName:Austin Blythe<br>Route Ran:nan",
            "nflId:46096.0<br>displayName:Rashaad Penny<br>Route Ran:nan",
            "nflId:46189.0<br>displayName:Will Dissly<br>Route Ran:nan",
            "nflId:47803.0<br>displayName:Noah Fant<br>Route Ran:nan",
            "nflId:47847.0<br>displayName:DK Metcalf<br>Route Ran:nan",
            "nflId:47907.0<br>displayName:Phil Haynes<br>Route Ran:nan",
            "nflId:52541.0<br>displayName:Colby Parkinson<br>Route Ran:nan",
            "nflId:54474.0<br>displayName:Charles Cross<br>Route Ran:nan",
            "nflId:54537.0<br>displayName:Abraham Lucas<br>Route Ran:nan"
           ],
           "marker": {
            "color": "#69BE28"
           },
           "mode": "markers",
           "name": "SEA",
           "type": "scatter",
           "x": [
            64.47,
            66.53,
            67.38,
            59.85,
            65.59,
            64.26,
            64.66,
            66.7,
            65.08,
            66.39,
            66.52
           ],
           "y": [
            24.02,
            22.51,
            24.09,
            23.81,
            19.3,
            18.21,
            32.5,
            25.41,
            18.34,
            27.05,
            20.84
           ]
          },
          {
           "hoverinfo": "none",
           "marker": {
            "color": "#CBB67C"
           },
           "mode": "markers",
           "name": "football",
           "type": "scatter",
           "x": [
            67.5599975585938
           ],
           "y": [
            23.7199993133545
           ]
          }
         ],
         "name": "25"
        },
        {
         "data": [
          {
           "hoverinfo": "none",
           "mode": "text",
           "showlegend": false,
           "text": [
            "10",
            "20",
            "30",
            "40",
            "50",
            "40",
            "30",
            "20",
            "10"
           ],
           "textfont": {
            "color": "#ffffff",
            "family": "Courier New, monospace",
            "size": 30
           },
           "type": "scatter",
           "x": [
            20,
            30,
            40,
            50,
            60,
            70,
            80,
            90,
            100
           ],
           "y": [
            5,
            5,
            5,
            5,
            5,
            5,
            5,
            5,
            5
           ]
          },
          {
           "hoverinfo": "none",
           "mode": "text",
           "showlegend": false,
           "text": [
            "10",
            "20",
            "30",
            "40",
            "50",
            "40",
            "30",
            "20",
            "10"
           ],
           "textfont": {
            "color": "#ffffff",
            "family": "Courier New, monospace",
            "size": 30
           },
           "type": "scatter",
           "x": [
            20,
            30,
            40,
            50,
            60,
            70,
            80,
            90,
            100
           ],
           "y": [
            48.5,
            48.5,
            48.5,
            48.5,
            48.5,
            48.5,
            48.5,
            48.5,
            48.5
           ]
          },
          {
           "hoverinfo": "none",
           "line": {
            "color": "blue",
            "dash": "dash"
           },
           "showlegend": false,
           "type": "scatter",
           "x": [
            68,
            68
           ],
           "y": [
            0,
            53.5
           ]
          },
          {
           "hoverinfo": "none",
           "line": {
            "color": "yellow",
            "dash": "dash"
           },
           "showlegend": false,
           "type": "scatter",
           "x": [
            74,
            74
           ],
           "y": [
            0,
            53.5
           ]
          },
          {
           "hoverinfo": "text",
           "hovertext": [
            "nflId:35459.0<br>displayName:Kareem Jackson<br>Route Ran:nan",
            "nflId:40347.0<br>displayName:Mike Purcell<br>Route Ran:nan",
            "nflId:42393.0<br>displayName:Ronald Darby<br>Route Ran:nan",
            "nflId:42826.0<br>displayName:DeShawn Williams<br>Route Ran:nan",
            "nflId:42929.0<br>displayName:Alex Singleton<br>Route Ran:nan",
            "nflId:43387.0<br>displayName:Justin Simmons<br>Route Ran:nan",
            "nflId:46074.0<br>displayName:Bradley Chubb<br>Route Ran:nan",
            "nflId:47854.0<br>displayName:Dre'Mont Jones<br>Route Ran:nan",
            "nflId:52706.0<br>displayName:Jonas Griffith<br>Route Ran:nan",
            "nflId:53438.0<br>displayName:Patrick Surtain<br>Route Ran:nan",
            "nflId:53534.0<br>displayName:Baron Browning<br>Route Ran:nan"
           ],
           "marker": {
            "color": "#FB4F14"
           },
           "mode": "markers",
           "name": "DEN",
           "type": "scatter",
           "x": [
            77.52,
            69.37,
            72.37,
            69.19,
            73.24,
            77.52,
            69.04,
            69.08,
            72.81,
            71.42,
            69.26
           ],
           "y": [
            28.83,
            23.52,
            19.89,
            25.58,
            22.79,
            18.77,
            29.99,
            22.32,
            24.9,
            31.03,
            18.78
           ]
          },
          {
           "hoverinfo": "text",
           "hovertext": [
            "nflId:39987.0<br>displayName:Geno Smith<br>Route Ran:nan",
            "nflId:41310.0<br>displayName:Gabe Jackson<br>Route Ran:nan",
            "nflId:43537.0<br>displayName:Austin Blythe<br>Route Ran:nan",
            "nflId:46096.0<br>displayName:Rashaad Penny<br>Route Ran:nan",
            "nflId:46189.0<br>displayName:Will Dissly<br>Route Ran:nan",
            "nflId:47803.0<br>displayName:Noah Fant<br>Route Ran:nan",
            "nflId:47847.0<br>displayName:DK Metcalf<br>Route Ran:nan",
            "nflId:47907.0<br>displayName:Phil Haynes<br>Route Ran:nan",
            "nflId:52541.0<br>displayName:Colby Parkinson<br>Route Ran:nan",
            "nflId:54474.0<br>displayName:Charles Cross<br>Route Ran:nan",
            "nflId:54537.0<br>displayName:Abraham Lucas<br>Route Ran:nan"
           ],
           "marker": {
            "color": "#69BE28"
           },
           "mode": "markers",
           "name": "SEA",
           "type": "scatter",
           "x": [
            64.58,
            66.59,
            67.41,
            59.84,
            65.69,
            64.34,
            64.82,
            66.74,
            65.16,
            66.42,
            66.57
           ],
           "y": [
            24.04,
            22.51,
            24.09,
            23.82,
            19.25,
            18.03,
            32.77,
            25.43,
            18.18,
            27.06,
            20.86
           ]
          },
          {
           "hoverinfo": "none",
           "marker": {
            "color": "#CBB67C"
           },
           "mode": "markers",
           "name": "football",
           "type": "scatter",
           "x": [
            67.5599975585938
           ],
           "y": [
            23.7299995422363
           ]
          }
         ],
         "name": "26"
        },
        {
         "data": [
          {
           "hoverinfo": "none",
           "mode": "text",
           "showlegend": false,
           "text": [
            "10",
            "20",
            "30",
            "40",
            "50",
            "40",
            "30",
            "20",
            "10"
           ],
           "textfont": {
            "color": "#ffffff",
            "family": "Courier New, monospace",
            "size": 30
           },
           "type": "scatter",
           "x": [
            20,
            30,
            40,
            50,
            60,
            70,
            80,
            90,
            100
           ],
           "y": [
            5,
            5,
            5,
            5,
            5,
            5,
            5,
            5,
            5
           ]
          },
          {
           "hoverinfo": "none",
           "mode": "text",
           "showlegend": false,
           "text": [
            "10",
            "20",
            "30",
            "40",
            "50",
            "40",
            "30",
            "20",
            "10"
           ],
           "textfont": {
            "color": "#ffffff",
            "family": "Courier New, monospace",
            "size": 30
           },
           "type": "scatter",
           "x": [
            20,
            30,
            40,
            50,
            60,
            70,
            80,
            90,
            100
           ],
           "y": [
            48.5,
            48.5,
            48.5,
            48.5,
            48.5,
            48.5,
            48.5,
            48.5,
            48.5
           ]
          },
          {
           "hoverinfo": "none",
           "line": {
            "color": "blue",
            "dash": "dash"
           },
           "showlegend": false,
           "type": "scatter",
           "x": [
            68,
            68
           ],
           "y": [
            0,
            53.5
           ]
          },
          {
           "hoverinfo": "none",
           "line": {
            "color": "yellow",
            "dash": "dash"
           },
           "showlegend": false,
           "type": "scatter",
           "x": [
            74,
            74
           ],
           "y": [
            0,
            53.5
           ]
          },
          {
           "hoverinfo": "text",
           "hovertext": [
            "nflId:35459.0<br>displayName:Kareem Jackson<br>Route Ran:nan",
            "nflId:40347.0<br>displayName:Mike Purcell<br>Route Ran:nan",
            "nflId:42393.0<br>displayName:Ronald Darby<br>Route Ran:nan",
            "nflId:42826.0<br>displayName:DeShawn Williams<br>Route Ran:nan",
            "nflId:42929.0<br>displayName:Alex Singleton<br>Route Ran:nan",
            "nflId:43387.0<br>displayName:Justin Simmons<br>Route Ran:nan",
            "nflId:46074.0<br>displayName:Bradley Chubb<br>Route Ran:nan",
            "nflId:47854.0<br>displayName:Dre'Mont Jones<br>Route Ran:nan",
            "nflId:52706.0<br>displayName:Jonas Griffith<br>Route Ran:nan",
            "nflId:53438.0<br>displayName:Patrick Surtain<br>Route Ran:nan",
            "nflId:53534.0<br>displayName:Baron Browning<br>Route Ran:nan"
           ],
           "marker": {
            "color": "#FB4F14"
           },
           "mode": "markers",
           "name": "DEN",
           "type": "scatter",
           "x": [
            77.59,
            69.36,
            72.39,
            69.17,
            73.2,
            77.58,
            69.07,
            69.08,
            72.82,
            71.44,
            69.25
           ],
           "y": [
            28.81,
            23.52,
            19.57,
            25.6,
            22.69,
            18.71,
            30.03,
            22.26,
            24.86,
            31.33,
            18.68
           ]
          },
          {
           "hoverinfo": "text",
           "hovertext": [
            "nflId:39987.0<br>displayName:Geno Smith<br>Route Ran:nan",
            "nflId:41310.0<br>displayName:Gabe Jackson<br>Route Ran:nan",
            "nflId:43537.0<br>displayName:Austin Blythe<br>Route Ran:nan",
            "nflId:46096.0<br>displayName:Rashaad Penny<br>Route Ran:nan",
            "nflId:46189.0<br>displayName:Will Dissly<br>Route Ran:nan",
            "nflId:47803.0<br>displayName:Noah Fant<br>Route Ran:nan",
            "nflId:47847.0<br>displayName:DK Metcalf<br>Route Ran:nan",
            "nflId:47907.0<br>displayName:Phil Haynes<br>Route Ran:nan",
            "nflId:52541.0<br>displayName:Colby Parkinson<br>Route Ran:nan",
            "nflId:54474.0<br>displayName:Charles Cross<br>Route Ran:nan",
            "nflId:54537.0<br>displayName:Abraham Lucas<br>Route Ran:nan"
           ],
           "marker": {
            "color": "#69BE28"
           },
           "mode": "markers",
           "name": "SEA",
           "type": "scatter",
           "x": [
            64.69,
            66.64,
            67.43,
            59.84,
            65.79,
            64.41,
            64.98,
            66.78,
            65.23,
            66.45,
            66.61
           ],
           "y": [
            24.06,
            22.5,
            24.09,
            23.82,
            19.23,
            17.85,
            33.02,
            25.44,
            18.05,
            27.07,
            20.87
           ]
          },
          {
           "hoverinfo": "none",
           "marker": {
            "color": "#CBB67C"
           },
           "mode": "markers",
           "name": "football",
           "type": "scatter",
           "x": [
            67.5699996948242
           ],
           "y": [
            23.7299995422363
           ]
          }
         ],
         "name": "27"
        },
        {
         "data": [
          {
           "hoverinfo": "none",
           "mode": "text",
           "showlegend": false,
           "text": [
            "10",
            "20",
            "30",
            "40",
            "50",
            "40",
            "30",
            "20",
            "10"
           ],
           "textfont": {
            "color": "#ffffff",
            "family": "Courier New, monospace",
            "size": 30
           },
           "type": "scatter",
           "x": [
            20,
            30,
            40,
            50,
            60,
            70,
            80,
            90,
            100
           ],
           "y": [
            5,
            5,
            5,
            5,
            5,
            5,
            5,
            5,
            5
           ]
          },
          {
           "hoverinfo": "none",
           "mode": "text",
           "showlegend": false,
           "text": [
            "10",
            "20",
            "30",
            "40",
            "50",
            "40",
            "30",
            "20",
            "10"
           ],
           "textfont": {
            "color": "#ffffff",
            "family": "Courier New, monospace",
            "size": 30
           },
           "type": "scatter",
           "x": [
            20,
            30,
            40,
            50,
            60,
            70,
            80,
            90,
            100
           ],
           "y": [
            48.5,
            48.5,
            48.5,
            48.5,
            48.5,
            48.5,
            48.5,
            48.5,
            48.5
           ]
          },
          {
           "hoverinfo": "none",
           "line": {
            "color": "blue",
            "dash": "dash"
           },
           "showlegend": false,
           "type": "scatter",
           "x": [
            68,
            68
           ],
           "y": [
            0,
            53.5
           ]
          },
          {
           "hoverinfo": "none",
           "line": {
            "color": "yellow",
            "dash": "dash"
           },
           "showlegend": false,
           "type": "scatter",
           "x": [
            74,
            74
           ],
           "y": [
            0,
            53.5
           ]
          },
          {
           "hoverinfo": "text",
           "hovertext": [
            "nflId:35459.0<br>displayName:Kareem Jackson<br>Route Ran:nan",
            "nflId:40347.0<br>displayName:Mike Purcell<br>Route Ran:nan",
            "nflId:42393.0<br>displayName:Ronald Darby<br>Route Ran:nan",
            "nflId:42826.0<br>displayName:DeShawn Williams<br>Route Ran:nan",
            "nflId:42929.0<br>displayName:Alex Singleton<br>Route Ran:nan",
            "nflId:43387.0<br>displayName:Justin Simmons<br>Route Ran:nan",
            "nflId:46074.0<br>displayName:Bradley Chubb<br>Route Ran:nan",
            "nflId:47854.0<br>displayName:Dre'Mont Jones<br>Route Ran:nan",
            "nflId:52706.0<br>displayName:Jonas Griffith<br>Route Ran:nan",
            "nflId:53438.0<br>displayName:Patrick Surtain<br>Route Ran:nan",
            "nflId:53534.0<br>displayName:Baron Browning<br>Route Ran:nan"
           ],
           "marker": {
            "color": "#FB4F14"
           },
           "mode": "markers",
           "name": "DEN",
           "type": "scatter",
           "x": [
            77.65,
            69.35,
            72.42,
            69.15,
            73.16,
            77.65,
            69.09,
            69.07,
            72.82,
            71.46,
            69.23
           ],
           "y": [
            28.79,
            23.52,
            19.26,
            25.63,
            22.59,
            18.65,
            30.06,
            22.2,
            24.81,
            31.61,
            18.58
           ]
          },
          {
           "hoverinfo": "text",
           "hovertext": [
            "nflId:39987.0<br>displayName:Geno Smith<br>Route Ran:nan",
            "nflId:41310.0<br>displayName:Gabe Jackson<br>Route Ran:nan",
            "nflId:43537.0<br>displayName:Austin Blythe<br>Route Ran:nan",
            "nflId:46096.0<br>displayName:Rashaad Penny<br>Route Ran:nan",
            "nflId:46189.0<br>displayName:Will Dissly<br>Route Ran:nan",
            "nflId:47803.0<br>displayName:Noah Fant<br>Route Ran:nan",
            "nflId:47847.0<br>displayName:DK Metcalf<br>Route Ran:nan",
            "nflId:47907.0<br>displayName:Phil Haynes<br>Route Ran:nan",
            "nflId:52541.0<br>displayName:Colby Parkinson<br>Route Ran:nan",
            "nflId:54474.0<br>displayName:Charles Cross<br>Route Ran:nan",
            "nflId:54537.0<br>displayName:Abraham Lucas<br>Route Ran:nan"
           ],
           "marker": {
            "color": "#69BE28"
           },
           "mode": "markers",
           "name": "SEA",
           "type": "scatter",
           "x": [
            64.8,
            66.69,
            67.44,
            59.86,
            65.89,
            64.48,
            65.13,
            66.81,
            65.3,
            66.47,
            66.64
           ],
           "y": [
            24.08,
            22.5,
            24.08,
            23.81,
            19.22,
            17.67,
            33.24,
            25.45,
            17.96,
            27.07,
            20.89
           ]
          },
          {
           "hoverinfo": "none",
           "marker": {
            "color": "#CBB67C"
           },
           "mode": "markers",
           "name": "football",
           "type": "scatter",
           "x": [
            67.5699996948242
           ],
           "y": [
            23.7299995422363
           ]
          }
         ],
         "name": "28"
        },
        {
         "data": [
          {
           "hoverinfo": "none",
           "mode": "text",
           "showlegend": false,
           "text": [
            "10",
            "20",
            "30",
            "40",
            "50",
            "40",
            "30",
            "20",
            "10"
           ],
           "textfont": {
            "color": "#ffffff",
            "family": "Courier New, monospace",
            "size": 30
           },
           "type": "scatter",
           "x": [
            20,
            30,
            40,
            50,
            60,
            70,
            80,
            90,
            100
           ],
           "y": [
            5,
            5,
            5,
            5,
            5,
            5,
            5,
            5,
            5
           ]
          },
          {
           "hoverinfo": "none",
           "mode": "text",
           "showlegend": false,
           "text": [
            "10",
            "20",
            "30",
            "40",
            "50",
            "40",
            "30",
            "20",
            "10"
           ],
           "textfont": {
            "color": "#ffffff",
            "family": "Courier New, monospace",
            "size": 30
           },
           "type": "scatter",
           "x": [
            20,
            30,
            40,
            50,
            60,
            70,
            80,
            90,
            100
           ],
           "y": [
            48.5,
            48.5,
            48.5,
            48.5,
            48.5,
            48.5,
            48.5,
            48.5,
            48.5
           ]
          },
          {
           "hoverinfo": "none",
           "line": {
            "color": "blue",
            "dash": "dash"
           },
           "showlegend": false,
           "type": "scatter",
           "x": [
            68,
            68
           ],
           "y": [
            0,
            53.5
           ]
          },
          {
           "hoverinfo": "none",
           "line": {
            "color": "yellow",
            "dash": "dash"
           },
           "showlegend": false,
           "type": "scatter",
           "x": [
            74,
            74
           ],
           "y": [
            0,
            53.5
           ]
          },
          {
           "hoverinfo": "text",
           "hovertext": [
            "nflId:35459.0<br>displayName:Kareem Jackson<br>Route Ran:nan",
            "nflId:40347.0<br>displayName:Mike Purcell<br>Route Ran:nan",
            "nflId:42393.0<br>displayName:Ronald Darby<br>Route Ran:nan",
            "nflId:42826.0<br>displayName:DeShawn Williams<br>Route Ran:nan",
            "nflId:42929.0<br>displayName:Alex Singleton<br>Route Ran:nan",
            "nflId:43387.0<br>displayName:Justin Simmons<br>Route Ran:nan",
            "nflId:46074.0<br>displayName:Bradley Chubb<br>Route Ran:nan",
            "nflId:47854.0<br>displayName:Dre'Mont Jones<br>Route Ran:nan",
            "nflId:52706.0<br>displayName:Jonas Griffith<br>Route Ran:nan",
            "nflId:53438.0<br>displayName:Patrick Surtain<br>Route Ran:nan",
            "nflId:53534.0<br>displayName:Baron Browning<br>Route Ran:nan"
           ],
           "marker": {
            "color": "#FB4F14"
           },
           "mode": "markers",
           "name": "DEN",
           "type": "scatter",
           "x": [
            77.72,
            69.34,
            72.44,
            69.13,
            73.12,
            77.71,
            69.12,
            69.06,
            72.81,
            71.48,
            69.22
           ],
           "y": [
            28.76,
            23.52,
            18.95,
            25.66,
            22.48,
            18.59,
            30.09,
            22.13,
            24.76,
            31.88,
            18.47
           ]
          },
          {
           "hoverinfo": "text",
           "hovertext": [
            "nflId:39987.0<br>displayName:Geno Smith<br>Route Ran:nan",
            "nflId:41310.0<br>displayName:Gabe Jackson<br>Route Ran:nan",
            "nflId:43537.0<br>displayName:Austin Blythe<br>Route Ran:nan",
            "nflId:46096.0<br>displayName:Rashaad Penny<br>Route Ran:nan",
            "nflId:46189.0<br>displayName:Will Dissly<br>Route Ran:nan",
            "nflId:47803.0<br>displayName:Noah Fant<br>Route Ran:nan",
            "nflId:47847.0<br>displayName:DK Metcalf<br>Route Ran:nan",
            "nflId:47907.0<br>displayName:Phil Haynes<br>Route Ran:nan",
            "nflId:52541.0<br>displayName:Colby Parkinson<br>Route Ran:nan",
            "nflId:54474.0<br>displayName:Charles Cross<br>Route Ran:nan",
            "nflId:54537.0<br>displayName:Abraham Lucas<br>Route Ran:nan"
           ],
           "marker": {
            "color": "#69BE28"
           },
           "mode": "markers",
           "name": "SEA",
           "type": "scatter",
           "x": [
            64.91,
            66.73,
            67.44,
            59.89,
            65.99,
            64.55,
            65.27,
            66.83,
            65.36,
            66.48,
            66.66
           ],
           "y": [
            24.1,
            22.49,
            24.07,
            23.81,
            19.23,
            17.51,
            33.45,
            25.46,
            17.89,
            27.07,
            20.91
           ]
          },
          {
           "hoverinfo": "none",
           "marker": {
            "color": "#CBB67C"
           },
           "mode": "markers",
           "name": "football",
           "type": "scatter",
           "x": [
            67.5699996948242
           ],
           "y": [
            23.7299995422363
           ]
          }
         ],
         "name": "29"
        },
        {
         "data": [
          {
           "hoverinfo": "none",
           "mode": "text",
           "showlegend": false,
           "text": [
            "10",
            "20",
            "30",
            "40",
            "50",
            "40",
            "30",
            "20",
            "10"
           ],
           "textfont": {
            "color": "#ffffff",
            "family": "Courier New, monospace",
            "size": 30
           },
           "type": "scatter",
           "x": [
            20,
            30,
            40,
            50,
            60,
            70,
            80,
            90,
            100
           ],
           "y": [
            5,
            5,
            5,
            5,
            5,
            5,
            5,
            5,
            5
           ]
          },
          {
           "hoverinfo": "none",
           "mode": "text",
           "showlegend": false,
           "text": [
            "10",
            "20",
            "30",
            "40",
            "50",
            "40",
            "30",
            "20",
            "10"
           ],
           "textfont": {
            "color": "#ffffff",
            "family": "Courier New, monospace",
            "size": 30
           },
           "type": "scatter",
           "x": [
            20,
            30,
            40,
            50,
            60,
            70,
            80,
            90,
            100
           ],
           "y": [
            48.5,
            48.5,
            48.5,
            48.5,
            48.5,
            48.5,
            48.5,
            48.5,
            48.5
           ]
          },
          {
           "hoverinfo": "none",
           "line": {
            "color": "blue",
            "dash": "dash"
           },
           "showlegend": false,
           "type": "scatter",
           "x": [
            68,
            68
           ],
           "y": [
            0,
            53.5
           ]
          },
          {
           "hoverinfo": "none",
           "line": {
            "color": "yellow",
            "dash": "dash"
           },
           "showlegend": false,
           "type": "scatter",
           "x": [
            74,
            74
           ],
           "y": [
            0,
            53.5
           ]
          },
          {
           "hoverinfo": "text",
           "hovertext": [
            "nflId:35459.0<br>displayName:Kareem Jackson<br>Route Ran:nan",
            "nflId:40347.0<br>displayName:Mike Purcell<br>Route Ran:nan",
            "nflId:42393.0<br>displayName:Ronald Darby<br>Route Ran:nan",
            "nflId:42826.0<br>displayName:DeShawn Williams<br>Route Ran:nan",
            "nflId:42929.0<br>displayName:Alex Singleton<br>Route Ran:nan",
            "nflId:43387.0<br>displayName:Justin Simmons<br>Route Ran:nan",
            "nflId:46074.0<br>displayName:Bradley Chubb<br>Route Ran:nan",
            "nflId:47854.0<br>displayName:Dre'Mont Jones<br>Route Ran:nan",
            "nflId:52706.0<br>displayName:Jonas Griffith<br>Route Ran:nan",
            "nflId:53438.0<br>displayName:Patrick Surtain<br>Route Ran:nan",
            "nflId:53534.0<br>displayName:Baron Browning<br>Route Ran:nan"
           ],
           "marker": {
            "color": "#FB4F14"
           },
           "mode": "markers",
           "name": "DEN",
           "type": "scatter",
           "x": [
            77.78,
            69.32,
            72.47,
            69.1,
            73.07,
            77.76,
            69.14,
            69.04,
            72.8,
            71.49,
            69.2
           ],
           "y": [
            28.74,
            23.52,
            18.64,
            25.68,
            22.37,
            18.54,
            30.11,
            22.05,
            24.71,
            32.14,
            18.35
           ]
          },
          {
           "hoverinfo": "text",
           "hovertext": [
            "nflId:39987.0<br>displayName:Geno Smith<br>Route Ran:nan",
            "nflId:41310.0<br>displayName:Gabe Jackson<br>Route Ran:nan",
            "nflId:43537.0<br>displayName:Austin Blythe<br>Route Ran:nan",
            "nflId:46096.0<br>displayName:Rashaad Penny<br>Route Ran:nan",
            "nflId:46189.0<br>displayName:Will Dissly<br>Route Ran:nan",
            "nflId:47803.0<br>displayName:Noah Fant<br>Route Ran:nan",
            "nflId:47847.0<br>displayName:DK Metcalf<br>Route Ran:nan",
            "nflId:47907.0<br>displayName:Phil Haynes<br>Route Ran:nan",
            "nflId:52541.0<br>displayName:Colby Parkinson<br>Route Ran:nan",
            "nflId:54474.0<br>displayName:Charles Cross<br>Route Ran:nan",
            "nflId:54537.0<br>displayName:Abraham Lucas<br>Route Ran:nan"
           ],
           "marker": {
            "color": "#69BE28"
           },
           "mode": "markers",
           "name": "SEA",
           "type": "scatter",
           "x": [
            65.01,
            66.76,
            67.45,
            59.93,
            66.09,
            64.62,
            65.4,
            66.85,
            65.42,
            66.49,
            66.67
           ],
           "y": [
            24.11,
            22.49,
            24.06,
            23.8,
            19.24,
            17.34,
            33.64,
            25.47,
            17.85,
            27.07,
            20.92
           ]
          },
          {
           "hoverinfo": "none",
           "marker": {
            "color": "#CBB67C"
           },
           "mode": "markers",
           "name": "football",
           "type": "scatter",
           "x": [
            67.5699996948242
           ],
           "y": [
            23.7399997711182
           ]
          }
         ],
         "name": "30"
        },
        {
         "data": [
          {
           "hoverinfo": "none",
           "mode": "text",
           "showlegend": false,
           "text": [
            "10",
            "20",
            "30",
            "40",
            "50",
            "40",
            "30",
            "20",
            "10"
           ],
           "textfont": {
            "color": "#ffffff",
            "family": "Courier New, monospace",
            "size": 30
           },
           "type": "scatter",
           "x": [
            20,
            30,
            40,
            50,
            60,
            70,
            80,
            90,
            100
           ],
           "y": [
            5,
            5,
            5,
            5,
            5,
            5,
            5,
            5,
            5
           ]
          },
          {
           "hoverinfo": "none",
           "mode": "text",
           "showlegend": false,
           "text": [
            "10",
            "20",
            "30",
            "40",
            "50",
            "40",
            "30",
            "20",
            "10"
           ],
           "textfont": {
            "color": "#ffffff",
            "family": "Courier New, monospace",
            "size": 30
           },
           "type": "scatter",
           "x": [
            20,
            30,
            40,
            50,
            60,
            70,
            80,
            90,
            100
           ],
           "y": [
            48.5,
            48.5,
            48.5,
            48.5,
            48.5,
            48.5,
            48.5,
            48.5,
            48.5
           ]
          },
          {
           "hoverinfo": "none",
           "line": {
            "color": "blue",
            "dash": "dash"
           },
           "showlegend": false,
           "type": "scatter",
           "x": [
            68,
            68
           ],
           "y": [
            0,
            53.5
           ]
          },
          {
           "hoverinfo": "none",
           "line": {
            "color": "yellow",
            "dash": "dash"
           },
           "showlegend": false,
           "type": "scatter",
           "x": [
            74,
            74
           ],
           "y": [
            0,
            53.5
           ]
          },
          {
           "hoverinfo": "text",
           "hovertext": [
            "nflId:35459.0<br>displayName:Kareem Jackson<br>Route Ran:nan",
            "nflId:40347.0<br>displayName:Mike Purcell<br>Route Ran:nan",
            "nflId:42393.0<br>displayName:Ronald Darby<br>Route Ran:nan",
            "nflId:42826.0<br>displayName:DeShawn Williams<br>Route Ran:nan",
            "nflId:42929.0<br>displayName:Alex Singleton<br>Route Ran:nan",
            "nflId:43387.0<br>displayName:Justin Simmons<br>Route Ran:nan",
            "nflId:46074.0<br>displayName:Bradley Chubb<br>Route Ran:nan",
            "nflId:47854.0<br>displayName:Dre'Mont Jones<br>Route Ran:nan",
            "nflId:52706.0<br>displayName:Jonas Griffith<br>Route Ran:nan",
            "nflId:53438.0<br>displayName:Patrick Surtain<br>Route Ran:nan",
            "nflId:53534.0<br>displayName:Baron Browning<br>Route Ran:nan"
           ],
           "marker": {
            "color": "#FB4F14"
           },
           "mode": "markers",
           "name": "DEN",
           "type": "scatter",
           "x": [
            77.85,
            69.3,
            72.5,
            69.07,
            73.03,
            77.82,
            69.16,
            69.02,
            72.79,
            71.49,
            69.19
           ],
           "y": [
            28.71,
            23.54,
            18.35,
            25.69,
            22.27,
            18.49,
            30.13,
            21.97,
            24.66,
            32.39,
            18.22
           ]
          },
          {
           "hoverinfo": "text",
           "hovertext": [
            "nflId:39987.0<br>displayName:Geno Smith<br>Route Ran:nan",
            "nflId:41310.0<br>displayName:Gabe Jackson<br>Route Ran:nan",
            "nflId:43537.0<br>displayName:Austin Blythe<br>Route Ran:nan",
            "nflId:46096.0<br>displayName:Rashaad Penny<br>Route Ran:nan",
            "nflId:46189.0<br>displayName:Will Dissly<br>Route Ran:nan",
            "nflId:47803.0<br>displayName:Noah Fant<br>Route Ran:nan",
            "nflId:47847.0<br>displayName:DK Metcalf<br>Route Ran:nan",
            "nflId:47907.0<br>displayName:Phil Haynes<br>Route Ran:nan",
            "nflId:52541.0<br>displayName:Colby Parkinson<br>Route Ran:nan",
            "nflId:54474.0<br>displayName:Charles Cross<br>Route Ran:nan",
            "nflId:54537.0<br>displayName:Abraham Lucas<br>Route Ran:nan"
           ],
           "marker": {
            "color": "#69BE28"
           },
           "mode": "markers",
           "name": "SEA",
           "type": "scatter",
           "x": [
            65.11,
            66.79,
            67.45,
            59.97,
            66.18,
            64.68,
            65.53,
            66.86,
            65.47,
            66.5,
            66.68
           ],
           "y": [
            24.11,
            22.48,
            24.06,
            23.8,
            19.25,
            17.19,
            33.83,
            25.47,
            17.84,
            27.08,
            20.94
           ]
          },
          {
           "hoverinfo": "none",
           "marker": {
            "color": "#CBB67C"
           },
           "mode": "markers",
           "name": "football",
           "type": "scatter",
           "x": [
            67.5699996948242
           ],
           "y": [
            23.7399997711182
           ]
          }
         ],
         "name": "31"
        },
        {
         "data": [
          {
           "hoverinfo": "none",
           "mode": "text",
           "showlegend": false,
           "text": [
            "10",
            "20",
            "30",
            "40",
            "50",
            "40",
            "30",
            "20",
            "10"
           ],
           "textfont": {
            "color": "#ffffff",
            "family": "Courier New, monospace",
            "size": 30
           },
           "type": "scatter",
           "x": [
            20,
            30,
            40,
            50,
            60,
            70,
            80,
            90,
            100
           ],
           "y": [
            5,
            5,
            5,
            5,
            5,
            5,
            5,
            5,
            5
           ]
          },
          {
           "hoverinfo": "none",
           "mode": "text",
           "showlegend": false,
           "text": [
            "10",
            "20",
            "30",
            "40",
            "50",
            "40",
            "30",
            "20",
            "10"
           ],
           "textfont": {
            "color": "#ffffff",
            "family": "Courier New, monospace",
            "size": 30
           },
           "type": "scatter",
           "x": [
            20,
            30,
            40,
            50,
            60,
            70,
            80,
            90,
            100
           ],
           "y": [
            48.5,
            48.5,
            48.5,
            48.5,
            48.5,
            48.5,
            48.5,
            48.5,
            48.5
           ]
          },
          {
           "hoverinfo": "none",
           "line": {
            "color": "blue",
            "dash": "dash"
           },
           "showlegend": false,
           "type": "scatter",
           "x": [
            68,
            68
           ],
           "y": [
            0,
            53.5
           ]
          },
          {
           "hoverinfo": "none",
           "line": {
            "color": "yellow",
            "dash": "dash"
           },
           "showlegend": false,
           "type": "scatter",
           "x": [
            74,
            74
           ],
           "y": [
            0,
            53.5
           ]
          },
          {
           "hoverinfo": "text",
           "hovertext": [
            "nflId:35459.0<br>displayName:Kareem Jackson<br>Route Ran:nan",
            "nflId:40347.0<br>displayName:Mike Purcell<br>Route Ran:nan",
            "nflId:42393.0<br>displayName:Ronald Darby<br>Route Ran:nan",
            "nflId:42826.0<br>displayName:DeShawn Williams<br>Route Ran:nan",
            "nflId:42929.0<br>displayName:Alex Singleton<br>Route Ran:nan",
            "nflId:43387.0<br>displayName:Justin Simmons<br>Route Ran:nan",
            "nflId:46074.0<br>displayName:Bradley Chubb<br>Route Ran:nan",
            "nflId:47854.0<br>displayName:Dre'Mont Jones<br>Route Ran:nan",
            "nflId:52706.0<br>displayName:Jonas Griffith<br>Route Ran:nan",
            "nflId:53438.0<br>displayName:Patrick Surtain<br>Route Ran:nan",
            "nflId:53534.0<br>displayName:Baron Browning<br>Route Ran:nan"
           ],
           "marker": {
            "color": "#FB4F14"
           },
           "mode": "markers",
           "name": "DEN",
           "type": "scatter",
           "x": [
            77.91,
            69.28,
            72.53,
            69.04,
            72.98,
            77.87,
            69.17,
            69,
            72.77,
            71.49,
            69.17
           ],
           "y": [
            28.69,
            23.55,
            18.06,
            25.7,
            22.17,
            18.45,
            30.14,
            21.89,
            24.61,
            32.62,
            18.1
           ]
          },
          {
           "hoverinfo": "text",
           "hovertext": [
            "nflId:39987.0<br>displayName:Geno Smith<br>Route Ran:nan",
            "nflId:41310.0<br>displayName:Gabe Jackson<br>Route Ran:nan",
            "nflId:43537.0<br>displayName:Austin Blythe<br>Route Ran:nan",
            "nflId:46096.0<br>displayName:Rashaad Penny<br>Route Ran:nan",
            "nflId:46189.0<br>displayName:Will Dissly<br>Route Ran:nan",
            "nflId:47803.0<br>displayName:Noah Fant<br>Route Ran:nan",
            "nflId:47847.0<br>displayName:DK Metcalf<br>Route Ran:nan",
            "nflId:47907.0<br>displayName:Phil Haynes<br>Route Ran:nan",
            "nflId:52541.0<br>displayName:Colby Parkinson<br>Route Ran:nan",
            "nflId:54474.0<br>displayName:Charles Cross<br>Route Ran:nan",
            "nflId:54537.0<br>displayName:Abraham Lucas<br>Route Ran:nan"
           ],
           "marker": {
            "color": "#69BE28"
           },
           "mode": "markers",
           "name": "SEA",
           "type": "scatter",
           "x": [
            65.21,
            66.8,
            67.45,
            60.01,
            66.27,
            64.75,
            65.65,
            66.86,
            65.52,
            66.5,
            66.68
           ],
           "y": [
            24.12,
            22.47,
            24.05,
            23.8,
            19.26,
            17.05,
            34,
            25.48,
            17.86,
            27.08,
            20.95
           ]
          },
          {
           "hoverinfo": "none",
           "marker": {
            "color": "#CBB67C"
           },
           "mode": "markers",
           "name": "football",
           "type": "scatter",
           "x": [
            67.5800018310547
           ],
           "y": [
            23.75
           ]
          }
         ],
         "name": "32"
        },
        {
         "data": [
          {
           "hoverinfo": "none",
           "mode": "text",
           "showlegend": false,
           "text": [
            "10",
            "20",
            "30",
            "40",
            "50",
            "40",
            "30",
            "20",
            "10"
           ],
           "textfont": {
            "color": "#ffffff",
            "family": "Courier New, monospace",
            "size": 30
           },
           "type": "scatter",
           "x": [
            20,
            30,
            40,
            50,
            60,
            70,
            80,
            90,
            100
           ],
           "y": [
            5,
            5,
            5,
            5,
            5,
            5,
            5,
            5,
            5
           ]
          },
          {
           "hoverinfo": "none",
           "mode": "text",
           "showlegend": false,
           "text": [
            "10",
            "20",
            "30",
            "40",
            "50",
            "40",
            "30",
            "20",
            "10"
           ],
           "textfont": {
            "color": "#ffffff",
            "family": "Courier New, monospace",
            "size": 30
           },
           "type": "scatter",
           "x": [
            20,
            30,
            40,
            50,
            60,
            70,
            80,
            90,
            100
           ],
           "y": [
            48.5,
            48.5,
            48.5,
            48.5,
            48.5,
            48.5,
            48.5,
            48.5,
            48.5
           ]
          },
          {
           "hoverinfo": "none",
           "line": {
            "color": "blue",
            "dash": "dash"
           },
           "showlegend": false,
           "type": "scatter",
           "x": [
            68,
            68
           ],
           "y": [
            0,
            53.5
           ]
          },
          {
           "hoverinfo": "none",
           "line": {
            "color": "yellow",
            "dash": "dash"
           },
           "showlegend": false,
           "type": "scatter",
           "x": [
            74,
            74
           ],
           "y": [
            0,
            53.5
           ]
          },
          {
           "hoverinfo": "text",
           "hovertext": [
            "nflId:35459.0<br>displayName:Kareem Jackson<br>Route Ran:nan",
            "nflId:40347.0<br>displayName:Mike Purcell<br>Route Ran:nan",
            "nflId:42393.0<br>displayName:Ronald Darby<br>Route Ran:nan",
            "nflId:42826.0<br>displayName:DeShawn Williams<br>Route Ran:nan",
            "nflId:42929.0<br>displayName:Alex Singleton<br>Route Ran:nan",
            "nflId:43387.0<br>displayName:Justin Simmons<br>Route Ran:nan",
            "nflId:46074.0<br>displayName:Bradley Chubb<br>Route Ran:nan",
            "nflId:47854.0<br>displayName:Dre'Mont Jones<br>Route Ran:nan",
            "nflId:52706.0<br>displayName:Jonas Griffith<br>Route Ran:nan",
            "nflId:53438.0<br>displayName:Patrick Surtain<br>Route Ran:nan",
            "nflId:53534.0<br>displayName:Baron Browning<br>Route Ran:nan"
           ],
           "marker": {
            "color": "#FB4F14"
           },
           "mode": "markers",
           "name": "DEN",
           "type": "scatter",
           "x": [
            77.98,
            69.25,
            72.55,
            69.01,
            72.94,
            77.91,
            69.19,
            68.98,
            72.75,
            71.48,
            69.15
           ],
           "y": [
            28.67,
            23.57,
            17.79,
            25.7,
            22.06,
            18.42,
            30.14,
            21.81,
            24.55,
            32.83,
            17.97
           ]
          },
          {
           "hoverinfo": "text",
           "hovertext": [
            "nflId:39987.0<br>displayName:Geno Smith<br>Route Ran:nan",
            "nflId:41310.0<br>displayName:Gabe Jackson<br>Route Ran:nan",
            "nflId:43537.0<br>displayName:Austin Blythe<br>Route Ran:nan",
            "nflId:46096.0<br>displayName:Rashaad Penny<br>Route Ran:nan",
            "nflId:46189.0<br>displayName:Will Dissly<br>Route Ran:nan",
            "nflId:47803.0<br>displayName:Noah Fant<br>Route Ran:nan",
            "nflId:47847.0<br>displayName:DK Metcalf<br>Route Ran:nan",
            "nflId:47907.0<br>displayName:Phil Haynes<br>Route Ran:nan",
            "nflId:52541.0<br>displayName:Colby Parkinson<br>Route Ran:nan",
            "nflId:54474.0<br>displayName:Charles Cross<br>Route Ran:nan",
            "nflId:54537.0<br>displayName:Abraham Lucas<br>Route Ran:nan"
           ],
           "marker": {
            "color": "#69BE28"
           },
           "mode": "markers",
           "name": "SEA",
           "type": "scatter",
           "x": [
            65.31,
            66.81,
            67.46,
            60.05,
            66.35,
            64.81,
            65.76,
            66.87,
            65.57,
            66.5,
            66.68
           ],
           "y": [
            24.11,
            22.46,
            24.05,
            23.81,
            19.27,
            16.93,
            34.16,
            25.48,
            17.9,
            27.08,
            20.96
           ]
          },
          {
           "hoverinfo": "none",
           "marker": {
            "color": "#CBB67C"
           },
           "mode": "markers",
           "name": "football",
           "type": "scatter",
           "x": [
            67.5800018310547
           ],
           "y": [
            23.75
           ]
          }
         ],
         "name": "33"
        },
        {
         "data": [
          {
           "hoverinfo": "none",
           "mode": "text",
           "showlegend": false,
           "text": [
            "10",
            "20",
            "30",
            "40",
            "50",
            "40",
            "30",
            "20",
            "10"
           ],
           "textfont": {
            "color": "#ffffff",
            "family": "Courier New, monospace",
            "size": 30
           },
           "type": "scatter",
           "x": [
            20,
            30,
            40,
            50,
            60,
            70,
            80,
            90,
            100
           ],
           "y": [
            5,
            5,
            5,
            5,
            5,
            5,
            5,
            5,
            5
           ]
          },
          {
           "hoverinfo": "none",
           "mode": "text",
           "showlegend": false,
           "text": [
            "10",
            "20",
            "30",
            "40",
            "50",
            "40",
            "30",
            "20",
            "10"
           ],
           "textfont": {
            "color": "#ffffff",
            "family": "Courier New, monospace",
            "size": 30
           },
           "type": "scatter",
           "x": [
            20,
            30,
            40,
            50,
            60,
            70,
            80,
            90,
            100
           ],
           "y": [
            48.5,
            48.5,
            48.5,
            48.5,
            48.5,
            48.5,
            48.5,
            48.5,
            48.5
           ]
          },
          {
           "hoverinfo": "none",
           "line": {
            "color": "blue",
            "dash": "dash"
           },
           "showlegend": false,
           "type": "scatter",
           "x": [
            68,
            68
           ],
           "y": [
            0,
            53.5
           ]
          },
          {
           "hoverinfo": "none",
           "line": {
            "color": "yellow",
            "dash": "dash"
           },
           "showlegend": false,
           "type": "scatter",
           "x": [
            74,
            74
           ],
           "y": [
            0,
            53.5
           ]
          },
          {
           "hoverinfo": "text",
           "hovertext": [
            "nflId:35459.0<br>displayName:Kareem Jackson<br>Route Ran:nan",
            "nflId:40347.0<br>displayName:Mike Purcell<br>Route Ran:nan",
            "nflId:42393.0<br>displayName:Ronald Darby<br>Route Ran:nan",
            "nflId:42826.0<br>displayName:DeShawn Williams<br>Route Ran:nan",
            "nflId:42929.0<br>displayName:Alex Singleton<br>Route Ran:nan",
            "nflId:43387.0<br>displayName:Justin Simmons<br>Route Ran:nan",
            "nflId:46074.0<br>displayName:Bradley Chubb<br>Route Ran:nan",
            "nflId:47854.0<br>displayName:Dre'Mont Jones<br>Route Ran:nan",
            "nflId:52706.0<br>displayName:Jonas Griffith<br>Route Ran:nan",
            "nflId:53438.0<br>displayName:Patrick Surtain<br>Route Ran:nan",
            "nflId:53534.0<br>displayName:Baron Browning<br>Route Ran:nan"
           ],
           "marker": {
            "color": "#FB4F14"
           },
           "mode": "markers",
           "name": "DEN",
           "type": "scatter",
           "x": [
            78.04,
            69.24,
            72.58,
            68.99,
            72.9,
            77.95,
            69.19,
            68.96,
            72.74,
            71.46,
            69.13
           ],
           "y": [
            28.66,
            23.59,
            17.52,
            25.69,
            21.96,
            18.39,
            30.16,
            21.72,
            24.51,
            33.04,
            17.85
           ]
          },
          {
           "hoverinfo": "text",
           "hovertext": [
            "nflId:39987.0<br>displayName:Geno Smith<br>Route Ran:nan",
            "nflId:41310.0<br>displayName:Gabe Jackson<br>Route Ran:nan",
            "nflId:43537.0<br>displayName:Austin Blythe<br>Route Ran:nan",
            "nflId:46096.0<br>displayName:Rashaad Penny<br>Route Ran:nan",
            "nflId:46189.0<br>displayName:Will Dissly<br>Route Ran:nan",
            "nflId:47803.0<br>displayName:Noah Fant<br>Route Ran:nan",
            "nflId:47847.0<br>displayName:DK Metcalf<br>Route Ran:nan",
            "nflId:47907.0<br>displayName:Phil Haynes<br>Route Ran:nan",
            "nflId:52541.0<br>displayName:Colby Parkinson<br>Route Ran:nan",
            "nflId:54474.0<br>displayName:Charles Cross<br>Route Ran:nan",
            "nflId:54537.0<br>displayName:Abraham Lucas<br>Route Ran:nan"
           ],
           "marker": {
            "color": "#69BE28"
           },
           "mode": "markers",
           "name": "SEA",
           "type": "scatter",
           "x": [
            65.4,
            66.82,
            67.46,
            60.08,
            66.41,
            64.88,
            65.87,
            66.87,
            65.61,
            66.51,
            66.68
           ],
           "y": [
            24.1,
            22.45,
            24.04,
            23.82,
            19.28,
            16.83,
            34.3,
            25.48,
            17.96,
            27.09,
            20.97
           ]
          },
          {
           "hoverinfo": "none",
           "marker": {
            "color": "#CBB67C"
           },
           "mode": "markers",
           "name": "football",
           "type": "scatter",
           "x": [
            67.5800018310547
           ],
           "y": [
            23.75
           ]
          }
         ],
         "name": "34"
        },
        {
         "data": [
          {
           "hoverinfo": "none",
           "mode": "text",
           "showlegend": false,
           "text": [
            "10",
            "20",
            "30",
            "40",
            "50",
            "40",
            "30",
            "20",
            "10"
           ],
           "textfont": {
            "color": "#ffffff",
            "family": "Courier New, monospace",
            "size": 30
           },
           "type": "scatter",
           "x": [
            20,
            30,
            40,
            50,
            60,
            70,
            80,
            90,
            100
           ],
           "y": [
            5,
            5,
            5,
            5,
            5,
            5,
            5,
            5,
            5
           ]
          },
          {
           "hoverinfo": "none",
           "mode": "text",
           "showlegend": false,
           "text": [
            "10",
            "20",
            "30",
            "40",
            "50",
            "40",
            "30",
            "20",
            "10"
           ],
           "textfont": {
            "color": "#ffffff",
            "family": "Courier New, monospace",
            "size": 30
           },
           "type": "scatter",
           "x": [
            20,
            30,
            40,
            50,
            60,
            70,
            80,
            90,
            100
           ],
           "y": [
            48.5,
            48.5,
            48.5,
            48.5,
            48.5,
            48.5,
            48.5,
            48.5,
            48.5
           ]
          },
          {
           "hoverinfo": "none",
           "line": {
            "color": "blue",
            "dash": "dash"
           },
           "showlegend": false,
           "type": "scatter",
           "x": [
            68,
            68
           ],
           "y": [
            0,
            53.5
           ]
          },
          {
           "hoverinfo": "none",
           "line": {
            "color": "yellow",
            "dash": "dash"
           },
           "showlegend": false,
           "type": "scatter",
           "x": [
            74,
            74
           ],
           "y": [
            0,
            53.5
           ]
          },
          {
           "hoverinfo": "text",
           "hovertext": [
            "nflId:35459.0<br>displayName:Kareem Jackson<br>Route Ran:nan",
            "nflId:40347.0<br>displayName:Mike Purcell<br>Route Ran:nan",
            "nflId:42393.0<br>displayName:Ronald Darby<br>Route Ran:nan",
            "nflId:42826.0<br>displayName:DeShawn Williams<br>Route Ran:nan",
            "nflId:42929.0<br>displayName:Alex Singleton<br>Route Ran:nan",
            "nflId:43387.0<br>displayName:Justin Simmons<br>Route Ran:nan",
            "nflId:46074.0<br>displayName:Bradley Chubb<br>Route Ran:nan",
            "nflId:47854.0<br>displayName:Dre'Mont Jones<br>Route Ran:nan",
            "nflId:52706.0<br>displayName:Jonas Griffith<br>Route Ran:nan",
            "nflId:53438.0<br>displayName:Patrick Surtain<br>Route Ran:nan",
            "nflId:53534.0<br>displayName:Baron Browning<br>Route Ran:nan"
           ],
           "marker": {
            "color": "#FB4F14"
           },
           "mode": "markers",
           "name": "DEN",
           "type": "scatter",
           "x": [
            78.11,
            69.22,
            72.61,
            68.96,
            72.86,
            77.98,
            69.19,
            68.93,
            72.73,
            71.44,
            69.11
           ],
           "y": [
            28.66,
            23.61,
            17.28,
            25.68,
            21.86,
            18.35,
            30.17,
            21.62,
            24.46,
            33.23,
            17.72
           ]
          },
          {
           "hoverinfo": "text",
           "hovertext": [
            "nflId:39987.0<br>displayName:Geno Smith<br>Route Ran:nan",
            "nflId:41310.0<br>displayName:Gabe Jackson<br>Route Ran:nan",
            "nflId:43537.0<br>displayName:Austin Blythe<br>Route Ran:nan",
            "nflId:46096.0<br>displayName:Rashaad Penny<br>Route Ran:nan",
            "nflId:46189.0<br>displayName:Will Dissly<br>Route Ran:nan",
            "nflId:47803.0<br>displayName:Noah Fant<br>Route Ran:nan",
            "nflId:47847.0<br>displayName:DK Metcalf<br>Route Ran:nan",
            "nflId:47907.0<br>displayName:Phil Haynes<br>Route Ran:nan",
            "nflId:52541.0<br>displayName:Colby Parkinson<br>Route Ran:nan",
            "nflId:54474.0<br>displayName:Charles Cross<br>Route Ran:nan",
            "nflId:54537.0<br>displayName:Abraham Lucas<br>Route Ran:nan"
           ],
           "marker": {
            "color": "#69BE28"
           },
           "mode": "markers",
           "name": "SEA",
           "type": "scatter",
           "x": [
            65.49,
            66.81,
            67.46,
            60.11,
            66.46,
            64.94,
            65.98,
            66.87,
            65.65,
            66.51,
            66.67
           ],
           "y": [
            24.09,
            22.44,
            24.04,
            23.82,
            19.29,
            16.75,
            34.42,
            25.48,
            18.03,
            27.09,
            20.97
           ]
          },
          {
           "hoverinfo": "none",
           "marker": {
            "color": "#CBB67C"
           },
           "mode": "markers",
           "name": "football",
           "type": "scatter",
           "x": [
            67.5800018310547
           ],
           "y": [
            23.7600002288818
           ]
          }
         ],
         "name": "35"
        },
        {
         "data": [
          {
           "hoverinfo": "none",
           "mode": "text",
           "showlegend": false,
           "text": [
            "10",
            "20",
            "30",
            "40",
            "50",
            "40",
            "30",
            "20",
            "10"
           ],
           "textfont": {
            "color": "#ffffff",
            "family": "Courier New, monospace",
            "size": 30
           },
           "type": "scatter",
           "x": [
            20,
            30,
            40,
            50,
            60,
            70,
            80,
            90,
            100
           ],
           "y": [
            5,
            5,
            5,
            5,
            5,
            5,
            5,
            5,
            5
           ]
          },
          {
           "hoverinfo": "none",
           "mode": "text",
           "showlegend": false,
           "text": [
            "10",
            "20",
            "30",
            "40",
            "50",
            "40",
            "30",
            "20",
            "10"
           ],
           "textfont": {
            "color": "#ffffff",
            "family": "Courier New, monospace",
            "size": 30
           },
           "type": "scatter",
           "x": [
            20,
            30,
            40,
            50,
            60,
            70,
            80,
            90,
            100
           ],
           "y": [
            48.5,
            48.5,
            48.5,
            48.5,
            48.5,
            48.5,
            48.5,
            48.5,
            48.5
           ]
          },
          {
           "hoverinfo": "none",
           "line": {
            "color": "blue",
            "dash": "dash"
           },
           "showlegend": false,
           "type": "scatter",
           "x": [
            68,
            68
           ],
           "y": [
            0,
            53.5
           ]
          },
          {
           "hoverinfo": "none",
           "line": {
            "color": "yellow",
            "dash": "dash"
           },
           "showlegend": false,
           "type": "scatter",
           "x": [
            74,
            74
           ],
           "y": [
            0,
            53.5
           ]
          },
          {
           "hoverinfo": "text",
           "hovertext": [
            "nflId:35459.0<br>displayName:Kareem Jackson<br>Route Ran:nan",
            "nflId:40347.0<br>displayName:Mike Purcell<br>Route Ran:nan",
            "nflId:42393.0<br>displayName:Ronald Darby<br>Route Ran:nan",
            "nflId:42826.0<br>displayName:DeShawn Williams<br>Route Ran:nan",
            "nflId:42929.0<br>displayName:Alex Singleton<br>Route Ran:nan",
            "nflId:43387.0<br>displayName:Justin Simmons<br>Route Ran:nan",
            "nflId:46074.0<br>displayName:Bradley Chubb<br>Route Ran:nan",
            "nflId:47854.0<br>displayName:Dre'Mont Jones<br>Route Ran:nan",
            "nflId:52706.0<br>displayName:Jonas Griffith<br>Route Ran:nan",
            "nflId:53438.0<br>displayName:Patrick Surtain<br>Route Ran:nan",
            "nflId:53534.0<br>displayName:Baron Browning<br>Route Ran:nan"
           ],
           "marker": {
            "color": "#FB4F14"
           },
           "mode": "markers",
           "name": "DEN",
           "type": "scatter",
           "x": [
            78.18,
            69.2,
            72.64,
            68.94,
            72.82,
            78,
            69.19,
            68.91,
            72.72,
            71.4,
            69.08
           ],
           "y": [
            28.66,
            23.62,
            17.05,
            25.67,
            21.76,
            18.33,
            30.18,
            21.51,
            24.41,
            33.41,
            17.59
           ]
          },
          {
           "hoverinfo": "text",
           "hovertext": [
            "nflId:39987.0<br>displayName:Geno Smith<br>Route Ran:nan",
            "nflId:41310.0<br>displayName:Gabe Jackson<br>Route Ran:nan",
            "nflId:43537.0<br>displayName:Austin Blythe<br>Route Ran:nan",
            "nflId:46096.0<br>displayName:Rashaad Penny<br>Route Ran:nan",
            "nflId:46189.0<br>displayName:Will Dissly<br>Route Ran:nan",
            "nflId:47803.0<br>displayName:Noah Fant<br>Route Ran:nan",
            "nflId:47847.0<br>displayName:DK Metcalf<br>Route Ran:nan",
            "nflId:47907.0<br>displayName:Phil Haynes<br>Route Ran:nan",
            "nflId:52541.0<br>displayName:Colby Parkinson<br>Route Ran:nan",
            "nflId:54474.0<br>displayName:Charles Cross<br>Route Ran:nan",
            "nflId:54537.0<br>displayName:Abraham Lucas<br>Route Ran:nan"
           ],
           "marker": {
            "color": "#69BE28"
           },
           "mode": "markers",
           "name": "SEA",
           "type": "scatter",
           "x": [
            65.57,
            66.81,
            67.46,
            60.14,
            66.5,
            65,
            66.09,
            66.87,
            65.69,
            66.5,
            66.66
           ],
           "y": [
            24.08,
            22.43,
            24.04,
            23.83,
            19.31,
            16.7,
            34.53,
            25.48,
            18.1,
            27.09,
            20.98
           ]
          },
          {
           "hoverinfo": "none",
           "marker": {
            "color": "#CBB67C"
           },
           "mode": "markers",
           "name": "football",
           "type": "scatter",
           "x": [
            67.5800018310547
           ],
           "y": [
            23.7600002288818
           ]
          }
         ],
         "name": "36"
        },
        {
         "data": [
          {
           "hoverinfo": "none",
           "mode": "text",
           "showlegend": false,
           "text": [
            "10",
            "20",
            "30",
            "40",
            "50",
            "40",
            "30",
            "20",
            "10"
           ],
           "textfont": {
            "color": "#ffffff",
            "family": "Courier New, monospace",
            "size": 30
           },
           "type": "scatter",
           "x": [
            20,
            30,
            40,
            50,
            60,
            70,
            80,
            90,
            100
           ],
           "y": [
            5,
            5,
            5,
            5,
            5,
            5,
            5,
            5,
            5
           ]
          },
          {
           "hoverinfo": "none",
           "mode": "text",
           "showlegend": false,
           "text": [
            "10",
            "20",
            "30",
            "40",
            "50",
            "40",
            "30",
            "20",
            "10"
           ],
           "textfont": {
            "color": "#ffffff",
            "family": "Courier New, monospace",
            "size": 30
           },
           "type": "scatter",
           "x": [
            20,
            30,
            40,
            50,
            60,
            70,
            80,
            90,
            100
           ],
           "y": [
            48.5,
            48.5,
            48.5,
            48.5,
            48.5,
            48.5,
            48.5,
            48.5,
            48.5
           ]
          },
          {
           "hoverinfo": "none",
           "line": {
            "color": "blue",
            "dash": "dash"
           },
           "showlegend": false,
           "type": "scatter",
           "x": [
            68,
            68
           ],
           "y": [
            0,
            53.5
           ]
          },
          {
           "hoverinfo": "none",
           "line": {
            "color": "yellow",
            "dash": "dash"
           },
           "showlegend": false,
           "type": "scatter",
           "x": [
            74,
            74
           ],
           "y": [
            0,
            53.5
           ]
          },
          {
           "hoverinfo": "text",
           "hovertext": [
            "nflId:35459.0<br>displayName:Kareem Jackson<br>Route Ran:nan",
            "nflId:40347.0<br>displayName:Mike Purcell<br>Route Ran:nan",
            "nflId:42393.0<br>displayName:Ronald Darby<br>Route Ran:nan",
            "nflId:42826.0<br>displayName:DeShawn Williams<br>Route Ran:nan",
            "nflId:42929.0<br>displayName:Alex Singleton<br>Route Ran:nan",
            "nflId:43387.0<br>displayName:Justin Simmons<br>Route Ran:nan",
            "nflId:46074.0<br>displayName:Bradley Chubb<br>Route Ran:nan",
            "nflId:47854.0<br>displayName:Dre'Mont Jones<br>Route Ran:nan",
            "nflId:52706.0<br>displayName:Jonas Griffith<br>Route Ran:nan",
            "nflId:53438.0<br>displayName:Patrick Surtain<br>Route Ran:nan",
            "nflId:53534.0<br>displayName:Baron Browning<br>Route Ran:nan"
           ],
           "marker": {
            "color": "#FB4F14"
           },
           "mode": "markers",
           "name": "DEN",
           "type": "scatter",
           "x": [
            78.25,
            69.17,
            72.69,
            68.92,
            72.79,
            78.01,
            69.19,
            68.88,
            72.72,
            71.36,
            69.05
           ],
           "y": [
            28.66,
            23.63,
            16.83,
            25.67,
            21.65,
            18.31,
            30.19,
            21.41,
            24.37,
            33.59,
            17.47
           ]
          },
          {
           "hoverinfo": "text",
           "hovertext": [
            "nflId:39987.0<br>displayName:Geno Smith<br>Route Ran:nan",
            "nflId:41310.0<br>displayName:Gabe Jackson<br>Route Ran:nan",
            "nflId:43537.0<br>displayName:Austin Blythe<br>Route Ran:nan",
            "nflId:46096.0<br>displayName:Rashaad Penny<br>Route Ran:nan",
            "nflId:46189.0<br>displayName:Will Dissly<br>Route Ran:nan",
            "nflId:47803.0<br>displayName:Noah Fant<br>Route Ran:nan",
            "nflId:47847.0<br>displayName:DK Metcalf<br>Route Ran:nan",
            "nflId:47907.0<br>displayName:Phil Haynes<br>Route Ran:nan",
            "nflId:52541.0<br>displayName:Colby Parkinson<br>Route Ran:nan",
            "nflId:54474.0<br>displayName:Charles Cross<br>Route Ran:nan",
            "nflId:54537.0<br>displayName:Abraham Lucas<br>Route Ran:nan"
           ],
           "marker": {
            "color": "#69BE28"
           },
           "mode": "markers",
           "name": "SEA",
           "type": "scatter",
           "x": [
            65.64,
            66.8,
            67.47,
            60.16,
            66.53,
            65.06,
            66.18,
            66.87,
            65.72,
            66.51,
            66.65
           ],
           "y": [
            24.08,
            22.43,
            24.04,
            23.84,
            19.32,
            16.68,
            34.64,
            25.47,
            18.17,
            27.1,
            20.98
           ]
          },
          {
           "hoverinfo": "none",
           "marker": {
            "color": "#CBB67C"
           },
           "mode": "markers",
           "name": "football",
           "type": "scatter",
           "x": [
            67.5899963378906
           ],
           "y": [
            23.7600002288818
           ]
          }
         ],
         "name": "37"
        },
        {
         "data": [
          {
           "hoverinfo": "none",
           "mode": "text",
           "showlegend": false,
           "text": [
            "10",
            "20",
            "30",
            "40",
            "50",
            "40",
            "30",
            "20",
            "10"
           ],
           "textfont": {
            "color": "#ffffff",
            "family": "Courier New, monospace",
            "size": 30
           },
           "type": "scatter",
           "x": [
            20,
            30,
            40,
            50,
            60,
            70,
            80,
            90,
            100
           ],
           "y": [
            5,
            5,
            5,
            5,
            5,
            5,
            5,
            5,
            5
           ]
          },
          {
           "hoverinfo": "none",
           "mode": "text",
           "showlegend": false,
           "text": [
            "10",
            "20",
            "30",
            "40",
            "50",
            "40",
            "30",
            "20",
            "10"
           ],
           "textfont": {
            "color": "#ffffff",
            "family": "Courier New, monospace",
            "size": 30
           },
           "type": "scatter",
           "x": [
            20,
            30,
            40,
            50,
            60,
            70,
            80,
            90,
            100
           ],
           "y": [
            48.5,
            48.5,
            48.5,
            48.5,
            48.5,
            48.5,
            48.5,
            48.5,
            48.5
           ]
          },
          {
           "hoverinfo": "none",
           "line": {
            "color": "blue",
            "dash": "dash"
           },
           "showlegend": false,
           "type": "scatter",
           "x": [
            68,
            68
           ],
           "y": [
            0,
            53.5
           ]
          },
          {
           "hoverinfo": "none",
           "line": {
            "color": "yellow",
            "dash": "dash"
           },
           "showlegend": false,
           "type": "scatter",
           "x": [
            74,
            74
           ],
           "y": [
            0,
            53.5
           ]
          },
          {
           "hoverinfo": "text",
           "hovertext": [
            "nflId:35459.0<br>displayName:Kareem Jackson<br>Route Ran:nan",
            "nflId:40347.0<br>displayName:Mike Purcell<br>Route Ran:nan",
            "nflId:42393.0<br>displayName:Ronald Darby<br>Route Ran:nan",
            "nflId:42826.0<br>displayName:DeShawn Williams<br>Route Ran:nan",
            "nflId:42929.0<br>displayName:Alex Singleton<br>Route Ran:nan",
            "nflId:43387.0<br>displayName:Justin Simmons<br>Route Ran:nan",
            "nflId:46074.0<br>displayName:Bradley Chubb<br>Route Ran:nan",
            "nflId:47854.0<br>displayName:Dre'Mont Jones<br>Route Ran:nan",
            "nflId:52706.0<br>displayName:Jonas Griffith<br>Route Ran:nan",
            "nflId:53438.0<br>displayName:Patrick Surtain<br>Route Ran:nan",
            "nflId:53534.0<br>displayName:Baron Browning<br>Route Ran:nan"
           ],
           "marker": {
            "color": "#FB4F14"
           },
           "mode": "markers",
           "name": "DEN",
           "type": "scatter",
           "x": [
            78.32,
            69.13,
            72.74,
            68.9,
            72.76,
            78.02,
            69.19,
            68.86,
            72.73,
            71.32,
            69.01
           ],
           "y": [
            28.66,
            23.63,
            16.64,
            25.67,
            21.55,
            18.29,
            30.21,
            21.31,
            24.34,
            33.76,
            17.36
           ]
          },
          {
           "hoverinfo": "text",
           "hovertext": [
            "nflId:39987.0<br>displayName:Geno Smith<br>Route Ran:nan",
            "nflId:41310.0<br>displayName:Gabe Jackson<br>Route Ran:nan",
            "nflId:43537.0<br>displayName:Austin Blythe<br>Route Ran:nan",
            "nflId:46096.0<br>displayName:Rashaad Penny<br>Route Ran:nan",
            "nflId:46189.0<br>displayName:Will Dissly<br>Route Ran:nan",
            "nflId:47803.0<br>displayName:Noah Fant<br>Route Ran:nan",
            "nflId:47847.0<br>displayName:DK Metcalf<br>Route Ran:nan",
            "nflId:47907.0<br>displayName:Phil Haynes<br>Route Ran:nan",
            "nflId:52541.0<br>displayName:Colby Parkinson<br>Route Ran:nan",
            "nflId:54474.0<br>displayName:Charles Cross<br>Route Ran:nan",
            "nflId:54537.0<br>displayName:Abraham Lucas<br>Route Ran:nan"
           ],
           "marker": {
            "color": "#69BE28"
           },
           "mode": "markers",
           "name": "SEA",
           "type": "scatter",
           "x": [
            65.71,
            66.79,
            67.47,
            60.18,
            66.55,
            65.12,
            66.28,
            66.87,
            65.75,
            66.51,
            66.65
           ],
           "y": [
            24.08,
            22.42,
            24.04,
            23.85,
            19.33,
            16.68,
            34.73,
            25.47,
            18.24,
            27.11,
            20.98
           ]
          },
          {
           "hoverinfo": "none",
           "marker": {
            "color": "#CBB67C"
           },
           "mode": "markers",
           "name": "football",
           "type": "scatter",
           "x": [
            67.5899963378906
           ],
           "y": [
            23.7600002288818
           ]
          }
         ],
         "name": "38"
        },
        {
         "data": [
          {
           "hoverinfo": "none",
           "mode": "text",
           "showlegend": false,
           "text": [
            "10",
            "20",
            "30",
            "40",
            "50",
            "40",
            "30",
            "20",
            "10"
           ],
           "textfont": {
            "color": "#ffffff",
            "family": "Courier New, monospace",
            "size": 30
           },
           "type": "scatter",
           "x": [
            20,
            30,
            40,
            50,
            60,
            70,
            80,
            90,
            100
           ],
           "y": [
            5,
            5,
            5,
            5,
            5,
            5,
            5,
            5,
            5
           ]
          },
          {
           "hoverinfo": "none",
           "mode": "text",
           "showlegend": false,
           "text": [
            "10",
            "20",
            "30",
            "40",
            "50",
            "40",
            "30",
            "20",
            "10"
           ],
           "textfont": {
            "color": "#ffffff",
            "family": "Courier New, monospace",
            "size": 30
           },
           "type": "scatter",
           "x": [
            20,
            30,
            40,
            50,
            60,
            70,
            80,
            90,
            100
           ],
           "y": [
            48.5,
            48.5,
            48.5,
            48.5,
            48.5,
            48.5,
            48.5,
            48.5,
            48.5
           ]
          },
          {
           "hoverinfo": "none",
           "line": {
            "color": "blue",
            "dash": "dash"
           },
           "showlegend": false,
           "type": "scatter",
           "x": [
            68,
            68
           ],
           "y": [
            0,
            53.5
           ]
          },
          {
           "hoverinfo": "none",
           "line": {
            "color": "yellow",
            "dash": "dash"
           },
           "showlegend": false,
           "type": "scatter",
           "x": [
            74,
            74
           ],
           "y": [
            0,
            53.5
           ]
          },
          {
           "hoverinfo": "text",
           "hovertext": [
            "nflId:35459.0<br>displayName:Kareem Jackson<br>Route Ran:nan",
            "nflId:40347.0<br>displayName:Mike Purcell<br>Route Ran:nan",
            "nflId:42393.0<br>displayName:Ronald Darby<br>Route Ran:nan",
            "nflId:42826.0<br>displayName:DeShawn Williams<br>Route Ran:nan",
            "nflId:42929.0<br>displayName:Alex Singleton<br>Route Ran:nan",
            "nflId:43387.0<br>displayName:Justin Simmons<br>Route Ran:nan",
            "nflId:46074.0<br>displayName:Bradley Chubb<br>Route Ran:nan",
            "nflId:47854.0<br>displayName:Dre'Mont Jones<br>Route Ran:nan",
            "nflId:52706.0<br>displayName:Jonas Griffith<br>Route Ran:nan",
            "nflId:53438.0<br>displayName:Patrick Surtain<br>Route Ran:nan",
            "nflId:53534.0<br>displayName:Baron Browning<br>Route Ran:nan"
           ],
           "marker": {
            "color": "#FB4F14"
           },
           "mode": "markers",
           "name": "DEN",
           "type": "scatter",
           "x": [
            78.38,
            69.1,
            72.8,
            68.88,
            72.73,
            78.03,
            69.19,
            68.85,
            72.74,
            71.27,
            68.98
           ],
           "y": [
            28.67,
            23.62,
            16.46,
            25.68,
            21.44,
            18.26,
            30.22,
            21.2,
            24.32,
            33.92,
            17.25
           ]
          },
          {
           "hoverinfo": "text",
           "hovertext": [
            "nflId:39987.0<br>displayName:Geno Smith<br>Route Ran:nan",
            "nflId:41310.0<br>displayName:Gabe Jackson<br>Route Ran:nan",
            "nflId:43537.0<br>displayName:Austin Blythe<br>Route Ran:nan",
            "nflId:46096.0<br>displayName:Rashaad Penny<br>Route Ran:nan",
            "nflId:46189.0<br>displayName:Will Dissly<br>Route Ran:nan",
            "nflId:47803.0<br>displayName:Noah Fant<br>Route Ran:nan",
            "nflId:47847.0<br>displayName:DK Metcalf<br>Route Ran:nan",
            "nflId:47907.0<br>displayName:Phil Haynes<br>Route Ran:nan",
            "nflId:52541.0<br>displayName:Colby Parkinson<br>Route Ran:nan",
            "nflId:54474.0<br>displayName:Charles Cross<br>Route Ran:nan",
            "nflId:54537.0<br>displayName:Abraham Lucas<br>Route Ran:nan"
           ],
           "marker": {
            "color": "#69BE28"
           },
           "mode": "markers",
           "name": "SEA",
           "type": "scatter",
           "x": [
            65.78,
            66.77,
            67.47,
            60.19,
            66.56,
            65.18,
            66.37,
            66.87,
            65.78,
            66.51,
            66.64
           ],
           "y": [
            24.08,
            22.42,
            24.04,
            23.86,
            19.34,
            16.69,
            34.81,
            25.47,
            18.3,
            27.12,
            20.97
           ]
          },
          {
           "hoverinfo": "none",
           "marker": {
            "color": "#CBB67C"
           },
           "mode": "markers",
           "name": "football",
           "type": "scatter",
           "x": [
            67.5899963378906
           ],
           "y": [
            23.7700004577637
           ]
          }
         ],
         "name": "39"
        },
        {
         "data": [
          {
           "hoverinfo": "none",
           "mode": "text",
           "showlegend": false,
           "text": [
            "10",
            "20",
            "30",
            "40",
            "50",
            "40",
            "30",
            "20",
            "10"
           ],
           "textfont": {
            "color": "#ffffff",
            "family": "Courier New, monospace",
            "size": 30
           },
           "type": "scatter",
           "x": [
            20,
            30,
            40,
            50,
            60,
            70,
            80,
            90,
            100
           ],
           "y": [
            5,
            5,
            5,
            5,
            5,
            5,
            5,
            5,
            5
           ]
          },
          {
           "hoverinfo": "none",
           "mode": "text",
           "showlegend": false,
           "text": [
            "10",
            "20",
            "30",
            "40",
            "50",
            "40",
            "30",
            "20",
            "10"
           ],
           "textfont": {
            "color": "#ffffff",
            "family": "Courier New, monospace",
            "size": 30
           },
           "type": "scatter",
           "x": [
            20,
            30,
            40,
            50,
            60,
            70,
            80,
            90,
            100
           ],
           "y": [
            48.5,
            48.5,
            48.5,
            48.5,
            48.5,
            48.5,
            48.5,
            48.5,
            48.5
           ]
          },
          {
           "hoverinfo": "none",
           "line": {
            "color": "blue",
            "dash": "dash"
           },
           "showlegend": false,
           "type": "scatter",
           "x": [
            68,
            68
           ],
           "y": [
            0,
            53.5
           ]
          },
          {
           "hoverinfo": "none",
           "line": {
            "color": "yellow",
            "dash": "dash"
           },
           "showlegend": false,
           "type": "scatter",
           "x": [
            74,
            74
           ],
           "y": [
            0,
            53.5
           ]
          },
          {
           "hoverinfo": "text",
           "hovertext": [
            "nflId:35459.0<br>displayName:Kareem Jackson<br>Route Ran:nan",
            "nflId:40347.0<br>displayName:Mike Purcell<br>Route Ran:nan",
            "nflId:42393.0<br>displayName:Ronald Darby<br>Route Ran:nan",
            "nflId:42826.0<br>displayName:DeShawn Williams<br>Route Ran:nan",
            "nflId:42929.0<br>displayName:Alex Singleton<br>Route Ran:nan",
            "nflId:43387.0<br>displayName:Justin Simmons<br>Route Ran:nan",
            "nflId:46074.0<br>displayName:Bradley Chubb<br>Route Ran:nan",
            "nflId:47854.0<br>displayName:Dre'Mont Jones<br>Route Ran:nan",
            "nflId:52706.0<br>displayName:Jonas Griffith<br>Route Ran:nan",
            "nflId:53438.0<br>displayName:Patrick Surtain<br>Route Ran:nan",
            "nflId:53534.0<br>displayName:Baron Browning<br>Route Ran:nan"
           ],
           "marker": {
            "color": "#FB4F14"
           },
           "mode": "markers",
           "name": "DEN",
           "type": "scatter",
           "x": [
            78.45,
            69.06,
            72.86,
            68.86,
            72.7,
            78.03,
            69.19,
            68.84,
            72.76,
            71.22,
            68.94
           ],
           "y": [
            28.67,
            23.61,
            16.29,
            25.7,
            21.33,
            18.23,
            30.23,
            21.11,
            24.32,
            34.08,
            17.14
           ]
          },
          {
           "hoverinfo": "text",
           "hovertext": [
            "nflId:39987.0<br>displayName:Geno Smith<br>Route Ran:nan",
            "nflId:41310.0<br>displayName:Gabe Jackson<br>Route Ran:nan",
            "nflId:43537.0<br>displayName:Austin Blythe<br>Route Ran:nan",
            "nflId:46096.0<br>displayName:Rashaad Penny<br>Route Ran:nan",
            "nflId:46189.0<br>displayName:Will Dissly<br>Route Ran:nan",
            "nflId:47803.0<br>displayName:Noah Fant<br>Route Ran:nan",
            "nflId:47847.0<br>displayName:DK Metcalf<br>Route Ran:nan",
            "nflId:47907.0<br>displayName:Phil Haynes<br>Route Ran:nan",
            "nflId:52541.0<br>displayName:Colby Parkinson<br>Route Ran:nan",
            "nflId:54474.0<br>displayName:Charles Cross<br>Route Ran:nan",
            "nflId:54537.0<br>displayName:Abraham Lucas<br>Route Ran:nan"
           ],
           "marker": {
            "color": "#69BE28"
           },
           "mode": "markers",
           "name": "SEA",
           "type": "scatter",
           "x": [
            65.84,
            66.76,
            67.47,
            60.2,
            66.57,
            65.24,
            66.46,
            66.88,
            65.8,
            66.51,
            66.63
           ],
           "y": [
            24.09,
            22.42,
            24.05,
            23.86,
            19.36,
            16.72,
            34.87,
            25.48,
            18.35,
            27.12,
            20.97
           ]
          },
          {
           "hoverinfo": "none",
           "marker": {
            "color": "#CBB67C"
           },
           "mode": "markers",
           "name": "football",
           "type": "scatter",
           "x": [
            67.5899963378906
           ],
           "y": [
            23.7700004577637
           ]
          }
         ],
         "name": "40"
        },
        {
         "data": [
          {
           "hoverinfo": "none",
           "mode": "text",
           "showlegend": false,
           "text": [
            "10",
            "20",
            "30",
            "40",
            "50",
            "40",
            "30",
            "20",
            "10"
           ],
           "textfont": {
            "color": "#ffffff",
            "family": "Courier New, monospace",
            "size": 30
           },
           "type": "scatter",
           "x": [
            20,
            30,
            40,
            50,
            60,
            70,
            80,
            90,
            100
           ],
           "y": [
            5,
            5,
            5,
            5,
            5,
            5,
            5,
            5,
            5
           ]
          },
          {
           "hoverinfo": "none",
           "mode": "text",
           "showlegend": false,
           "text": [
            "10",
            "20",
            "30",
            "40",
            "50",
            "40",
            "30",
            "20",
            "10"
           ],
           "textfont": {
            "color": "#ffffff",
            "family": "Courier New, monospace",
            "size": 30
           },
           "type": "scatter",
           "x": [
            20,
            30,
            40,
            50,
            60,
            70,
            80,
            90,
            100
           ],
           "y": [
            48.5,
            48.5,
            48.5,
            48.5,
            48.5,
            48.5,
            48.5,
            48.5,
            48.5
           ]
          },
          {
           "hoverinfo": "none",
           "line": {
            "color": "blue",
            "dash": "dash"
           },
           "showlegend": false,
           "type": "scatter",
           "x": [
            68,
            68
           ],
           "y": [
            0,
            53.5
           ]
          },
          {
           "hoverinfo": "none",
           "line": {
            "color": "yellow",
            "dash": "dash"
           },
           "showlegend": false,
           "type": "scatter",
           "x": [
            74,
            74
           ],
           "y": [
            0,
            53.5
           ]
          },
          {
           "hoverinfo": "text",
           "hovertext": [
            "nflId:35459.0<br>displayName:Kareem Jackson<br>Route Ran:nan",
            "nflId:40347.0<br>displayName:Mike Purcell<br>Route Ran:nan",
            "nflId:42393.0<br>displayName:Ronald Darby<br>Route Ran:nan",
            "nflId:42826.0<br>displayName:DeShawn Williams<br>Route Ran:nan",
            "nflId:42929.0<br>displayName:Alex Singleton<br>Route Ran:nan",
            "nflId:43387.0<br>displayName:Justin Simmons<br>Route Ran:nan",
            "nflId:46074.0<br>displayName:Bradley Chubb<br>Route Ran:nan",
            "nflId:47854.0<br>displayName:Dre'Mont Jones<br>Route Ran:nan",
            "nflId:52706.0<br>displayName:Jonas Griffith<br>Route Ran:nan",
            "nflId:53438.0<br>displayName:Patrick Surtain<br>Route Ran:nan",
            "nflId:53534.0<br>displayName:Baron Browning<br>Route Ran:nan"
           ],
           "marker": {
            "color": "#FB4F14"
           },
           "mode": "markers",
           "name": "DEN",
           "type": "scatter",
           "x": [
            78.51,
            69.03,
            72.93,
            68.85,
            72.68,
            78.02,
            69.18,
            68.83,
            72.78,
            71.16,
            68.9
           ],
           "y": [
            28.67,
            23.59,
            16.13,
            25.73,
            21.23,
            18.2,
            30.24,
            21.03,
            24.33,
            34.23,
            17.03
           ]
          },
          {
           "hoverinfo": "text",
           "hovertext": [
            "nflId:39987.0<br>displayName:Geno Smith<br>Route Ran:nan",
            "nflId:41310.0<br>displayName:Gabe Jackson<br>Route Ran:nan",
            "nflId:43537.0<br>displayName:Austin Blythe<br>Route Ran:nan",
            "nflId:46096.0<br>displayName:Rashaad Penny<br>Route Ran:nan",
            "nflId:46189.0<br>displayName:Will Dissly<br>Route Ran:nan",
            "nflId:47803.0<br>displayName:Noah Fant<br>Route Ran:nan",
            "nflId:47847.0<br>displayName:DK Metcalf<br>Route Ran:nan",
            "nflId:47907.0<br>displayName:Phil Haynes<br>Route Ran:nan",
            "nflId:52541.0<br>displayName:Colby Parkinson<br>Route Ran:nan",
            "nflId:54474.0<br>displayName:Charles Cross<br>Route Ran:nan",
            "nflId:54537.0<br>displayName:Abraham Lucas<br>Route Ran:nan"
           ],
           "marker": {
            "color": "#69BE28"
           },
           "mode": "markers",
           "name": "SEA",
           "type": "scatter",
           "x": [
            65.9,
            66.75,
            67.46,
            60.21,
            66.58,
            65.3,
            66.54,
            66.88,
            65.81,
            66.52,
            66.63
           ],
           "y": [
            24.1,
            22.43,
            24.05,
            23.87,
            19.37,
            16.76,
            34.93,
            25.48,
            18.4,
            27.12,
            20.96
           ]
          },
          {
           "hoverinfo": "none",
           "marker": {
            "color": "#CBB67C"
           },
           "mode": "markers",
           "name": "football",
           "type": "scatter",
           "x": [
            67.5899963378906
           ],
           "y": [
            23.7700004577637
           ]
          }
         ],
         "name": "41"
        },
        {
         "data": [
          {
           "hoverinfo": "none",
           "mode": "text",
           "showlegend": false,
           "text": [
            "10",
            "20",
            "30",
            "40",
            "50",
            "40",
            "30",
            "20",
            "10"
           ],
           "textfont": {
            "color": "#ffffff",
            "family": "Courier New, monospace",
            "size": 30
           },
           "type": "scatter",
           "x": [
            20,
            30,
            40,
            50,
            60,
            70,
            80,
            90,
            100
           ],
           "y": [
            5,
            5,
            5,
            5,
            5,
            5,
            5,
            5,
            5
           ]
          },
          {
           "hoverinfo": "none",
           "mode": "text",
           "showlegend": false,
           "text": [
            "10",
            "20",
            "30",
            "40",
            "50",
            "40",
            "30",
            "20",
            "10"
           ],
           "textfont": {
            "color": "#ffffff",
            "family": "Courier New, monospace",
            "size": 30
           },
           "type": "scatter",
           "x": [
            20,
            30,
            40,
            50,
            60,
            70,
            80,
            90,
            100
           ],
           "y": [
            48.5,
            48.5,
            48.5,
            48.5,
            48.5,
            48.5,
            48.5,
            48.5,
            48.5
           ]
          },
          {
           "hoverinfo": "none",
           "line": {
            "color": "blue",
            "dash": "dash"
           },
           "showlegend": false,
           "type": "scatter",
           "x": [
            68,
            68
           ],
           "y": [
            0,
            53.5
           ]
          },
          {
           "hoverinfo": "none",
           "line": {
            "color": "yellow",
            "dash": "dash"
           },
           "showlegend": false,
           "type": "scatter",
           "x": [
            74,
            74
           ],
           "y": [
            0,
            53.5
           ]
          },
          {
           "hoverinfo": "text",
           "hovertext": [
            "nflId:35459.0<br>displayName:Kareem Jackson<br>Route Ran:nan",
            "nflId:40347.0<br>displayName:Mike Purcell<br>Route Ran:nan",
            "nflId:42393.0<br>displayName:Ronald Darby<br>Route Ran:nan",
            "nflId:42826.0<br>displayName:DeShawn Williams<br>Route Ran:nan",
            "nflId:42929.0<br>displayName:Alex Singleton<br>Route Ran:nan",
            "nflId:43387.0<br>displayName:Justin Simmons<br>Route Ran:nan",
            "nflId:46074.0<br>displayName:Bradley Chubb<br>Route Ran:nan",
            "nflId:47854.0<br>displayName:Dre'Mont Jones<br>Route Ran:nan",
            "nflId:52706.0<br>displayName:Jonas Griffith<br>Route Ran:nan",
            "nflId:53438.0<br>displayName:Patrick Surtain<br>Route Ran:nan",
            "nflId:53534.0<br>displayName:Baron Browning<br>Route Ran:nan"
           ],
           "marker": {
            "color": "#FB4F14"
           },
           "mode": "markers",
           "name": "DEN",
           "type": "scatter",
           "x": [
            78.58,
            68.98,
            72.99,
            68.83,
            72.65,
            78.01,
            69.17,
            68.82,
            72.81,
            71.09,
            68.84
           ],
           "y": [
            28.67,
            23.57,
            16,
            25.74,
            21.14,
            18.17,
            30.24,
            20.95,
            24.35,
            34.37,
            16.94
           ]
          },
          {
           "hoverinfo": "text",
           "hovertext": [
            "nflId:39987.0<br>displayName:Geno Smith<br>Route Ran:nan",
            "nflId:41310.0<br>displayName:Gabe Jackson<br>Route Ran:nan",
            "nflId:43537.0<br>displayName:Austin Blythe<br>Route Ran:nan",
            "nflId:46096.0<br>displayName:Rashaad Penny<br>Route Ran:nan",
            "nflId:46189.0<br>displayName:Will Dissly<br>Route Ran:nan",
            "nflId:47803.0<br>displayName:Noah Fant<br>Route Ran:nan",
            "nflId:47847.0<br>displayName:DK Metcalf<br>Route Ran:nan",
            "nflId:47907.0<br>displayName:Phil Haynes<br>Route Ran:nan",
            "nflId:52541.0<br>displayName:Colby Parkinson<br>Route Ran:nan",
            "nflId:54474.0<br>displayName:Charles Cross<br>Route Ran:nan",
            "nflId:54537.0<br>displayName:Abraham Lucas<br>Route Ran:nan"
           ],
           "marker": {
            "color": "#69BE28"
           },
           "mode": "markers",
           "name": "SEA",
           "type": "scatter",
           "x": [
            65.96,
            66.74,
            67.46,
            60.22,
            66.58,
            65.35,
            66.62,
            66.88,
            65.82,
            66.53,
            66.62
           ],
           "y": [
            24.11,
            22.43,
            24.05,
            23.87,
            19.37,
            16.8,
            34.98,
            25.48,
            18.43,
            27.13,
            20.96
           ]
          },
          {
           "hoverinfo": "none",
           "marker": {
            "color": "#CBB67C"
           },
           "mode": "markers",
           "name": "football",
           "type": "scatter",
           "x": [
            67.5899963378906
           ],
           "y": [
            23.7800006866455
           ]
          }
         ],
         "name": "42"
        },
        {
         "data": [
          {
           "hoverinfo": "none",
           "mode": "text",
           "showlegend": false,
           "text": [
            "10",
            "20",
            "30",
            "40",
            "50",
            "40",
            "30",
            "20",
            "10"
           ],
           "textfont": {
            "color": "#ffffff",
            "family": "Courier New, monospace",
            "size": 30
           },
           "type": "scatter",
           "x": [
            20,
            30,
            40,
            50,
            60,
            70,
            80,
            90,
            100
           ],
           "y": [
            5,
            5,
            5,
            5,
            5,
            5,
            5,
            5,
            5
           ]
          },
          {
           "hoverinfo": "none",
           "mode": "text",
           "showlegend": false,
           "text": [
            "10",
            "20",
            "30",
            "40",
            "50",
            "40",
            "30",
            "20",
            "10"
           ],
           "textfont": {
            "color": "#ffffff",
            "family": "Courier New, monospace",
            "size": 30
           },
           "type": "scatter",
           "x": [
            20,
            30,
            40,
            50,
            60,
            70,
            80,
            90,
            100
           ],
           "y": [
            48.5,
            48.5,
            48.5,
            48.5,
            48.5,
            48.5,
            48.5,
            48.5,
            48.5
           ]
          },
          {
           "hoverinfo": "none",
           "line": {
            "color": "blue",
            "dash": "dash"
           },
           "showlegend": false,
           "type": "scatter",
           "x": [
            68,
            68
           ],
           "y": [
            0,
            53.5
           ]
          },
          {
           "hoverinfo": "none",
           "line": {
            "color": "yellow",
            "dash": "dash"
           },
           "showlegend": false,
           "type": "scatter",
           "x": [
            74,
            74
           ],
           "y": [
            0,
            53.5
           ]
          },
          {
           "hoverinfo": "text",
           "hovertext": [
            "nflId:35459.0<br>displayName:Kareem Jackson<br>Route Ran:nan",
            "nflId:40347.0<br>displayName:Mike Purcell<br>Route Ran:nan",
            "nflId:42393.0<br>displayName:Ronald Darby<br>Route Ran:nan",
            "nflId:42826.0<br>displayName:DeShawn Williams<br>Route Ran:nan",
            "nflId:42929.0<br>displayName:Alex Singleton<br>Route Ran:nan",
            "nflId:43387.0<br>displayName:Justin Simmons<br>Route Ran:nan",
            "nflId:46074.0<br>displayName:Bradley Chubb<br>Route Ran:nan",
            "nflId:47854.0<br>displayName:Dre'Mont Jones<br>Route Ran:nan",
            "nflId:52706.0<br>displayName:Jonas Griffith<br>Route Ran:nan",
            "nflId:53438.0<br>displayName:Patrick Surtain<br>Route Ran:nan",
            "nflId:53534.0<br>displayName:Baron Browning<br>Route Ran:nan"
           ],
           "marker": {
            "color": "#FB4F14"
           },
           "mode": "markers",
           "name": "DEN",
           "type": "scatter",
           "x": [
            78.64,
            68.94,
            73.05,
            68.82,
            72.63,
            78,
            69.16,
            68.81,
            72.83,
            71.02,
            68.79
           ],
           "y": [
            28.65,
            23.55,
            15.88,
            25.75,
            21.06,
            18.14,
            30.24,
            20.89,
            24.38,
            34.5,
            16.85
           ]
          },
          {
           "hoverinfo": "text",
           "hovertext": [
            "nflId:39987.0<br>displayName:Geno Smith<br>Route Ran:nan",
            "nflId:41310.0<br>displayName:Gabe Jackson<br>Route Ran:nan",
            "nflId:43537.0<br>displayName:Austin Blythe<br>Route Ran:nan",
            "nflId:46096.0<br>displayName:Rashaad Penny<br>Route Ran:nan",
            "nflId:46189.0<br>displayName:Will Dissly<br>Route Ran:nan",
            "nflId:47803.0<br>displayName:Noah Fant<br>Route Ran:nan",
            "nflId:47847.0<br>displayName:DK Metcalf<br>Route Ran:nan",
            "nflId:47907.0<br>displayName:Phil Haynes<br>Route Ran:nan",
            "nflId:52541.0<br>displayName:Colby Parkinson<br>Route Ran:nan",
            "nflId:54474.0<br>displayName:Charles Cross<br>Route Ran:nan",
            "nflId:54537.0<br>displayName:Abraham Lucas<br>Route Ran:nan"
           ],
           "marker": {
            "color": "#69BE28"
           },
           "mode": "markers",
           "name": "SEA",
           "type": "scatter",
           "x": [
            66.02,
            66.72,
            67.46,
            60.22,
            66.59,
            65.4,
            66.68,
            66.89,
            65.83,
            66.53,
            66.61
           ],
           "y": [
            24.11,
            22.44,
            24.05,
            23.88,
            19.38,
            16.84,
            35.01,
            25.48,
            18.46,
            27.13,
            20.96
           ]
          },
          {
           "hoverinfo": "none",
           "marker": {
            "color": "#CBB67C"
           },
           "mode": "markers",
           "name": "football",
           "type": "scatter",
           "x": [
            67.5899963378906
           ],
           "y": [
            23.7800006866455
           ]
          }
         ],
         "name": "43"
        },
        {
         "data": [
          {
           "hoverinfo": "none",
           "mode": "text",
           "showlegend": false,
           "text": [
            "10",
            "20",
            "30",
            "40",
            "50",
            "40",
            "30",
            "20",
            "10"
           ],
           "textfont": {
            "color": "#ffffff",
            "family": "Courier New, monospace",
            "size": 30
           },
           "type": "scatter",
           "x": [
            20,
            30,
            40,
            50,
            60,
            70,
            80,
            90,
            100
           ],
           "y": [
            5,
            5,
            5,
            5,
            5,
            5,
            5,
            5,
            5
           ]
          },
          {
           "hoverinfo": "none",
           "mode": "text",
           "showlegend": false,
           "text": [
            "10",
            "20",
            "30",
            "40",
            "50",
            "40",
            "30",
            "20",
            "10"
           ],
           "textfont": {
            "color": "#ffffff",
            "family": "Courier New, monospace",
            "size": 30
           },
           "type": "scatter",
           "x": [
            20,
            30,
            40,
            50,
            60,
            70,
            80,
            90,
            100
           ],
           "y": [
            48.5,
            48.5,
            48.5,
            48.5,
            48.5,
            48.5,
            48.5,
            48.5,
            48.5
           ]
          },
          {
           "hoverinfo": "none",
           "line": {
            "color": "blue",
            "dash": "dash"
           },
           "showlegend": false,
           "type": "scatter",
           "x": [
            68,
            68
           ],
           "y": [
            0,
            53.5
           ]
          },
          {
           "hoverinfo": "none",
           "line": {
            "color": "yellow",
            "dash": "dash"
           },
           "showlegend": false,
           "type": "scatter",
           "x": [
            74,
            74
           ],
           "y": [
            0,
            53.5
           ]
          },
          {
           "hoverinfo": "text",
           "hovertext": [
            "nflId:35459.0<br>displayName:Kareem Jackson<br>Route Ran:nan",
            "nflId:40347.0<br>displayName:Mike Purcell<br>Route Ran:nan",
            "nflId:42393.0<br>displayName:Ronald Darby<br>Route Ran:nan",
            "nflId:42826.0<br>displayName:DeShawn Williams<br>Route Ran:nan",
            "nflId:42929.0<br>displayName:Alex Singleton<br>Route Ran:nan",
            "nflId:43387.0<br>displayName:Justin Simmons<br>Route Ran:nan",
            "nflId:46074.0<br>displayName:Bradley Chubb<br>Route Ran:nan",
            "nflId:47854.0<br>displayName:Dre'Mont Jones<br>Route Ran:nan",
            "nflId:52706.0<br>displayName:Jonas Griffith<br>Route Ran:nan",
            "nflId:53438.0<br>displayName:Patrick Surtain<br>Route Ran:nan",
            "nflId:53534.0<br>displayName:Baron Browning<br>Route Ran:nan"
           ],
           "marker": {
            "color": "#FB4F14"
           },
           "mode": "markers",
           "name": "DEN",
           "type": "scatter",
           "x": [
            78.7,
            68.9,
            73.12,
            68.81,
            72.6,
            77.98,
            69.14,
            68.81,
            72.86,
            70.94,
            68.73
           ],
           "y": [
            28.64,
            23.53,
            15.78,
            25.76,
            20.98,
            18.1,
            30.23,
            20.83,
            24.41,
            34.61,
            16.76
           ]
          },
          {
           "hoverinfo": "text",
           "hovertext": [
            "nflId:39987.0<br>displayName:Geno Smith<br>Route Ran:nan",
            "nflId:41310.0<br>displayName:Gabe Jackson<br>Route Ran:nan",
            "nflId:43537.0<br>displayName:Austin Blythe<br>Route Ran:nan",
            "nflId:46096.0<br>displayName:Rashaad Penny<br>Route Ran:nan",
            "nflId:46189.0<br>displayName:Will Dissly<br>Route Ran:nan",
            "nflId:47803.0<br>displayName:Noah Fant<br>Route Ran:nan",
            "nflId:47847.0<br>displayName:DK Metcalf<br>Route Ran:nan",
            "nflId:47907.0<br>displayName:Phil Haynes<br>Route Ran:nan",
            "nflId:52541.0<br>displayName:Colby Parkinson<br>Route Ran:nan",
            "nflId:54474.0<br>displayName:Charles Cross<br>Route Ran:nan",
            "nflId:54537.0<br>displayName:Abraham Lucas<br>Route Ran:nan"
           ],
           "marker": {
            "color": "#69BE28"
           },
           "mode": "markers",
           "name": "SEA",
           "type": "scatter",
           "x": [
            66.07,
            66.71,
            67.46,
            60.23,
            66.59,
            65.45,
            66.73,
            66.89,
            65.83,
            66.53,
            66.61
           ],
           "y": [
            24.12,
            22.44,
            24.06,
            23.88,
            19.39,
            16.89,
            35.05,
            25.48,
            18.47,
            27.14,
            20.95
           ]
          },
          {
           "hoverinfo": "none",
           "marker": {
            "color": "#CBB67C"
           },
           "mode": "markers",
           "name": "football",
           "type": "scatter",
           "x": [
            67.5899963378906
           ],
           "y": [
            23.7800006866455
           ]
          }
         ],
         "name": "44"
        },
        {
         "data": [
          {
           "hoverinfo": "none",
           "mode": "text",
           "showlegend": false,
           "text": [
            "10",
            "20",
            "30",
            "40",
            "50",
            "40",
            "30",
            "20",
            "10"
           ],
           "textfont": {
            "color": "#ffffff",
            "family": "Courier New, monospace",
            "size": 30
           },
           "type": "scatter",
           "x": [
            20,
            30,
            40,
            50,
            60,
            70,
            80,
            90,
            100
           ],
           "y": [
            5,
            5,
            5,
            5,
            5,
            5,
            5,
            5,
            5
           ]
          },
          {
           "hoverinfo": "none",
           "mode": "text",
           "showlegend": false,
           "text": [
            "10",
            "20",
            "30",
            "40",
            "50",
            "40",
            "30",
            "20",
            "10"
           ],
           "textfont": {
            "color": "#ffffff",
            "family": "Courier New, monospace",
            "size": 30
           },
           "type": "scatter",
           "x": [
            20,
            30,
            40,
            50,
            60,
            70,
            80,
            90,
            100
           ],
           "y": [
            48.5,
            48.5,
            48.5,
            48.5,
            48.5,
            48.5,
            48.5,
            48.5,
            48.5
           ]
          },
          {
           "hoverinfo": "none",
           "line": {
            "color": "blue",
            "dash": "dash"
           },
           "showlegend": false,
           "type": "scatter",
           "x": [
            68,
            68
           ],
           "y": [
            0,
            53.5
           ]
          },
          {
           "hoverinfo": "none",
           "line": {
            "color": "yellow",
            "dash": "dash"
           },
           "showlegend": false,
           "type": "scatter",
           "x": [
            74,
            74
           ],
           "y": [
            0,
            53.5
           ]
          },
          {
           "hoverinfo": "text",
           "hovertext": [
            "nflId:35459.0<br>displayName:Kareem Jackson<br>Route Ran:nan",
            "nflId:40347.0<br>displayName:Mike Purcell<br>Route Ran:nan",
            "nflId:42393.0<br>displayName:Ronald Darby<br>Route Ran:nan",
            "nflId:42826.0<br>displayName:DeShawn Williams<br>Route Ran:nan",
            "nflId:42929.0<br>displayName:Alex Singleton<br>Route Ran:nan",
            "nflId:43387.0<br>displayName:Justin Simmons<br>Route Ran:nan",
            "nflId:46074.0<br>displayName:Bradley Chubb<br>Route Ran:nan",
            "nflId:47854.0<br>displayName:Dre'Mont Jones<br>Route Ran:nan",
            "nflId:52706.0<br>displayName:Jonas Griffith<br>Route Ran:nan",
            "nflId:53438.0<br>displayName:Patrick Surtain<br>Route Ran:nan",
            "nflId:53534.0<br>displayName:Baron Browning<br>Route Ran:nan"
           ],
           "marker": {
            "color": "#FB4F14"
           },
           "mode": "markers",
           "name": "DEN",
           "type": "scatter",
           "x": [
            78.76,
            68.85,
            73.17,
            68.8,
            72.58,
            77.95,
            69.12,
            68.81,
            72.87,
            70.85,
            68.67
           ],
           "y": [
            28.63,
            23.51,
            15.69,
            25.76,
            20.9,
            18.07,
            30.23,
            20.77,
            24.44,
            34.72,
            16.67
           ]
          },
          {
           "hoverinfo": "text",
           "hovertext": [
            "nflId:39987.0<br>displayName:Geno Smith<br>Route Ran:nan",
            "nflId:41310.0<br>displayName:Gabe Jackson<br>Route Ran:nan",
            "nflId:43537.0<br>displayName:Austin Blythe<br>Route Ran:nan",
            "nflId:46096.0<br>displayName:Rashaad Penny<br>Route Ran:nan",
            "nflId:46189.0<br>displayName:Will Dissly<br>Route Ran:nan",
            "nflId:47803.0<br>displayName:Noah Fant<br>Route Ran:nan",
            "nflId:47847.0<br>displayName:DK Metcalf<br>Route Ran:nan",
            "nflId:47907.0<br>displayName:Phil Haynes<br>Route Ran:nan",
            "nflId:52541.0<br>displayName:Colby Parkinson<br>Route Ran:nan",
            "nflId:54474.0<br>displayName:Charles Cross<br>Route Ran:nan",
            "nflId:54537.0<br>displayName:Abraham Lucas<br>Route Ran:nan"
           ],
           "marker": {
            "color": "#69BE28"
           },
           "mode": "markers",
           "name": "SEA",
           "type": "scatter",
           "x": [
            66.13,
            66.7,
            67.47,
            60.23,
            66.6,
            65.49,
            66.76,
            66.9,
            65.84,
            66.54,
            66.61
           ],
           "y": [
            24.12,
            22.46,
            24.06,
            23.87,
            19.39,
            16.92,
            35.08,
            25.48,
            18.48,
            27.14,
            20.95
           ]
          },
          {
           "hoverinfo": "none",
           "marker": {
            "color": "#CBB67C"
           },
           "mode": "markers",
           "name": "football",
           "type": "scatter",
           "x": [
            67.5999984741211
           ],
           "y": [
            23.7800006866455
           ]
          }
         ],
         "name": "45"
        },
        {
         "data": [
          {
           "hoverinfo": "none",
           "mode": "text",
           "showlegend": false,
           "text": [
            "10",
            "20",
            "30",
            "40",
            "50",
            "40",
            "30",
            "20",
            "10"
           ],
           "textfont": {
            "color": "#ffffff",
            "family": "Courier New, monospace",
            "size": 30
           },
           "type": "scatter",
           "x": [
            20,
            30,
            40,
            50,
            60,
            70,
            80,
            90,
            100
           ],
           "y": [
            5,
            5,
            5,
            5,
            5,
            5,
            5,
            5,
            5
           ]
          },
          {
           "hoverinfo": "none",
           "mode": "text",
           "showlegend": false,
           "text": [
            "10",
            "20",
            "30",
            "40",
            "50",
            "40",
            "30",
            "20",
            "10"
           ],
           "textfont": {
            "color": "#ffffff",
            "family": "Courier New, monospace",
            "size": 30
           },
           "type": "scatter",
           "x": [
            20,
            30,
            40,
            50,
            60,
            70,
            80,
            90,
            100
           ],
           "y": [
            48.5,
            48.5,
            48.5,
            48.5,
            48.5,
            48.5,
            48.5,
            48.5,
            48.5
           ]
          },
          {
           "hoverinfo": "none",
           "line": {
            "color": "blue",
            "dash": "dash"
           },
           "showlegend": false,
           "type": "scatter",
           "x": [
            68,
            68
           ],
           "y": [
            0,
            53.5
           ]
          },
          {
           "hoverinfo": "none",
           "line": {
            "color": "yellow",
            "dash": "dash"
           },
           "showlegend": false,
           "type": "scatter",
           "x": [
            74,
            74
           ],
           "y": [
            0,
            53.5
           ]
          },
          {
           "hoverinfo": "text",
           "hovertext": [
            "nflId:35459.0<br>displayName:Kareem Jackson<br>Route Ran:nan",
            "nflId:40347.0<br>displayName:Mike Purcell<br>Route Ran:nan",
            "nflId:42393.0<br>displayName:Ronald Darby<br>Route Ran:nan",
            "nflId:42826.0<br>displayName:DeShawn Williams<br>Route Ran:nan",
            "nflId:42929.0<br>displayName:Alex Singleton<br>Route Ran:nan",
            "nflId:43387.0<br>displayName:Justin Simmons<br>Route Ran:nan",
            "nflId:46074.0<br>displayName:Bradley Chubb<br>Route Ran:nan",
            "nflId:47854.0<br>displayName:Dre'Mont Jones<br>Route Ran:nan",
            "nflId:52706.0<br>displayName:Jonas Griffith<br>Route Ran:nan",
            "nflId:53438.0<br>displayName:Patrick Surtain<br>Route Ran:nan",
            "nflId:53534.0<br>displayName:Baron Browning<br>Route Ran:nan"
           ],
           "marker": {
            "color": "#FB4F14"
           },
           "mode": "markers",
           "name": "DEN",
           "type": "scatter",
           "x": [
            78.82,
            68.8,
            73.23,
            68.79,
            72.57,
            77.91,
            69.08,
            68.8,
            72.89,
            70.76,
            68.61
           ],
           "y": [
            28.61,
            23.48,
            15.61,
            25.76,
            20.83,
            18.04,
            30.22,
            20.72,
            24.47,
            34.82,
            16.58
           ]
          },
          {
           "hoverinfo": "text",
           "hovertext": [
            "nflId:39987.0<br>displayName:Geno Smith<br>Route Ran:nan",
            "nflId:41310.0<br>displayName:Gabe Jackson<br>Route Ran:nan",
            "nflId:43537.0<br>displayName:Austin Blythe<br>Route Ran:nan",
            "nflId:46096.0<br>displayName:Rashaad Penny<br>Route Ran:nan",
            "nflId:46189.0<br>displayName:Will Dissly<br>Route Ran:nan",
            "nflId:47803.0<br>displayName:Noah Fant<br>Route Ran:nan",
            "nflId:47847.0<br>displayName:DK Metcalf<br>Route Ran:nan",
            "nflId:47907.0<br>displayName:Phil Haynes<br>Route Ran:nan",
            "nflId:52541.0<br>displayName:Colby Parkinson<br>Route Ran:nan",
            "nflId:54474.0<br>displayName:Charles Cross<br>Route Ran:nan",
            "nflId:54537.0<br>displayName:Abraham Lucas<br>Route Ran:nan"
           ],
           "marker": {
            "color": "#69BE28"
           },
           "mode": "markers",
           "name": "SEA",
           "type": "scatter",
           "x": [
            66.18,
            66.69,
            67.47,
            60.24,
            66.61,
            65.52,
            66.79,
            66.9,
            65.84,
            66.54,
            66.6
           ],
           "y": [
            24.12,
            22.46,
            24.06,
            23.87,
            19.4,
            16.95,
            35.1,
            25.48,
            18.48,
            27.14,
            20.95
           ]
          },
          {
           "hoverinfo": "none",
           "marker": {
            "color": "#CBB67C"
           },
           "mode": "markers",
           "name": "football",
           "type": "scatter",
           "x": [
            67.5999984741211
           ],
           "y": [
            23.7900009155273
           ]
          }
         ],
         "name": "46"
        },
        {
         "data": [
          {
           "hoverinfo": "none",
           "mode": "text",
           "showlegend": false,
           "text": [
            "10",
            "20",
            "30",
            "40",
            "50",
            "40",
            "30",
            "20",
            "10"
           ],
           "textfont": {
            "color": "#ffffff",
            "family": "Courier New, monospace",
            "size": 30
           },
           "type": "scatter",
           "x": [
            20,
            30,
            40,
            50,
            60,
            70,
            80,
            90,
            100
           ],
           "y": [
            5,
            5,
            5,
            5,
            5,
            5,
            5,
            5,
            5
           ]
          },
          {
           "hoverinfo": "none",
           "mode": "text",
           "showlegend": false,
           "text": [
            "10",
            "20",
            "30",
            "40",
            "50",
            "40",
            "30",
            "20",
            "10"
           ],
           "textfont": {
            "color": "#ffffff",
            "family": "Courier New, monospace",
            "size": 30
           },
           "type": "scatter",
           "x": [
            20,
            30,
            40,
            50,
            60,
            70,
            80,
            90,
            100
           ],
           "y": [
            48.5,
            48.5,
            48.5,
            48.5,
            48.5,
            48.5,
            48.5,
            48.5,
            48.5
           ]
          },
          {
           "hoverinfo": "none",
           "line": {
            "color": "blue",
            "dash": "dash"
           },
           "showlegend": false,
           "type": "scatter",
           "x": [
            68,
            68
           ],
           "y": [
            0,
            53.5
           ]
          },
          {
           "hoverinfo": "none",
           "line": {
            "color": "yellow",
            "dash": "dash"
           },
           "showlegend": false,
           "type": "scatter",
           "x": [
            74,
            74
           ],
           "y": [
            0,
            53.5
           ]
          },
          {
           "hoverinfo": "text",
           "hovertext": [
            "nflId:35459.0<br>displayName:Kareem Jackson<br>Route Ran:nan",
            "nflId:40347.0<br>displayName:Mike Purcell<br>Route Ran:nan",
            "nflId:42393.0<br>displayName:Ronald Darby<br>Route Ran:nan",
            "nflId:42826.0<br>displayName:DeShawn Williams<br>Route Ran:nan",
            "nflId:42929.0<br>displayName:Alex Singleton<br>Route Ran:nan",
            "nflId:43387.0<br>displayName:Justin Simmons<br>Route Ran:nan",
            "nflId:46074.0<br>displayName:Bradley Chubb<br>Route Ran:nan",
            "nflId:47854.0<br>displayName:Dre'Mont Jones<br>Route Ran:nan",
            "nflId:52706.0<br>displayName:Jonas Griffith<br>Route Ran:nan",
            "nflId:53438.0<br>displayName:Patrick Surtain<br>Route Ran:nan",
            "nflId:53534.0<br>displayName:Baron Browning<br>Route Ran:nan"
           ],
           "marker": {
            "color": "#FB4F14"
           },
           "mode": "markers",
           "name": "DEN",
           "type": "scatter",
           "x": [
            78.88,
            68.75,
            73.28,
            68.79,
            72.55,
            77.86,
            69.04,
            68.79,
            72.9,
            70.66,
            68.57
           ],
           "y": [
            28.6,
            23.47,
            15.55,
            25.76,
            20.76,
            18.01,
            30.21,
            20.68,
            24.5,
            34.91,
            16.5
           ]
          },
          {
           "hoverinfo": "text",
           "hovertext": [
            "nflId:39987.0<br>displayName:Geno Smith<br>Route Ran:nan",
            "nflId:41310.0<br>displayName:Gabe Jackson<br>Route Ran:nan",
            "nflId:43537.0<br>displayName:Austin Blythe<br>Route Ran:nan",
            "nflId:46096.0<br>displayName:Rashaad Penny<br>Route Ran:nan",
            "nflId:46189.0<br>displayName:Will Dissly<br>Route Ran:nan",
            "nflId:47803.0<br>displayName:Noah Fant<br>Route Ran:nan",
            "nflId:47847.0<br>displayName:DK Metcalf<br>Route Ran:nan",
            "nflId:47907.0<br>displayName:Phil Haynes<br>Route Ran:nan",
            "nflId:52541.0<br>displayName:Colby Parkinson<br>Route Ran:nan",
            "nflId:54474.0<br>displayName:Charles Cross<br>Route Ran:nan",
            "nflId:54537.0<br>displayName:Abraham Lucas<br>Route Ran:nan"
           ],
           "marker": {
            "color": "#69BE28"
           },
           "mode": "markers",
           "name": "SEA",
           "type": "scatter",
           "x": [
            66.23,
            66.68,
            67.47,
            60.24,
            66.62,
            65.55,
            66.8,
            66.9,
            65.85,
            66.54,
            66.6
           ],
           "y": [
            24.12,
            22.47,
            24.07,
            23.87,
            19.4,
            16.97,
            35.13,
            25.48,
            18.47,
            27.14,
            20.95
           ]
          },
          {
           "hoverinfo": "none",
           "marker": {
            "color": "#CBB67C"
           },
           "mode": "markers",
           "name": "football",
           "type": "scatter",
           "x": [
            67.5999984741211
           ],
           "y": [
            23.7900009155273
           ]
          }
         ],
         "name": "47"
        },
        {
         "data": [
          {
           "hoverinfo": "none",
           "mode": "text",
           "showlegend": false,
           "text": [
            "10",
            "20",
            "30",
            "40",
            "50",
            "40",
            "30",
            "20",
            "10"
           ],
           "textfont": {
            "color": "#ffffff",
            "family": "Courier New, monospace",
            "size": 30
           },
           "type": "scatter",
           "x": [
            20,
            30,
            40,
            50,
            60,
            70,
            80,
            90,
            100
           ],
           "y": [
            5,
            5,
            5,
            5,
            5,
            5,
            5,
            5,
            5
           ]
          },
          {
           "hoverinfo": "none",
           "mode": "text",
           "showlegend": false,
           "text": [
            "10",
            "20",
            "30",
            "40",
            "50",
            "40",
            "30",
            "20",
            "10"
           ],
           "textfont": {
            "color": "#ffffff",
            "family": "Courier New, monospace",
            "size": 30
           },
           "type": "scatter",
           "x": [
            20,
            30,
            40,
            50,
            60,
            70,
            80,
            90,
            100
           ],
           "y": [
            48.5,
            48.5,
            48.5,
            48.5,
            48.5,
            48.5,
            48.5,
            48.5,
            48.5
           ]
          },
          {
           "hoverinfo": "none",
           "line": {
            "color": "blue",
            "dash": "dash"
           },
           "showlegend": false,
           "type": "scatter",
           "x": [
            68,
            68
           ],
           "y": [
            0,
            53.5
           ]
          },
          {
           "hoverinfo": "none",
           "line": {
            "color": "yellow",
            "dash": "dash"
           },
           "showlegend": false,
           "type": "scatter",
           "x": [
            74,
            74
           ],
           "y": [
            0,
            53.5
           ]
          },
          {
           "hoverinfo": "text",
           "hovertext": [
            "nflId:35459.0<br>displayName:Kareem Jackson<br>Route Ran:nan",
            "nflId:40347.0<br>displayName:Mike Purcell<br>Route Ran:nan",
            "nflId:42393.0<br>displayName:Ronald Darby<br>Route Ran:nan",
            "nflId:42826.0<br>displayName:DeShawn Williams<br>Route Ran:nan",
            "nflId:42929.0<br>displayName:Alex Singleton<br>Route Ran:nan",
            "nflId:43387.0<br>displayName:Justin Simmons<br>Route Ran:nan",
            "nflId:46074.0<br>displayName:Bradley Chubb<br>Route Ran:nan",
            "nflId:47854.0<br>displayName:Dre'Mont Jones<br>Route Ran:nan",
            "nflId:52706.0<br>displayName:Jonas Griffith<br>Route Ran:nan",
            "nflId:53438.0<br>displayName:Patrick Surtain<br>Route Ran:nan",
            "nflId:53534.0<br>displayName:Baron Browning<br>Route Ran:nan"
           ],
           "marker": {
            "color": "#FB4F14"
           },
           "mode": "markers",
           "name": "DEN",
           "type": "scatter",
           "x": [
            78.94,
            68.71,
            73.33,
            68.78,
            72.53,
            77.8,
            68.99,
            68.78,
            72.92,
            70.56,
            68.52
           ],
           "y": [
            28.61,
            23.45,
            15.49,
            25.75,
            20.71,
            17.99,
            30.19,
            20.65,
            24.53,
            35,
            16.41
           ]
          },
          {
           "hoverinfo": "text",
           "hovertext": [
            "nflId:39987.0<br>displayName:Geno Smith<br>Route Ran:nan",
            "nflId:41310.0<br>displayName:Gabe Jackson<br>Route Ran:nan",
            "nflId:43537.0<br>displayName:Austin Blythe<br>Route Ran:nan",
            "nflId:46096.0<br>displayName:Rashaad Penny<br>Route Ran:nan",
            "nflId:46189.0<br>displayName:Will Dissly<br>Route Ran:nan",
            "nflId:47803.0<br>displayName:Noah Fant<br>Route Ran:nan",
            "nflId:47847.0<br>displayName:DK Metcalf<br>Route Ran:nan",
            "nflId:47907.0<br>displayName:Phil Haynes<br>Route Ran:nan",
            "nflId:52541.0<br>displayName:Colby Parkinson<br>Route Ran:nan",
            "nflId:54474.0<br>displayName:Charles Cross<br>Route Ran:nan",
            "nflId:54537.0<br>displayName:Abraham Lucas<br>Route Ran:nan"
           ],
           "marker": {
            "color": "#69BE28"
           },
           "mode": "markers",
           "name": "SEA",
           "type": "scatter",
           "x": [
            66.26,
            66.68,
            67.47,
            60.25,
            66.63,
            65.57,
            66.81,
            66.9,
            65.85,
            66.54,
            66.6
           ],
           "y": [
            24.11,
            22.47,
            24.07,
            23.86,
            19.4,
            16.99,
            35.16,
            25.49,
            18.46,
            27.14,
            20.95
           ]
          },
          {
           "hoverinfo": "none",
           "marker": {
            "color": "#CBB67C"
           },
           "mode": "markers",
           "name": "football",
           "type": "scatter",
           "x": [
            67.5999984741211
           ],
           "y": [
            23.7900009155273
           ]
          }
         ],
         "name": "48"
        },
        {
         "data": [
          {
           "hoverinfo": "none",
           "mode": "text",
           "showlegend": false,
           "text": [
            "10",
            "20",
            "30",
            "40",
            "50",
            "40",
            "30",
            "20",
            "10"
           ],
           "textfont": {
            "color": "#ffffff",
            "family": "Courier New, monospace",
            "size": 30
           },
           "type": "scatter",
           "x": [
            20,
            30,
            40,
            50,
            60,
            70,
            80,
            90,
            100
           ],
           "y": [
            5,
            5,
            5,
            5,
            5,
            5,
            5,
            5,
            5
           ]
          },
          {
           "hoverinfo": "none",
           "mode": "text",
           "showlegend": false,
           "text": [
            "10",
            "20",
            "30",
            "40",
            "50",
            "40",
            "30",
            "20",
            "10"
           ],
           "textfont": {
            "color": "#ffffff",
            "family": "Courier New, monospace",
            "size": 30
           },
           "type": "scatter",
           "x": [
            20,
            30,
            40,
            50,
            60,
            70,
            80,
            90,
            100
           ],
           "y": [
            48.5,
            48.5,
            48.5,
            48.5,
            48.5,
            48.5,
            48.5,
            48.5,
            48.5
           ]
          },
          {
           "hoverinfo": "none",
           "line": {
            "color": "blue",
            "dash": "dash"
           },
           "showlegend": false,
           "type": "scatter",
           "x": [
            68,
            68
           ],
           "y": [
            0,
            53.5
           ]
          },
          {
           "hoverinfo": "none",
           "line": {
            "color": "yellow",
            "dash": "dash"
           },
           "showlegend": false,
           "type": "scatter",
           "x": [
            74,
            74
           ],
           "y": [
            0,
            53.5
           ]
          },
          {
           "hoverinfo": "text",
           "hovertext": [
            "nflId:35459.0<br>displayName:Kareem Jackson<br>Route Ran:nan",
            "nflId:40347.0<br>displayName:Mike Purcell<br>Route Ran:nan",
            "nflId:42393.0<br>displayName:Ronald Darby<br>Route Ran:nan",
            "nflId:42826.0<br>displayName:DeShawn Williams<br>Route Ran:nan",
            "nflId:42929.0<br>displayName:Alex Singleton<br>Route Ran:nan",
            "nflId:43387.0<br>displayName:Justin Simmons<br>Route Ran:nan",
            "nflId:46074.0<br>displayName:Bradley Chubb<br>Route Ran:nan",
            "nflId:47854.0<br>displayName:Dre'Mont Jones<br>Route Ran:nan",
            "nflId:52706.0<br>displayName:Jonas Griffith<br>Route Ran:nan",
            "nflId:53438.0<br>displayName:Patrick Surtain<br>Route Ran:nan",
            "nflId:53534.0<br>displayName:Baron Browning<br>Route Ran:nan"
           ],
           "marker": {
            "color": "#FB4F14"
           },
           "mode": "markers",
           "name": "DEN",
           "type": "scatter",
           "x": [
            78.99,
            68.68,
            73.38,
            68.78,
            72.51,
            77.73,
            68.94,
            68.77,
            72.93,
            70.45,
            68.48
           ],
           "y": [
            28.61,
            23.44,
            15.45,
            25.75,
            20.65,
            17.98,
            30.16,
            20.61,
            24.55,
            35.07,
            16.32
           ]
          },
          {
           "hoverinfo": "text",
           "hovertext": [
            "nflId:39987.0<br>displayName:Geno Smith<br>Route Ran:nan",
            "nflId:41310.0<br>displayName:Gabe Jackson<br>Route Ran:nan",
            "nflId:43537.0<br>displayName:Austin Blythe<br>Route Ran:nan",
            "nflId:46096.0<br>displayName:Rashaad Penny<br>Route Ran:nan",
            "nflId:46189.0<br>displayName:Will Dissly<br>Route Ran:nan",
            "nflId:47803.0<br>displayName:Noah Fant<br>Route Ran:nan",
            "nflId:47847.0<br>displayName:DK Metcalf<br>Route Ran:nan",
            "nflId:47907.0<br>displayName:Phil Haynes<br>Route Ran:nan",
            "nflId:52541.0<br>displayName:Colby Parkinson<br>Route Ran:nan",
            "nflId:54474.0<br>displayName:Charles Cross<br>Route Ran:nan",
            "nflId:54537.0<br>displayName:Abraham Lucas<br>Route Ran:nan"
           ],
           "marker": {
            "color": "#69BE28"
           },
           "mode": "markers",
           "name": "SEA",
           "type": "scatter",
           "x": [
            66.29,
            66.67,
            67.47,
            60.25,
            66.64,
            65.59,
            66.81,
            66.9,
            65.85,
            66.54,
            66.6
           ],
           "y": [
            24.11,
            22.47,
            24.07,
            23.85,
            19.41,
            16.99,
            35.18,
            25.48,
            18.45,
            27.14,
            20.95
           ]
          },
          {
           "hoverinfo": "none",
           "marker": {
            "color": "#CBB67C"
           },
           "mode": "markers",
           "name": "football",
           "type": "scatter",
           "x": [
            67.5999984741211
           ],
           "y": [
            23.7999992370605
           ]
          }
         ],
         "name": "49"
        },
        {
         "data": [
          {
           "hoverinfo": "none",
           "mode": "text",
           "showlegend": false,
           "text": [
            "10",
            "20",
            "30",
            "40",
            "50",
            "40",
            "30",
            "20",
            "10"
           ],
           "textfont": {
            "color": "#ffffff",
            "family": "Courier New, monospace",
            "size": 30
           },
           "type": "scatter",
           "x": [
            20,
            30,
            40,
            50,
            60,
            70,
            80,
            90,
            100
           ],
           "y": [
            5,
            5,
            5,
            5,
            5,
            5,
            5,
            5,
            5
           ]
          },
          {
           "hoverinfo": "none",
           "mode": "text",
           "showlegend": false,
           "text": [
            "10",
            "20",
            "30",
            "40",
            "50",
            "40",
            "30",
            "20",
            "10"
           ],
           "textfont": {
            "color": "#ffffff",
            "family": "Courier New, monospace",
            "size": 30
           },
           "type": "scatter",
           "x": [
            20,
            30,
            40,
            50,
            60,
            70,
            80,
            90,
            100
           ],
           "y": [
            48.5,
            48.5,
            48.5,
            48.5,
            48.5,
            48.5,
            48.5,
            48.5,
            48.5
           ]
          },
          {
           "hoverinfo": "none",
           "line": {
            "color": "blue",
            "dash": "dash"
           },
           "showlegend": false,
           "type": "scatter",
           "x": [
            68,
            68
           ],
           "y": [
            0,
            53.5
           ]
          },
          {
           "hoverinfo": "none",
           "line": {
            "color": "yellow",
            "dash": "dash"
           },
           "showlegend": false,
           "type": "scatter",
           "x": [
            74,
            74
           ],
           "y": [
            0,
            53.5
           ]
          },
          {
           "hoverinfo": "text",
           "hovertext": [
            "nflId:35459.0<br>displayName:Kareem Jackson<br>Route Ran:nan",
            "nflId:40347.0<br>displayName:Mike Purcell<br>Route Ran:nan",
            "nflId:42393.0<br>displayName:Ronald Darby<br>Route Ran:nan",
            "nflId:42826.0<br>displayName:DeShawn Williams<br>Route Ran:nan",
            "nflId:42929.0<br>displayName:Alex Singleton<br>Route Ran:nan",
            "nflId:43387.0<br>displayName:Justin Simmons<br>Route Ran:nan",
            "nflId:46074.0<br>displayName:Bradley Chubb<br>Route Ran:nan",
            "nflId:47854.0<br>displayName:Dre'Mont Jones<br>Route Ran:nan",
            "nflId:52706.0<br>displayName:Jonas Griffith<br>Route Ran:nan",
            "nflId:53438.0<br>displayName:Patrick Surtain<br>Route Ran:nan",
            "nflId:53534.0<br>displayName:Baron Browning<br>Route Ran:nan"
           ],
           "marker": {
            "color": "#FB4F14"
           },
           "mode": "markers",
           "name": "DEN",
           "type": "scatter",
           "x": [
            79.05,
            68.66,
            73.42,
            68.78,
            72.5,
            77.66,
            68.89,
            68.76,
            72.94,
            70.35,
            68.45
           ],
           "y": [
            28.63,
            23.43,
            15.41,
            25.74,
            20.6,
            17.98,
            30.13,
            20.58,
            24.57,
            35.13,
            16.24
           ]
          },
          {
           "hoverinfo": "text",
           "hovertext": [
            "nflId:39987.0<br>displayName:Geno Smith<br>Route Ran:nan",
            "nflId:41310.0<br>displayName:Gabe Jackson<br>Route Ran:nan",
            "nflId:43537.0<br>displayName:Austin Blythe<br>Route Ran:nan",
            "nflId:46096.0<br>displayName:Rashaad Penny<br>Route Ran:nan",
            "nflId:46189.0<br>displayName:Will Dissly<br>Route Ran:nan",
            "nflId:47803.0<br>displayName:Noah Fant<br>Route Ran:nan",
            "nflId:47847.0<br>displayName:DK Metcalf<br>Route Ran:nan",
            "nflId:47907.0<br>displayName:Phil Haynes<br>Route Ran:nan",
            "nflId:52541.0<br>displayName:Colby Parkinson<br>Route Ran:nan",
            "nflId:54474.0<br>displayName:Charles Cross<br>Route Ran:nan",
            "nflId:54537.0<br>displayName:Abraham Lucas<br>Route Ran:nan"
           ],
           "marker": {
            "color": "#69BE28"
           },
           "mode": "markers",
           "name": "SEA",
           "type": "scatter",
           "x": [
            66.32,
            66.68,
            67.47,
            60.26,
            66.65,
            65.6,
            66.8,
            66.89,
            65.85,
            66.54,
            66.6
           ],
           "y": [
            24.1,
            22.47,
            24.08,
            23.84,
            19.42,
            16.99,
            35.2,
            25.48,
            18.45,
            27.14,
            20.95
           ]
          },
          {
           "hoverinfo": "none",
           "marker": {
            "color": "#CBB67C"
           },
           "mode": "markers",
           "name": "football",
           "type": "scatter",
           "x": [
            67.5999984741211
           ],
           "y": [
            23.7999992370605
           ]
          }
         ],
         "name": "50"
        },
        {
         "data": [
          {
           "hoverinfo": "none",
           "mode": "text",
           "showlegend": false,
           "text": [
            "10",
            "20",
            "30",
            "40",
            "50",
            "40",
            "30",
            "20",
            "10"
           ],
           "textfont": {
            "color": "#ffffff",
            "family": "Courier New, monospace",
            "size": 30
           },
           "type": "scatter",
           "x": [
            20,
            30,
            40,
            50,
            60,
            70,
            80,
            90,
            100
           ],
           "y": [
            5,
            5,
            5,
            5,
            5,
            5,
            5,
            5,
            5
           ]
          },
          {
           "hoverinfo": "none",
           "mode": "text",
           "showlegend": false,
           "text": [
            "10",
            "20",
            "30",
            "40",
            "50",
            "40",
            "30",
            "20",
            "10"
           ],
           "textfont": {
            "color": "#ffffff",
            "family": "Courier New, monospace",
            "size": 30
           },
           "type": "scatter",
           "x": [
            20,
            30,
            40,
            50,
            60,
            70,
            80,
            90,
            100
           ],
           "y": [
            48.5,
            48.5,
            48.5,
            48.5,
            48.5,
            48.5,
            48.5,
            48.5,
            48.5
           ]
          },
          {
           "hoverinfo": "none",
           "line": {
            "color": "blue",
            "dash": "dash"
           },
           "showlegend": false,
           "type": "scatter",
           "x": [
            68,
            68
           ],
           "y": [
            0,
            53.5
           ]
          },
          {
           "hoverinfo": "none",
           "line": {
            "color": "yellow",
            "dash": "dash"
           },
           "showlegend": false,
           "type": "scatter",
           "x": [
            74,
            74
           ],
           "y": [
            0,
            53.5
           ]
          },
          {
           "hoverinfo": "text",
           "hovertext": [
            "nflId:35459.0<br>displayName:Kareem Jackson<br>Route Ran:nan",
            "nflId:40347.0<br>displayName:Mike Purcell<br>Route Ran:nan",
            "nflId:42393.0<br>displayName:Ronald Darby<br>Route Ran:nan",
            "nflId:42826.0<br>displayName:DeShawn Williams<br>Route Ran:nan",
            "nflId:42929.0<br>displayName:Alex Singleton<br>Route Ran:nan",
            "nflId:43387.0<br>displayName:Justin Simmons<br>Route Ran:nan",
            "nflId:46074.0<br>displayName:Bradley Chubb<br>Route Ran:nan",
            "nflId:47854.0<br>displayName:Dre'Mont Jones<br>Route Ran:nan",
            "nflId:52706.0<br>displayName:Jonas Griffith<br>Route Ran:nan",
            "nflId:53438.0<br>displayName:Patrick Surtain<br>Route Ran:nan",
            "nflId:53534.0<br>displayName:Baron Browning<br>Route Ran:nan"
           ],
           "marker": {
            "color": "#FB4F14"
           },
           "mode": "markers",
           "name": "DEN",
           "type": "scatter",
           "x": [
            79.1,
            68.65,
            73.45,
            68.78,
            72.49,
            77.58,
            68.83,
            68.74,
            72.94,
            70.24,
            68.41
           ],
           "y": [
            28.65,
            23.43,
            15.38,
            25.73,
            20.55,
            17.99,
            30.09,
            20.55,
            24.6,
            35.16,
            16.16
           ]
          },
          {
           "hoverinfo": "text",
           "hovertext": [
            "nflId:39987.0<br>displayName:Geno Smith<br>Route Ran:nan",
            "nflId:41310.0<br>displayName:Gabe Jackson<br>Route Ran:nan",
            "nflId:43537.0<br>displayName:Austin Blythe<br>Route Ran:nan",
            "nflId:46096.0<br>displayName:Rashaad Penny<br>Route Ran:nan",
            "nflId:46189.0<br>displayName:Will Dissly<br>Route Ran:nan",
            "nflId:47803.0<br>displayName:Noah Fant<br>Route Ran:nan",
            "nflId:47847.0<br>displayName:DK Metcalf<br>Route Ran:nan",
            "nflId:47907.0<br>displayName:Phil Haynes<br>Route Ran:nan",
            "nflId:52541.0<br>displayName:Colby Parkinson<br>Route Ran:nan",
            "nflId:54474.0<br>displayName:Charles Cross<br>Route Ran:nan",
            "nflId:54537.0<br>displayName:Abraham Lucas<br>Route Ran:nan"
           ],
           "marker": {
            "color": "#69BE28"
           },
           "mode": "markers",
           "name": "SEA",
           "type": "scatter",
           "x": [
            66.33,
            66.69,
            67.48,
            60.26,
            66.65,
            65.61,
            66.79,
            66.89,
            65.85,
            66.54,
            66.6
           ],
           "y": [
            24.08,
            22.47,
            24.08,
            23.84,
            19.43,
            16.99,
            35.21,
            25.48,
            18.44,
            27.14,
            20.96
           ]
          },
          {
           "hoverinfo": "none",
           "marker": {
            "color": "#CBB67C"
           },
           "mode": "markers",
           "name": "football",
           "type": "scatter",
           "x": [
            67.5999984741211
           ],
           "y": [
            23.7999992370605
           ]
          }
         ],
         "name": "51"
        },
        {
         "data": [
          {
           "hoverinfo": "none",
           "mode": "text",
           "showlegend": false,
           "text": [
            "10",
            "20",
            "30",
            "40",
            "50",
            "40",
            "30",
            "20",
            "10"
           ],
           "textfont": {
            "color": "#ffffff",
            "family": "Courier New, monospace",
            "size": 30
           },
           "type": "scatter",
           "x": [
            20,
            30,
            40,
            50,
            60,
            70,
            80,
            90,
            100
           ],
           "y": [
            5,
            5,
            5,
            5,
            5,
            5,
            5,
            5,
            5
           ]
          },
          {
           "hoverinfo": "none",
           "mode": "text",
           "showlegend": false,
           "text": [
            "10",
            "20",
            "30",
            "40",
            "50",
            "40",
            "30",
            "20",
            "10"
           ],
           "textfont": {
            "color": "#ffffff",
            "family": "Courier New, monospace",
            "size": 30
           },
           "type": "scatter",
           "x": [
            20,
            30,
            40,
            50,
            60,
            70,
            80,
            90,
            100
           ],
           "y": [
            48.5,
            48.5,
            48.5,
            48.5,
            48.5,
            48.5,
            48.5,
            48.5,
            48.5
           ]
          },
          {
           "hoverinfo": "none",
           "line": {
            "color": "blue",
            "dash": "dash"
           },
           "showlegend": false,
           "type": "scatter",
           "x": [
            68,
            68
           ],
           "y": [
            0,
            53.5
           ]
          },
          {
           "hoverinfo": "none",
           "line": {
            "color": "yellow",
            "dash": "dash"
           },
           "showlegend": false,
           "type": "scatter",
           "x": [
            74,
            74
           ],
           "y": [
            0,
            53.5
           ]
          },
          {
           "hoverinfo": "text",
           "hovertext": [
            "nflId:35459.0<br>displayName:Kareem Jackson<br>Route Ran:nan",
            "nflId:40347.0<br>displayName:Mike Purcell<br>Route Ran:nan",
            "nflId:42393.0<br>displayName:Ronald Darby<br>Route Ran:nan",
            "nflId:42826.0<br>displayName:DeShawn Williams<br>Route Ran:nan",
            "nflId:42929.0<br>displayName:Alex Singleton<br>Route Ran:nan",
            "nflId:43387.0<br>displayName:Justin Simmons<br>Route Ran:nan",
            "nflId:46074.0<br>displayName:Bradley Chubb<br>Route Ran:nan",
            "nflId:47854.0<br>displayName:Dre'Mont Jones<br>Route Ran:nan",
            "nflId:52706.0<br>displayName:Jonas Griffith<br>Route Ran:nan",
            "nflId:53438.0<br>displayName:Patrick Surtain<br>Route Ran:nan",
            "nflId:53534.0<br>displayName:Baron Browning<br>Route Ran:nan"
           ],
           "marker": {
            "color": "#FB4F14"
           },
           "mode": "markers",
           "name": "DEN",
           "type": "scatter",
           "x": [
            79.15,
            68.64,
            73.48,
            68.78,
            72.47,
            77.49,
            68.78,
            68.73,
            72.95,
            70.13,
            68.39
           ],
           "y": [
            28.68,
            23.42,
            15.36,
            25.73,
            20.51,
            18,
            30.05,
            20.52,
            24.63,
            35.19,
            16.08
           ]
          },
          {
           "hoverinfo": "text",
           "hovertext": [
            "nflId:39987.0<br>displayName:Geno Smith<br>Route Ran:nan",
            "nflId:41310.0<br>displayName:Gabe Jackson<br>Route Ran:nan",
            "nflId:43537.0<br>displayName:Austin Blythe<br>Route Ran:nan",
            "nflId:46096.0<br>displayName:Rashaad Penny<br>Route Ran:nan",
            "nflId:46189.0<br>displayName:Will Dissly<br>Route Ran:nan",
            "nflId:47803.0<br>displayName:Noah Fant<br>Route Ran:nan",
            "nflId:47847.0<br>displayName:DK Metcalf<br>Route Ran:nan",
            "nflId:47907.0<br>displayName:Phil Haynes<br>Route Ran:nan",
            "nflId:52541.0<br>displayName:Colby Parkinson<br>Route Ran:nan",
            "nflId:54474.0<br>displayName:Charles Cross<br>Route Ran:nan",
            "nflId:54537.0<br>displayName:Abraham Lucas<br>Route Ran:nan"
           ],
           "marker": {
            "color": "#69BE28"
           },
           "mode": "markers",
           "name": "SEA",
           "type": "scatter",
           "x": [
            66.34,
            66.71,
            67.48,
            60.27,
            66.65,
            65.62,
            66.78,
            66.88,
            65.84,
            66.54,
            66.61
           ],
           "y": [
            24.06,
            22.47,
            24.09,
            23.83,
            19.44,
            17,
            35.22,
            25.49,
            18.43,
            27.15,
            20.96
           ]
          },
          {
           "hoverinfo": "none",
           "marker": {
            "color": "#CBB67C"
           },
           "mode": "markers",
           "name": "football",
           "type": "scatter",
           "x": [
            67.5999984741211
           ],
           "y": [
            23.7999992370605
           ]
          }
         ],
         "name": "52"
        },
        {
         "data": [
          {
           "hoverinfo": "none",
           "mode": "text",
           "showlegend": false,
           "text": [
            "10",
            "20",
            "30",
            "40",
            "50",
            "40",
            "30",
            "20",
            "10"
           ],
           "textfont": {
            "color": "#ffffff",
            "family": "Courier New, monospace",
            "size": 30
           },
           "type": "scatter",
           "x": [
            20,
            30,
            40,
            50,
            60,
            70,
            80,
            90,
            100
           ],
           "y": [
            5,
            5,
            5,
            5,
            5,
            5,
            5,
            5,
            5
           ]
          },
          {
           "hoverinfo": "none",
           "mode": "text",
           "showlegend": false,
           "text": [
            "10",
            "20",
            "30",
            "40",
            "50",
            "40",
            "30",
            "20",
            "10"
           ],
           "textfont": {
            "color": "#ffffff",
            "family": "Courier New, monospace",
            "size": 30
           },
           "type": "scatter",
           "x": [
            20,
            30,
            40,
            50,
            60,
            70,
            80,
            90,
            100
           ],
           "y": [
            48.5,
            48.5,
            48.5,
            48.5,
            48.5,
            48.5,
            48.5,
            48.5,
            48.5
           ]
          },
          {
           "hoverinfo": "none",
           "line": {
            "color": "blue",
            "dash": "dash"
           },
           "showlegend": false,
           "type": "scatter",
           "x": [
            68,
            68
           ],
           "y": [
            0,
            53.5
           ]
          },
          {
           "hoverinfo": "none",
           "line": {
            "color": "yellow",
            "dash": "dash"
           },
           "showlegend": false,
           "type": "scatter",
           "x": [
            74,
            74
           ],
           "y": [
            0,
            53.5
           ]
          },
          {
           "hoverinfo": "text",
           "hovertext": [
            "nflId:35459.0<br>displayName:Kareem Jackson<br>Route Ran:nan",
            "nflId:40347.0<br>displayName:Mike Purcell<br>Route Ran:nan",
            "nflId:42393.0<br>displayName:Ronald Darby<br>Route Ran:nan",
            "nflId:42826.0<br>displayName:DeShawn Williams<br>Route Ran:nan",
            "nflId:42929.0<br>displayName:Alex Singleton<br>Route Ran:nan",
            "nflId:43387.0<br>displayName:Justin Simmons<br>Route Ran:nan",
            "nflId:46074.0<br>displayName:Bradley Chubb<br>Route Ran:nan",
            "nflId:47854.0<br>displayName:Dre'Mont Jones<br>Route Ran:nan",
            "nflId:52706.0<br>displayName:Jonas Griffith<br>Route Ran:nan",
            "nflId:53438.0<br>displayName:Patrick Surtain<br>Route Ran:nan",
            "nflId:53534.0<br>displayName:Baron Browning<br>Route Ran:nan"
           ],
           "marker": {
            "color": "#FB4F14"
           },
           "mode": "markers",
           "name": "DEN",
           "type": "scatter",
           "x": [
            79.21,
            68.64,
            73.51,
            68.77,
            72.46,
            77.39,
            68.73,
            68.71,
            72.95,
            70.02,
            68.37
           ],
           "y": [
            28.71,
            23.41,
            15.34,
            25.73,
            20.47,
            18,
            30,
            20.49,
            24.65,
            35.2,
            16.01
           ]
          },
          {
           "hoverinfo": "text",
           "hovertext": [
            "nflId:39987.0<br>displayName:Geno Smith<br>Route Ran:nan",
            "nflId:41310.0<br>displayName:Gabe Jackson<br>Route Ran:nan",
            "nflId:43537.0<br>displayName:Austin Blythe<br>Route Ran:nan",
            "nflId:46096.0<br>displayName:Rashaad Penny<br>Route Ran:nan",
            "nflId:46189.0<br>displayName:Will Dissly<br>Route Ran:nan",
            "nflId:47803.0<br>displayName:Noah Fant<br>Route Ran:nan",
            "nflId:47847.0<br>displayName:DK Metcalf<br>Route Ran:nan",
            "nflId:47907.0<br>displayName:Phil Haynes<br>Route Ran:nan",
            "nflId:52541.0<br>displayName:Colby Parkinson<br>Route Ran:nan",
            "nflId:54474.0<br>displayName:Charles Cross<br>Route Ran:nan",
            "nflId:54537.0<br>displayName:Abraham Lucas<br>Route Ran:nan"
           ],
           "marker": {
            "color": "#69BE28"
           },
           "mode": "markers",
           "name": "SEA",
           "type": "scatter",
           "x": [
            66.33,
            66.72,
            67.49,
            60.28,
            66.65,
            65.63,
            66.78,
            66.89,
            65.83,
            66.54,
            66.62
           ],
           "y": [
            24.03,
            22.49,
            24.11,
            23.84,
            19.45,
            17,
            35.23,
            25.52,
            18.43,
            27.16,
            20.98
           ]
          },
          {
           "hoverinfo": "none",
           "marker": {
            "color": "#CBB67C"
           },
           "mode": "markers",
           "name": "football",
           "type": "scatter",
           "x": [
            67.5999984741211
           ],
           "y": [
            23.7999992370605
           ]
          }
         ],
         "name": "53"
        },
        {
         "data": [
          {
           "hoverinfo": "none",
           "mode": "text",
           "showlegend": false,
           "text": [
            "10",
            "20",
            "30",
            "40",
            "50",
            "40",
            "30",
            "20",
            "10"
           ],
           "textfont": {
            "color": "#ffffff",
            "family": "Courier New, monospace",
            "size": 30
           },
           "type": "scatter",
           "x": [
            20,
            30,
            40,
            50,
            60,
            70,
            80,
            90,
            100
           ],
           "y": [
            5,
            5,
            5,
            5,
            5,
            5,
            5,
            5,
            5
           ]
          },
          {
           "hoverinfo": "none",
           "mode": "text",
           "showlegend": false,
           "text": [
            "10",
            "20",
            "30",
            "40",
            "50",
            "40",
            "30",
            "20",
            "10"
           ],
           "textfont": {
            "color": "#ffffff",
            "family": "Courier New, monospace",
            "size": 30
           },
           "type": "scatter",
           "x": [
            20,
            30,
            40,
            50,
            60,
            70,
            80,
            90,
            100
           ],
           "y": [
            48.5,
            48.5,
            48.5,
            48.5,
            48.5,
            48.5,
            48.5,
            48.5,
            48.5
           ]
          },
          {
           "hoverinfo": "none",
           "line": {
            "color": "blue",
            "dash": "dash"
           },
           "showlegend": false,
           "type": "scatter",
           "x": [
            68,
            68
           ],
           "y": [
            0,
            53.5
           ]
          },
          {
           "hoverinfo": "none",
           "line": {
            "color": "yellow",
            "dash": "dash"
           },
           "showlegend": false,
           "type": "scatter",
           "x": [
            74,
            74
           ],
           "y": [
            0,
            53.5
           ]
          },
          {
           "hoverinfo": "text",
           "hovertext": [
            "nflId:35459.0<br>displayName:Kareem Jackson<br>Route Ran:nan",
            "nflId:40347.0<br>displayName:Mike Purcell<br>Route Ran:nan",
            "nflId:42393.0<br>displayName:Ronald Darby<br>Route Ran:nan",
            "nflId:42826.0<br>displayName:DeShawn Williams<br>Route Ran:nan",
            "nflId:42929.0<br>displayName:Alex Singleton<br>Route Ran:nan",
            "nflId:43387.0<br>displayName:Justin Simmons<br>Route Ran:nan",
            "nflId:46074.0<br>displayName:Bradley Chubb<br>Route Ran:nan",
            "nflId:47854.0<br>displayName:Dre'Mont Jones<br>Route Ran:nan",
            "nflId:52706.0<br>displayName:Jonas Griffith<br>Route Ran:nan",
            "nflId:53438.0<br>displayName:Patrick Surtain<br>Route Ran:nan",
            "nflId:53534.0<br>displayName:Baron Browning<br>Route Ran:nan"
           ],
           "marker": {
            "color": "#FB4F14"
           },
           "mode": "markers",
           "name": "DEN",
           "type": "scatter",
           "x": [
            79.27,
            68.63,
            73.54,
            68.75,
            72.44,
            77.27,
            68.68,
            68.68,
            72.95,
            69.91,
            68.34
           ],
           "y": [
            28.73,
            23.4,
            15.33,
            25.74,
            20.44,
            18.01,
            29.94,
            20.49,
            24.67,
            35.2,
            15.96
           ]
          },
          {
           "hoverinfo": "text",
           "hovertext": [
            "nflId:39987.0<br>displayName:Geno Smith<br>Route Ran:nan",
            "nflId:41310.0<br>displayName:Gabe Jackson<br>Route Ran:nan",
            "nflId:43537.0<br>displayName:Austin Blythe<br>Route Ran:nan",
            "nflId:46096.0<br>displayName:Rashaad Penny<br>Route Ran:nan",
            "nflId:46189.0<br>displayName:Will Dissly<br>Route Ran:nan",
            "nflId:47803.0<br>displayName:Noah Fant<br>Route Ran:nan",
            "nflId:47847.0<br>displayName:DK Metcalf<br>Route Ran:nan",
            "nflId:47907.0<br>displayName:Phil Haynes<br>Route Ran:nan",
            "nflId:52541.0<br>displayName:Colby Parkinson<br>Route Ran:nan",
            "nflId:54474.0<br>displayName:Charles Cross<br>Route Ran:nan",
            "nflId:54537.0<br>displayName:Abraham Lucas<br>Route Ran:nan"
           ],
           "marker": {
            "color": "#69BE28"
           },
           "mode": "markers",
           "name": "SEA",
           "type": "scatter",
           "x": [
            66.33,
            66.75,
            67.5,
            60.3,
            66.65,
            65.63,
            66.78,
            66.9,
            65.83,
            66.55,
            66.65
           ],
           "y": [
            24.01,
            22.53,
            24.13,
            23.85,
            19.48,
            17,
            35.24,
            25.55,
            18.43,
            27.2,
            21.03
           ]
          },
          {
           "hoverinfo": "none",
           "marker": {
            "color": "#CBB67C"
           },
           "mode": "markers",
           "name": "football",
           "type": "scatter",
           "x": [
            67.5999984741211
           ],
           "y": [
            23.7999992370605
           ]
          }
         ],
         "name": "54"
        },
        {
         "data": [
          {
           "hoverinfo": "none",
           "mode": "text",
           "showlegend": false,
           "text": [
            "10",
            "20",
            "30",
            "40",
            "50",
            "40",
            "30",
            "20",
            "10"
           ],
           "textfont": {
            "color": "#ffffff",
            "family": "Courier New, monospace",
            "size": 30
           },
           "type": "scatter",
           "x": [
            20,
            30,
            40,
            50,
            60,
            70,
            80,
            90,
            100
           ],
           "y": [
            5,
            5,
            5,
            5,
            5,
            5,
            5,
            5,
            5
           ]
          },
          {
           "hoverinfo": "none",
           "mode": "text",
           "showlegend": false,
           "text": [
            "10",
            "20",
            "30",
            "40",
            "50",
            "40",
            "30",
            "20",
            "10"
           ],
           "textfont": {
            "color": "#ffffff",
            "family": "Courier New, monospace",
            "size": 30
           },
           "type": "scatter",
           "x": [
            20,
            30,
            40,
            50,
            60,
            70,
            80,
            90,
            100
           ],
           "y": [
            48.5,
            48.5,
            48.5,
            48.5,
            48.5,
            48.5,
            48.5,
            48.5,
            48.5
           ]
          },
          {
           "hoverinfo": "none",
           "line": {
            "color": "blue",
            "dash": "dash"
           },
           "showlegend": false,
           "type": "scatter",
           "x": [
            68,
            68
           ],
           "y": [
            0,
            53.5
           ]
          },
          {
           "hoverinfo": "none",
           "line": {
            "color": "yellow",
            "dash": "dash"
           },
           "showlegend": false,
           "type": "scatter",
           "x": [
            74,
            74
           ],
           "y": [
            0,
            53.5
           ]
          },
          {
           "hoverinfo": "text",
           "hovertext": [
            "nflId:35459.0<br>displayName:Kareem Jackson<br>Route Ran:nan",
            "nflId:40347.0<br>displayName:Mike Purcell<br>Route Ran:nan",
            "nflId:42393.0<br>displayName:Ronald Darby<br>Route Ran:nan",
            "nflId:42826.0<br>displayName:DeShawn Williams<br>Route Ran:nan",
            "nflId:42929.0<br>displayName:Alex Singleton<br>Route Ran:nan",
            "nflId:43387.0<br>displayName:Justin Simmons<br>Route Ran:nan",
            "nflId:46074.0<br>displayName:Bradley Chubb<br>Route Ran:nan",
            "nflId:47854.0<br>displayName:Dre'Mont Jones<br>Route Ran:nan",
            "nflId:52706.0<br>displayName:Jonas Griffith<br>Route Ran:nan",
            "nflId:53438.0<br>displayName:Patrick Surtain<br>Route Ran:nan",
            "nflId:53534.0<br>displayName:Baron Browning<br>Route Ran:nan"
           ],
           "marker": {
            "color": "#FB4F14"
           },
           "mode": "markers",
           "name": "DEN",
           "type": "scatter",
           "x": [
            79.34,
            68.59,
            73.56,
            68.73,
            72.42,
            77.13,
            68.62,
            68.65,
            72.94,
            69.81,
            68.31
           ],
           "y": [
            28.74,
            23.39,
            15.31,
            25.77,
            20.43,
            18.02,
            29.88,
            20.5,
            24.7,
            35.21,
            15.93
           ]
          },
          {
           "hoverinfo": "text",
           "hovertext": [
            "nflId:39987.0<br>displayName:Geno Smith<br>Route Ran:nan",
            "nflId:41310.0<br>displayName:Gabe Jackson<br>Route Ran:nan",
            "nflId:43537.0<br>displayName:Austin Blythe<br>Route Ran:nan",
            "nflId:46096.0<br>displayName:Rashaad Penny<br>Route Ran:nan",
            "nflId:46189.0<br>displayName:Will Dissly<br>Route Ran:nan",
            "nflId:47803.0<br>displayName:Noah Fant<br>Route Ran:nan",
            "nflId:47847.0<br>displayName:DK Metcalf<br>Route Ran:nan",
            "nflId:47907.0<br>displayName:Phil Haynes<br>Route Ran:nan",
            "nflId:52541.0<br>displayName:Colby Parkinson<br>Route Ran:nan",
            "nflId:54474.0<br>displayName:Charles Cross<br>Route Ran:nan",
            "nflId:54537.0<br>displayName:Abraham Lucas<br>Route Ran:nan"
           ],
           "marker": {
            "color": "#69BE28"
           },
           "mode": "markers",
           "name": "SEA",
           "type": "scatter",
           "x": [
            66.3,
            66.78,
            67.54,
            60.33,
            66.64,
            65.63,
            66.79,
            66.94,
            65.83,
            66.55,
            66.67
           ],
           "y": [
            24.01,
            22.58,
            24.16,
            23.88,
            19.52,
            17.02,
            35.25,
            25.58,
            18.45,
            27.26,
            21.1
           ]
          },
          {
           "hoverinfo": "none",
           "marker": {
            "color": "#CBB67C"
           },
           "mode": "markers",
           "name": "football",
           "type": "scatter",
           "x": [
            67.5999984741211
           ],
           "y": [
            23.7999992370605
           ]
          }
         ],
         "name": "55"
        },
        {
         "data": [
          {
           "hoverinfo": "none",
           "mode": "text",
           "showlegend": false,
           "text": [
            "10",
            "20",
            "30",
            "40",
            "50",
            "40",
            "30",
            "20",
            "10"
           ],
           "textfont": {
            "color": "#ffffff",
            "family": "Courier New, monospace",
            "size": 30
           },
           "type": "scatter",
           "x": [
            20,
            30,
            40,
            50,
            60,
            70,
            80,
            90,
            100
           ],
           "y": [
            5,
            5,
            5,
            5,
            5,
            5,
            5,
            5,
            5
           ]
          },
          {
           "hoverinfo": "none",
           "mode": "text",
           "showlegend": false,
           "text": [
            "10",
            "20",
            "30",
            "40",
            "50",
            "40",
            "30",
            "20",
            "10"
           ],
           "textfont": {
            "color": "#ffffff",
            "family": "Courier New, monospace",
            "size": 30
           },
           "type": "scatter",
           "x": [
            20,
            30,
            40,
            50,
            60,
            70,
            80,
            90,
            100
           ],
           "y": [
            48.5,
            48.5,
            48.5,
            48.5,
            48.5,
            48.5,
            48.5,
            48.5,
            48.5
           ]
          },
          {
           "hoverinfo": "none",
           "line": {
            "color": "blue",
            "dash": "dash"
           },
           "showlegend": false,
           "type": "scatter",
           "x": [
            68,
            68
           ],
           "y": [
            0,
            53.5
           ]
          },
          {
           "hoverinfo": "none",
           "line": {
            "color": "yellow",
            "dash": "dash"
           },
           "showlegend": false,
           "type": "scatter",
           "x": [
            74,
            74
           ],
           "y": [
            0,
            53.5
           ]
          },
          {
           "hoverinfo": "text",
           "hovertext": [
            "nflId:35459.0<br>displayName:Kareem Jackson<br>Route Ran:nan",
            "nflId:40347.0<br>displayName:Mike Purcell<br>Route Ran:nan",
            "nflId:42393.0<br>displayName:Ronald Darby<br>Route Ran:nan",
            "nflId:42826.0<br>displayName:DeShawn Williams<br>Route Ran:nan",
            "nflId:42929.0<br>displayName:Alex Singleton<br>Route Ran:nan",
            "nflId:43387.0<br>displayName:Justin Simmons<br>Route Ran:nan",
            "nflId:46074.0<br>displayName:Bradley Chubb<br>Route Ran:nan",
            "nflId:47854.0<br>displayName:Dre'Mont Jones<br>Route Ran:nan",
            "nflId:52706.0<br>displayName:Jonas Griffith<br>Route Ran:nan",
            "nflId:53438.0<br>displayName:Patrick Surtain<br>Route Ran:nan",
            "nflId:53534.0<br>displayName:Baron Browning<br>Route Ran:nan"
           ],
           "marker": {
            "color": "#FB4F14"
           },
           "mode": "markers",
           "name": "DEN",
           "type": "scatter",
           "x": [
            79.44,
            68.53,
            73.58,
            68.68,
            72.4,
            76.97,
            68.56,
            68.6,
            72.92,
            69.72,
            68.27
           ],
           "y": [
            28.75,
            23.39,
            15.3,
            25.82,
            20.43,
            18.03,
            29.82,
            20.55,
            24.74,
            35.2,
            15.92
           ]
          },
          {
           "hoverinfo": "text",
           "hovertext": [
            "nflId:39987.0<br>displayName:Geno Smith<br>Route Ran:nan",
            "nflId:41310.0<br>displayName:Gabe Jackson<br>Route Ran:nan",
            "nflId:43537.0<br>displayName:Austin Blythe<br>Route Ran:nan",
            "nflId:46096.0<br>displayName:Rashaad Penny<br>Route Ran:nan",
            "nflId:46189.0<br>displayName:Will Dissly<br>Route Ran:nan",
            "nflId:47803.0<br>displayName:Noah Fant<br>Route Ran:nan",
            "nflId:47847.0<br>displayName:DK Metcalf<br>Route Ran:nan",
            "nflId:47907.0<br>displayName:Phil Haynes<br>Route Ran:nan",
            "nflId:52541.0<br>displayName:Colby Parkinson<br>Route Ran:nan",
            "nflId:54474.0<br>displayName:Charles Cross<br>Route Ran:nan",
            "nflId:54537.0<br>displayName:Abraham Lucas<br>Route Ran:nan"
           ],
           "marker": {
            "color": "#69BE28"
           },
           "mode": "markers",
           "name": "SEA",
           "type": "scatter",
           "x": [
            66.25,
            66.82,
            67.57,
            60.36,
            66.62,
            65.63,
            66.82,
            66.99,
            65.83,
            66.57,
            66.72
           ],
           "y": [
            24.02,
            22.66,
            24.2,
            23.93,
            19.59,
            17.04,
            35.26,
            25.64,
            18.49,
            27.33,
            21.2
           ]
          },
          {
           "hoverinfo": "none",
           "marker": {
            "color": "#CBB67C"
           },
           "mode": "markers",
           "name": "football",
           "type": "scatter",
           "x": [
            66.6399993896484
           ],
           "y": [
            24.6299991607666
           ]
          }
         ],
         "name": "56"
        },
        {
         "data": [
          {
           "hoverinfo": "none",
           "mode": "text",
           "showlegend": false,
           "text": [
            "10",
            "20",
            "30",
            "40",
            "50",
            "40",
            "30",
            "20",
            "10"
           ],
           "textfont": {
            "color": "#ffffff",
            "family": "Courier New, monospace",
            "size": 30
           },
           "type": "scatter",
           "x": [
            20,
            30,
            40,
            50,
            60,
            70,
            80,
            90,
            100
           ],
           "y": [
            5,
            5,
            5,
            5,
            5,
            5,
            5,
            5,
            5
           ]
          },
          {
           "hoverinfo": "none",
           "mode": "text",
           "showlegend": false,
           "text": [
            "10",
            "20",
            "30",
            "40",
            "50",
            "40",
            "30",
            "20",
            "10"
           ],
           "textfont": {
            "color": "#ffffff",
            "family": "Courier New, monospace",
            "size": 30
           },
           "type": "scatter",
           "x": [
            20,
            30,
            40,
            50,
            60,
            70,
            80,
            90,
            100
           ],
           "y": [
            48.5,
            48.5,
            48.5,
            48.5,
            48.5,
            48.5,
            48.5,
            48.5,
            48.5
           ]
          },
          {
           "hoverinfo": "none",
           "line": {
            "color": "blue",
            "dash": "dash"
           },
           "showlegend": false,
           "type": "scatter",
           "x": [
            68,
            68
           ],
           "y": [
            0,
            53.5
           ]
          },
          {
           "hoverinfo": "none",
           "line": {
            "color": "yellow",
            "dash": "dash"
           },
           "showlegend": false,
           "type": "scatter",
           "x": [
            74,
            74
           ],
           "y": [
            0,
            53.5
           ]
          },
          {
           "hoverinfo": "text",
           "hovertext": [
            "nflId:35459.0<br>displayName:Kareem Jackson<br>Route Ran:nan",
            "nflId:40347.0<br>displayName:Mike Purcell<br>Route Ran:nan",
            "nflId:42393.0<br>displayName:Ronald Darby<br>Route Ran:nan",
            "nflId:42826.0<br>displayName:DeShawn Williams<br>Route Ran:nan",
            "nflId:42929.0<br>displayName:Alex Singleton<br>Route Ran:nan",
            "nflId:43387.0<br>displayName:Justin Simmons<br>Route Ran:nan",
            "nflId:46074.0<br>displayName:Bradley Chubb<br>Route Ran:nan",
            "nflId:47854.0<br>displayName:Dre'Mont Jones<br>Route Ran:nan",
            "nflId:52706.0<br>displayName:Jonas Griffith<br>Route Ran:nan",
            "nflId:53438.0<br>displayName:Patrick Surtain<br>Route Ran:nan",
            "nflId:53534.0<br>displayName:Baron Browning<br>Route Ran:nan"
           ],
           "marker": {
            "color": "#FB4F14"
           },
           "mode": "markers",
           "name": "DEN",
           "type": "scatter",
           "x": [
            79.55,
            68.45,
            73.61,
            68.64,
            72.37,
            76.78,
            68.48,
            68.55,
            72.89,
            69.66,
            68.2
           ],
           "y": [
            28.73,
            23.39,
            15.3,
            25.89,
            20.46,
            18.04,
            29.76,
            20.61,
            24.79,
            35.19,
            15.93
           ]
          },
          {
           "hoverinfo": "text",
           "hovertext": [
            "nflId:39987.0<br>displayName:Geno Smith<br>Route Ran:nan",
            "nflId:41310.0<br>displayName:Gabe Jackson<br>Route Ran:nan",
            "nflId:43537.0<br>displayName:Austin Blythe<br>Route Ran:nan",
            "nflId:46096.0<br>displayName:Rashaad Penny<br>Route Ran:nan",
            "nflId:46189.0<br>displayName:Will Dissly<br>Route Ran:nan",
            "nflId:47803.0<br>displayName:Noah Fant<br>Route Ran:nan",
            "nflId:47847.0<br>displayName:DK Metcalf<br>Route Ran:nan",
            "nflId:47907.0<br>displayName:Phil Haynes<br>Route Ran:nan",
            "nflId:52541.0<br>displayName:Colby Parkinson<br>Route Ran:nan",
            "nflId:54474.0<br>displayName:Charles Cross<br>Route Ran:nan",
            "nflId:54537.0<br>displayName:Abraham Lucas<br>Route Ran:nan"
           ],
           "marker": {
            "color": "#69BE28"
           },
           "mode": "markers",
           "name": "SEA",
           "type": "scatter",
           "x": [
            66.18,
            66.86,
            67.61,
            60.41,
            66.6,
            65.63,
            66.87,
            67.06,
            65.85,
            66.58,
            66.77
           ],
           "y": [
            24.06,
            22.77,
            24.24,
            24,
            19.69,
            17.08,
            35.27,
            25.71,
            18.57,
            27.42,
            21.32
           ]
          },
          {
           "hoverinfo": "none",
           "marker": {
            "color": "#CBB67C"
           },
           "mode": "markers",
           "name": "football",
           "type": "scatter",
           "x": [
            66.4199981689453
           ],
           "y": [
            24.6599998474121
           ]
          }
         ],
         "name": "57"
        },
        {
         "data": [
          {
           "hoverinfo": "none",
           "mode": "text",
           "showlegend": false,
           "text": [
            "10",
            "20",
            "30",
            "40",
            "50",
            "40",
            "30",
            "20",
            "10"
           ],
           "textfont": {
            "color": "#ffffff",
            "family": "Courier New, monospace",
            "size": 30
           },
           "type": "scatter",
           "x": [
            20,
            30,
            40,
            50,
            60,
            70,
            80,
            90,
            100
           ],
           "y": [
            5,
            5,
            5,
            5,
            5,
            5,
            5,
            5,
            5
           ]
          },
          {
           "hoverinfo": "none",
           "mode": "text",
           "showlegend": false,
           "text": [
            "10",
            "20",
            "30",
            "40",
            "50",
            "40",
            "30",
            "20",
            "10"
           ],
           "textfont": {
            "color": "#ffffff",
            "family": "Courier New, monospace",
            "size": 30
           },
           "type": "scatter",
           "x": [
            20,
            30,
            40,
            50,
            60,
            70,
            80,
            90,
            100
           ],
           "y": [
            48.5,
            48.5,
            48.5,
            48.5,
            48.5,
            48.5,
            48.5,
            48.5,
            48.5
           ]
          },
          {
           "hoverinfo": "none",
           "line": {
            "color": "blue",
            "dash": "dash"
           },
           "showlegend": false,
           "type": "scatter",
           "x": [
            68,
            68
           ],
           "y": [
            0,
            53.5
           ]
          },
          {
           "hoverinfo": "none",
           "line": {
            "color": "yellow",
            "dash": "dash"
           },
           "showlegend": false,
           "type": "scatter",
           "x": [
            74,
            74
           ],
           "y": [
            0,
            53.5
           ]
          },
          {
           "hoverinfo": "text",
           "hovertext": [
            "nflId:35459.0<br>displayName:Kareem Jackson<br>Route Ran:nan",
            "nflId:40347.0<br>displayName:Mike Purcell<br>Route Ran:nan",
            "nflId:42393.0<br>displayName:Ronald Darby<br>Route Ran:nan",
            "nflId:42826.0<br>displayName:DeShawn Williams<br>Route Ran:nan",
            "nflId:42929.0<br>displayName:Alex Singleton<br>Route Ran:nan",
            "nflId:43387.0<br>displayName:Justin Simmons<br>Route Ran:nan",
            "nflId:46074.0<br>displayName:Bradley Chubb<br>Route Ran:nan",
            "nflId:47854.0<br>displayName:Dre'Mont Jones<br>Route Ran:nan",
            "nflId:52706.0<br>displayName:Jonas Griffith<br>Route Ran:nan",
            "nflId:53438.0<br>displayName:Patrick Surtain<br>Route Ran:nan",
            "nflId:53534.0<br>displayName:Baron Browning<br>Route Ran:nan"
           ],
           "marker": {
            "color": "#FB4F14"
           },
           "mode": "markers",
           "name": "DEN",
           "type": "scatter",
           "x": [
            79.68,
            68.36,
            73.63,
            68.6,
            72.34,
            76.57,
            68.37,
            68.48,
            72.86,
            69.61,
            68.1
           ],
           "y": [
            28.72,
            23.41,
            15.3,
            25.98,
            20.52,
            18.05,
            29.69,
            20.69,
            24.86,
            35.19,
            15.98
           ]
          },
          {
           "hoverinfo": "text",
           "hovertext": [
            "nflId:39987.0<br>displayName:Geno Smith<br>Route Ran:nan",
            "nflId:41310.0<br>displayName:Gabe Jackson<br>Route Ran:nan",
            "nflId:43537.0<br>displayName:Austin Blythe<br>Route Ran:nan",
            "nflId:46096.0<br>displayName:Rashaad Penny<br>Route Ran:nan",
            "nflId:46189.0<br>displayName:Will Dissly<br>Route Ran:nan",
            "nflId:47803.0<br>displayName:Noah Fant<br>Route Ran:nan",
            "nflId:47847.0<br>displayName:DK Metcalf<br>Route Ran:nan",
            "nflId:47907.0<br>displayName:Phil Haynes<br>Route Ran:nan",
            "nflId:52541.0<br>displayName:Colby Parkinson<br>Route Ran:nan",
            "nflId:54474.0<br>displayName:Charles Cross<br>Route Ran:nan",
            "nflId:54537.0<br>displayName:Abraham Lucas<br>Route Ran:nan"
           ],
           "marker": {
            "color": "#69BE28"
           },
           "mode": "markers",
           "name": "SEA",
           "type": "scatter",
           "x": [
            66.09,
            66.9,
            67.68,
            60.46,
            66.58,
            65.65,
            66.94,
            67.13,
            65.88,
            66.61,
            66.85
           ],
           "y": [
            24.13,
            22.9,
            24.31,
            24.08,
            19.84,
            17.15,
            35.3,
            25.79,
            18.68,
            27.53,
            21.47
           ]
          },
          {
           "hoverinfo": "none",
           "marker": {
            "color": "#CBB67C"
           },
           "mode": "markers",
           "name": "football",
           "type": "scatter",
           "x": [
            66.2099990844727
           ],
           "y": [
            24.6599998474121
           ]
          }
         ],
         "name": "58"
        },
        {
         "data": [
          {
           "hoverinfo": "none",
           "mode": "text",
           "showlegend": false,
           "text": [
            "10",
            "20",
            "30",
            "40",
            "50",
            "40",
            "30",
            "20",
            "10"
           ],
           "textfont": {
            "color": "#ffffff",
            "family": "Courier New, monospace",
            "size": 30
           },
           "type": "scatter",
           "x": [
            20,
            30,
            40,
            50,
            60,
            70,
            80,
            90,
            100
           ],
           "y": [
            5,
            5,
            5,
            5,
            5,
            5,
            5,
            5,
            5
           ]
          },
          {
           "hoverinfo": "none",
           "mode": "text",
           "showlegend": false,
           "text": [
            "10",
            "20",
            "30",
            "40",
            "50",
            "40",
            "30",
            "20",
            "10"
           ],
           "textfont": {
            "color": "#ffffff",
            "family": "Courier New, monospace",
            "size": 30
           },
           "type": "scatter",
           "x": [
            20,
            30,
            40,
            50,
            60,
            70,
            80,
            90,
            100
           ],
           "y": [
            48.5,
            48.5,
            48.5,
            48.5,
            48.5,
            48.5,
            48.5,
            48.5,
            48.5
           ]
          },
          {
           "hoverinfo": "none",
           "line": {
            "color": "blue",
            "dash": "dash"
           },
           "showlegend": false,
           "type": "scatter",
           "x": [
            68,
            68
           ],
           "y": [
            0,
            53.5
           ]
          },
          {
           "hoverinfo": "none",
           "line": {
            "color": "yellow",
            "dash": "dash"
           },
           "showlegend": false,
           "type": "scatter",
           "x": [
            74,
            74
           ],
           "y": [
            0,
            53.5
           ]
          },
          {
           "hoverinfo": "text",
           "hovertext": [
            "nflId:35459.0<br>displayName:Kareem Jackson<br>Route Ran:nan",
            "nflId:40347.0<br>displayName:Mike Purcell<br>Route Ran:nan",
            "nflId:42393.0<br>displayName:Ronald Darby<br>Route Ran:nan",
            "nflId:42826.0<br>displayName:DeShawn Williams<br>Route Ran:nan",
            "nflId:42929.0<br>displayName:Alex Singleton<br>Route Ran:nan",
            "nflId:43387.0<br>displayName:Justin Simmons<br>Route Ran:nan",
            "nflId:46074.0<br>displayName:Bradley Chubb<br>Route Ran:nan",
            "nflId:47854.0<br>displayName:Dre'Mont Jones<br>Route Ran:nan",
            "nflId:52706.0<br>displayName:Jonas Griffith<br>Route Ran:nan",
            "nflId:53438.0<br>displayName:Patrick Surtain<br>Route Ran:nan",
            "nflId:53534.0<br>displayName:Baron Browning<br>Route Ran:nan"
           ],
           "marker": {
            "color": "#FB4F14"
           },
           "mode": "markers",
           "name": "DEN",
           "type": "scatter",
           "x": [
            79.85,
            68.26,
            73.64,
            68.57,
            72.3,
            76.33,
            68.24,
            68.41,
            72.81,
            69.59,
            68
           ],
           "y": [
            28.69,
            23.45,
            15.32,
            26.09,
            20.63,
            18.07,
            29.62,
            20.8,
            24.95,
            35.2,
            16.08
           ]
          },
          {
           "hoverinfo": "text",
           "hovertext": [
            "nflId:39987.0<br>displayName:Geno Smith<br>Route Ran:nan",
            "nflId:41310.0<br>displayName:Gabe Jackson<br>Route Ran:nan",
            "nflId:43537.0<br>displayName:Austin Blythe<br>Route Ran:nan",
            "nflId:46096.0<br>displayName:Rashaad Penny<br>Route Ran:nan",
            "nflId:46189.0<br>displayName:Will Dissly<br>Route Ran:nan",
            "nflId:47803.0<br>displayName:Noah Fant<br>Route Ran:nan",
            "nflId:47847.0<br>displayName:DK Metcalf<br>Route Ran:nan",
            "nflId:47907.0<br>displayName:Phil Haynes<br>Route Ran:nan",
            "nflId:52541.0<br>displayName:Colby Parkinson<br>Route Ran:nan",
            "nflId:54474.0<br>displayName:Charles Cross<br>Route Ran:nan",
            "nflId:54537.0<br>displayName:Abraham Lucas<br>Route Ran:nan"
           ],
           "marker": {
            "color": "#69BE28"
           },
           "mode": "markers",
           "name": "SEA",
           "type": "scatter",
           "x": [
            65.96,
            66.93,
            67.77,
            60.57,
            66.56,
            65.67,
            67.06,
            67.23,
            65.92,
            66.65,
            66.95
           ],
           "y": [
            24.23,
            23.07,
            24.4,
            24.21,
            20.02,
            17.24,
            35.36,
            25.91,
            18.82,
            27.66,
            21.65
           ]
          },
          {
           "hoverinfo": "none",
           "marker": {
            "color": "#CBB67C"
           },
           "mode": "markers",
           "name": "football",
           "type": "scatter",
           "x": [
            66.0199966430664
           ],
           "y": [
            24.7000007629395
           ]
          }
         ],
         "name": "59"
        },
        {
         "data": [
          {
           "hoverinfo": "none",
           "mode": "text",
           "showlegend": false,
           "text": [
            "10",
            "20",
            "30",
            "40",
            "50",
            "40",
            "30",
            "20",
            "10"
           ],
           "textfont": {
            "color": "#ffffff",
            "family": "Courier New, monospace",
            "size": 30
           },
           "type": "scatter",
           "x": [
            20,
            30,
            40,
            50,
            60,
            70,
            80,
            90,
            100
           ],
           "y": [
            5,
            5,
            5,
            5,
            5,
            5,
            5,
            5,
            5
           ]
          },
          {
           "hoverinfo": "none",
           "mode": "text",
           "showlegend": false,
           "text": [
            "10",
            "20",
            "30",
            "40",
            "50",
            "40",
            "30",
            "20",
            "10"
           ],
           "textfont": {
            "color": "#ffffff",
            "family": "Courier New, monospace",
            "size": 30
           },
           "type": "scatter",
           "x": [
            20,
            30,
            40,
            50,
            60,
            70,
            80,
            90,
            100
           ],
           "y": [
            48.5,
            48.5,
            48.5,
            48.5,
            48.5,
            48.5,
            48.5,
            48.5,
            48.5
           ]
          },
          {
           "hoverinfo": "none",
           "line": {
            "color": "blue",
            "dash": "dash"
           },
           "showlegend": false,
           "type": "scatter",
           "x": [
            68,
            68
           ],
           "y": [
            0,
            53.5
           ]
          },
          {
           "hoverinfo": "none",
           "line": {
            "color": "yellow",
            "dash": "dash"
           },
           "showlegend": false,
           "type": "scatter",
           "x": [
            74,
            74
           ],
           "y": [
            0,
            53.5
           ]
          },
          {
           "hoverinfo": "text",
           "hovertext": [
            "nflId:35459.0<br>displayName:Kareem Jackson<br>Route Ran:nan",
            "nflId:40347.0<br>displayName:Mike Purcell<br>Route Ran:nan",
            "nflId:42393.0<br>displayName:Ronald Darby<br>Route Ran:nan",
            "nflId:42826.0<br>displayName:DeShawn Williams<br>Route Ran:nan",
            "nflId:42929.0<br>displayName:Alex Singleton<br>Route Ran:nan",
            "nflId:43387.0<br>displayName:Justin Simmons<br>Route Ran:nan",
            "nflId:46074.0<br>displayName:Bradley Chubb<br>Route Ran:nan",
            "nflId:47854.0<br>displayName:Dre'Mont Jones<br>Route Ran:nan",
            "nflId:52706.0<br>displayName:Jonas Griffith<br>Route Ran:nan",
            "nflId:53438.0<br>displayName:Patrick Surtain<br>Route Ran:nan",
            "nflId:53534.0<br>displayName:Baron Browning<br>Route Ran:nan"
           ],
           "marker": {
            "color": "#FB4F14"
           },
           "mode": "markers",
           "name": "DEN",
           "type": "scatter",
           "x": [
            80.04,
            68.16,
            73.66,
            68.55,
            72.25,
            76.08,
            68.1,
            68.31,
            72.75,
            69.6,
            67.87
           ],
           "y": [
            28.65,
            23.52,
            15.36,
            26.23,
            20.79,
            18.1,
            29.55,
            20.95,
            25.06,
            35.23,
            16.22
           ]
          },
          {
           "hoverinfo": "text",
           "hovertext": [
            "nflId:39987.0<br>displayName:Geno Smith<br>Route Ran:nan",
            "nflId:41310.0<br>displayName:Gabe Jackson<br>Route Ran:nan",
            "nflId:43537.0<br>displayName:Austin Blythe<br>Route Ran:nan",
            "nflId:46096.0<br>displayName:Rashaad Penny<br>Route Ran:nan",
            "nflId:46189.0<br>displayName:Will Dissly<br>Route Ran:nan",
            "nflId:47803.0<br>displayName:Noah Fant<br>Route Ran:nan",
            "nflId:47847.0<br>displayName:DK Metcalf<br>Route Ran:nan",
            "nflId:47907.0<br>displayName:Phil Haynes<br>Route Ran:nan",
            "nflId:52541.0<br>displayName:Colby Parkinson<br>Route Ran:nan",
            "nflId:54474.0<br>displayName:Charles Cross<br>Route Ran:nan",
            "nflId:54537.0<br>displayName:Abraham Lucas<br>Route Ran:nan"
           ],
           "marker": {
            "color": "#69BE28"
           },
           "mode": "markers",
           "name": "SEA",
           "type": "scatter",
           "x": [
            65.8,
            66.96,
            67.86,
            60.71,
            66.55,
            65.71,
            67.19,
            67.34,
            65.98,
            66.7,
            67.07
           ],
           "y": [
            24.36,
            23.25,
            24.49,
            24.36,
            20.26,
            17.35,
            35.43,
            26.04,
            19.02,
            27.79,
            21.86
           ]
          },
          {
           "hoverinfo": "none",
           "marker": {
            "color": "#CBB67C"
           },
           "mode": "markers",
           "name": "football",
           "type": "scatter",
           "x": [
            65.7900009155273
           ],
           "y": [
            24.8400001525879
           ]
          }
         ],
         "name": "60"
        },
        {
         "data": [
          {
           "hoverinfo": "none",
           "mode": "text",
           "showlegend": false,
           "text": [
            "10",
            "20",
            "30",
            "40",
            "50",
            "40",
            "30",
            "20",
            "10"
           ],
           "textfont": {
            "color": "#ffffff",
            "family": "Courier New, monospace",
            "size": 30
           },
           "type": "scatter",
           "x": [
            20,
            30,
            40,
            50,
            60,
            70,
            80,
            90,
            100
           ],
           "y": [
            5,
            5,
            5,
            5,
            5,
            5,
            5,
            5,
            5
           ]
          },
          {
           "hoverinfo": "none",
           "mode": "text",
           "showlegend": false,
           "text": [
            "10",
            "20",
            "30",
            "40",
            "50",
            "40",
            "30",
            "20",
            "10"
           ],
           "textfont": {
            "color": "#ffffff",
            "family": "Courier New, monospace",
            "size": 30
           },
           "type": "scatter",
           "x": [
            20,
            30,
            40,
            50,
            60,
            70,
            80,
            90,
            100
           ],
           "y": [
            48.5,
            48.5,
            48.5,
            48.5,
            48.5,
            48.5,
            48.5,
            48.5,
            48.5
           ]
          },
          {
           "hoverinfo": "none",
           "line": {
            "color": "blue",
            "dash": "dash"
           },
           "showlegend": false,
           "type": "scatter",
           "x": [
            68,
            68
           ],
           "y": [
            0,
            53.5
           ]
          },
          {
           "hoverinfo": "none",
           "line": {
            "color": "yellow",
            "dash": "dash"
           },
           "showlegend": false,
           "type": "scatter",
           "x": [
            74,
            74
           ],
           "y": [
            0,
            53.5
           ]
          },
          {
           "hoverinfo": "text",
           "hovertext": [
            "nflId:35459.0<br>displayName:Kareem Jackson<br>Route Ran:nan",
            "nflId:40347.0<br>displayName:Mike Purcell<br>Route Ran:nan",
            "nflId:42393.0<br>displayName:Ronald Darby<br>Route Ran:nan",
            "nflId:42826.0<br>displayName:DeShawn Williams<br>Route Ran:nan",
            "nflId:42929.0<br>displayName:Alex Singleton<br>Route Ran:nan",
            "nflId:43387.0<br>displayName:Justin Simmons<br>Route Ran:nan",
            "nflId:46074.0<br>displayName:Bradley Chubb<br>Route Ran:nan",
            "nflId:47854.0<br>displayName:Dre'Mont Jones<br>Route Ran:nan",
            "nflId:52706.0<br>displayName:Jonas Griffith<br>Route Ran:nan",
            "nflId:53438.0<br>displayName:Patrick Surtain<br>Route Ran:nan",
            "nflId:53534.0<br>displayName:Baron Browning<br>Route Ran:nan"
           ],
           "marker": {
            "color": "#FB4F14"
           },
           "mode": "markers",
           "name": "DEN",
           "type": "scatter",
           "x": [
            80.26,
            68.06,
            73.67,
            68.54,
            72.19,
            75.81,
            67.94,
            68.19,
            72.67,
            69.63,
            67.72
           ],
           "y": [
            28.62,
            23.6,
            15.41,
            26.4,
            20.99,
            18.16,
            29.5,
            21.12,
            25.21,
            35.27,
            16.4
           ]
          },
          {
           "hoverinfo": "text",
           "hovertext": [
            "nflId:39987.0<br>displayName:Geno Smith<br>Route Ran:nan",
            "nflId:41310.0<br>displayName:Gabe Jackson<br>Route Ran:nan",
            "nflId:43537.0<br>displayName:Austin Blythe<br>Route Ran:nan",
            "nflId:46096.0<br>displayName:Rashaad Penny<br>Route Ran:nan",
            "nflId:46189.0<br>displayName:Will Dissly<br>Route Ran:nan",
            "nflId:47803.0<br>displayName:Noah Fant<br>Route Ran:nan",
            "nflId:47847.0<br>displayName:DK Metcalf<br>Route Ran:nan",
            "nflId:47907.0<br>displayName:Phil Haynes<br>Route Ran:nan",
            "nflId:52541.0<br>displayName:Colby Parkinson<br>Route Ran:nan",
            "nflId:54474.0<br>displayName:Charles Cross<br>Route Ran:nan",
            "nflId:54537.0<br>displayName:Abraham Lucas<br>Route Ran:nan"
           ],
           "marker": {
            "color": "#69BE28"
           },
           "mode": "markers",
           "name": "SEA",
           "type": "scatter",
           "x": [
            65.61,
            66.97,
            67.97,
            60.89,
            66.55,
            65.76,
            67.36,
            67.45,
            66.06,
            66.74,
            67.2
           ],
           "y": [
            24.52,
            23.45,
            24.6,
            24.53,
            20.55,
            17.5,
            35.54,
            26.17,
            19.24,
            27.93,
            22.08
           ]
          },
          {
           "hoverinfo": "none",
           "marker": {
            "color": "#CBB67C"
           },
           "mode": "markers",
           "name": "football",
           "type": "scatter",
           "x": [
            65.5199966430664
           ],
           "y": [
            25.0300006866455
           ]
          }
         ],
         "name": "61"
        },
        {
         "data": [
          {
           "hoverinfo": "none",
           "mode": "text",
           "showlegend": false,
           "text": [
            "10",
            "20",
            "30",
            "40",
            "50",
            "40",
            "30",
            "20",
            "10"
           ],
           "textfont": {
            "color": "#ffffff",
            "family": "Courier New, monospace",
            "size": 30
           },
           "type": "scatter",
           "x": [
            20,
            30,
            40,
            50,
            60,
            70,
            80,
            90,
            100
           ],
           "y": [
            5,
            5,
            5,
            5,
            5,
            5,
            5,
            5,
            5
           ]
          },
          {
           "hoverinfo": "none",
           "mode": "text",
           "showlegend": false,
           "text": [
            "10",
            "20",
            "30",
            "40",
            "50",
            "40",
            "30",
            "20",
            "10"
           ],
           "textfont": {
            "color": "#ffffff",
            "family": "Courier New, monospace",
            "size": 30
           },
           "type": "scatter",
           "x": [
            20,
            30,
            40,
            50,
            60,
            70,
            80,
            90,
            100
           ],
           "y": [
            48.5,
            48.5,
            48.5,
            48.5,
            48.5,
            48.5,
            48.5,
            48.5,
            48.5
           ]
          },
          {
           "hoverinfo": "none",
           "line": {
            "color": "blue",
            "dash": "dash"
           },
           "showlegend": false,
           "type": "scatter",
           "x": [
            68,
            68
           ],
           "y": [
            0,
            53.5
           ]
          },
          {
           "hoverinfo": "none",
           "line": {
            "color": "yellow",
            "dash": "dash"
           },
           "showlegend": false,
           "type": "scatter",
           "x": [
            74,
            74
           ],
           "y": [
            0,
            53.5
           ]
          },
          {
           "hoverinfo": "text",
           "hovertext": [
            "nflId:35459.0<br>displayName:Kareem Jackson<br>Route Ran:nan",
            "nflId:40347.0<br>displayName:Mike Purcell<br>Route Ran:nan",
            "nflId:42393.0<br>displayName:Ronald Darby<br>Route Ran:nan",
            "nflId:42826.0<br>displayName:DeShawn Williams<br>Route Ran:nan",
            "nflId:42929.0<br>displayName:Alex Singleton<br>Route Ran:nan",
            "nflId:43387.0<br>displayName:Justin Simmons<br>Route Ran:nan",
            "nflId:46074.0<br>displayName:Bradley Chubb<br>Route Ran:nan",
            "nflId:47854.0<br>displayName:Dre'Mont Jones<br>Route Ran:nan",
            "nflId:52706.0<br>displayName:Jonas Griffith<br>Route Ran:nan",
            "nflId:53438.0<br>displayName:Patrick Surtain<br>Route Ran:nan",
            "nflId:53534.0<br>displayName:Baron Browning<br>Route Ran:nan"
           ],
           "marker": {
            "color": "#FB4F14"
           },
           "mode": "markers",
           "name": "DEN",
           "type": "scatter",
           "x": [
            80.5,
            67.96,
            73.68,
            68.55,
            72.12,
            75.52,
            67.78,
            68.03,
            72.56,
            69.7,
            67.56
           ],
           "y": [
            28.58,
            23.7,
            15.49,
            26.58,
            21.24,
            18.25,
            29.45,
            21.31,
            25.39,
            35.34,
            16.62
           ]
          },
          {
           "hoverinfo": "text",
           "hovertext": [
            "nflId:39987.0<br>displayName:Geno Smith<br>Route Ran:nan",
            "nflId:41310.0<br>displayName:Gabe Jackson<br>Route Ran:nan",
            "nflId:43537.0<br>displayName:Austin Blythe<br>Route Ran:nan",
            "nflId:46096.0<br>displayName:Rashaad Penny<br>Route Ran:nan",
            "nflId:46189.0<br>displayName:Will Dissly<br>Route Ran:nan",
            "nflId:47803.0<br>displayName:Noah Fant<br>Route Ran:nan",
            "nflId:47847.0<br>displayName:DK Metcalf<br>Route Ran:nan",
            "nflId:47907.0<br>displayName:Phil Haynes<br>Route Ran:nan",
            "nflId:52541.0<br>displayName:Colby Parkinson<br>Route Ran:nan",
            "nflId:54474.0<br>displayName:Charles Cross<br>Route Ran:nan",
            "nflId:54537.0<br>displayName:Abraham Lucas<br>Route Ran:nan"
           ],
           "marker": {
            "color": "#69BE28"
           },
           "mode": "markers",
           "name": "SEA",
           "type": "scatter",
           "x": [
            65.38,
            66.98,
            68.1,
            61.1,
            66.55,
            65.83,
            67.56,
            67.57,
            66.16,
            66.78,
            67.35
           ],
           "y": [
            24.7,
            23.67,
            24.75,
            24.73,
            20.87,
            17.68,
            35.67,
            26.33,
            19.5,
            28.06,
            22.33
           ]
          },
          {
           "hoverinfo": "none",
           "marker": {
            "color": "#CBB67C"
           },
           "mode": "markers",
           "name": "football",
           "type": "scatter",
           "x": [
            65.1900024414062
           ],
           "y": [
            25.25
           ]
          }
         ],
         "name": "62"
        },
        {
         "data": [
          {
           "hoverinfo": "none",
           "mode": "text",
           "showlegend": false,
           "text": [
            "10",
            "20",
            "30",
            "40",
            "50",
            "40",
            "30",
            "20",
            "10"
           ],
           "textfont": {
            "color": "#ffffff",
            "family": "Courier New, monospace",
            "size": 30
           },
           "type": "scatter",
           "x": [
            20,
            30,
            40,
            50,
            60,
            70,
            80,
            90,
            100
           ],
           "y": [
            5,
            5,
            5,
            5,
            5,
            5,
            5,
            5,
            5
           ]
          },
          {
           "hoverinfo": "none",
           "mode": "text",
           "showlegend": false,
           "text": [
            "10",
            "20",
            "30",
            "40",
            "50",
            "40",
            "30",
            "20",
            "10"
           ],
           "textfont": {
            "color": "#ffffff",
            "family": "Courier New, monospace",
            "size": 30
           },
           "type": "scatter",
           "x": [
            20,
            30,
            40,
            50,
            60,
            70,
            80,
            90,
            100
           ],
           "y": [
            48.5,
            48.5,
            48.5,
            48.5,
            48.5,
            48.5,
            48.5,
            48.5,
            48.5
           ]
          },
          {
           "hoverinfo": "none",
           "line": {
            "color": "blue",
            "dash": "dash"
           },
           "showlegend": false,
           "type": "scatter",
           "x": [
            68,
            68
           ],
           "y": [
            0,
            53.5
           ]
          },
          {
           "hoverinfo": "none",
           "line": {
            "color": "yellow",
            "dash": "dash"
           },
           "showlegend": false,
           "type": "scatter",
           "x": [
            74,
            74
           ],
           "y": [
            0,
            53.5
           ]
          },
          {
           "hoverinfo": "text",
           "hovertext": [
            "nflId:35459.0<br>displayName:Kareem Jackson<br>Route Ran:nan",
            "nflId:40347.0<br>displayName:Mike Purcell<br>Route Ran:nan",
            "nflId:42393.0<br>displayName:Ronald Darby<br>Route Ran:nan",
            "nflId:42826.0<br>displayName:DeShawn Williams<br>Route Ran:nan",
            "nflId:42929.0<br>displayName:Alex Singleton<br>Route Ran:nan",
            "nflId:43387.0<br>displayName:Justin Simmons<br>Route Ran:nan",
            "nflId:46074.0<br>displayName:Bradley Chubb<br>Route Ran:nan",
            "nflId:47854.0<br>displayName:Dre'Mont Jones<br>Route Ran:nan",
            "nflId:52706.0<br>displayName:Jonas Griffith<br>Route Ran:nan",
            "nflId:53438.0<br>displayName:Patrick Surtain<br>Route Ran:nan",
            "nflId:53534.0<br>displayName:Baron Browning<br>Route Ran:nan"
           ],
           "marker": {
            "color": "#FB4F14"
           },
           "mode": "markers",
           "name": "DEN",
           "type": "scatter",
           "x": [
            80.76,
            67.88,
            73.68,
            68.58,
            72.05,
            75.21,
            67.6,
            67.84,
            72.43,
            69.81,
            67.39
           ],
           "y": [
            28.54,
            23.83,
            15.59,
            26.79,
            21.52,
            18.37,
            29.42,
            21.52,
            25.6,
            35.43,
            16.88
           ]
          },
          {
           "hoverinfo": "text",
           "hovertext": [
            "nflId:39987.0<br>displayName:Geno Smith<br>Route Ran:nan",
            "nflId:41310.0<br>displayName:Gabe Jackson<br>Route Ran:nan",
            "nflId:43537.0<br>displayName:Austin Blythe<br>Route Ran:nan",
            "nflId:46096.0<br>displayName:Rashaad Penny<br>Route Ran:nan",
            "nflId:46189.0<br>displayName:Will Dissly<br>Route Ran:nan",
            "nflId:47803.0<br>displayName:Noah Fant<br>Route Ran:nan",
            "nflId:47847.0<br>displayName:DK Metcalf<br>Route Ran:nan",
            "nflId:47907.0<br>displayName:Phil Haynes<br>Route Ran:nan",
            "nflId:52541.0<br>displayName:Colby Parkinson<br>Route Ran:nan",
            "nflId:54474.0<br>displayName:Charles Cross<br>Route Ran:nan",
            "nflId:54537.0<br>displayName:Abraham Lucas<br>Route Ran:nan"
           ],
           "marker": {
            "color": "#69BE28"
           },
           "mode": "markers",
           "name": "SEA",
           "type": "scatter",
           "x": [
            65.12,
            66.98,
            68.24,
            61.35,
            66.58,
            65.89,
            67.8,
            67.69,
            66.3,
            66.8,
            67.51
           ],
           "y": [
            24.89,
            23.9,
            24.92,
            24.96,
            21.23,
            17.89,
            35.83,
            26.5,
            19.8,
            28.17,
            22.58
           ]
          },
          {
           "hoverinfo": "none",
           "marker": {
            "color": "#CBB67C"
           },
           "mode": "markers",
           "name": "football",
           "type": "scatter",
           "x": [
            64.8499984741211
           ],
           "y": [
            25.5100002288818
           ]
          }
         ],
         "name": "63"
        },
        {
         "data": [
          {
           "hoverinfo": "none",
           "mode": "text",
           "showlegend": false,
           "text": [
            "10",
            "20",
            "30",
            "40",
            "50",
            "40",
            "30",
            "20",
            "10"
           ],
           "textfont": {
            "color": "#ffffff",
            "family": "Courier New, monospace",
            "size": 30
           },
           "type": "scatter",
           "x": [
            20,
            30,
            40,
            50,
            60,
            70,
            80,
            90,
            100
           ],
           "y": [
            5,
            5,
            5,
            5,
            5,
            5,
            5,
            5,
            5
           ]
          },
          {
           "hoverinfo": "none",
           "mode": "text",
           "showlegend": false,
           "text": [
            "10",
            "20",
            "30",
            "40",
            "50",
            "40",
            "30",
            "20",
            "10"
           ],
           "textfont": {
            "color": "#ffffff",
            "family": "Courier New, monospace",
            "size": 30
           },
           "type": "scatter",
           "x": [
            20,
            30,
            40,
            50,
            60,
            70,
            80,
            90,
            100
           ],
           "y": [
            48.5,
            48.5,
            48.5,
            48.5,
            48.5,
            48.5,
            48.5,
            48.5,
            48.5
           ]
          },
          {
           "hoverinfo": "none",
           "line": {
            "color": "blue",
            "dash": "dash"
           },
           "showlegend": false,
           "type": "scatter",
           "x": [
            68,
            68
           ],
           "y": [
            0,
            53.5
           ]
          },
          {
           "hoverinfo": "none",
           "line": {
            "color": "yellow",
            "dash": "dash"
           },
           "showlegend": false,
           "type": "scatter",
           "x": [
            74,
            74
           ],
           "y": [
            0,
            53.5
           ]
          },
          {
           "hoverinfo": "text",
           "hovertext": [
            "nflId:35459.0<br>displayName:Kareem Jackson<br>Route Ran:nan",
            "nflId:40347.0<br>displayName:Mike Purcell<br>Route Ran:nan",
            "nflId:42393.0<br>displayName:Ronald Darby<br>Route Ran:nan",
            "nflId:42826.0<br>displayName:DeShawn Williams<br>Route Ran:nan",
            "nflId:42929.0<br>displayName:Alex Singleton<br>Route Ran:nan",
            "nflId:43387.0<br>displayName:Justin Simmons<br>Route Ran:nan",
            "nflId:46074.0<br>displayName:Bradley Chubb<br>Route Ran:nan",
            "nflId:47854.0<br>displayName:Dre'Mont Jones<br>Route Ran:nan",
            "nflId:52706.0<br>displayName:Jonas Griffith<br>Route Ran:nan",
            "nflId:53438.0<br>displayName:Patrick Surtain<br>Route Ran:nan",
            "nflId:53534.0<br>displayName:Baron Browning<br>Route Ran:nan"
           ],
           "marker": {
            "color": "#FB4F14"
           },
           "mode": "markers",
           "name": "DEN",
           "type": "scatter",
           "x": [
            81.04,
            67.8,
            73.67,
            68.62,
            71.98,
            74.9,
            67.43,
            67.63,
            72.27,
            69.94,
            67.24
           ],
           "y": [
            28.51,
            23.97,
            15.72,
            27,
            21.85,
            18.53,
            29.41,
            21.73,
            25.84,
            35.54,
            17.19
           ]
          },
          {
           "hoverinfo": "text",
           "hovertext": [
            "nflId:39987.0<br>displayName:Geno Smith<br>Route Ran:nan",
            "nflId:41310.0<br>displayName:Gabe Jackson<br>Route Ran:nan",
            "nflId:43537.0<br>displayName:Austin Blythe<br>Route Ran:nan",
            "nflId:46096.0<br>displayName:Rashaad Penny<br>Route Ran:nan",
            "nflId:46189.0<br>displayName:Will Dissly<br>Route Ran:nan",
            "nflId:47803.0<br>displayName:Noah Fant<br>Route Ran:nan",
            "nflId:47847.0<br>displayName:DK Metcalf<br>Route Ran:nan",
            "nflId:47907.0<br>displayName:Phil Haynes<br>Route Ran:nan",
            "nflId:52541.0<br>displayName:Colby Parkinson<br>Route Ran:nan",
            "nflId:54474.0<br>displayName:Charles Cross<br>Route Ran:nan",
            "nflId:54537.0<br>displayName:Abraham Lucas<br>Route Ran:nan"
           ],
           "marker": {
            "color": "#69BE28"
           },
           "mode": "markers",
           "name": "SEA",
           "type": "scatter",
           "x": [
            64.81,
            66.97,
            68.4,
            61.63,
            66.62,
            65.96,
            68.09,
            67.81,
            66.46,
            66.82,
            67.73
           ],
           "y": [
            25.09,
            24.15,
            25.12,
            25.2,
            21.62,
            18.13,
            36.01,
            26.68,
            20.12,
            28.28,
            22.86
           ]
          },
          {
           "hoverinfo": "none",
           "marker": {
            "color": "#CBB67C"
           },
           "mode": "markers",
           "name": "football",
           "type": "scatter",
           "x": [
            64.5800018310547
           ],
           "y": [
            25.7600002288818
           ]
          }
         ],
         "name": "64"
        },
        {
         "data": [
          {
           "hoverinfo": "none",
           "mode": "text",
           "showlegend": false,
           "text": [
            "10",
            "20",
            "30",
            "40",
            "50",
            "40",
            "30",
            "20",
            "10"
           ],
           "textfont": {
            "color": "#ffffff",
            "family": "Courier New, monospace",
            "size": 30
           },
           "type": "scatter",
           "x": [
            20,
            30,
            40,
            50,
            60,
            70,
            80,
            90,
            100
           ],
           "y": [
            5,
            5,
            5,
            5,
            5,
            5,
            5,
            5,
            5
           ]
          },
          {
           "hoverinfo": "none",
           "mode": "text",
           "showlegend": false,
           "text": [
            "10",
            "20",
            "30",
            "40",
            "50",
            "40",
            "30",
            "20",
            "10"
           ],
           "textfont": {
            "color": "#ffffff",
            "family": "Courier New, monospace",
            "size": 30
           },
           "type": "scatter",
           "x": [
            20,
            30,
            40,
            50,
            60,
            70,
            80,
            90,
            100
           ],
           "y": [
            48.5,
            48.5,
            48.5,
            48.5,
            48.5,
            48.5,
            48.5,
            48.5,
            48.5
           ]
          },
          {
           "hoverinfo": "none",
           "line": {
            "color": "blue",
            "dash": "dash"
           },
           "showlegend": false,
           "type": "scatter",
           "x": [
            68,
            68
           ],
           "y": [
            0,
            53.5
           ]
          },
          {
           "hoverinfo": "none",
           "line": {
            "color": "yellow",
            "dash": "dash"
           },
           "showlegend": false,
           "type": "scatter",
           "x": [
            74,
            74
           ],
           "y": [
            0,
            53.5
           ]
          },
          {
           "hoverinfo": "text",
           "hovertext": [
            "nflId:35459.0<br>displayName:Kareem Jackson<br>Route Ran:nan",
            "nflId:40347.0<br>displayName:Mike Purcell<br>Route Ran:nan",
            "nflId:42393.0<br>displayName:Ronald Darby<br>Route Ran:nan",
            "nflId:42826.0<br>displayName:DeShawn Williams<br>Route Ran:nan",
            "nflId:42929.0<br>displayName:Alex Singleton<br>Route Ran:nan",
            "nflId:43387.0<br>displayName:Justin Simmons<br>Route Ran:nan",
            "nflId:46074.0<br>displayName:Bradley Chubb<br>Route Ran:nan",
            "nflId:47854.0<br>displayName:Dre'Mont Jones<br>Route Ran:nan",
            "nflId:52706.0<br>displayName:Jonas Griffith<br>Route Ran:nan",
            "nflId:53438.0<br>displayName:Patrick Surtain<br>Route Ran:nan",
            "nflId:53534.0<br>displayName:Baron Browning<br>Route Ran:nan"
           ],
           "marker": {
            "color": "#FB4F14"
           },
           "mode": "markers",
           "name": "DEN",
           "type": "scatter",
           "x": [
            81.34,
            67.73,
            73.65,
            68.67,
            71.9,
            74.58,
            67.28,
            67.39,
            72.09,
            70.1,
            67.09
           ],
           "y": [
            28.48,
            24.14,
            15.88,
            27.23,
            22.2,
            18.72,
            29.41,
            21.94,
            26.09,
            35.66,
            17.53
           ]
          },
          {
           "hoverinfo": "text",
           "hovertext": [
            "nflId:39987.0<br>displayName:Geno Smith<br>Route Ran:nan",
            "nflId:41310.0<br>displayName:Gabe Jackson<br>Route Ran:nan",
            "nflId:43537.0<br>displayName:Austin Blythe<br>Route Ran:nan",
            "nflId:46096.0<br>displayName:Rashaad Penny<br>Route Ran:nan",
            "nflId:46189.0<br>displayName:Will Dissly<br>Route Ran:nan",
            "nflId:47803.0<br>displayName:Noah Fant<br>Route Ran:nan",
            "nflId:47847.0<br>displayName:DK Metcalf<br>Route Ran:nan",
            "nflId:47907.0<br>displayName:Phil Haynes<br>Route Ran:nan",
            "nflId:52541.0<br>displayName:Colby Parkinson<br>Route Ran:nan",
            "nflId:54474.0<br>displayName:Charles Cross<br>Route Ran:nan",
            "nflId:54537.0<br>displayName:Abraham Lucas<br>Route Ran:nan"
           ],
           "marker": {
            "color": "#69BE28"
           },
           "mode": "markers",
           "name": "SEA",
           "type": "scatter",
           "x": [
            64.48,
            66.96,
            68.57,
            61.95,
            66.67,
            66.03,
            68.42,
            67.92,
            66.64,
            66.84,
            67.94
           ],
           "y": [
            25.28,
            24.39,
            25.34,
            25.47,
            22.03,
            18.42,
            36.2,
            26.87,
            20.46,
            28.37,
            23.14
           ]
          },
          {
           "hoverinfo": "none",
           "marker": {
            "color": "#CBB67C"
           },
           "mode": "markers",
           "name": "football",
           "type": "scatter",
           "x": [
            64.4400024414062
           ],
           "y": [
            26.0200004577637
           ]
          }
         ],
         "name": "65"
        },
        {
         "data": [
          {
           "hoverinfo": "none",
           "mode": "text",
           "showlegend": false,
           "text": [
            "10",
            "20",
            "30",
            "40",
            "50",
            "40",
            "30",
            "20",
            "10"
           ],
           "textfont": {
            "color": "#ffffff",
            "family": "Courier New, monospace",
            "size": 30
           },
           "type": "scatter",
           "x": [
            20,
            30,
            40,
            50,
            60,
            70,
            80,
            90,
            100
           ],
           "y": [
            5,
            5,
            5,
            5,
            5,
            5,
            5,
            5,
            5
           ]
          },
          {
           "hoverinfo": "none",
           "mode": "text",
           "showlegend": false,
           "text": [
            "10",
            "20",
            "30",
            "40",
            "50",
            "40",
            "30",
            "20",
            "10"
           ],
           "textfont": {
            "color": "#ffffff",
            "family": "Courier New, monospace",
            "size": 30
           },
           "type": "scatter",
           "x": [
            20,
            30,
            40,
            50,
            60,
            70,
            80,
            90,
            100
           ],
           "y": [
            48.5,
            48.5,
            48.5,
            48.5,
            48.5,
            48.5,
            48.5,
            48.5,
            48.5
           ]
          },
          {
           "hoverinfo": "none",
           "line": {
            "color": "blue",
            "dash": "dash"
           },
           "showlegend": false,
           "type": "scatter",
           "x": [
            68,
            68
           ],
           "y": [
            0,
            53.5
           ]
          },
          {
           "hoverinfo": "none",
           "line": {
            "color": "yellow",
            "dash": "dash"
           },
           "showlegend": false,
           "type": "scatter",
           "x": [
            74,
            74
           ],
           "y": [
            0,
            53.5
           ]
          },
          {
           "hoverinfo": "text",
           "hovertext": [
            "nflId:35459.0<br>displayName:Kareem Jackson<br>Route Ran:nan",
            "nflId:40347.0<br>displayName:Mike Purcell<br>Route Ran:nan",
            "nflId:42393.0<br>displayName:Ronald Darby<br>Route Ran:nan",
            "nflId:42826.0<br>displayName:DeShawn Williams<br>Route Ran:nan",
            "nflId:42929.0<br>displayName:Alex Singleton<br>Route Ran:nan",
            "nflId:43387.0<br>displayName:Justin Simmons<br>Route Ran:nan",
            "nflId:46074.0<br>displayName:Bradley Chubb<br>Route Ran:nan",
            "nflId:47854.0<br>displayName:Dre'Mont Jones<br>Route Ran:nan",
            "nflId:52706.0<br>displayName:Jonas Griffith<br>Route Ran:nan",
            "nflId:53438.0<br>displayName:Patrick Surtain<br>Route Ran:nan",
            "nflId:53534.0<br>displayName:Baron Browning<br>Route Ran:nan"
           ],
           "marker": {
            "color": "#FB4F14"
           },
           "mode": "markers",
           "name": "DEN",
           "type": "scatter",
           "x": [
            81.64,
            67.68,
            73.6,
            68.73,
            71.83,
            74.26,
            67.14,
            67.13,
            71.88,
            70.29,
            66.97
           ],
           "y": [
            28.46,
            24.34,
            16.07,
            27.45,
            22.58,
            18.95,
            29.42,
            22.14,
            26.34,
            35.81,
            17.92
           ]
          },
          {
           "hoverinfo": "text",
           "hovertext": [
            "nflId:39987.0<br>displayName:Geno Smith<br>Route Ran:nan",
            "nflId:41310.0<br>displayName:Gabe Jackson<br>Route Ran:nan",
            "nflId:43537.0<br>displayName:Austin Blythe<br>Route Ran:nan",
            "nflId:46096.0<br>displayName:Rashaad Penny<br>Route Ran:nan",
            "nflId:46189.0<br>displayName:Will Dissly<br>Route Ran:nan",
            "nflId:47803.0<br>displayName:Noah Fant<br>Route Ran:nan",
            "nflId:47847.0<br>displayName:DK Metcalf<br>Route Ran:nan",
            "nflId:47907.0<br>displayName:Phil Haynes<br>Route Ran:nan",
            "nflId:52541.0<br>displayName:Colby Parkinson<br>Route Ran:nan",
            "nflId:54474.0<br>displayName:Charles Cross<br>Route Ran:nan",
            "nflId:54537.0<br>displayName:Abraham Lucas<br>Route Ran:nan"
           ],
           "marker": {
            "color": "#69BE28"
           },
           "mode": "markers",
           "name": "SEA",
           "type": "scatter",
           "x": [
            64.11,
            66.95,
            68.75,
            62.31,
            66.73,
            66.09,
            68.78,
            68.04,
            66.85,
            66.85,
            68.19
           ],
           "y": [
            25.46,
            24.64,
            25.59,
            25.75,
            22.45,
            18.74,
            36.38,
            27.08,
            20.81,
            28.46,
            23.43
           ]
          },
          {
           "hoverinfo": "none",
           "marker": {
            "color": "#CBB67C"
           },
           "mode": "markers",
           "name": "football",
           "type": "scatter",
           "x": [
            64.3300018310547
           ],
           "y": [
            26.2700004577637
           ]
          }
         ],
         "name": "66"
        },
        {
         "data": [
          {
           "hoverinfo": "none",
           "mode": "text",
           "showlegend": false,
           "text": [
            "10",
            "20",
            "30",
            "40",
            "50",
            "40",
            "30",
            "20",
            "10"
           ],
           "textfont": {
            "color": "#ffffff",
            "family": "Courier New, monospace",
            "size": 30
           },
           "type": "scatter",
           "x": [
            20,
            30,
            40,
            50,
            60,
            70,
            80,
            90,
            100
           ],
           "y": [
            5,
            5,
            5,
            5,
            5,
            5,
            5,
            5,
            5
           ]
          },
          {
           "hoverinfo": "none",
           "mode": "text",
           "showlegend": false,
           "text": [
            "10",
            "20",
            "30",
            "40",
            "50",
            "40",
            "30",
            "20",
            "10"
           ],
           "textfont": {
            "color": "#ffffff",
            "family": "Courier New, monospace",
            "size": 30
           },
           "type": "scatter",
           "x": [
            20,
            30,
            40,
            50,
            60,
            70,
            80,
            90,
            100
           ],
           "y": [
            48.5,
            48.5,
            48.5,
            48.5,
            48.5,
            48.5,
            48.5,
            48.5,
            48.5
           ]
          },
          {
           "hoverinfo": "none",
           "line": {
            "color": "blue",
            "dash": "dash"
           },
           "showlegend": false,
           "type": "scatter",
           "x": [
            68,
            68
           ],
           "y": [
            0,
            53.5
           ]
          },
          {
           "hoverinfo": "none",
           "line": {
            "color": "yellow",
            "dash": "dash"
           },
           "showlegend": false,
           "type": "scatter",
           "x": [
            74,
            74
           ],
           "y": [
            0,
            53.5
           ]
          },
          {
           "hoverinfo": "text",
           "hovertext": [
            "nflId:35459.0<br>displayName:Kareem Jackson<br>Route Ran:nan",
            "nflId:40347.0<br>displayName:Mike Purcell<br>Route Ran:nan",
            "nflId:42393.0<br>displayName:Ronald Darby<br>Route Ran:nan",
            "nflId:42826.0<br>displayName:DeShawn Williams<br>Route Ran:nan",
            "nflId:42929.0<br>displayName:Alex Singleton<br>Route Ran:nan",
            "nflId:43387.0<br>displayName:Justin Simmons<br>Route Ran:nan",
            "nflId:46074.0<br>displayName:Bradley Chubb<br>Route Ran:nan",
            "nflId:47854.0<br>displayName:Dre'Mont Jones<br>Route Ran:nan",
            "nflId:52706.0<br>displayName:Jonas Griffith<br>Route Ran:nan",
            "nflId:53438.0<br>displayName:Patrick Surtain<br>Route Ran:nan",
            "nflId:53534.0<br>displayName:Baron Browning<br>Route Ran:nan"
           ],
           "marker": {
            "color": "#FB4F14"
           },
           "mode": "markers",
           "name": "DEN",
           "type": "scatter",
           "x": [
            81.94,
            67.66,
            73.54,
            68.8,
            71.75,
            73.93,
            67.01,
            66.84,
            71.66,
            70.51,
            66.88
           ],
           "y": [
            28.47,
            24.56,
            16.3,
            27.68,
            22.98,
            19.23,
            29.45,
            22.33,
            26.59,
            35.98,
            18.32
           ]
          },
          {
           "hoverinfo": "text",
           "hovertext": [
            "nflId:39987.0<br>displayName:Geno Smith<br>Route Ran:nan",
            "nflId:41310.0<br>displayName:Gabe Jackson<br>Route Ran:nan",
            "nflId:43537.0<br>displayName:Austin Blythe<br>Route Ran:nan",
            "nflId:46096.0<br>displayName:Rashaad Penny<br>Route Ran:nan",
            "nflId:46189.0<br>displayName:Will Dissly<br>Route Ran:nan",
            "nflId:47803.0<br>displayName:Noah Fant<br>Route Ran:nan",
            "nflId:47847.0<br>displayName:DK Metcalf<br>Route Ran:nan",
            "nflId:47907.0<br>displayName:Phil Haynes<br>Route Ran:nan",
            "nflId:52541.0<br>displayName:Colby Parkinson<br>Route Ran:nan",
            "nflId:54474.0<br>displayName:Charles Cross<br>Route Ran:nan",
            "nflId:54537.0<br>displayName:Abraham Lucas<br>Route Ran:nan"
           ],
           "marker": {
            "color": "#69BE28"
           },
           "mode": "markers",
           "name": "SEA",
           "type": "scatter",
           "x": [
            63.71,
            66.95,
            68.93,
            62.72,
            66.8,
            66.15,
            69.17,
            68.16,
            67.09,
            66.86,
            68.44
           ],
           "y": [
            25.62,
            24.89,
            25.86,
            26.04,
            22.87,
            19.09,
            36.57,
            27.3,
            21.17,
            28.54,
            23.73
           ]
          },
          {
           "hoverinfo": "none",
           "marker": {
            "color": "#CBB67C"
           },
           "mode": "markers",
           "name": "football",
           "type": "scatter",
           "x": [
            64.2799987792969
           ],
           "y": [
            26.5200004577637
           ]
          }
         ],
         "name": "67"
        },
        {
         "data": [
          {
           "hoverinfo": "none",
           "mode": "text",
           "showlegend": false,
           "text": [
            "10",
            "20",
            "30",
            "40",
            "50",
            "40",
            "30",
            "20",
            "10"
           ],
           "textfont": {
            "color": "#ffffff",
            "family": "Courier New, monospace",
            "size": 30
           },
           "type": "scatter",
           "x": [
            20,
            30,
            40,
            50,
            60,
            70,
            80,
            90,
            100
           ],
           "y": [
            5,
            5,
            5,
            5,
            5,
            5,
            5,
            5,
            5
           ]
          },
          {
           "hoverinfo": "none",
           "mode": "text",
           "showlegend": false,
           "text": [
            "10",
            "20",
            "30",
            "40",
            "50",
            "40",
            "30",
            "20",
            "10"
           ],
           "textfont": {
            "color": "#ffffff",
            "family": "Courier New, monospace",
            "size": 30
           },
           "type": "scatter",
           "x": [
            20,
            30,
            40,
            50,
            60,
            70,
            80,
            90,
            100
           ],
           "y": [
            48.5,
            48.5,
            48.5,
            48.5,
            48.5,
            48.5,
            48.5,
            48.5,
            48.5
           ]
          },
          {
           "hoverinfo": "none",
           "line": {
            "color": "blue",
            "dash": "dash"
           },
           "showlegend": false,
           "type": "scatter",
           "x": [
            68,
            68
           ],
           "y": [
            0,
            53.5
           ]
          },
          {
           "hoverinfo": "none",
           "line": {
            "color": "yellow",
            "dash": "dash"
           },
           "showlegend": false,
           "type": "scatter",
           "x": [
            74,
            74
           ],
           "y": [
            0,
            53.5
           ]
          },
          {
           "hoverinfo": "text",
           "hovertext": [
            "nflId:35459.0<br>displayName:Kareem Jackson<br>Route Ran:nan",
            "nflId:40347.0<br>displayName:Mike Purcell<br>Route Ran:nan",
            "nflId:42393.0<br>displayName:Ronald Darby<br>Route Ran:nan",
            "nflId:42826.0<br>displayName:DeShawn Williams<br>Route Ran:nan",
            "nflId:42929.0<br>displayName:Alex Singleton<br>Route Ran:nan",
            "nflId:43387.0<br>displayName:Justin Simmons<br>Route Ran:nan",
            "nflId:46074.0<br>displayName:Bradley Chubb<br>Route Ran:nan",
            "nflId:47854.0<br>displayName:Dre'Mont Jones<br>Route Ran:nan",
            "nflId:52706.0<br>displayName:Jonas Griffith<br>Route Ran:nan",
            "nflId:53438.0<br>displayName:Patrick Surtain<br>Route Ran:nan",
            "nflId:53534.0<br>displayName:Baron Browning<br>Route Ran:nan"
           ],
           "marker": {
            "color": "#FB4F14"
           },
           "mode": "markers",
           "name": "DEN",
           "type": "scatter",
           "x": [
            82.23,
            67.65,
            73.45,
            68.88,
            71.67,
            73.61,
            66.92,
            66.57,
            71.42,
            70.76,
            66.8
           ],
           "y": [
            28.49,
            24.8,
            16.57,
            27.9,
            23.4,
            19.53,
            29.5,
            22.53,
            26.85,
            36.15,
            18.75
           ]
          },
          {
           "hoverinfo": "text",
           "hovertext": [
            "nflId:39987.0<br>displayName:Geno Smith<br>Route Ran:nan",
            "nflId:41310.0<br>displayName:Gabe Jackson<br>Route Ran:nan",
            "nflId:43537.0<br>displayName:Austin Blythe<br>Route Ran:nan",
            "nflId:46096.0<br>displayName:Rashaad Penny<br>Route Ran:nan",
            "nflId:46189.0<br>displayName:Will Dissly<br>Route Ran:nan",
            "nflId:47803.0<br>displayName:Noah Fant<br>Route Ran:nan",
            "nflId:47847.0<br>displayName:DK Metcalf<br>Route Ran:nan",
            "nflId:47907.0<br>displayName:Phil Haynes<br>Route Ran:nan",
            "nflId:52541.0<br>displayName:Colby Parkinson<br>Route Ran:nan",
            "nflId:54474.0<br>displayName:Charles Cross<br>Route Ran:nan",
            "nflId:54537.0<br>displayName:Abraham Lucas<br>Route Ran:nan"
           ],
           "marker": {
            "color": "#69BE28"
           },
           "mode": "markers",
           "name": "SEA",
           "type": "scatter",
           "x": [
            63.29,
            66.97,
            69.09,
            63.16,
            66.88,
            66.2,
            69.57,
            68.26,
            67.36,
            66.86,
            68.73
           ],
           "y": [
            25.74,
            25.15,
            26.14,
            26.34,
            23.28,
            19.47,
            36.75,
            27.51,
            21.53,
            28.61,
            24.05
           ]
          },
          {
           "hoverinfo": "none",
           "marker": {
            "color": "#CBB67C"
           },
           "mode": "markers",
           "name": "football",
           "type": "scatter",
           "x": [
            64.3199996948242
           ],
           "y": [
            26.7700004577637
           ]
          }
         ],
         "name": "68"
        },
        {
         "data": [
          {
           "hoverinfo": "none",
           "mode": "text",
           "showlegend": false,
           "text": [
            "10",
            "20",
            "30",
            "40",
            "50",
            "40",
            "30",
            "20",
            "10"
           ],
           "textfont": {
            "color": "#ffffff",
            "family": "Courier New, monospace",
            "size": 30
           },
           "type": "scatter",
           "x": [
            20,
            30,
            40,
            50,
            60,
            70,
            80,
            90,
            100
           ],
           "y": [
            5,
            5,
            5,
            5,
            5,
            5,
            5,
            5,
            5
           ]
          },
          {
           "hoverinfo": "none",
           "mode": "text",
           "showlegend": false,
           "text": [
            "10",
            "20",
            "30",
            "40",
            "50",
            "40",
            "30",
            "20",
            "10"
           ],
           "textfont": {
            "color": "#ffffff",
            "family": "Courier New, monospace",
            "size": 30
           },
           "type": "scatter",
           "x": [
            20,
            30,
            40,
            50,
            60,
            70,
            80,
            90,
            100
           ],
           "y": [
            48.5,
            48.5,
            48.5,
            48.5,
            48.5,
            48.5,
            48.5,
            48.5,
            48.5
           ]
          },
          {
           "hoverinfo": "none",
           "line": {
            "color": "blue",
            "dash": "dash"
           },
           "showlegend": false,
           "type": "scatter",
           "x": [
            68,
            68
           ],
           "y": [
            0,
            53.5
           ]
          },
          {
           "hoverinfo": "none",
           "line": {
            "color": "yellow",
            "dash": "dash"
           },
           "showlegend": false,
           "type": "scatter",
           "x": [
            74,
            74
           ],
           "y": [
            0,
            53.5
           ]
          },
          {
           "hoverinfo": "text",
           "hovertext": [
            "nflId:35459.0<br>displayName:Kareem Jackson<br>Route Ran:nan",
            "nflId:40347.0<br>displayName:Mike Purcell<br>Route Ran:nan",
            "nflId:42393.0<br>displayName:Ronald Darby<br>Route Ran:nan",
            "nflId:42826.0<br>displayName:DeShawn Williams<br>Route Ran:nan",
            "nflId:42929.0<br>displayName:Alex Singleton<br>Route Ran:nan",
            "nflId:43387.0<br>displayName:Justin Simmons<br>Route Ran:nan",
            "nflId:46074.0<br>displayName:Bradley Chubb<br>Route Ran:nan",
            "nflId:47854.0<br>displayName:Dre'Mont Jones<br>Route Ran:nan",
            "nflId:52706.0<br>displayName:Jonas Griffith<br>Route Ran:nan",
            "nflId:53438.0<br>displayName:Patrick Surtain<br>Route Ran:nan",
            "nflId:53534.0<br>displayName:Baron Browning<br>Route Ran:nan"
           ],
           "marker": {
            "color": "#FB4F14"
           },
           "mode": "markers",
           "name": "DEN",
           "type": "scatter",
           "x": [
            82.51,
            67.66,
            73.35,
            68.97,
            71.59,
            73.29,
            66.87,
            66.29,
            71.2,
            71.04,
            66.76
           ],
           "y": [
            28.51,
            25.07,
            16.86,
            28.12,
            23.83,
            19.87,
            29.56,
            22.73,
            27.1,
            36.33,
            19.18
           ]
          },
          {
           "hoverinfo": "text",
           "hovertext": [
            "nflId:39987.0<br>displayName:Geno Smith<br>Route Ran:nan",
            "nflId:41310.0<br>displayName:Gabe Jackson<br>Route Ran:nan",
            "nflId:43537.0<br>displayName:Austin Blythe<br>Route Ran:nan",
            "nflId:46096.0<br>displayName:Rashaad Penny<br>Route Ran:nan",
            "nflId:46189.0<br>displayName:Will Dissly<br>Route Ran:nan",
            "nflId:47803.0<br>displayName:Noah Fant<br>Route Ran:nan",
            "nflId:47847.0<br>displayName:DK Metcalf<br>Route Ran:nan",
            "nflId:47907.0<br>displayName:Phil Haynes<br>Route Ran:nan",
            "nflId:52541.0<br>displayName:Colby Parkinson<br>Route Ran:nan",
            "nflId:54474.0<br>displayName:Charles Cross<br>Route Ran:nan",
            "nflId:54537.0<br>displayName:Abraham Lucas<br>Route Ran:nan"
           ],
           "marker": {
            "color": "#69BE28"
           },
           "mode": "markers",
           "name": "SEA",
           "type": "scatter",
           "x": [
            62.86,
            66.99,
            69.24,
            63.64,
            66.95,
            66.26,
            69.99,
            68.37,
            67.65,
            66.85,
            69.02
           ],
           "y": [
            25.82,
            25.4,
            26.42,
            26.62,
            23.67,
            19.86,
            36.92,
            27.73,
            21.89,
            28.69,
            24.37
           ]
          },
          {
           "hoverinfo": "none",
           "marker": {
            "color": "#CBB67C"
           },
           "mode": "markers",
           "name": "football",
           "type": "scatter",
           "x": [
            64.3600006103516
           ],
           "y": [
            27.0100002288818
           ]
          }
         ],
         "name": "69"
        },
        {
         "data": [
          {
           "hoverinfo": "none",
           "mode": "text",
           "showlegend": false,
           "text": [
            "10",
            "20",
            "30",
            "40",
            "50",
            "40",
            "30",
            "20",
            "10"
           ],
           "textfont": {
            "color": "#ffffff",
            "family": "Courier New, monospace",
            "size": 30
           },
           "type": "scatter",
           "x": [
            20,
            30,
            40,
            50,
            60,
            70,
            80,
            90,
            100
           ],
           "y": [
            5,
            5,
            5,
            5,
            5,
            5,
            5,
            5,
            5
           ]
          },
          {
           "hoverinfo": "none",
           "mode": "text",
           "showlegend": false,
           "text": [
            "10",
            "20",
            "30",
            "40",
            "50",
            "40",
            "30",
            "20",
            "10"
           ],
           "textfont": {
            "color": "#ffffff",
            "family": "Courier New, monospace",
            "size": 30
           },
           "type": "scatter",
           "x": [
            20,
            30,
            40,
            50,
            60,
            70,
            80,
            90,
            100
           ],
           "y": [
            48.5,
            48.5,
            48.5,
            48.5,
            48.5,
            48.5,
            48.5,
            48.5,
            48.5
           ]
          },
          {
           "hoverinfo": "none",
           "line": {
            "color": "blue",
            "dash": "dash"
           },
           "showlegend": false,
           "type": "scatter",
           "x": [
            68,
            68
           ],
           "y": [
            0,
            53.5
           ]
          },
          {
           "hoverinfo": "none",
           "line": {
            "color": "yellow",
            "dash": "dash"
           },
           "showlegend": false,
           "type": "scatter",
           "x": [
            74,
            74
           ],
           "y": [
            0,
            53.5
           ]
          },
          {
           "hoverinfo": "text",
           "hovertext": [
            "nflId:35459.0<br>displayName:Kareem Jackson<br>Route Ran:nan",
            "nflId:40347.0<br>displayName:Mike Purcell<br>Route Ran:nan",
            "nflId:42393.0<br>displayName:Ronald Darby<br>Route Ran:nan",
            "nflId:42826.0<br>displayName:DeShawn Williams<br>Route Ran:nan",
            "nflId:42929.0<br>displayName:Alex Singleton<br>Route Ran:nan",
            "nflId:43387.0<br>displayName:Justin Simmons<br>Route Ran:nan",
            "nflId:46074.0<br>displayName:Bradley Chubb<br>Route Ran:nan",
            "nflId:47854.0<br>displayName:Dre'Mont Jones<br>Route Ran:nan",
            "nflId:52706.0<br>displayName:Jonas Griffith<br>Route Ran:nan",
            "nflId:53438.0<br>displayName:Patrick Surtain<br>Route Ran:nan",
            "nflId:53534.0<br>displayName:Baron Browning<br>Route Ran:nan"
           ],
           "marker": {
            "color": "#FB4F14"
           },
           "mode": "markers",
           "name": "DEN",
           "type": "scatter",
           "x": [
            82.76,
            67.69,
            73.23,
            69.08,
            71.52,
            72.99,
            66.87,
            66.03,
            70.99,
            71.35,
            66.73
           ],
           "y": [
            28.55,
            25.35,
            17.18,
            28.31,
            24.27,
            20.23,
            29.63,
            22.91,
            27.35,
            36.5,
            19.62
           ]
          },
          {
           "hoverinfo": "text",
           "hovertext": [
            "nflId:39987.0<br>displayName:Geno Smith<br>Route Ran:nan",
            "nflId:41310.0<br>displayName:Gabe Jackson<br>Route Ran:nan",
            "nflId:43537.0<br>displayName:Austin Blythe<br>Route Ran:nan",
            "nflId:46096.0<br>displayName:Rashaad Penny<br>Route Ran:nan",
            "nflId:46189.0<br>displayName:Will Dissly<br>Route Ran:nan",
            "nflId:47803.0<br>displayName:Noah Fant<br>Route Ran:nan",
            "nflId:47847.0<br>displayName:DK Metcalf<br>Route Ran:nan",
            "nflId:47907.0<br>displayName:Phil Haynes<br>Route Ran:nan",
            "nflId:52541.0<br>displayName:Colby Parkinson<br>Route Ran:nan",
            "nflId:54474.0<br>displayName:Charles Cross<br>Route Ran:nan",
            "nflId:54537.0<br>displayName:Abraham Lucas<br>Route Ran:nan"
           ],
           "marker": {
            "color": "#69BE28"
           },
           "mode": "markers",
           "name": "SEA",
           "type": "scatter",
           "x": [
            62.41,
            67.02,
            69.35,
            64.16,
            67.01,
            66.32,
            70.41,
            68.47,
            67.96,
            66.86,
            69.32
           ],
           "y": [
            25.86,
            25.65,
            26.69,
            26.9,
            24.04,
            20.28,
            37.07,
            27.95,
            22.24,
            28.78,
            24.7
           ]
          },
          {
           "hoverinfo": "none",
           "marker": {
            "color": "#CBB67C"
           },
           "mode": "markers",
           "name": "football",
           "type": "scatter",
           "x": [
            64.5199966430664
           ],
           "y": [
            27.2399997711182
           ]
          }
         ],
         "name": "70"
        },
        {
         "data": [
          {
           "hoverinfo": "none",
           "mode": "text",
           "showlegend": false,
           "text": [
            "10",
            "20",
            "30",
            "40",
            "50",
            "40",
            "30",
            "20",
            "10"
           ],
           "textfont": {
            "color": "#ffffff",
            "family": "Courier New, monospace",
            "size": 30
           },
           "type": "scatter",
           "x": [
            20,
            30,
            40,
            50,
            60,
            70,
            80,
            90,
            100
           ],
           "y": [
            5,
            5,
            5,
            5,
            5,
            5,
            5,
            5,
            5
           ]
          },
          {
           "hoverinfo": "none",
           "mode": "text",
           "showlegend": false,
           "text": [
            "10",
            "20",
            "30",
            "40",
            "50",
            "40",
            "30",
            "20",
            "10"
           ],
           "textfont": {
            "color": "#ffffff",
            "family": "Courier New, monospace",
            "size": 30
           },
           "type": "scatter",
           "x": [
            20,
            30,
            40,
            50,
            60,
            70,
            80,
            90,
            100
           ],
           "y": [
            48.5,
            48.5,
            48.5,
            48.5,
            48.5,
            48.5,
            48.5,
            48.5,
            48.5
           ]
          },
          {
           "hoverinfo": "none",
           "line": {
            "color": "blue",
            "dash": "dash"
           },
           "showlegend": false,
           "type": "scatter",
           "x": [
            68,
            68
           ],
           "y": [
            0,
            53.5
           ]
          },
          {
           "hoverinfo": "none",
           "line": {
            "color": "yellow",
            "dash": "dash"
           },
           "showlegend": false,
           "type": "scatter",
           "x": [
            74,
            74
           ],
           "y": [
            0,
            53.5
           ]
          },
          {
           "hoverinfo": "text",
           "hovertext": [
            "nflId:35459.0<br>displayName:Kareem Jackson<br>Route Ran:nan",
            "nflId:40347.0<br>displayName:Mike Purcell<br>Route Ran:nan",
            "nflId:42393.0<br>displayName:Ronald Darby<br>Route Ran:nan",
            "nflId:42826.0<br>displayName:DeShawn Williams<br>Route Ran:nan",
            "nflId:42929.0<br>displayName:Alex Singleton<br>Route Ran:nan",
            "nflId:43387.0<br>displayName:Justin Simmons<br>Route Ran:nan",
            "nflId:46074.0<br>displayName:Bradley Chubb<br>Route Ran:nan",
            "nflId:47854.0<br>displayName:Dre'Mont Jones<br>Route Ran:nan",
            "nflId:52706.0<br>displayName:Jonas Griffith<br>Route Ran:nan",
            "nflId:53438.0<br>displayName:Patrick Surtain<br>Route Ran:nan",
            "nflId:53534.0<br>displayName:Baron Browning<br>Route Ran:nan"
           ],
           "marker": {
            "color": "#FB4F14"
           },
           "mode": "markers",
           "name": "DEN",
           "type": "scatter",
           "x": [
            82.96,
            67.75,
            73.11,
            69.18,
            71.46,
            72.7,
            66.92,
            65.78,
            70.8,
            71.67,
            66.75
           ],
           "y": [
            28.6,
            25.66,
            17.53,
            28.5,
            24.71,
            20.62,
            29.7,
            23.1,
            27.58,
            36.67,
            20.08
           ]
          },
          {
           "hoverinfo": "text",
           "hovertext": [
            "nflId:39987.0<br>displayName:Geno Smith<br>Route Ran:nan",
            "nflId:41310.0<br>displayName:Gabe Jackson<br>Route Ran:nan",
            "nflId:43537.0<br>displayName:Austin Blythe<br>Route Ran:nan",
            "nflId:46096.0<br>displayName:Rashaad Penny<br>Route Ran:nan",
            "nflId:46189.0<br>displayName:Will Dissly<br>Route Ran:nan",
            "nflId:47803.0<br>displayName:Noah Fant<br>Route Ran:nan",
            "nflId:47847.0<br>displayName:DK Metcalf<br>Route Ran:nan",
            "nflId:47907.0<br>displayName:Phil Haynes<br>Route Ran:nan",
            "nflId:52541.0<br>displayName:Colby Parkinson<br>Route Ran:nan",
            "nflId:54474.0<br>displayName:Charles Cross<br>Route Ran:nan",
            "nflId:54537.0<br>displayName:Abraham Lucas<br>Route Ran:nan"
           ],
           "marker": {
            "color": "#69BE28"
           },
           "mode": "markers",
           "name": "SEA",
           "type": "scatter",
           "x": [
            61.96,
            67.06,
            69.45,
            64.7,
            67.05,
            66.38,
            70.83,
            68.57,
            68.3,
            66.88,
            69.63
           ],
           "y": [
            25.84,
            25.9,
            26.94,
            27.16,
            24.37,
            20.71,
            37.2,
            28.18,
            22.58,
            28.89,
            25.05
           ]
          },
          {
           "hoverinfo": "none",
           "marker": {
            "color": "#CBB67C"
           },
           "mode": "markers",
           "name": "football",
           "type": "scatter",
           "x": [
            64.870002746582
           ],
           "y": [
            27.4500007629395
           ]
          }
         ],
         "name": "71"
        },
        {
         "data": [
          {
           "hoverinfo": "none",
           "mode": "text",
           "showlegend": false,
           "text": [
            "10",
            "20",
            "30",
            "40",
            "50",
            "40",
            "30",
            "20",
            "10"
           ],
           "textfont": {
            "color": "#ffffff",
            "family": "Courier New, monospace",
            "size": 30
           },
           "type": "scatter",
           "x": [
            20,
            30,
            40,
            50,
            60,
            70,
            80,
            90,
            100
           ],
           "y": [
            5,
            5,
            5,
            5,
            5,
            5,
            5,
            5,
            5
           ]
          },
          {
           "hoverinfo": "none",
           "mode": "text",
           "showlegend": false,
           "text": [
            "10",
            "20",
            "30",
            "40",
            "50",
            "40",
            "30",
            "20",
            "10"
           ],
           "textfont": {
            "color": "#ffffff",
            "family": "Courier New, monospace",
            "size": 30
           },
           "type": "scatter",
           "x": [
            20,
            30,
            40,
            50,
            60,
            70,
            80,
            90,
            100
           ],
           "y": [
            48.5,
            48.5,
            48.5,
            48.5,
            48.5,
            48.5,
            48.5,
            48.5,
            48.5
           ]
          },
          {
           "hoverinfo": "none",
           "line": {
            "color": "blue",
            "dash": "dash"
           },
           "showlegend": false,
           "type": "scatter",
           "x": [
            68,
            68
           ],
           "y": [
            0,
            53.5
           ]
          },
          {
           "hoverinfo": "none",
           "line": {
            "color": "yellow",
            "dash": "dash"
           },
           "showlegend": false,
           "type": "scatter",
           "x": [
            74,
            74
           ],
           "y": [
            0,
            53.5
           ]
          },
          {
           "hoverinfo": "text",
           "hovertext": [
            "nflId:35459.0<br>displayName:Kareem Jackson<br>Route Ran:nan",
            "nflId:40347.0<br>displayName:Mike Purcell<br>Route Ran:nan",
            "nflId:42393.0<br>displayName:Ronald Darby<br>Route Ran:nan",
            "nflId:42826.0<br>displayName:DeShawn Williams<br>Route Ran:nan",
            "nflId:42929.0<br>displayName:Alex Singleton<br>Route Ran:nan",
            "nflId:43387.0<br>displayName:Justin Simmons<br>Route Ran:nan",
            "nflId:46074.0<br>displayName:Bradley Chubb<br>Route Ran:nan",
            "nflId:47854.0<br>displayName:Dre'Mont Jones<br>Route Ran:nan",
            "nflId:52706.0<br>displayName:Jonas Griffith<br>Route Ran:nan",
            "nflId:53438.0<br>displayName:Patrick Surtain<br>Route Ran:nan",
            "nflId:53534.0<br>displayName:Baron Browning<br>Route Ran:nan"
           ],
           "marker": {
            "color": "#FB4F14"
           },
           "mode": "markers",
           "name": "DEN",
           "type": "scatter",
           "x": [
            83.11,
            67.82,
            72.97,
            69.28,
            71.44,
            72.45,
            67.02,
            65.57,
            70.64,
            72.02,
            66.8
           ],
           "y": [
            28.65,
            25.99,
            17.9,
            28.67,
            25.12,
            21.02,
            29.77,
            23.31,
            27.81,
            36.83,
            20.53
           ]
          },
          {
           "hoverinfo": "text",
           "hovertext": [
            "nflId:39987.0<br>displayName:Geno Smith<br>Route Ran:nan",
            "nflId:41310.0<br>displayName:Gabe Jackson<br>Route Ran:nan",
            "nflId:43537.0<br>displayName:Austin Blythe<br>Route Ran:nan",
            "nflId:46096.0<br>displayName:Rashaad Penny<br>Route Ran:nan",
            "nflId:46189.0<br>displayName:Will Dissly<br>Route Ran:nan",
            "nflId:47803.0<br>displayName:Noah Fant<br>Route Ran:nan",
            "nflId:47847.0<br>displayName:DK Metcalf<br>Route Ran:nan",
            "nflId:47907.0<br>displayName:Phil Haynes<br>Route Ran:nan",
            "nflId:52541.0<br>displayName:Colby Parkinson<br>Route Ran:nan",
            "nflId:54474.0<br>displayName:Charles Cross<br>Route Ran:nan",
            "nflId:54537.0<br>displayName:Abraham Lucas<br>Route Ran:nan"
           ],
           "marker": {
            "color": "#69BE28"
           },
           "mode": "markers",
           "name": "SEA",
           "type": "scatter",
           "x": [
            61.51,
            67.13,
            69.54,
            65.27,
            67.07,
            66.44,
            71.24,
            68.68,
            68.64,
            66.91,
            69.92
           ],
           "y": [
            25.78,
            26.15,
            27.17,
            27.41,
            24.67,
            21.14,
            37.31,
            28.4,
            22.92,
            29,
            25.4
           ]
          },
          {
           "hoverinfo": "none",
           "marker": {
            "color": "#CBB67C"
           },
           "mode": "markers",
           "name": "football",
           "type": "scatter",
           "x": [
            65.3099975585938
           ],
           "y": [
            27.6599998474121
           ]
          }
         ],
         "name": "72"
        },
        {
         "data": [
          {
           "hoverinfo": "none",
           "mode": "text",
           "showlegend": false,
           "text": [
            "10",
            "20",
            "30",
            "40",
            "50",
            "40",
            "30",
            "20",
            "10"
           ],
           "textfont": {
            "color": "#ffffff",
            "family": "Courier New, monospace",
            "size": 30
           },
           "type": "scatter",
           "x": [
            20,
            30,
            40,
            50,
            60,
            70,
            80,
            90,
            100
           ],
           "y": [
            5,
            5,
            5,
            5,
            5,
            5,
            5,
            5,
            5
           ]
          },
          {
           "hoverinfo": "none",
           "mode": "text",
           "showlegend": false,
           "text": [
            "10",
            "20",
            "30",
            "40",
            "50",
            "40",
            "30",
            "20",
            "10"
           ],
           "textfont": {
            "color": "#ffffff",
            "family": "Courier New, monospace",
            "size": 30
           },
           "type": "scatter",
           "x": [
            20,
            30,
            40,
            50,
            60,
            70,
            80,
            90,
            100
           ],
           "y": [
            48.5,
            48.5,
            48.5,
            48.5,
            48.5,
            48.5,
            48.5,
            48.5,
            48.5
           ]
          },
          {
           "hoverinfo": "none",
           "line": {
            "color": "blue",
            "dash": "dash"
           },
           "showlegend": false,
           "type": "scatter",
           "x": [
            68,
            68
           ],
           "y": [
            0,
            53.5
           ]
          },
          {
           "hoverinfo": "none",
           "line": {
            "color": "yellow",
            "dash": "dash"
           },
           "showlegend": false,
           "type": "scatter",
           "x": [
            74,
            74
           ],
           "y": [
            0,
            53.5
           ]
          },
          {
           "hoverinfo": "text",
           "hovertext": [
            "nflId:35459.0<br>displayName:Kareem Jackson<br>Route Ran:nan",
            "nflId:40347.0<br>displayName:Mike Purcell<br>Route Ran:nan",
            "nflId:42393.0<br>displayName:Ronald Darby<br>Route Ran:nan",
            "nflId:42826.0<br>displayName:DeShawn Williams<br>Route Ran:nan",
            "nflId:42929.0<br>displayName:Alex Singleton<br>Route Ran:nan",
            "nflId:43387.0<br>displayName:Justin Simmons<br>Route Ran:nan",
            "nflId:46074.0<br>displayName:Bradley Chubb<br>Route Ran:nan",
            "nflId:47854.0<br>displayName:Dre'Mont Jones<br>Route Ran:nan",
            "nflId:52706.0<br>displayName:Jonas Griffith<br>Route Ran:nan",
            "nflId:53438.0<br>displayName:Patrick Surtain<br>Route Ran:nan",
            "nflId:53534.0<br>displayName:Baron Browning<br>Route Ran:nan"
           ],
           "marker": {
            "color": "#FB4F14"
           },
           "mode": "markers",
           "name": "DEN",
           "type": "scatter",
           "x": [
            83.21,
            67.91,
            72.84,
            69.39,
            71.43,
            72.23,
            67.17,
            65.38,
            70.51,
            72.37,
            66.88
           ],
           "y": [
            28.71,
            26.33,
            18.28,
            28.82,
            25.52,
            21.45,
            29.82,
            23.51,
            28.02,
            36.98,
            20.97
           ]
          },
          {
           "hoverinfo": "text",
           "hovertext": [
            "nflId:39987.0<br>displayName:Geno Smith<br>Route Ran:nan",
            "nflId:41310.0<br>displayName:Gabe Jackson<br>Route Ran:nan",
            "nflId:43537.0<br>displayName:Austin Blythe<br>Route Ran:nan",
            "nflId:46096.0<br>displayName:Rashaad Penny<br>Route Ran:nan",
            "nflId:46189.0<br>displayName:Will Dissly<br>Route Ran:nan",
            "nflId:47803.0<br>displayName:Noah Fant<br>Route Ran:nan",
            "nflId:47847.0<br>displayName:DK Metcalf<br>Route Ran:nan",
            "nflId:47907.0<br>displayName:Phil Haynes<br>Route Ran:nan",
            "nflId:52541.0<br>displayName:Colby Parkinson<br>Route Ran:nan",
            "nflId:54474.0<br>displayName:Charles Cross<br>Route Ran:nan",
            "nflId:54537.0<br>displayName:Abraham Lucas<br>Route Ran:nan"
           ],
           "marker": {
            "color": "#69BE28"
           },
           "mode": "markers",
           "name": "SEA",
           "type": "scatter",
           "x": [
            61.07,
            67.24,
            69.61,
            65.85,
            67.07,
            66.51,
            71.64,
            68.79,
            69,
            66.96,
            70.19
           ],
           "y": [
            25.66,
            26.41,
            27.37,
            27.64,
            24.93,
            21.57,
            37.4,
            28.63,
            23.23,
            29.12,
            25.75
           ]
          },
          {
           "hoverinfo": "none",
           "marker": {
            "color": "#CBB67C"
           },
           "mode": "markers",
           "name": "football",
           "type": "scatter",
           "x": [
            65.8300018310547
           ],
           "y": [
            27.8600006103516
           ]
          }
         ],
         "name": "73"
        },
        {
         "data": [
          {
           "hoverinfo": "none",
           "mode": "text",
           "showlegend": false,
           "text": [
            "10",
            "20",
            "30",
            "40",
            "50",
            "40",
            "30",
            "20",
            "10"
           ],
           "textfont": {
            "color": "#ffffff",
            "family": "Courier New, monospace",
            "size": 30
           },
           "type": "scatter",
           "x": [
            20,
            30,
            40,
            50,
            60,
            70,
            80,
            90,
            100
           ],
           "y": [
            5,
            5,
            5,
            5,
            5,
            5,
            5,
            5,
            5
           ]
          },
          {
           "hoverinfo": "none",
           "mode": "text",
           "showlegend": false,
           "text": [
            "10",
            "20",
            "30",
            "40",
            "50",
            "40",
            "30",
            "20",
            "10"
           ],
           "textfont": {
            "color": "#ffffff",
            "family": "Courier New, monospace",
            "size": 30
           },
           "type": "scatter",
           "x": [
            20,
            30,
            40,
            50,
            60,
            70,
            80,
            90,
            100
           ],
           "y": [
            48.5,
            48.5,
            48.5,
            48.5,
            48.5,
            48.5,
            48.5,
            48.5,
            48.5
           ]
          },
          {
           "hoverinfo": "none",
           "line": {
            "color": "blue",
            "dash": "dash"
           },
           "showlegend": false,
           "type": "scatter",
           "x": [
            68,
            68
           ],
           "y": [
            0,
            53.5
           ]
          },
          {
           "hoverinfo": "none",
           "line": {
            "color": "yellow",
            "dash": "dash"
           },
           "showlegend": false,
           "type": "scatter",
           "x": [
            74,
            74
           ],
           "y": [
            0,
            53.5
           ]
          },
          {
           "hoverinfo": "text",
           "hovertext": [
            "nflId:35459.0<br>displayName:Kareem Jackson<br>Route Ran:nan",
            "nflId:40347.0<br>displayName:Mike Purcell<br>Route Ran:nan",
            "nflId:42393.0<br>displayName:Ronald Darby<br>Route Ran:nan",
            "nflId:42826.0<br>displayName:DeShawn Williams<br>Route Ran:nan",
            "nflId:42929.0<br>displayName:Alex Singleton<br>Route Ran:nan",
            "nflId:43387.0<br>displayName:Justin Simmons<br>Route Ran:nan",
            "nflId:46074.0<br>displayName:Bradley Chubb<br>Route Ran:nan",
            "nflId:47854.0<br>displayName:Dre'Mont Jones<br>Route Ran:nan",
            "nflId:52706.0<br>displayName:Jonas Griffith<br>Route Ran:nan",
            "nflId:53438.0<br>displayName:Patrick Surtain<br>Route Ran:nan",
            "nflId:53534.0<br>displayName:Baron Browning<br>Route Ran:nan"
           ],
           "marker": {
            "color": "#FB4F14"
           },
           "mode": "markers",
           "name": "DEN",
           "type": "scatter",
           "x": [
            83.24,
            68.02,
            72.73,
            69.51,
            71.43,
            72.06,
            67.35,
            65.23,
            70.4,
            72.72,
            67.01
           ],
           "y": [
            28.77,
            26.68,
            18.69,
            28.95,
            25.86,
            21.88,
            29.88,
            23.72,
            28.2,
            37.14,
            21.41
           ]
          },
          {
           "hoverinfo": "text",
           "hovertext": [
            "nflId:39987.0<br>displayName:Geno Smith<br>Route Ran:nan",
            "nflId:41310.0<br>displayName:Gabe Jackson<br>Route Ran:nan",
            "nflId:43537.0<br>displayName:Austin Blythe<br>Route Ran:nan",
            "nflId:46096.0<br>displayName:Rashaad Penny<br>Route Ran:nan",
            "nflId:46189.0<br>displayName:Will Dissly<br>Route Ran:nan",
            "nflId:47803.0<br>displayName:Noah Fant<br>Route Ran:nan",
            "nflId:47847.0<br>displayName:DK Metcalf<br>Route Ran:nan",
            "nflId:47907.0<br>displayName:Phil Haynes<br>Route Ran:nan",
            "nflId:52541.0<br>displayName:Colby Parkinson<br>Route Ran:nan",
            "nflId:54474.0<br>displayName:Charles Cross<br>Route Ran:nan",
            "nflId:54537.0<br>displayName:Abraham Lucas<br>Route Ran:nan"
           ],
           "marker": {
            "color": "#69BE28"
           },
           "mode": "markers",
           "name": "SEA",
           "type": "scatter",
           "x": [
            60.65,
            67.37,
            69.67,
            66.43,
            67.05,
            66.61,
            72.01,
            68.91,
            69.37,
            67.04,
            70.45
           ],
           "y": [
            25.49,
            26.67,
            27.57,
            27.86,
            25.16,
            21.99,
            37.48,
            28.85,
            23.53,
            29.24,
            26.11
           ]
          },
          {
           "hoverinfo": "none",
           "marker": {
            "color": "#CBB67C"
           },
           "mode": "markers",
           "name": "football",
           "type": "scatter",
           "x": [
            66.5100021362305
           ],
           "y": [
            28.0599994659424
           ]
          }
         ],
         "name": "74"
        },
        {
         "data": [
          {
           "hoverinfo": "none",
           "mode": "text",
           "showlegend": false,
           "text": [
            "10",
            "20",
            "30",
            "40",
            "50",
            "40",
            "30",
            "20",
            "10"
           ],
           "textfont": {
            "color": "#ffffff",
            "family": "Courier New, monospace",
            "size": 30
           },
           "type": "scatter",
           "x": [
            20,
            30,
            40,
            50,
            60,
            70,
            80,
            90,
            100
           ],
           "y": [
            5,
            5,
            5,
            5,
            5,
            5,
            5,
            5,
            5
           ]
          },
          {
           "hoverinfo": "none",
           "mode": "text",
           "showlegend": false,
           "text": [
            "10",
            "20",
            "30",
            "40",
            "50",
            "40",
            "30",
            "20",
            "10"
           ],
           "textfont": {
            "color": "#ffffff",
            "family": "Courier New, monospace",
            "size": 30
           },
           "type": "scatter",
           "x": [
            20,
            30,
            40,
            50,
            60,
            70,
            80,
            90,
            100
           ],
           "y": [
            48.5,
            48.5,
            48.5,
            48.5,
            48.5,
            48.5,
            48.5,
            48.5,
            48.5
           ]
          },
          {
           "hoverinfo": "none",
           "line": {
            "color": "blue",
            "dash": "dash"
           },
           "showlegend": false,
           "type": "scatter",
           "x": [
            68,
            68
           ],
           "y": [
            0,
            53.5
           ]
          },
          {
           "hoverinfo": "none",
           "line": {
            "color": "yellow",
            "dash": "dash"
           },
           "showlegend": false,
           "type": "scatter",
           "x": [
            74,
            74
           ],
           "y": [
            0,
            53.5
           ]
          },
          {
           "hoverinfo": "text",
           "hovertext": [
            "nflId:35459.0<br>displayName:Kareem Jackson<br>Route Ran:nan",
            "nflId:40347.0<br>displayName:Mike Purcell<br>Route Ran:nan",
            "nflId:42393.0<br>displayName:Ronald Darby<br>Route Ran:nan",
            "nflId:42826.0<br>displayName:DeShawn Williams<br>Route Ran:nan",
            "nflId:42929.0<br>displayName:Alex Singleton<br>Route Ran:nan",
            "nflId:43387.0<br>displayName:Justin Simmons<br>Route Ran:nan",
            "nflId:46074.0<br>displayName:Bradley Chubb<br>Route Ran:nan",
            "nflId:47854.0<br>displayName:Dre'Mont Jones<br>Route Ran:nan",
            "nflId:52706.0<br>displayName:Jonas Griffith<br>Route Ran:nan",
            "nflId:53438.0<br>displayName:Patrick Surtain<br>Route Ran:nan",
            "nflId:53534.0<br>displayName:Baron Browning<br>Route Ran:nan"
           ],
           "marker": {
            "color": "#FB4F14"
           },
           "mode": "markers",
           "name": "DEN",
           "type": "scatter",
           "x": [
            83.2,
            68.15,
            72.63,
            69.63,
            71.44,
            71.93,
            67.57,
            65.13,
            70.31,
            73.07,
            67.17
           ],
           "y": [
            28.84,
            27.03,
            19.11,
            29.07,
            26.18,
            22.34,
            29.89,
            23.92,
            28.37,
            37.3,
            21.83
           ]
          },
          {
           "hoverinfo": "text",
           "hovertext": [
            "nflId:39987.0<br>displayName:Geno Smith<br>Route Ran:nan",
            "nflId:41310.0<br>displayName:Gabe Jackson<br>Route Ran:nan",
            "nflId:43537.0<br>displayName:Austin Blythe<br>Route Ran:nan",
            "nflId:46096.0<br>displayName:Rashaad Penny<br>Route Ran:nan",
            "nflId:46189.0<br>displayName:Will Dissly<br>Route Ran:nan",
            "nflId:47803.0<br>displayName:Noah Fant<br>Route Ran:nan",
            "nflId:47847.0<br>displayName:DK Metcalf<br>Route Ran:nan",
            "nflId:47907.0<br>displayName:Phil Haynes<br>Route Ran:nan",
            "nflId:52541.0<br>displayName:Colby Parkinson<br>Route Ran:nan",
            "nflId:54474.0<br>displayName:Charles Cross<br>Route Ran:nan",
            "nflId:54537.0<br>displayName:Abraham Lucas<br>Route Ran:nan"
           ],
           "marker": {
            "color": "#69BE28"
           },
           "mode": "markers",
           "name": "SEA",
           "type": "scatter",
           "x": [
            60.25,
            67.53,
            69.73,
            66.99,
            67.01,
            66.72,
            72.36,
            69.03,
            69.74,
            67.17,
            70.68
           ],
           "y": [
            25.29,
            26.93,
            27.74,
            28.08,
            25.36,
            22.4,
            37.55,
            29.07,
            23.81,
            29.38,
            26.46
           ]
          },
          {
           "hoverinfo": "none",
           "marker": {
            "color": "#CBB67C"
           },
           "mode": "markers",
           "name": "football",
           "type": "scatter",
           "x": [
            67.0899963378906
           ],
           "y": [
            28.2299995422363
           ]
          }
         ],
         "name": "75"
        },
        {
         "data": [
          {
           "hoverinfo": "none",
           "mode": "text",
           "showlegend": false,
           "text": [
            "10",
            "20",
            "30",
            "40",
            "50",
            "40",
            "30",
            "20",
            "10"
           ],
           "textfont": {
            "color": "#ffffff",
            "family": "Courier New, monospace",
            "size": 30
           },
           "type": "scatter",
           "x": [
            20,
            30,
            40,
            50,
            60,
            70,
            80,
            90,
            100
           ],
           "y": [
            5,
            5,
            5,
            5,
            5,
            5,
            5,
            5,
            5
           ]
          },
          {
           "hoverinfo": "none",
           "mode": "text",
           "showlegend": false,
           "text": [
            "10",
            "20",
            "30",
            "40",
            "50",
            "40",
            "30",
            "20",
            "10"
           ],
           "textfont": {
            "color": "#ffffff",
            "family": "Courier New, monospace",
            "size": 30
           },
           "type": "scatter",
           "x": [
            20,
            30,
            40,
            50,
            60,
            70,
            80,
            90,
            100
           ],
           "y": [
            48.5,
            48.5,
            48.5,
            48.5,
            48.5,
            48.5,
            48.5,
            48.5,
            48.5
           ]
          },
          {
           "hoverinfo": "none",
           "line": {
            "color": "blue",
            "dash": "dash"
           },
           "showlegend": false,
           "type": "scatter",
           "x": [
            68,
            68
           ],
           "y": [
            0,
            53.5
           ]
          },
          {
           "hoverinfo": "none",
           "line": {
            "color": "yellow",
            "dash": "dash"
           },
           "showlegend": false,
           "type": "scatter",
           "x": [
            74,
            74
           ],
           "y": [
            0,
            53.5
           ]
          },
          {
           "hoverinfo": "text",
           "hovertext": [
            "nflId:35459.0<br>displayName:Kareem Jackson<br>Route Ran:nan",
            "nflId:40347.0<br>displayName:Mike Purcell<br>Route Ran:nan",
            "nflId:42393.0<br>displayName:Ronald Darby<br>Route Ran:nan",
            "nflId:42826.0<br>displayName:DeShawn Williams<br>Route Ran:nan",
            "nflId:42929.0<br>displayName:Alex Singleton<br>Route Ran:nan",
            "nflId:43387.0<br>displayName:Justin Simmons<br>Route Ran:nan",
            "nflId:46074.0<br>displayName:Bradley Chubb<br>Route Ran:nan",
            "nflId:47854.0<br>displayName:Dre'Mont Jones<br>Route Ran:nan",
            "nflId:52706.0<br>displayName:Jonas Griffith<br>Route Ran:nan",
            "nflId:53438.0<br>displayName:Patrick Surtain<br>Route Ran:nan",
            "nflId:53534.0<br>displayName:Baron Browning<br>Route Ran:nan"
           ],
           "marker": {
            "color": "#FB4F14"
           },
           "mode": "markers",
           "name": "DEN",
           "type": "scatter",
           "x": [
            83.1,
            68.3,
            72.56,
            69.74,
            71.45,
            71.87,
            67.8,
            65.09,
            70.25,
            73.4,
            67.37
           ],
           "y": [
            28.92,
            27.36,
            19.53,
            29.18,
            26.49,
            22.79,
            29.88,
            24.12,
            28.52,
            37.46,
            22.25
           ]
          },
          {
           "hoverinfo": "text",
           "hovertext": [
            "nflId:39987.0<br>displayName:Geno Smith<br>Route Ran:nan",
            "nflId:41310.0<br>displayName:Gabe Jackson<br>Route Ran:nan",
            "nflId:43537.0<br>displayName:Austin Blythe<br>Route Ran:nan",
            "nflId:46096.0<br>displayName:Rashaad Penny<br>Route Ran:nan",
            "nflId:46189.0<br>displayName:Will Dissly<br>Route Ran:nan",
            "nflId:47803.0<br>displayName:Noah Fant<br>Route Ran:nan",
            "nflId:47847.0<br>displayName:DK Metcalf<br>Route Ran:nan",
            "nflId:47907.0<br>displayName:Phil Haynes<br>Route Ran:nan",
            "nflId:52541.0<br>displayName:Colby Parkinson<br>Route Ran:nan",
            "nflId:54474.0<br>displayName:Charles Cross<br>Route Ran:nan",
            "nflId:54537.0<br>displayName:Abraham Lucas<br>Route Ran:nan"
           ],
           "marker": {
            "color": "#69BE28"
           },
           "mode": "markers",
           "name": "SEA",
           "type": "scatter",
           "x": [
            59.88,
            67.7,
            69.78,
            67.53,
            66.96,
            66.86,
            72.69,
            69.16,
            70.11,
            67.33,
            70.89
           ],
           "y": [
            25.05,
            27.18,
            27.9,
            28.32,
            25.54,
            22.79,
            37.61,
            29.28,
            24.08,
            29.49,
            26.81
           ]
          },
          {
           "hoverinfo": "none",
           "marker": {
            "color": "#CBB67C"
           },
           "mode": "markers",
           "name": "football",
           "type": "scatter",
           "x": [
            67.6900024414062
           ],
           "y": [
            28.3899993896484
           ]
          }
         ],
         "name": "76"
        },
        {
         "data": [
          {
           "hoverinfo": "none",
           "mode": "text",
           "showlegend": false,
           "text": [
            "10",
            "20",
            "30",
            "40",
            "50",
            "40",
            "30",
            "20",
            "10"
           ],
           "textfont": {
            "color": "#ffffff",
            "family": "Courier New, monospace",
            "size": 30
           },
           "type": "scatter",
           "x": [
            20,
            30,
            40,
            50,
            60,
            70,
            80,
            90,
            100
           ],
           "y": [
            5,
            5,
            5,
            5,
            5,
            5,
            5,
            5,
            5
           ]
          },
          {
           "hoverinfo": "none",
           "mode": "text",
           "showlegend": false,
           "text": [
            "10",
            "20",
            "30",
            "40",
            "50",
            "40",
            "30",
            "20",
            "10"
           ],
           "textfont": {
            "color": "#ffffff",
            "family": "Courier New, monospace",
            "size": 30
           },
           "type": "scatter",
           "x": [
            20,
            30,
            40,
            50,
            60,
            70,
            80,
            90,
            100
           ],
           "y": [
            48.5,
            48.5,
            48.5,
            48.5,
            48.5,
            48.5,
            48.5,
            48.5,
            48.5
           ]
          },
          {
           "hoverinfo": "none",
           "line": {
            "color": "blue",
            "dash": "dash"
           },
           "showlegend": false,
           "type": "scatter",
           "x": [
            68,
            68
           ],
           "y": [
            0,
            53.5
           ]
          },
          {
           "hoverinfo": "none",
           "line": {
            "color": "yellow",
            "dash": "dash"
           },
           "showlegend": false,
           "type": "scatter",
           "x": [
            74,
            74
           ],
           "y": [
            0,
            53.5
           ]
          },
          {
           "hoverinfo": "text",
           "hovertext": [
            "nflId:35459.0<br>displayName:Kareem Jackson<br>Route Ran:nan",
            "nflId:40347.0<br>displayName:Mike Purcell<br>Route Ran:nan",
            "nflId:42393.0<br>displayName:Ronald Darby<br>Route Ran:nan",
            "nflId:42826.0<br>displayName:DeShawn Williams<br>Route Ran:nan",
            "nflId:42929.0<br>displayName:Alex Singleton<br>Route Ran:nan",
            "nflId:43387.0<br>displayName:Justin Simmons<br>Route Ran:nan",
            "nflId:46074.0<br>displayName:Bradley Chubb<br>Route Ran:nan",
            "nflId:47854.0<br>displayName:Dre'Mont Jones<br>Route Ran:nan",
            "nflId:52706.0<br>displayName:Jonas Griffith<br>Route Ran:nan",
            "nflId:53438.0<br>displayName:Patrick Surtain<br>Route Ran:nan",
            "nflId:53534.0<br>displayName:Baron Browning<br>Route Ran:nan"
           ],
           "marker": {
            "color": "#FB4F14"
           },
           "mode": "markers",
           "name": "DEN",
           "type": "scatter",
           "x": [
            82.93,
            68.48,
            72.51,
            69.87,
            71.48,
            71.89,
            68.04,
            65.09,
            70.22,
            73.72,
            67.59
           ],
           "y": [
            29.01,
            27.68,
            19.96,
            29.29,
            26.78,
            23.24,
            29.86,
            24.32,
            28.66,
            37.61,
            22.64
           ]
          },
          {
           "hoverinfo": "text",
           "hovertext": [
            "nflId:39987.0<br>displayName:Geno Smith<br>Route Ran:nan",
            "nflId:41310.0<br>displayName:Gabe Jackson<br>Route Ran:nan",
            "nflId:43537.0<br>displayName:Austin Blythe<br>Route Ran:nan",
            "nflId:46096.0<br>displayName:Rashaad Penny<br>Route Ran:nan",
            "nflId:46189.0<br>displayName:Will Dissly<br>Route Ran:nan",
            "nflId:47803.0<br>displayName:Noah Fant<br>Route Ran:nan",
            "nflId:47847.0<br>displayName:DK Metcalf<br>Route Ran:nan",
            "nflId:47907.0<br>displayName:Phil Haynes<br>Route Ran:nan",
            "nflId:52541.0<br>displayName:Colby Parkinson<br>Route Ran:nan",
            "nflId:54474.0<br>displayName:Charles Cross<br>Route Ran:nan",
            "nflId:54537.0<br>displayName:Abraham Lucas<br>Route Ran:nan"
           ],
           "marker": {
            "color": "#69BE28"
           },
           "mode": "markers",
           "name": "SEA",
           "type": "scatter",
           "x": [
            59.56,
            67.89,
            69.83,
            68.03,
            66.9,
            67.02,
            72.99,
            69.29,
            70.48,
            67.51,
            71.06
           ],
           "y": [
            24.77,
            27.44,
            28.06,
            28.55,
            25.68,
            23.17,
            37.68,
            29.49,
            24.34,
            29.6,
            27.15
           ]
          },
          {
           "hoverinfo": "none",
           "marker": {
            "color": "#CBB67C"
           },
           "mode": "markers",
           "name": "football",
           "type": "scatter",
           "x": [
            68.2900009155273
           ],
           "y": [
            28.5400009155273
           ]
          }
         ],
         "name": "77"
        },
        {
         "data": [
          {
           "hoverinfo": "none",
           "mode": "text",
           "showlegend": false,
           "text": [
            "10",
            "20",
            "30",
            "40",
            "50",
            "40",
            "30",
            "20",
            "10"
           ],
           "textfont": {
            "color": "#ffffff",
            "family": "Courier New, monospace",
            "size": 30
           },
           "type": "scatter",
           "x": [
            20,
            30,
            40,
            50,
            60,
            70,
            80,
            90,
            100
           ],
           "y": [
            5,
            5,
            5,
            5,
            5,
            5,
            5,
            5,
            5
           ]
          },
          {
           "hoverinfo": "none",
           "mode": "text",
           "showlegend": false,
           "text": [
            "10",
            "20",
            "30",
            "40",
            "50",
            "40",
            "30",
            "20",
            "10"
           ],
           "textfont": {
            "color": "#ffffff",
            "family": "Courier New, monospace",
            "size": 30
           },
           "type": "scatter",
           "x": [
            20,
            30,
            40,
            50,
            60,
            70,
            80,
            90,
            100
           ],
           "y": [
            48.5,
            48.5,
            48.5,
            48.5,
            48.5,
            48.5,
            48.5,
            48.5,
            48.5
           ]
          },
          {
           "hoverinfo": "none",
           "line": {
            "color": "blue",
            "dash": "dash"
           },
           "showlegend": false,
           "type": "scatter",
           "x": [
            68,
            68
           ],
           "y": [
            0,
            53.5
           ]
          },
          {
           "hoverinfo": "none",
           "line": {
            "color": "yellow",
            "dash": "dash"
           },
           "showlegend": false,
           "type": "scatter",
           "x": [
            74,
            74
           ],
           "y": [
            0,
            53.5
           ]
          },
          {
           "hoverinfo": "text",
           "hovertext": [
            "nflId:35459.0<br>displayName:Kareem Jackson<br>Route Ran:nan",
            "nflId:40347.0<br>displayName:Mike Purcell<br>Route Ran:nan",
            "nflId:42393.0<br>displayName:Ronald Darby<br>Route Ran:nan",
            "nflId:42826.0<br>displayName:DeShawn Williams<br>Route Ran:nan",
            "nflId:42929.0<br>displayName:Alex Singleton<br>Route Ran:nan",
            "nflId:43387.0<br>displayName:Justin Simmons<br>Route Ran:nan",
            "nflId:46074.0<br>displayName:Bradley Chubb<br>Route Ran:nan",
            "nflId:47854.0<br>displayName:Dre'Mont Jones<br>Route Ran:nan",
            "nflId:52706.0<br>displayName:Jonas Griffith<br>Route Ran:nan",
            "nflId:53438.0<br>displayName:Patrick Surtain<br>Route Ran:nan",
            "nflId:53534.0<br>displayName:Baron Browning<br>Route Ran:nan"
           ],
           "marker": {
            "color": "#FB4F14"
           },
           "mode": "markers",
           "name": "DEN",
           "type": "scatter",
           "x": [
            82.7,
            68.7,
            72.49,
            69.98,
            71.5,
            71.98,
            68.3,
            65.15,
            70.2,
            74.01,
            67.82
           ],
           "y": [
            29.11,
            28,
            20.39,
            29.4,
            27.04,
            23.65,
            29.82,
            24.5,
            28.79,
            37.76,
            23.03
           ]
          },
          {
           "hoverinfo": "text",
           "hovertext": [
            "nflId:39987.0<br>displayName:Geno Smith<br>Route Ran:nan",
            "nflId:41310.0<br>displayName:Gabe Jackson<br>Route Ran:nan",
            "nflId:43537.0<br>displayName:Austin Blythe<br>Route Ran:nan",
            "nflId:46096.0<br>displayName:Rashaad Penny<br>Route Ran:nan",
            "nflId:46189.0<br>displayName:Will Dissly<br>Route Ran:nan",
            "nflId:47803.0<br>displayName:Noah Fant<br>Route Ran:nan",
            "nflId:47847.0<br>displayName:DK Metcalf<br>Route Ran:nan",
            "nflId:47907.0<br>displayName:Phil Haynes<br>Route Ran:nan",
            "nflId:52541.0<br>displayName:Colby Parkinson<br>Route Ran:nan",
            "nflId:54474.0<br>displayName:Charles Cross<br>Route Ran:nan",
            "nflId:54537.0<br>displayName:Abraham Lucas<br>Route Ran:nan"
           ],
           "marker": {
            "color": "#69BE28"
           },
           "mode": "markers",
           "name": "SEA",
           "type": "scatter",
           "x": [
            59.28,
            68.09,
            69.87,
            68.5,
            66.83,
            67.21,
            73.26,
            69.44,
            70.83,
            67.72,
            71.21
           ],
           "y": [
            24.47,
            27.68,
            28.21,
            28.77,
            25.79,
            23.54,
            37.74,
            29.71,
            24.59,
            29.69,
            27.47
           ]
          },
          {
           "hoverinfo": "none",
           "marker": {
            "color": "#CBB67C"
           },
           "mode": "markers",
           "name": "football",
           "type": "scatter",
           "x": [
            68.9300003051758
           ],
           "y": [
            28.7199993133545
           ]
          }
         ],
         "name": "78"
        },
        {
         "data": [
          {
           "hoverinfo": "none",
           "mode": "text",
           "showlegend": false,
           "text": [
            "10",
            "20",
            "30",
            "40",
            "50",
            "40",
            "30",
            "20",
            "10"
           ],
           "textfont": {
            "color": "#ffffff",
            "family": "Courier New, monospace",
            "size": 30
           },
           "type": "scatter",
           "x": [
            20,
            30,
            40,
            50,
            60,
            70,
            80,
            90,
            100
           ],
           "y": [
            5,
            5,
            5,
            5,
            5,
            5,
            5,
            5,
            5
           ]
          },
          {
           "hoverinfo": "none",
           "mode": "text",
           "showlegend": false,
           "text": [
            "10",
            "20",
            "30",
            "40",
            "50",
            "40",
            "30",
            "20",
            "10"
           ],
           "textfont": {
            "color": "#ffffff",
            "family": "Courier New, monospace",
            "size": 30
           },
           "type": "scatter",
           "x": [
            20,
            30,
            40,
            50,
            60,
            70,
            80,
            90,
            100
           ],
           "y": [
            48.5,
            48.5,
            48.5,
            48.5,
            48.5,
            48.5,
            48.5,
            48.5,
            48.5
           ]
          },
          {
           "hoverinfo": "none",
           "line": {
            "color": "blue",
            "dash": "dash"
           },
           "showlegend": false,
           "type": "scatter",
           "x": [
            68,
            68
           ],
           "y": [
            0,
            53.5
           ]
          },
          {
           "hoverinfo": "none",
           "line": {
            "color": "yellow",
            "dash": "dash"
           },
           "showlegend": false,
           "type": "scatter",
           "x": [
            74,
            74
           ],
           "y": [
            0,
            53.5
           ]
          },
          {
           "hoverinfo": "text",
           "hovertext": [
            "nflId:35459.0<br>displayName:Kareem Jackson<br>Route Ran:nan",
            "nflId:40347.0<br>displayName:Mike Purcell<br>Route Ran:nan",
            "nflId:42393.0<br>displayName:Ronald Darby<br>Route Ran:nan",
            "nflId:42826.0<br>displayName:DeShawn Williams<br>Route Ran:nan",
            "nflId:42929.0<br>displayName:Alex Singleton<br>Route Ran:nan",
            "nflId:43387.0<br>displayName:Justin Simmons<br>Route Ran:nan",
            "nflId:46074.0<br>displayName:Bradley Chubb<br>Route Ran:nan",
            "nflId:47854.0<br>displayName:Dre'Mont Jones<br>Route Ran:nan",
            "nflId:52706.0<br>displayName:Jonas Griffith<br>Route Ran:nan",
            "nflId:53438.0<br>displayName:Patrick Surtain<br>Route Ran:nan",
            "nflId:53534.0<br>displayName:Baron Browning<br>Route Ran:nan"
           ],
           "marker": {
            "color": "#FB4F14"
           },
           "mode": "markers",
           "name": "DEN",
           "type": "scatter",
           "x": [
            82.42,
            68.96,
            72.5,
            70.1,
            71.53,
            72.12,
            68.55,
            65.26,
            70.21,
            74.28,
            68.09
           ],
           "y": [
            29.21,
            28.32,
            20.81,
            29.52,
            27.27,
            24.06,
            29.78,
            24.67,
            28.93,
            37.91,
            23.4
           ]
          },
          {
           "hoverinfo": "text",
           "hovertext": [
            "nflId:39987.0<br>displayName:Geno Smith<br>Route Ran:nan",
            "nflId:41310.0<br>displayName:Gabe Jackson<br>Route Ran:nan",
            "nflId:43537.0<br>displayName:Austin Blythe<br>Route Ran:nan",
            "nflId:46096.0<br>displayName:Rashaad Penny<br>Route Ran:nan",
            "nflId:46189.0<br>displayName:Will Dissly<br>Route Ran:nan",
            "nflId:47803.0<br>displayName:Noah Fant<br>Route Ran:nan",
            "nflId:47847.0<br>displayName:DK Metcalf<br>Route Ran:nan",
            "nflId:47907.0<br>displayName:Phil Haynes<br>Route Ran:nan",
            "nflId:52541.0<br>displayName:Colby Parkinson<br>Route Ran:nan",
            "nflId:54474.0<br>displayName:Charles Cross<br>Route Ran:nan",
            "nflId:54537.0<br>displayName:Abraham Lucas<br>Route Ran:nan"
           ],
           "marker": {
            "color": "#69BE28"
           },
           "mode": "markers",
           "name": "SEA",
           "type": "scatter",
           "x": [
            59.04,
            68.37,
            69.93,
            68.93,
            66.77,
            67.43,
            73.51,
            69.59,
            71.16,
            67.97,
            71.33
           ],
           "y": [
            24.16,
            27.98,
            28.35,
            28.99,
            25.87,
            23.91,
            37.82,
            29.92,
            24.83,
            29.75,
            27.76
           ]
          },
          {
           "hoverinfo": "none",
           "marker": {
            "color": "#CBB67C"
           },
           "mode": "markers",
           "name": "football",
           "type": "scatter",
           "x": [
            69.5199966430664
           ],
           "y": [
            28.9099998474121
           ]
          }
         ],
         "name": "79"
        },
        {
         "data": [
          {
           "hoverinfo": "none",
           "mode": "text",
           "showlegend": false,
           "text": [
            "10",
            "20",
            "30",
            "40",
            "50",
            "40",
            "30",
            "20",
            "10"
           ],
           "textfont": {
            "color": "#ffffff",
            "family": "Courier New, monospace",
            "size": 30
           },
           "type": "scatter",
           "x": [
            20,
            30,
            40,
            50,
            60,
            70,
            80,
            90,
            100
           ],
           "y": [
            5,
            5,
            5,
            5,
            5,
            5,
            5,
            5,
            5
           ]
          },
          {
           "hoverinfo": "none",
           "mode": "text",
           "showlegend": false,
           "text": [
            "10",
            "20",
            "30",
            "40",
            "50",
            "40",
            "30",
            "20",
            "10"
           ],
           "textfont": {
            "color": "#ffffff",
            "family": "Courier New, monospace",
            "size": 30
           },
           "type": "scatter",
           "x": [
            20,
            30,
            40,
            50,
            60,
            70,
            80,
            90,
            100
           ],
           "y": [
            48.5,
            48.5,
            48.5,
            48.5,
            48.5,
            48.5,
            48.5,
            48.5,
            48.5
           ]
          },
          {
           "hoverinfo": "none",
           "line": {
            "color": "blue",
            "dash": "dash"
           },
           "showlegend": false,
           "type": "scatter",
           "x": [
            68,
            68
           ],
           "y": [
            0,
            53.5
           ]
          },
          {
           "hoverinfo": "none",
           "line": {
            "color": "yellow",
            "dash": "dash"
           },
           "showlegend": false,
           "type": "scatter",
           "x": [
            74,
            74
           ],
           "y": [
            0,
            53.5
           ]
          },
          {
           "hoverinfo": "text",
           "hovertext": [
            "nflId:35459.0<br>displayName:Kareem Jackson<br>Route Ran:nan",
            "nflId:40347.0<br>displayName:Mike Purcell<br>Route Ran:nan",
            "nflId:42393.0<br>displayName:Ronald Darby<br>Route Ran:nan",
            "nflId:42826.0<br>displayName:DeShawn Williams<br>Route Ran:nan",
            "nflId:42929.0<br>displayName:Alex Singleton<br>Route Ran:nan",
            "nflId:43387.0<br>displayName:Justin Simmons<br>Route Ran:nan",
            "nflId:46074.0<br>displayName:Bradley Chubb<br>Route Ran:nan",
            "nflId:47854.0<br>displayName:Dre'Mont Jones<br>Route Ran:nan",
            "nflId:52706.0<br>displayName:Jonas Griffith<br>Route Ran:nan",
            "nflId:53438.0<br>displayName:Patrick Surtain<br>Route Ran:nan",
            "nflId:53534.0<br>displayName:Baron Browning<br>Route Ran:nan"
           ],
           "marker": {
            "color": "#FB4F14"
           },
           "mode": "markers",
           "name": "DEN",
           "type": "scatter",
           "x": [
            82.1,
            69.22,
            72.53,
            70.23,
            71.55,
            72.3,
            68.8,
            65.41,
            70.23,
            74.52,
            68.37
           ],
           "y": [
            29.31,
            28.61,
            21.23,
            29.66,
            27.48,
            24.45,
            29.72,
            24.79,
            29.06,
            38.06,
            23.76
           ]
          },
          {
           "hoverinfo": "text",
           "hovertext": [
            "nflId:39987.0<br>displayName:Geno Smith<br>Route Ran:nan",
            "nflId:41310.0<br>displayName:Gabe Jackson<br>Route Ran:nan",
            "nflId:43537.0<br>displayName:Austin Blythe<br>Route Ran:nan",
            "nflId:46096.0<br>displayName:Rashaad Penny<br>Route Ran:nan",
            "nflId:46189.0<br>displayName:Will Dissly<br>Route Ran:nan",
            "nflId:47803.0<br>displayName:Noah Fant<br>Route Ran:nan",
            "nflId:47847.0<br>displayName:DK Metcalf<br>Route Ran:nan",
            "nflId:47907.0<br>displayName:Phil Haynes<br>Route Ran:nan",
            "nflId:52541.0<br>displayName:Colby Parkinson<br>Route Ran:nan",
            "nflId:54474.0<br>displayName:Charles Cross<br>Route Ran:nan",
            "nflId:54537.0<br>displayName:Abraham Lucas<br>Route Ran:nan"
           ],
           "marker": {
            "color": "#69BE28"
           },
           "mode": "markers",
           "name": "SEA",
           "type": "scatter",
           "x": [
            58.85,
            68.63,
            69.98,
            69.3,
            66.71,
            67.68,
            73.73,
            69.74,
            71.48,
            68.22,
            71.43
           ],
           "y": [
            23.84,
            28.24,
            28.49,
            29.21,
            25.93,
            24.26,
            37.9,
            30.13,
            25.08,
            29.79,
            28.02
           ]
          },
          {
           "hoverinfo": "none",
           "marker": {
            "color": "#CBB67C"
           },
           "mode": "markers",
           "name": "football",
           "type": "scatter",
           "x": [
            70.0599975585938
           ],
           "y": [
            29.0499992370605
           ]
          }
         ],
         "name": "80"
        },
        {
         "data": [
          {
           "hoverinfo": "none",
           "mode": "text",
           "showlegend": false,
           "text": [
            "10",
            "20",
            "30",
            "40",
            "50",
            "40",
            "30",
            "20",
            "10"
           ],
           "textfont": {
            "color": "#ffffff",
            "family": "Courier New, monospace",
            "size": 30
           },
           "type": "scatter",
           "x": [
            20,
            30,
            40,
            50,
            60,
            70,
            80,
            90,
            100
           ],
           "y": [
            5,
            5,
            5,
            5,
            5,
            5,
            5,
            5,
            5
           ]
          },
          {
           "hoverinfo": "none",
           "mode": "text",
           "showlegend": false,
           "text": [
            "10",
            "20",
            "30",
            "40",
            "50",
            "40",
            "30",
            "20",
            "10"
           ],
           "textfont": {
            "color": "#ffffff",
            "family": "Courier New, monospace",
            "size": 30
           },
           "type": "scatter",
           "x": [
            20,
            30,
            40,
            50,
            60,
            70,
            80,
            90,
            100
           ],
           "y": [
            48.5,
            48.5,
            48.5,
            48.5,
            48.5,
            48.5,
            48.5,
            48.5,
            48.5
           ]
          },
          {
           "hoverinfo": "none",
           "line": {
            "color": "blue",
            "dash": "dash"
           },
           "showlegend": false,
           "type": "scatter",
           "x": [
            68,
            68
           ],
           "y": [
            0,
            53.5
           ]
          },
          {
           "hoverinfo": "none",
           "line": {
            "color": "yellow",
            "dash": "dash"
           },
           "showlegend": false,
           "type": "scatter",
           "x": [
            74,
            74
           ],
           "y": [
            0,
            53.5
           ]
          },
          {
           "hoverinfo": "text",
           "hovertext": [
            "nflId:35459.0<br>displayName:Kareem Jackson<br>Route Ran:nan",
            "nflId:40347.0<br>displayName:Mike Purcell<br>Route Ran:nan",
            "nflId:42393.0<br>displayName:Ronald Darby<br>Route Ran:nan",
            "nflId:42826.0<br>displayName:DeShawn Williams<br>Route Ran:nan",
            "nflId:42929.0<br>displayName:Alex Singleton<br>Route Ran:nan",
            "nflId:43387.0<br>displayName:Justin Simmons<br>Route Ran:nan",
            "nflId:46074.0<br>displayName:Bradley Chubb<br>Route Ran:nan",
            "nflId:47854.0<br>displayName:Dre'Mont Jones<br>Route Ran:nan",
            "nflId:52706.0<br>displayName:Jonas Griffith<br>Route Ran:nan",
            "nflId:53438.0<br>displayName:Patrick Surtain<br>Route Ran:nan",
            "nflId:53534.0<br>displayName:Baron Browning<br>Route Ran:nan"
           ],
           "marker": {
            "color": "#FB4F14"
           },
           "mode": "markers",
           "name": "DEN",
           "type": "scatter",
           "x": [
            81.75,
            69.52,
            72.6,
            70.36,
            71.57,
            72.54,
            68.98,
            65.6,
            70.28,
            74.74,
            68.66
           ],
           "y": [
            29.42,
            28.85,
            21.63,
            29.81,
            27.68,
            24.81,
            29.69,
            24.89,
            29.2,
            38.2,
            24.11
           ]
          },
          {
           "hoverinfo": "text",
           "hovertext": [
            "nflId:39987.0<br>displayName:Geno Smith<br>Route Ran:nan",
            "nflId:41310.0<br>displayName:Gabe Jackson<br>Route Ran:nan",
            "nflId:43537.0<br>displayName:Austin Blythe<br>Route Ran:nan",
            "nflId:46096.0<br>displayName:Rashaad Penny<br>Route Ran:nan",
            "nflId:46189.0<br>displayName:Will Dissly<br>Route Ran:nan",
            "nflId:47803.0<br>displayName:Noah Fant<br>Route Ran:nan",
            "nflId:47847.0<br>displayName:DK Metcalf<br>Route Ran:nan",
            "nflId:47907.0<br>displayName:Phil Haynes<br>Route Ran:nan",
            "nflId:52541.0<br>displayName:Colby Parkinson<br>Route Ran:nan",
            "nflId:54474.0<br>displayName:Charles Cross<br>Route Ran:nan",
            "nflId:54537.0<br>displayName:Abraham Lucas<br>Route Ran:nan"
           ],
           "marker": {
            "color": "#69BE28"
           },
           "mode": "markers",
           "name": "SEA",
           "type": "scatter",
           "x": [
            58.72,
            68.91,
            70.05,
            69.63,
            66.66,
            67.94,
            73.92,
            69.91,
            71.8,
            68.48,
            71.49
           ],
           "y": [
            23.53,
            28.5,
            28.64,
            29.42,
            25.98,
            24.61,
            37.99,
            30.34,
            25.32,
            29.82,
            28.26
           ]
          },
          {
           "hoverinfo": "none",
           "marker": {
            "color": "#CBB67C"
           },
           "mode": "markers",
           "name": "football",
           "type": "scatter",
           "x": [
            70.2399978637695
           ],
           "y": [
            29.1000003814697
           ]
          }
         ],
         "name": "81"
        },
        {
         "data": [
          {
           "hoverinfo": "none",
           "mode": "text",
           "showlegend": false,
           "text": [
            "10",
            "20",
            "30",
            "40",
            "50",
            "40",
            "30",
            "20",
            "10"
           ],
           "textfont": {
            "color": "#ffffff",
            "family": "Courier New, monospace",
            "size": 30
           },
           "type": "scatter",
           "x": [
            20,
            30,
            40,
            50,
            60,
            70,
            80,
            90,
            100
           ],
           "y": [
            5,
            5,
            5,
            5,
            5,
            5,
            5,
            5,
            5
           ]
          },
          {
           "hoverinfo": "none",
           "mode": "text",
           "showlegend": false,
           "text": [
            "10",
            "20",
            "30",
            "40",
            "50",
            "40",
            "30",
            "20",
            "10"
           ],
           "textfont": {
            "color": "#ffffff",
            "family": "Courier New, monospace",
            "size": 30
           },
           "type": "scatter",
           "x": [
            20,
            30,
            40,
            50,
            60,
            70,
            80,
            90,
            100
           ],
           "y": [
            48.5,
            48.5,
            48.5,
            48.5,
            48.5,
            48.5,
            48.5,
            48.5,
            48.5
           ]
          },
          {
           "hoverinfo": "none",
           "line": {
            "color": "blue",
            "dash": "dash"
           },
           "showlegend": false,
           "type": "scatter",
           "x": [
            68,
            68
           ],
           "y": [
            0,
            53.5
           ]
          },
          {
           "hoverinfo": "none",
           "line": {
            "color": "yellow",
            "dash": "dash"
           },
           "showlegend": false,
           "type": "scatter",
           "x": [
            74,
            74
           ],
           "y": [
            0,
            53.5
           ]
          },
          {
           "hoverinfo": "text",
           "hovertext": [
            "nflId:35459.0<br>displayName:Kareem Jackson<br>Route Ran:nan",
            "nflId:40347.0<br>displayName:Mike Purcell<br>Route Ran:nan",
            "nflId:42393.0<br>displayName:Ronald Darby<br>Route Ran:nan",
            "nflId:42826.0<br>displayName:DeShawn Williams<br>Route Ran:nan",
            "nflId:42929.0<br>displayName:Alex Singleton<br>Route Ran:nan",
            "nflId:43387.0<br>displayName:Justin Simmons<br>Route Ran:nan",
            "nflId:46074.0<br>displayName:Bradley Chubb<br>Route Ran:nan",
            "nflId:47854.0<br>displayName:Dre'Mont Jones<br>Route Ran:nan",
            "nflId:52706.0<br>displayName:Jonas Griffith<br>Route Ran:nan",
            "nflId:53438.0<br>displayName:Patrick Surtain<br>Route Ran:nan",
            "nflId:53534.0<br>displayName:Baron Browning<br>Route Ran:nan"
           ],
           "marker": {
            "color": "#FB4F14"
           },
           "mode": "markers",
           "name": "DEN",
           "type": "scatter",
           "x": [
            81.36,
            69.81,
            72.69,
            70.5,
            71.6,
            72.81,
            69.16,
            65.81,
            70.35,
            74.94,
            68.96
           ],
           "y": [
            29.54,
            29.07,
            22.02,
            29.97,
            27.87,
            25.15,
            29.71,
            24.97,
            29.34,
            38.34,
            24.46
           ]
          },
          {
           "hoverinfo": "text",
           "hovertext": [
            "nflId:39987.0<br>displayName:Geno Smith<br>Route Ran:nan",
            "nflId:41310.0<br>displayName:Gabe Jackson<br>Route Ran:nan",
            "nflId:43537.0<br>displayName:Austin Blythe<br>Route Ran:nan",
            "nflId:46096.0<br>displayName:Rashaad Penny<br>Route Ran:nan",
            "nflId:46189.0<br>displayName:Will Dissly<br>Route Ran:nan",
            "nflId:47803.0<br>displayName:Noah Fant<br>Route Ran:nan",
            "nflId:47847.0<br>displayName:DK Metcalf<br>Route Ran:nan",
            "nflId:47907.0<br>displayName:Phil Haynes<br>Route Ran:nan",
            "nflId:52541.0<br>displayName:Colby Parkinson<br>Route Ran:nan",
            "nflId:54474.0<br>displayName:Charles Cross<br>Route Ran:nan",
            "nflId:54537.0<br>displayName:Abraham Lucas<br>Route Ran:nan"
           ],
           "marker": {
            "color": "#69BE28"
           },
           "mode": "markers",
           "name": "SEA",
           "type": "scatter",
           "x": [
            58.63,
            69.14,
            70.12,
            69.9,
            66.62,
            68.23,
            74.08,
            70.07,
            72.1,
            68.74,
            71.55
           ],
           "y": [
            23.24,
            28.72,
            28.78,
            29.62,
            26.01,
            24.96,
            38.09,
            30.54,
            25.57,
            29.82,
            28.48
           ]
          },
          {
           "hoverinfo": "none",
           "marker": {
            "color": "#CBB67C"
           },
           "mode": "markers",
           "name": "football",
           "type": "scatter",
           "x": [
            70.6900024414062
           ],
           "y": [
            29.2099990844727
           ]
          }
         ],
         "name": "82"
        },
        {
         "data": [
          {
           "hoverinfo": "none",
           "mode": "text",
           "showlegend": false,
           "text": [
            "10",
            "20",
            "30",
            "40",
            "50",
            "40",
            "30",
            "20",
            "10"
           ],
           "textfont": {
            "color": "#ffffff",
            "family": "Courier New, monospace",
            "size": 30
           },
           "type": "scatter",
           "x": [
            20,
            30,
            40,
            50,
            60,
            70,
            80,
            90,
            100
           ],
           "y": [
            5,
            5,
            5,
            5,
            5,
            5,
            5,
            5,
            5
           ]
          },
          {
           "hoverinfo": "none",
           "mode": "text",
           "showlegend": false,
           "text": [
            "10",
            "20",
            "30",
            "40",
            "50",
            "40",
            "30",
            "20",
            "10"
           ],
           "textfont": {
            "color": "#ffffff",
            "family": "Courier New, monospace",
            "size": 30
           },
           "type": "scatter",
           "x": [
            20,
            30,
            40,
            50,
            60,
            70,
            80,
            90,
            100
           ],
           "y": [
            48.5,
            48.5,
            48.5,
            48.5,
            48.5,
            48.5,
            48.5,
            48.5,
            48.5
           ]
          },
          {
           "hoverinfo": "none",
           "line": {
            "color": "blue",
            "dash": "dash"
           },
           "showlegend": false,
           "type": "scatter",
           "x": [
            68,
            68
           ],
           "y": [
            0,
            53.5
           ]
          },
          {
           "hoverinfo": "none",
           "line": {
            "color": "yellow",
            "dash": "dash"
           },
           "showlegend": false,
           "type": "scatter",
           "x": [
            74,
            74
           ],
           "y": [
            0,
            53.5
           ]
          },
          {
           "hoverinfo": "text",
           "hovertext": [
            "nflId:35459.0<br>displayName:Kareem Jackson<br>Route Ran:nan",
            "nflId:40347.0<br>displayName:Mike Purcell<br>Route Ran:nan",
            "nflId:42393.0<br>displayName:Ronald Darby<br>Route Ran:nan",
            "nflId:42826.0<br>displayName:DeShawn Williams<br>Route Ran:nan",
            "nflId:42929.0<br>displayName:Alex Singleton<br>Route Ran:nan",
            "nflId:43387.0<br>displayName:Justin Simmons<br>Route Ran:nan",
            "nflId:46074.0<br>displayName:Bradley Chubb<br>Route Ran:nan",
            "nflId:47854.0<br>displayName:Dre'Mont Jones<br>Route Ran:nan",
            "nflId:52706.0<br>displayName:Jonas Griffith<br>Route Ran:nan",
            "nflId:53438.0<br>displayName:Patrick Surtain<br>Route Ran:nan",
            "nflId:53534.0<br>displayName:Baron Browning<br>Route Ran:nan"
           ],
           "marker": {
            "color": "#FB4F14"
           },
           "mode": "markers",
           "name": "DEN",
           "type": "scatter",
           "x": [
            80.96,
            70.11,
            72.8,
            70.64,
            71.63,
            73.11,
            69.36,
            66.04,
            70.44,
            75.11,
            69.25
           ],
           "y": [
            29.67,
            29.28,
            22.4,
            30.14,
            28.05,
            25.46,
            29.73,
            25.03,
            29.51,
            38.45,
            24.8
           ]
          },
          {
           "hoverinfo": "text",
           "hovertext": [
            "nflId:39987.0<br>displayName:Geno Smith<br>Route Ran:nan",
            "nflId:41310.0<br>displayName:Gabe Jackson<br>Route Ran:nan",
            "nflId:43537.0<br>displayName:Austin Blythe<br>Route Ran:nan",
            "nflId:46096.0<br>displayName:Rashaad Penny<br>Route Ran:nan",
            "nflId:46189.0<br>displayName:Will Dissly<br>Route Ran:nan",
            "nflId:47803.0<br>displayName:Noah Fant<br>Route Ran:nan",
            "nflId:47847.0<br>displayName:DK Metcalf<br>Route Ran:nan",
            "nflId:47907.0<br>displayName:Phil Haynes<br>Route Ran:nan",
            "nflId:52541.0<br>displayName:Colby Parkinson<br>Route Ran:nan",
            "nflId:54474.0<br>displayName:Charles Cross<br>Route Ran:nan",
            "nflId:54537.0<br>displayName:Abraham Lucas<br>Route Ran:nan"
           ],
           "marker": {
            "color": "#69BE28"
           },
           "mode": "markers",
           "name": "SEA",
           "type": "scatter",
           "x": [
            58.58,
            69.37,
            70.19,
            70.14,
            66.59,
            68.53,
            74.23,
            70.24,
            72.4,
            68.98,
            71.59
           ],
           "y": [
            22.96,
            28.92,
            28.94,
            29.83,
            26.03,
            25.3,
            38.18,
            30.74,
            25.82,
            29.81,
            28.66
           ]
          },
          {
           "hoverinfo": "none",
           "marker": {
            "color": "#CBB67C"
           },
           "mode": "markers",
           "name": "football",
           "type": "scatter",
           "x": [
            70.75
           ],
           "y": [
            29.2299995422363
           ]
          }
         ],
         "name": "83"
        },
        {
         "data": [
          {
           "hoverinfo": "none",
           "mode": "text",
           "showlegend": false,
           "text": [
            "10",
            "20",
            "30",
            "40",
            "50",
            "40",
            "30",
            "20",
            "10"
           ],
           "textfont": {
            "color": "#ffffff",
            "family": "Courier New, monospace",
            "size": 30
           },
           "type": "scatter",
           "x": [
            20,
            30,
            40,
            50,
            60,
            70,
            80,
            90,
            100
           ],
           "y": [
            5,
            5,
            5,
            5,
            5,
            5,
            5,
            5,
            5
           ]
          },
          {
           "hoverinfo": "none",
           "mode": "text",
           "showlegend": false,
           "text": [
            "10",
            "20",
            "30",
            "40",
            "50",
            "40",
            "30",
            "20",
            "10"
           ],
           "textfont": {
            "color": "#ffffff",
            "family": "Courier New, monospace",
            "size": 30
           },
           "type": "scatter",
           "x": [
            20,
            30,
            40,
            50,
            60,
            70,
            80,
            90,
            100
           ],
           "y": [
            48.5,
            48.5,
            48.5,
            48.5,
            48.5,
            48.5,
            48.5,
            48.5,
            48.5
           ]
          },
          {
           "hoverinfo": "none",
           "line": {
            "color": "blue",
            "dash": "dash"
           },
           "showlegend": false,
           "type": "scatter",
           "x": [
            68,
            68
           ],
           "y": [
            0,
            53.5
           ]
          },
          {
           "hoverinfo": "none",
           "line": {
            "color": "yellow",
            "dash": "dash"
           },
           "showlegend": false,
           "type": "scatter",
           "x": [
            74,
            74
           ],
           "y": [
            0,
            53.5
           ]
          },
          {
           "hoverinfo": "text",
           "hovertext": [
            "nflId:35459.0<br>displayName:Kareem Jackson<br>Route Ran:nan",
            "nflId:40347.0<br>displayName:Mike Purcell<br>Route Ran:nan",
            "nflId:42393.0<br>displayName:Ronald Darby<br>Route Ran:nan",
            "nflId:42826.0<br>displayName:DeShawn Williams<br>Route Ran:nan",
            "nflId:42929.0<br>displayName:Alex Singleton<br>Route Ran:nan",
            "nflId:43387.0<br>displayName:Justin Simmons<br>Route Ran:nan",
            "nflId:46074.0<br>displayName:Bradley Chubb<br>Route Ran:nan",
            "nflId:47854.0<br>displayName:Dre'Mont Jones<br>Route Ran:nan",
            "nflId:52706.0<br>displayName:Jonas Griffith<br>Route Ran:nan",
            "nflId:53438.0<br>displayName:Patrick Surtain<br>Route Ran:nan",
            "nflId:53534.0<br>displayName:Baron Browning<br>Route Ran:nan"
           ],
           "marker": {
            "color": "#FB4F14"
           },
           "mode": "markers",
           "name": "DEN",
           "type": "scatter",
           "x": [
            80.54,
            70.42,
            72.91,
            70.8,
            71.67,
            73.44,
            69.53,
            66.28,
            70.54,
            75.27,
            69.53
           ],
           "y": [
            29.8,
            29.47,
            22.76,
            30.31,
            28.21,
            25.76,
            29.8,
            25.07,
            29.68,
            38.56,
            25.13
           ]
          },
          {
           "hoverinfo": "text",
           "hovertext": [
            "nflId:39987.0<br>displayName:Geno Smith<br>Route Ran:nan",
            "nflId:41310.0<br>displayName:Gabe Jackson<br>Route Ran:nan",
            "nflId:43537.0<br>displayName:Austin Blythe<br>Route Ran:nan",
            "nflId:46096.0<br>displayName:Rashaad Penny<br>Route Ran:nan",
            "nflId:46189.0<br>displayName:Will Dissly<br>Route Ran:nan",
            "nflId:47803.0<br>displayName:Noah Fant<br>Route Ran:nan",
            "nflId:47847.0<br>displayName:DK Metcalf<br>Route Ran:nan",
            "nflId:47907.0<br>displayName:Phil Haynes<br>Route Ran:nan",
            "nflId:52541.0<br>displayName:Colby Parkinson<br>Route Ran:nan",
            "nflId:54474.0<br>displayName:Charles Cross<br>Route Ran:nan",
            "nflId:54537.0<br>displayName:Abraham Lucas<br>Route Ran:nan"
           ],
           "marker": {
            "color": "#69BE28"
           },
           "mode": "markers",
           "name": "SEA",
           "type": "scatter",
           "x": [
            58.57,
            69.56,
            70.28,
            70.35,
            66.56,
            68.84,
            74.36,
            70.41,
            72.7,
            69.19,
            71.63
           ],
           "y": [
            22.69,
            29.08,
            29.11,
            30.02,
            26.04,
            25.64,
            38.28,
            30.93,
            26.07,
            29.8,
            28.8
           ]
          },
          {
           "hoverinfo": "none",
           "marker": {
            "color": "#CBB67C"
           },
           "mode": "markers",
           "name": "football",
           "type": "scatter",
           "x": [
            70.7900009155273
           ],
           "y": [
            29.8700008392334
           ]
          }
         ],
         "name": "84"
        },
        {
         "data": [
          {
           "hoverinfo": "none",
           "mode": "text",
           "showlegend": false,
           "text": [
            "10",
            "20",
            "30",
            "40",
            "50",
            "40",
            "30",
            "20",
            "10"
           ],
           "textfont": {
            "color": "#ffffff",
            "family": "Courier New, monospace",
            "size": 30
           },
           "type": "scatter",
           "x": [
            20,
            30,
            40,
            50,
            60,
            70,
            80,
            90,
            100
           ],
           "y": [
            5,
            5,
            5,
            5,
            5,
            5,
            5,
            5,
            5
           ]
          },
          {
           "hoverinfo": "none",
           "mode": "text",
           "showlegend": false,
           "text": [
            "10",
            "20",
            "30",
            "40",
            "50",
            "40",
            "30",
            "20",
            "10"
           ],
           "textfont": {
            "color": "#ffffff",
            "family": "Courier New, monospace",
            "size": 30
           },
           "type": "scatter",
           "x": [
            20,
            30,
            40,
            50,
            60,
            70,
            80,
            90,
            100
           ],
           "y": [
            48.5,
            48.5,
            48.5,
            48.5,
            48.5,
            48.5,
            48.5,
            48.5,
            48.5
           ]
          },
          {
           "hoverinfo": "none",
           "line": {
            "color": "blue",
            "dash": "dash"
           },
           "showlegend": false,
           "type": "scatter",
           "x": [
            68,
            68
           ],
           "y": [
            0,
            53.5
           ]
          },
          {
           "hoverinfo": "none",
           "line": {
            "color": "yellow",
            "dash": "dash"
           },
           "showlegend": false,
           "type": "scatter",
           "x": [
            74,
            74
           ],
           "y": [
            0,
            53.5
           ]
          },
          {
           "hoverinfo": "text",
           "hovertext": [
            "nflId:35459.0<br>displayName:Kareem Jackson<br>Route Ran:nan",
            "nflId:40347.0<br>displayName:Mike Purcell<br>Route Ran:nan",
            "nflId:42393.0<br>displayName:Ronald Darby<br>Route Ran:nan",
            "nflId:42826.0<br>displayName:DeShawn Williams<br>Route Ran:nan",
            "nflId:42929.0<br>displayName:Alex Singleton<br>Route Ran:nan",
            "nflId:43387.0<br>displayName:Justin Simmons<br>Route Ran:nan",
            "nflId:46074.0<br>displayName:Bradley Chubb<br>Route Ran:nan",
            "nflId:47854.0<br>displayName:Dre'Mont Jones<br>Route Ran:nan",
            "nflId:52706.0<br>displayName:Jonas Griffith<br>Route Ran:nan",
            "nflId:53438.0<br>displayName:Patrick Surtain<br>Route Ran:nan",
            "nflId:53534.0<br>displayName:Baron Browning<br>Route Ran:nan"
           ],
           "marker": {
            "color": "#FB4F14"
           },
           "mode": "markers",
           "name": "DEN",
           "type": "scatter",
           "x": [
            80.11,
            70.42,
            73.02,
            70.96,
            71.72,
            73.77,
            69.67,
            66.53,
            70.66,
            75.41,
            69.81
           ],
           "y": [
            29.94,
            29.6,
            23.11,
            30.49,
            28.35,
            26.05,
            29.89,
            25.11,
            29.85,
            38.65,
            25.45
           ]
          },
          {
           "hoverinfo": "text",
           "hovertext": [
            "nflId:39987.0<br>displayName:Geno Smith<br>Route Ran:nan",
            "nflId:41310.0<br>displayName:Gabe Jackson<br>Route Ran:nan",
            "nflId:43537.0<br>displayName:Austin Blythe<br>Route Ran:nan",
            "nflId:46096.0<br>displayName:Rashaad Penny<br>Route Ran:nan",
            "nflId:46189.0<br>displayName:Will Dissly<br>Route Ran:nan",
            "nflId:47803.0<br>displayName:Noah Fant<br>Route Ran:nan",
            "nflId:47847.0<br>displayName:DK Metcalf<br>Route Ran:nan",
            "nflId:47907.0<br>displayName:Phil Haynes<br>Route Ran:nan",
            "nflId:52541.0<br>displayName:Colby Parkinson<br>Route Ran:nan",
            "nflId:54474.0<br>displayName:Charles Cross<br>Route Ran:nan",
            "nflId:54537.0<br>displayName:Abraham Lucas<br>Route Ran:nan"
           ],
           "marker": {
            "color": "#69BE28"
           },
           "mode": "markers",
           "name": "SEA",
           "type": "scatter",
           "x": [
            58.6,
            69.74,
            70.38,
            70.54,
            66.54,
            69.15,
            74.48,
            70.57,
            73.01,
            69.38,
            71.67
           ],
           "y": [
            22.45,
            29.23,
            29.29,
            30.22,
            26.05,
            25.98,
            38.36,
            31.11,
            26.33,
            29.79,
            28.92
           ]
          },
          {
           "hoverinfo": "none",
           "marker": {
            "color": "#CBB67C"
           },
           "mode": "markers",
           "name": "football",
           "type": "scatter",
           "x": [
            70.9199981689453
           ],
           "y": [
            30.2700004577637
           ]
          }
         ],
         "name": "85"
        },
        {
         "data": [
          {
           "hoverinfo": "none",
           "mode": "text",
           "showlegend": false,
           "text": [
            "10",
            "20",
            "30",
            "40",
            "50",
            "40",
            "30",
            "20",
            "10"
           ],
           "textfont": {
            "color": "#ffffff",
            "family": "Courier New, monospace",
            "size": 30
           },
           "type": "scatter",
           "x": [
            20,
            30,
            40,
            50,
            60,
            70,
            80,
            90,
            100
           ],
           "y": [
            5,
            5,
            5,
            5,
            5,
            5,
            5,
            5,
            5
           ]
          },
          {
           "hoverinfo": "none",
           "mode": "text",
           "showlegend": false,
           "text": [
            "10",
            "20",
            "30",
            "40",
            "50",
            "40",
            "30",
            "20",
            "10"
           ],
           "textfont": {
            "color": "#ffffff",
            "family": "Courier New, monospace",
            "size": 30
           },
           "type": "scatter",
           "x": [
            20,
            30,
            40,
            50,
            60,
            70,
            80,
            90,
            100
           ],
           "y": [
            48.5,
            48.5,
            48.5,
            48.5,
            48.5,
            48.5,
            48.5,
            48.5,
            48.5
           ]
          },
          {
           "hoverinfo": "none",
           "line": {
            "color": "blue",
            "dash": "dash"
           },
           "showlegend": false,
           "type": "scatter",
           "x": [
            68,
            68
           ],
           "y": [
            0,
            53.5
           ]
          },
          {
           "hoverinfo": "none",
           "line": {
            "color": "yellow",
            "dash": "dash"
           },
           "showlegend": false,
           "type": "scatter",
           "x": [
            74,
            74
           ],
           "y": [
            0,
            53.5
           ]
          },
          {
           "hoverinfo": "text",
           "hovertext": [
            "nflId:35459.0<br>displayName:Kareem Jackson<br>Route Ran:nan",
            "nflId:40347.0<br>displayName:Mike Purcell<br>Route Ran:nan",
            "nflId:42393.0<br>displayName:Ronald Darby<br>Route Ran:nan",
            "nflId:42826.0<br>displayName:DeShawn Williams<br>Route Ran:nan",
            "nflId:42929.0<br>displayName:Alex Singleton<br>Route Ran:nan",
            "nflId:43387.0<br>displayName:Justin Simmons<br>Route Ran:nan",
            "nflId:46074.0<br>displayName:Bradley Chubb<br>Route Ran:nan",
            "nflId:47854.0<br>displayName:Dre'Mont Jones<br>Route Ran:nan",
            "nflId:52706.0<br>displayName:Jonas Griffith<br>Route Ran:nan",
            "nflId:53438.0<br>displayName:Patrick Surtain<br>Route Ran:nan",
            "nflId:53534.0<br>displayName:Baron Browning<br>Route Ran:nan"
           ],
           "marker": {
            "color": "#FB4F14"
           },
           "mode": "markers",
           "name": "DEN",
           "type": "scatter",
           "x": [
            79.67,
            70.52,
            73.13,
            71.13,
            71.77,
            74.12,
            69.81,
            66.78,
            70.79,
            75.54,
            70.07
           ],
           "y": [
            30.09,
            29.72,
            23.44,
            30.66,
            28.47,
            26.31,
            29.99,
            25.14,
            30.03,
            38.73,
            25.77
           ]
          },
          {
           "hoverinfo": "text",
           "hovertext": [
            "nflId:39987.0<br>displayName:Geno Smith<br>Route Ran:nan",
            "nflId:41310.0<br>displayName:Gabe Jackson<br>Route Ran:nan",
            "nflId:43537.0<br>displayName:Austin Blythe<br>Route Ran:nan",
            "nflId:46096.0<br>displayName:Rashaad Penny<br>Route Ran:nan",
            "nflId:46189.0<br>displayName:Will Dissly<br>Route Ran:nan",
            "nflId:47803.0<br>displayName:Noah Fant<br>Route Ran:nan",
            "nflId:47847.0<br>displayName:DK Metcalf<br>Route Ran:nan",
            "nflId:47907.0<br>displayName:Phil Haynes<br>Route Ran:nan",
            "nflId:52541.0<br>displayName:Colby Parkinson<br>Route Ran:nan",
            "nflId:54474.0<br>displayName:Charles Cross<br>Route Ran:nan",
            "nflId:54537.0<br>displayName:Abraham Lucas<br>Route Ran:nan"
           ],
           "marker": {
            "color": "#69BE28"
           },
           "mode": "markers",
           "name": "SEA",
           "type": "scatter",
           "x": [
            58.66,
            69.88,
            70.47,
            70.69,
            66.53,
            69.47,
            74.59,
            70.72,
            73.31,
            69.52,
            71.69
           ],
           "y": [
            22.23,
            29.34,
            29.48,
            30.41,
            26.06,
            26.31,
            38.44,
            31.27,
            26.58,
            29.78,
            29.01
           ]
          },
          {
           "hoverinfo": "none",
           "marker": {
            "color": "#CBB67C"
           },
           "mode": "markers",
           "name": "football",
           "type": "scatter",
           "x": [
            71
           ],
           "y": [
            30.5499992370605
           ]
          }
         ],
         "name": "86"
        },
        {
         "data": [
          {
           "hoverinfo": "none",
           "mode": "text",
           "showlegend": false,
           "text": [
            "10",
            "20",
            "30",
            "40",
            "50",
            "40",
            "30",
            "20",
            "10"
           ],
           "textfont": {
            "color": "#ffffff",
            "family": "Courier New, monospace",
            "size": 30
           },
           "type": "scatter",
           "x": [
            20,
            30,
            40,
            50,
            60,
            70,
            80,
            90,
            100
           ],
           "y": [
            5,
            5,
            5,
            5,
            5,
            5,
            5,
            5,
            5
           ]
          },
          {
           "hoverinfo": "none",
           "mode": "text",
           "showlegend": false,
           "text": [
            "10",
            "20",
            "30",
            "40",
            "50",
            "40",
            "30",
            "20",
            "10"
           ],
           "textfont": {
            "color": "#ffffff",
            "family": "Courier New, monospace",
            "size": 30
           },
           "type": "scatter",
           "x": [
            20,
            30,
            40,
            50,
            60,
            70,
            80,
            90,
            100
           ],
           "y": [
            48.5,
            48.5,
            48.5,
            48.5,
            48.5,
            48.5,
            48.5,
            48.5,
            48.5
           ]
          },
          {
           "hoverinfo": "none",
           "line": {
            "color": "blue",
            "dash": "dash"
           },
           "showlegend": false,
           "type": "scatter",
           "x": [
            68,
            68
           ],
           "y": [
            0,
            53.5
           ]
          },
          {
           "hoverinfo": "none",
           "line": {
            "color": "yellow",
            "dash": "dash"
           },
           "showlegend": false,
           "type": "scatter",
           "x": [
            74,
            74
           ],
           "y": [
            0,
            53.5
           ]
          },
          {
           "hoverinfo": "text",
           "hovertext": [
            "nflId:35459.0<br>displayName:Kareem Jackson<br>Route Ran:nan",
            "nflId:40347.0<br>displayName:Mike Purcell<br>Route Ran:nan",
            "nflId:42393.0<br>displayName:Ronald Darby<br>Route Ran:nan",
            "nflId:42826.0<br>displayName:DeShawn Williams<br>Route Ran:nan",
            "nflId:42929.0<br>displayName:Alex Singleton<br>Route Ran:nan",
            "nflId:43387.0<br>displayName:Justin Simmons<br>Route Ran:nan",
            "nflId:46074.0<br>displayName:Bradley Chubb<br>Route Ran:nan",
            "nflId:47854.0<br>displayName:Dre'Mont Jones<br>Route Ran:nan",
            "nflId:52706.0<br>displayName:Jonas Griffith<br>Route Ran:nan",
            "nflId:53438.0<br>displayName:Patrick Surtain<br>Route Ran:nan",
            "nflId:53534.0<br>displayName:Baron Browning<br>Route Ran:nan"
           ],
           "marker": {
            "color": "#FB4F14"
           },
           "mode": "markers",
           "name": "DEN",
           "type": "scatter",
           "x": [
            79.23,
            70.62,
            73.22,
            71.3,
            71.84,
            74.47,
            69.94,
            67.02,
            70.89,
            75.66,
            70.32
           ],
           "y": [
            30.24,
            29.83,
            23.75,
            30.83,
            28.58,
            26.56,
            30.1,
            25.16,
            30.22,
            38.79,
            26.07
           ]
          },
          {
           "hoverinfo": "text",
           "hovertext": [
            "nflId:39987.0<br>displayName:Geno Smith<br>Route Ran:nan",
            "nflId:41310.0<br>displayName:Gabe Jackson<br>Route Ran:nan",
            "nflId:43537.0<br>displayName:Austin Blythe<br>Route Ran:nan",
            "nflId:46096.0<br>displayName:Rashaad Penny<br>Route Ran:nan",
            "nflId:46189.0<br>displayName:Will Dissly<br>Route Ran:nan",
            "nflId:47803.0<br>displayName:Noah Fant<br>Route Ran:nan",
            "nflId:47847.0<br>displayName:DK Metcalf<br>Route Ran:nan",
            "nflId:47907.0<br>displayName:Phil Haynes<br>Route Ran:nan",
            "nflId:52541.0<br>displayName:Colby Parkinson<br>Route Ran:nan",
            "nflId:54474.0<br>displayName:Charles Cross<br>Route Ran:nan",
            "nflId:54537.0<br>displayName:Abraham Lucas<br>Route Ran:nan"
           ],
           "marker": {
            "color": "#69BE28"
           },
           "mode": "markers",
           "name": "SEA",
           "type": "scatter",
           "x": [
            58.75,
            69.99,
            70.57,
            70.83,
            66.51,
            69.8,
            74.69,
            70.87,
            73.63,
            69.63,
            71.72
           ],
           "y": [
            22.04,
            29.43,
            29.67,
            30.59,
            26.08,
            26.62,
            38.51,
            31.43,
            26.83,
            29.77,
            29.07
           ]
          },
          {
           "hoverinfo": "none",
           "marker": {
            "color": "#CBB67C"
           },
           "mode": "markers",
           "name": "football",
           "type": "scatter",
           "x": [
            71.0599975585938
           ],
           "y": [
            30.7199993133545
           ]
          }
         ],
         "name": "87"
        },
        {
         "data": [
          {
           "hoverinfo": "none",
           "mode": "text",
           "showlegend": false,
           "text": [
            "10",
            "20",
            "30",
            "40",
            "50",
            "40",
            "30",
            "20",
            "10"
           ],
           "textfont": {
            "color": "#ffffff",
            "family": "Courier New, monospace",
            "size": 30
           },
           "type": "scatter",
           "x": [
            20,
            30,
            40,
            50,
            60,
            70,
            80,
            90,
            100
           ],
           "y": [
            5,
            5,
            5,
            5,
            5,
            5,
            5,
            5,
            5
           ]
          },
          {
           "hoverinfo": "none",
           "mode": "text",
           "showlegend": false,
           "text": [
            "10",
            "20",
            "30",
            "40",
            "50",
            "40",
            "30",
            "20",
            "10"
           ],
           "textfont": {
            "color": "#ffffff",
            "family": "Courier New, monospace",
            "size": 30
           },
           "type": "scatter",
           "x": [
            20,
            30,
            40,
            50,
            60,
            70,
            80,
            90,
            100
           ],
           "y": [
            48.5,
            48.5,
            48.5,
            48.5,
            48.5,
            48.5,
            48.5,
            48.5,
            48.5
           ]
          },
          {
           "hoverinfo": "none",
           "line": {
            "color": "blue",
            "dash": "dash"
           },
           "showlegend": false,
           "type": "scatter",
           "x": [
            68,
            68
           ],
           "y": [
            0,
            53.5
           ]
          },
          {
           "hoverinfo": "none",
           "line": {
            "color": "yellow",
            "dash": "dash"
           },
           "showlegend": false,
           "type": "scatter",
           "x": [
            74,
            74
           ],
           "y": [
            0,
            53.5
           ]
          },
          {
           "hoverinfo": "text",
           "hovertext": [
            "nflId:35459.0<br>displayName:Kareem Jackson<br>Route Ran:nan",
            "nflId:40347.0<br>displayName:Mike Purcell<br>Route Ran:nan",
            "nflId:42393.0<br>displayName:Ronald Darby<br>Route Ran:nan",
            "nflId:42826.0<br>displayName:DeShawn Williams<br>Route Ran:nan",
            "nflId:42929.0<br>displayName:Alex Singleton<br>Route Ran:nan",
            "nflId:43387.0<br>displayName:Justin Simmons<br>Route Ran:nan",
            "nflId:46074.0<br>displayName:Bradley Chubb<br>Route Ran:nan",
            "nflId:47854.0<br>displayName:Dre'Mont Jones<br>Route Ran:nan",
            "nflId:52706.0<br>displayName:Jonas Griffith<br>Route Ran:nan",
            "nflId:53438.0<br>displayName:Patrick Surtain<br>Route Ran:nan",
            "nflId:53534.0<br>displayName:Baron Browning<br>Route Ran:nan"
           ],
           "marker": {
            "color": "#FB4F14"
           },
           "mode": "markers",
           "name": "DEN",
           "type": "scatter",
           "x": [
            78.8,
            70.67,
            73.28,
            71.48,
            71.92,
            74.82,
            70.04,
            67.24,
            70.98,
            75.76,
            70.57
           ],
           "y": [
            30.39,
            29.91,
            24.03,
            31,
            28.66,
            26.78,
            30.22,
            25.2,
            30.42,
            38.84,
            26.35
           ]
          },
          {
           "hoverinfo": "text",
           "hovertext": [
            "nflId:39987.0<br>displayName:Geno Smith<br>Route Ran:nan",
            "nflId:41310.0<br>displayName:Gabe Jackson<br>Route Ran:nan",
            "nflId:43537.0<br>displayName:Austin Blythe<br>Route Ran:nan",
            "nflId:46096.0<br>displayName:Rashaad Penny<br>Route Ran:nan",
            "nflId:46189.0<br>displayName:Will Dissly<br>Route Ran:nan",
            "nflId:47803.0<br>displayName:Noah Fant<br>Route Ran:nan",
            "nflId:47847.0<br>displayName:DK Metcalf<br>Route Ran:nan",
            "nflId:47907.0<br>displayName:Phil Haynes<br>Route Ran:nan",
            "nflId:52541.0<br>displayName:Colby Parkinson<br>Route Ran:nan",
            "nflId:54474.0<br>displayName:Charles Cross<br>Route Ran:nan",
            "nflId:54537.0<br>displayName:Abraham Lucas<br>Route Ran:nan"
           ],
           "marker": {
            "color": "#69BE28"
           },
           "mode": "markers",
           "name": "SEA",
           "type": "scatter",
           "x": [
            58.87,
            70.07,
            70.67,
            70.94,
            66.5,
            70.11,
            74.78,
            71.01,
            73.95,
            69.71,
            71.74
           ],
           "y": [
            21.87,
            29.49,
            29.88,
            30.76,
            26.1,
            26.92,
            38.56,
            31.56,
            27.07,
            29.77,
            29.12
           ]
          },
          {
           "hoverinfo": "none",
           "marker": {
            "color": "#CBB67C"
           },
           "mode": "markers",
           "name": "football",
           "type": "scatter",
           "x": [
            71.1100006103516
           ],
           "y": [
            30.8299999237061
           ]
          }
         ],
         "name": "88"
        },
        {
         "data": [
          {
           "hoverinfo": "none",
           "mode": "text",
           "showlegend": false,
           "text": [
            "10",
            "20",
            "30",
            "40",
            "50",
            "40",
            "30",
            "20",
            "10"
           ],
           "textfont": {
            "color": "#ffffff",
            "family": "Courier New, monospace",
            "size": 30
           },
           "type": "scatter",
           "x": [
            20,
            30,
            40,
            50,
            60,
            70,
            80,
            90,
            100
           ],
           "y": [
            5,
            5,
            5,
            5,
            5,
            5,
            5,
            5,
            5
           ]
          },
          {
           "hoverinfo": "none",
           "mode": "text",
           "showlegend": false,
           "text": [
            "10",
            "20",
            "30",
            "40",
            "50",
            "40",
            "30",
            "20",
            "10"
           ],
           "textfont": {
            "color": "#ffffff",
            "family": "Courier New, monospace",
            "size": 30
           },
           "type": "scatter",
           "x": [
            20,
            30,
            40,
            50,
            60,
            70,
            80,
            90,
            100
           ],
           "y": [
            48.5,
            48.5,
            48.5,
            48.5,
            48.5,
            48.5,
            48.5,
            48.5,
            48.5
           ]
          },
          {
           "hoverinfo": "none",
           "line": {
            "color": "blue",
            "dash": "dash"
           },
           "showlegend": false,
           "type": "scatter",
           "x": [
            68,
            68
           ],
           "y": [
            0,
            53.5
           ]
          },
          {
           "hoverinfo": "none",
           "line": {
            "color": "yellow",
            "dash": "dash"
           },
           "showlegend": false,
           "type": "scatter",
           "x": [
            74,
            74
           ],
           "y": [
            0,
            53.5
           ]
          },
          {
           "hoverinfo": "text",
           "hovertext": [
            "nflId:35459.0<br>displayName:Kareem Jackson<br>Route Ran:nan",
            "nflId:40347.0<br>displayName:Mike Purcell<br>Route Ran:nan",
            "nflId:42393.0<br>displayName:Ronald Darby<br>Route Ran:nan",
            "nflId:42826.0<br>displayName:DeShawn Williams<br>Route Ran:nan",
            "nflId:42929.0<br>displayName:Alex Singleton<br>Route Ran:nan",
            "nflId:43387.0<br>displayName:Justin Simmons<br>Route Ran:nan",
            "nflId:46074.0<br>displayName:Bradley Chubb<br>Route Ran:nan",
            "nflId:47854.0<br>displayName:Dre'Mont Jones<br>Route Ran:nan",
            "nflId:52706.0<br>displayName:Jonas Griffith<br>Route Ran:nan",
            "nflId:53438.0<br>displayName:Patrick Surtain<br>Route Ran:nan",
            "nflId:53534.0<br>displayName:Baron Browning<br>Route Ran:nan"
           ],
           "marker": {
            "color": "#FB4F14"
           },
           "mode": "markers",
           "name": "DEN",
           "type": "scatter",
           "x": [
            78.37,
            70.64,
            73.34,
            71.68,
            72,
            75.14,
            70.12,
            67.46,
            71.03,
            75.86,
            70.81
           ],
           "y": [
            30.55,
            29.98,
            24.31,
            31.16,
            28.73,
            26.98,
            30.35,
            25.23,
            30.63,
            38.87,
            26.6
           ]
          },
          {
           "hoverinfo": "text",
           "hovertext": [
            "nflId:39987.0<br>displayName:Geno Smith<br>Route Ran:nan",
            "nflId:41310.0<br>displayName:Gabe Jackson<br>Route Ran:nan",
            "nflId:43537.0<br>displayName:Austin Blythe<br>Route Ran:nan",
            "nflId:46096.0<br>displayName:Rashaad Penny<br>Route Ran:nan",
            "nflId:46189.0<br>displayName:Will Dissly<br>Route Ran:nan",
            "nflId:47803.0<br>displayName:Noah Fant<br>Route Ran:nan",
            "nflId:47847.0<br>displayName:DK Metcalf<br>Route Ran:nan",
            "nflId:47907.0<br>displayName:Phil Haynes<br>Route Ran:nan",
            "nflId:52541.0<br>displayName:Colby Parkinson<br>Route Ran:nan",
            "nflId:54474.0<br>displayName:Charles Cross<br>Route Ran:nan",
            "nflId:54537.0<br>displayName:Abraham Lucas<br>Route Ran:nan"
           ],
           "marker": {
            "color": "#69BE28"
           },
           "mode": "markers",
           "name": "SEA",
           "type": "scatter",
           "x": [
            59.01,
            70.12,
            70.75,
            71.04,
            66.49,
            70.41,
            74.86,
            71.16,
            74.27,
            69.76,
            71.76
           ],
           "y": [
            21.73,
            29.54,
            30.09,
            30.89,
            26.12,
            27.19,
            38.6,
            31.69,
            27.3,
            29.78,
            29.15
           ]
          },
          {
           "hoverinfo": "none",
           "marker": {
            "color": "#CBB67C"
           },
           "mode": "markers",
           "name": "football",
           "type": "scatter",
           "x": [
            71.129997253418
           ],
           "y": [
            30.9500007629395
           ]
          }
         ],
         "name": "89"
        },
        {
         "data": [
          {
           "hoverinfo": "none",
           "mode": "text",
           "showlegend": false,
           "text": [
            "10",
            "20",
            "30",
            "40",
            "50",
            "40",
            "30",
            "20",
            "10"
           ],
           "textfont": {
            "color": "#ffffff",
            "family": "Courier New, monospace",
            "size": 30
           },
           "type": "scatter",
           "x": [
            20,
            30,
            40,
            50,
            60,
            70,
            80,
            90,
            100
           ],
           "y": [
            5,
            5,
            5,
            5,
            5,
            5,
            5,
            5,
            5
           ]
          },
          {
           "hoverinfo": "none",
           "mode": "text",
           "showlegend": false,
           "text": [
            "10",
            "20",
            "30",
            "40",
            "50",
            "40",
            "30",
            "20",
            "10"
           ],
           "textfont": {
            "color": "#ffffff",
            "family": "Courier New, monospace",
            "size": 30
           },
           "type": "scatter",
           "x": [
            20,
            30,
            40,
            50,
            60,
            70,
            80,
            90,
            100
           ],
           "y": [
            48.5,
            48.5,
            48.5,
            48.5,
            48.5,
            48.5,
            48.5,
            48.5,
            48.5
           ]
          },
          {
           "hoverinfo": "none",
           "line": {
            "color": "blue",
            "dash": "dash"
           },
           "showlegend": false,
           "type": "scatter",
           "x": [
            68,
            68
           ],
           "y": [
            0,
            53.5
           ]
          },
          {
           "hoverinfo": "none",
           "line": {
            "color": "yellow",
            "dash": "dash"
           },
           "showlegend": false,
           "type": "scatter",
           "x": [
            74,
            74
           ],
           "y": [
            0,
            53.5
           ]
          },
          {
           "hoverinfo": "text",
           "hovertext": [
            "nflId:35459.0<br>displayName:Kareem Jackson<br>Route Ran:nan",
            "nflId:40347.0<br>displayName:Mike Purcell<br>Route Ran:nan",
            "nflId:42393.0<br>displayName:Ronald Darby<br>Route Ran:nan",
            "nflId:42826.0<br>displayName:DeShawn Williams<br>Route Ran:nan",
            "nflId:42929.0<br>displayName:Alex Singleton<br>Route Ran:nan",
            "nflId:43387.0<br>displayName:Justin Simmons<br>Route Ran:nan",
            "nflId:46074.0<br>displayName:Bradley Chubb<br>Route Ran:nan",
            "nflId:47854.0<br>displayName:Dre'Mont Jones<br>Route Ran:nan",
            "nflId:52706.0<br>displayName:Jonas Griffith<br>Route Ran:nan",
            "nflId:53438.0<br>displayName:Patrick Surtain<br>Route Ran:nan",
            "nflId:53534.0<br>displayName:Baron Browning<br>Route Ran:nan"
           ],
           "marker": {
            "color": "#FB4F14"
           },
           "mode": "markers",
           "name": "DEN",
           "type": "scatter",
           "x": [
            77.95,
            70.58,
            73.38,
            71.87,
            72.09,
            75.43,
            70.18,
            67.66,
            71.05,
            75.94,
            71.04
           ],
           "y": [
            30.71,
            30.03,
            24.56,
            31.32,
            28.77,
            27.16,
            30.47,
            25.26,
            30.84,
            38.89,
            26.83
           ]
          },
          {
           "hoverinfo": "text",
           "hovertext": [
            "nflId:39987.0<br>displayName:Geno Smith<br>Route Ran:nan",
            "nflId:41310.0<br>displayName:Gabe Jackson<br>Route Ran:nan",
            "nflId:43537.0<br>displayName:Austin Blythe<br>Route Ran:nan",
            "nflId:46096.0<br>displayName:Rashaad Penny<br>Route Ran:nan",
            "nflId:46189.0<br>displayName:Will Dissly<br>Route Ran:nan",
            "nflId:47803.0<br>displayName:Noah Fant<br>Route Ran:nan",
            "nflId:47847.0<br>displayName:DK Metcalf<br>Route Ran:nan",
            "nflId:47907.0<br>displayName:Phil Haynes<br>Route Ran:nan",
            "nflId:52541.0<br>displayName:Colby Parkinson<br>Route Ran:nan",
            "nflId:54474.0<br>displayName:Charles Cross<br>Route Ran:nan",
            "nflId:54537.0<br>displayName:Abraham Lucas<br>Route Ran:nan"
           ],
           "marker": {
            "color": "#69BE28"
           },
           "mode": "markers",
           "name": "SEA",
           "type": "scatter",
           "x": [
            59.17,
            70.15,
            70.83,
            71.11,
            66.48,
            70.69,
            74.94,
            71.31,
            74.58,
            69.78,
            71.79
           ],
           "y": [
            21.61,
            29.57,
            30.31,
            31.02,
            26.14,
            27.43,
            38.63,
            31.81,
            27.51,
            29.79,
            29.16
           ]
          },
          {
           "hoverinfo": "none",
           "marker": {
            "color": "#CBB67C"
           },
           "mode": "markers",
           "name": "football",
           "type": "scatter",
           "x": [
            71.120002746582
           ],
           "y": [
            31.0900001525879
           ]
          }
         ],
         "name": "90"
        },
        {
         "data": [
          {
           "hoverinfo": "none",
           "mode": "text",
           "showlegend": false,
           "text": [
            "10",
            "20",
            "30",
            "40",
            "50",
            "40",
            "30",
            "20",
            "10"
           ],
           "textfont": {
            "color": "#ffffff",
            "family": "Courier New, monospace",
            "size": 30
           },
           "type": "scatter",
           "x": [
            20,
            30,
            40,
            50,
            60,
            70,
            80,
            90,
            100
           ],
           "y": [
            5,
            5,
            5,
            5,
            5,
            5,
            5,
            5,
            5
           ]
          },
          {
           "hoverinfo": "none",
           "mode": "text",
           "showlegend": false,
           "text": [
            "10",
            "20",
            "30",
            "40",
            "50",
            "40",
            "30",
            "20",
            "10"
           ],
           "textfont": {
            "color": "#ffffff",
            "family": "Courier New, monospace",
            "size": 30
           },
           "type": "scatter",
           "x": [
            20,
            30,
            40,
            50,
            60,
            70,
            80,
            90,
            100
           ],
           "y": [
            48.5,
            48.5,
            48.5,
            48.5,
            48.5,
            48.5,
            48.5,
            48.5,
            48.5
           ]
          },
          {
           "hoverinfo": "none",
           "line": {
            "color": "blue",
            "dash": "dash"
           },
           "showlegend": false,
           "type": "scatter",
           "x": [
            68,
            68
           ],
           "y": [
            0,
            53.5
           ]
          },
          {
           "hoverinfo": "none",
           "line": {
            "color": "yellow",
            "dash": "dash"
           },
           "showlegend": false,
           "type": "scatter",
           "x": [
            74,
            74
           ],
           "y": [
            0,
            53.5
           ]
          },
          {
           "hoverinfo": "text",
           "hovertext": [
            "nflId:35459.0<br>displayName:Kareem Jackson<br>Route Ran:nan",
            "nflId:40347.0<br>displayName:Mike Purcell<br>Route Ran:nan",
            "nflId:42393.0<br>displayName:Ronald Darby<br>Route Ran:nan",
            "nflId:42826.0<br>displayName:DeShawn Williams<br>Route Ran:nan",
            "nflId:42929.0<br>displayName:Alex Singleton<br>Route Ran:nan",
            "nflId:43387.0<br>displayName:Justin Simmons<br>Route Ran:nan",
            "nflId:46074.0<br>displayName:Bradley Chubb<br>Route Ran:nan",
            "nflId:47854.0<br>displayName:Dre'Mont Jones<br>Route Ran:nan",
            "nflId:52706.0<br>displayName:Jonas Griffith<br>Route Ran:nan",
            "nflId:53438.0<br>displayName:Patrick Surtain<br>Route Ran:nan",
            "nflId:53534.0<br>displayName:Baron Browning<br>Route Ran:nan"
           ],
           "marker": {
            "color": "#FB4F14"
           },
           "mode": "markers",
           "name": "DEN",
           "type": "scatter",
           "x": [
            77.55,
            70.53,
            73.41,
            72.07,
            72.18,
            75.68,
            70.23,
            67.86,
            71.04,
            76.01,
            71.27
           ],
           "y": [
            30.86,
            30.08,
            24.8,
            31.47,
            28.79,
            27.29,
            30.58,
            25.29,
            31.07,
            38.9,
            27.03
           ]
          },
          {
           "hoverinfo": "text",
           "hovertext": [
            "nflId:39987.0<br>displayName:Geno Smith<br>Route Ran:nan",
            "nflId:41310.0<br>displayName:Gabe Jackson<br>Route Ran:nan",
            "nflId:43537.0<br>displayName:Austin Blythe<br>Route Ran:nan",
            "nflId:46096.0<br>displayName:Rashaad Penny<br>Route Ran:nan",
            "nflId:46189.0<br>displayName:Will Dissly<br>Route Ran:nan",
            "nflId:47803.0<br>displayName:Noah Fant<br>Route Ran:nan",
            "nflId:47847.0<br>displayName:DK Metcalf<br>Route Ran:nan",
            "nflId:47907.0<br>displayName:Phil Haynes<br>Route Ran:nan",
            "nflId:52541.0<br>displayName:Colby Parkinson<br>Route Ran:nan",
            "nflId:54474.0<br>displayName:Charles Cross<br>Route Ran:nan",
            "nflId:54537.0<br>displayName:Abraham Lucas<br>Route Ran:nan"
           ],
           "marker": {
            "color": "#69BE28"
           },
           "mode": "markers",
           "name": "SEA",
           "type": "scatter",
           "x": [
            59.35,
            70.16,
            70.89,
            71.17,
            66.48,
            70.95,
            75.01,
            71.46,
            74.88,
            69.79,
            71.81
           ],
           "y": [
            21.52,
            29.59,
            30.54,
            31.14,
            26.17,
            27.61,
            38.63,
            31.93,
            27.72,
            29.81,
            29.17
           ]
          },
          {
           "hoverinfo": "none",
           "marker": {
            "color": "#CBB67C"
           },
           "mode": "markers",
           "name": "football",
           "type": "scatter",
           "x": [
            71.1100006103516
           ],
           "y": [
            31.2099990844727
           ]
          }
         ],
         "name": "91"
        },
        {
         "data": [
          {
           "hoverinfo": "none",
           "mode": "text",
           "showlegend": false,
           "text": [
            "10",
            "20",
            "30",
            "40",
            "50",
            "40",
            "30",
            "20",
            "10"
           ],
           "textfont": {
            "color": "#ffffff",
            "family": "Courier New, monospace",
            "size": 30
           },
           "type": "scatter",
           "x": [
            20,
            30,
            40,
            50,
            60,
            70,
            80,
            90,
            100
           ],
           "y": [
            5,
            5,
            5,
            5,
            5,
            5,
            5,
            5,
            5
           ]
          },
          {
           "hoverinfo": "none",
           "mode": "text",
           "showlegend": false,
           "text": [
            "10",
            "20",
            "30",
            "40",
            "50",
            "40",
            "30",
            "20",
            "10"
           ],
           "textfont": {
            "color": "#ffffff",
            "family": "Courier New, monospace",
            "size": 30
           },
           "type": "scatter",
           "x": [
            20,
            30,
            40,
            50,
            60,
            70,
            80,
            90,
            100
           ],
           "y": [
            48.5,
            48.5,
            48.5,
            48.5,
            48.5,
            48.5,
            48.5,
            48.5,
            48.5
           ]
          },
          {
           "hoverinfo": "none",
           "line": {
            "color": "blue",
            "dash": "dash"
           },
           "showlegend": false,
           "type": "scatter",
           "x": [
            68,
            68
           ],
           "y": [
            0,
            53.5
           ]
          },
          {
           "hoverinfo": "none",
           "line": {
            "color": "yellow",
            "dash": "dash"
           },
           "showlegend": false,
           "type": "scatter",
           "x": [
            74,
            74
           ],
           "y": [
            0,
            53.5
           ]
          },
          {
           "hoverinfo": "text",
           "hovertext": [
            "nflId:35459.0<br>displayName:Kareem Jackson<br>Route Ran:nan",
            "nflId:40347.0<br>displayName:Mike Purcell<br>Route Ran:nan",
            "nflId:42393.0<br>displayName:Ronald Darby<br>Route Ran:nan",
            "nflId:42826.0<br>displayName:DeShawn Williams<br>Route Ran:nan",
            "nflId:42929.0<br>displayName:Alex Singleton<br>Route Ran:nan",
            "nflId:43387.0<br>displayName:Justin Simmons<br>Route Ran:nan",
            "nflId:46074.0<br>displayName:Bradley Chubb<br>Route Ran:nan",
            "nflId:47854.0<br>displayName:Dre'Mont Jones<br>Route Ran:nan",
            "nflId:52706.0<br>displayName:Jonas Griffith<br>Route Ran:nan",
            "nflId:53438.0<br>displayName:Patrick Surtain<br>Route Ran:nan",
            "nflId:53534.0<br>displayName:Baron Browning<br>Route Ran:nan"
           ],
           "marker": {
            "color": "#FB4F14"
           },
           "mode": "markers",
           "name": "DEN",
           "type": "scatter",
           "x": [
            77.17,
            70.49,
            73.42,
            72.27,
            72.27,
            75.9,
            70.28,
            68.04,
            71.01,
            76.07,
            71.5
           ],
           "y": [
            31,
            30.14,
            25.01,
            31.61,
            28.79,
            27.4,
            30.67,
            25.33,
            31.3,
            38.9,
            27.2
           ]
          },
          {
           "hoverinfo": "text",
           "hovertext": [
            "nflId:39987.0<br>displayName:Geno Smith<br>Route Ran:nan",
            "nflId:41310.0<br>displayName:Gabe Jackson<br>Route Ran:nan",
            "nflId:43537.0<br>displayName:Austin Blythe<br>Route Ran:nan",
            "nflId:46096.0<br>displayName:Rashaad Penny<br>Route Ran:nan",
            "nflId:46189.0<br>displayName:Will Dissly<br>Route Ran:nan",
            "nflId:47803.0<br>displayName:Noah Fant<br>Route Ran:nan",
            "nflId:47847.0<br>displayName:DK Metcalf<br>Route Ran:nan",
            "nflId:47907.0<br>displayName:Phil Haynes<br>Route Ran:nan",
            "nflId:52541.0<br>displayName:Colby Parkinson<br>Route Ran:nan",
            "nflId:54474.0<br>displayName:Charles Cross<br>Route Ran:nan",
            "nflId:54537.0<br>displayName:Abraham Lucas<br>Route Ran:nan"
           ],
           "marker": {
            "color": "#69BE28"
           },
           "mode": "markers",
           "name": "SEA",
           "type": "scatter",
           "x": [
            59.53,
            70.16,
            70.94,
            71.22,
            66.49,
            71.2,
            75.07,
            71.61,
            75.18,
            69.78,
            71.83
           ],
           "y": [
            21.45,
            29.6,
            30.8,
            31.23,
            26.21,
            27.77,
            38.61,
            32.04,
            27.91,
            29.83,
            29.16
           ]
          },
          {
           "hoverinfo": "none",
           "marker": {
            "color": "#CBB67C"
           },
           "mode": "markers",
           "name": "football",
           "type": "scatter",
           "x": [
            71.0400009155273
           ],
           "y": [
            31.3700008392334
           ]
          }
         ],
         "name": "92"
        },
        {
         "data": [
          {
           "hoverinfo": "none",
           "mode": "text",
           "showlegend": false,
           "text": [
            "10",
            "20",
            "30",
            "40",
            "50",
            "40",
            "30",
            "20",
            "10"
           ],
           "textfont": {
            "color": "#ffffff",
            "family": "Courier New, monospace",
            "size": 30
           },
           "type": "scatter",
           "x": [
            20,
            30,
            40,
            50,
            60,
            70,
            80,
            90,
            100
           ],
           "y": [
            5,
            5,
            5,
            5,
            5,
            5,
            5,
            5,
            5
           ]
          },
          {
           "hoverinfo": "none",
           "mode": "text",
           "showlegend": false,
           "text": [
            "10",
            "20",
            "30",
            "40",
            "50",
            "40",
            "30",
            "20",
            "10"
           ],
           "textfont": {
            "color": "#ffffff",
            "family": "Courier New, monospace",
            "size": 30
           },
           "type": "scatter",
           "x": [
            20,
            30,
            40,
            50,
            60,
            70,
            80,
            90,
            100
           ],
           "y": [
            48.5,
            48.5,
            48.5,
            48.5,
            48.5,
            48.5,
            48.5,
            48.5,
            48.5
           ]
          },
          {
           "hoverinfo": "none",
           "line": {
            "color": "blue",
            "dash": "dash"
           },
           "showlegend": false,
           "type": "scatter",
           "x": [
            68,
            68
           ],
           "y": [
            0,
            53.5
           ]
          },
          {
           "hoverinfo": "none",
           "line": {
            "color": "yellow",
            "dash": "dash"
           },
           "showlegend": false,
           "type": "scatter",
           "x": [
            74,
            74
           ],
           "y": [
            0,
            53.5
           ]
          },
          {
           "hoverinfo": "text",
           "hovertext": [
            "nflId:35459.0<br>displayName:Kareem Jackson<br>Route Ran:nan",
            "nflId:40347.0<br>displayName:Mike Purcell<br>Route Ran:nan",
            "nflId:42393.0<br>displayName:Ronald Darby<br>Route Ran:nan",
            "nflId:42826.0<br>displayName:DeShawn Williams<br>Route Ran:nan",
            "nflId:42929.0<br>displayName:Alex Singleton<br>Route Ran:nan",
            "nflId:43387.0<br>displayName:Justin Simmons<br>Route Ran:nan",
            "nflId:46074.0<br>displayName:Bradley Chubb<br>Route Ran:nan",
            "nflId:47854.0<br>displayName:Dre'Mont Jones<br>Route Ran:nan",
            "nflId:52706.0<br>displayName:Jonas Griffith<br>Route Ran:nan",
            "nflId:53438.0<br>displayName:Patrick Surtain<br>Route Ran:nan",
            "nflId:53534.0<br>displayName:Baron Browning<br>Route Ran:nan"
           ],
           "marker": {
            "color": "#FB4F14"
           },
           "mode": "markers",
           "name": "DEN",
           "type": "scatter",
           "x": [
            76.81,
            70.48,
            73.43,
            72.49,
            72.35,
            76.09,
            70.31,
            68.21,
            70.95,
            76.11,
            71.74
           ],
           "y": [
            31.15,
            30.18,
            25.21,
            31.74,
            28.78,
            27.47,
            30.76,
            25.38,
            31.53,
            38.89,
            27.34
           ]
          },
          {
           "hoverinfo": "text",
           "hovertext": [
            "nflId:39987.0<br>displayName:Geno Smith<br>Route Ran:nan",
            "nflId:41310.0<br>displayName:Gabe Jackson<br>Route Ran:nan",
            "nflId:43537.0<br>displayName:Austin Blythe<br>Route Ran:nan",
            "nflId:46096.0<br>displayName:Rashaad Penny<br>Route Ran:nan",
            "nflId:46189.0<br>displayName:Will Dissly<br>Route Ran:nan",
            "nflId:47803.0<br>displayName:Noah Fant<br>Route Ran:nan",
            "nflId:47847.0<br>displayName:DK Metcalf<br>Route Ran:nan",
            "nflId:47907.0<br>displayName:Phil Haynes<br>Route Ran:nan",
            "nflId:52541.0<br>displayName:Colby Parkinson<br>Route Ran:nan",
            "nflId:54474.0<br>displayName:Charles Cross<br>Route Ran:nan",
            "nflId:54537.0<br>displayName:Abraham Lucas<br>Route Ran:nan"
           ],
           "marker": {
            "color": "#69BE28"
           },
           "mode": "markers",
           "name": "SEA",
           "type": "scatter",
           "x": [
            59.72,
            70.15,
            70.97,
            71.26,
            66.5,
            71.42,
            75.12,
            71.74,
            75.46,
            69.77,
            71.85
           ],
           "y": [
            21.4,
            29.61,
            31.06,
            31.32,
            26.26,
            27.89,
            38.58,
            32.14,
            28.08,
            29.85,
            29.14
           ]
          },
          {
           "hoverinfo": "none",
           "marker": {
            "color": "#CBB67C"
           },
           "mode": "markers",
           "name": "football",
           "type": "scatter",
           "x": [
            70.9499969482422
           ],
           "y": [
            31.5400009155273
           ]
          }
         ],
         "name": "93"
        },
        {
         "data": [
          {
           "hoverinfo": "none",
           "mode": "text",
           "showlegend": false,
           "text": [
            "10",
            "20",
            "30",
            "40",
            "50",
            "40",
            "30",
            "20",
            "10"
           ],
           "textfont": {
            "color": "#ffffff",
            "family": "Courier New, monospace",
            "size": 30
           },
           "type": "scatter",
           "x": [
            20,
            30,
            40,
            50,
            60,
            70,
            80,
            90,
            100
           ],
           "y": [
            5,
            5,
            5,
            5,
            5,
            5,
            5,
            5,
            5
           ]
          },
          {
           "hoverinfo": "none",
           "mode": "text",
           "showlegend": false,
           "text": [
            "10",
            "20",
            "30",
            "40",
            "50",
            "40",
            "30",
            "20",
            "10"
           ],
           "textfont": {
            "color": "#ffffff",
            "family": "Courier New, monospace",
            "size": 30
           },
           "type": "scatter",
           "x": [
            20,
            30,
            40,
            50,
            60,
            70,
            80,
            90,
            100
           ],
           "y": [
            48.5,
            48.5,
            48.5,
            48.5,
            48.5,
            48.5,
            48.5,
            48.5,
            48.5
           ]
          },
          {
           "hoverinfo": "none",
           "line": {
            "color": "blue",
            "dash": "dash"
           },
           "showlegend": false,
           "type": "scatter",
           "x": [
            68,
            68
           ],
           "y": [
            0,
            53.5
           ]
          },
          {
           "hoverinfo": "none",
           "line": {
            "color": "yellow",
            "dash": "dash"
           },
           "showlegend": false,
           "type": "scatter",
           "x": [
            74,
            74
           ],
           "y": [
            0,
            53.5
           ]
          },
          {
           "hoverinfo": "text",
           "hovertext": [
            "nflId:35459.0<br>displayName:Kareem Jackson<br>Route Ran:nan",
            "nflId:40347.0<br>displayName:Mike Purcell<br>Route Ran:nan",
            "nflId:42393.0<br>displayName:Ronald Darby<br>Route Ran:nan",
            "nflId:42826.0<br>displayName:DeShawn Williams<br>Route Ran:nan",
            "nflId:42929.0<br>displayName:Alex Singleton<br>Route Ran:nan",
            "nflId:43387.0<br>displayName:Justin Simmons<br>Route Ran:nan",
            "nflId:46074.0<br>displayName:Bradley Chubb<br>Route Ran:nan",
            "nflId:47854.0<br>displayName:Dre'Mont Jones<br>Route Ran:nan",
            "nflId:52706.0<br>displayName:Jonas Griffith<br>Route Ran:nan",
            "nflId:53438.0<br>displayName:Patrick Surtain<br>Route Ran:nan",
            "nflId:53534.0<br>displayName:Baron Browning<br>Route Ran:nan"
           ],
           "marker": {
            "color": "#FB4F14"
           },
           "mode": "markers",
           "name": "DEN",
           "type": "scatter",
           "x": [
            76.47,
            70.46,
            73.43,
            72.68,
            72.41,
            76.24,
            70.33,
            68.36,
            70.88,
            76.14,
            71.97
           ],
           "y": [
            31.29,
            30.2,
            25.39,
            31.85,
            28.75,
            27.5,
            30.82,
            25.43,
            31.76,
            38.87,
            27.45
           ]
          },
          {
           "hoverinfo": "text",
           "hovertext": [
            "nflId:39987.0<br>displayName:Geno Smith<br>Route Ran:nan",
            "nflId:41310.0<br>displayName:Gabe Jackson<br>Route Ran:nan",
            "nflId:43537.0<br>displayName:Austin Blythe<br>Route Ran:nan",
            "nflId:46096.0<br>displayName:Rashaad Penny<br>Route Ran:nan",
            "nflId:46189.0<br>displayName:Will Dissly<br>Route Ran:nan",
            "nflId:47803.0<br>displayName:Noah Fant<br>Route Ran:nan",
            "nflId:47847.0<br>displayName:DK Metcalf<br>Route Ran:nan",
            "nflId:47907.0<br>displayName:Phil Haynes<br>Route Ran:nan",
            "nflId:52541.0<br>displayName:Colby Parkinson<br>Route Ran:nan",
            "nflId:54474.0<br>displayName:Charles Cross<br>Route Ran:nan",
            "nflId:54537.0<br>displayName:Abraham Lucas<br>Route Ran:nan"
           ],
           "marker": {
            "color": "#69BE28"
           },
           "mode": "markers",
           "name": "SEA",
           "type": "scatter",
           "x": [
            59.91,
            70.14,
            70.98,
            71.29,
            66.51,
            71.62,
            75.15,
            71.87,
            75.72,
            69.76,
            71.87
           ],
           "y": [
            21.37,
            29.61,
            31.34,
            31.39,
            26.32,
            27.98,
            38.54,
            32.24,
            28.22,
            29.88,
            29.12
           ]
          },
          {
           "hoverinfo": "none",
           "marker": {
            "color": "#CBB67C"
           },
           "mode": "markers",
           "name": "football",
           "type": "scatter",
           "x": [
            70.9800033569336
           ],
           "y": [
            31.7000007629395
           ]
          }
         ],
         "name": "94"
        },
        {
         "data": [
          {
           "hoverinfo": "none",
           "mode": "text",
           "showlegend": false,
           "text": [
            "10",
            "20",
            "30",
            "40",
            "50",
            "40",
            "30",
            "20",
            "10"
           ],
           "textfont": {
            "color": "#ffffff",
            "family": "Courier New, monospace",
            "size": 30
           },
           "type": "scatter",
           "x": [
            20,
            30,
            40,
            50,
            60,
            70,
            80,
            90,
            100
           ],
           "y": [
            5,
            5,
            5,
            5,
            5,
            5,
            5,
            5,
            5
           ]
          },
          {
           "hoverinfo": "none",
           "mode": "text",
           "showlegend": false,
           "text": [
            "10",
            "20",
            "30",
            "40",
            "50",
            "40",
            "30",
            "20",
            "10"
           ],
           "textfont": {
            "color": "#ffffff",
            "family": "Courier New, monospace",
            "size": 30
           },
           "type": "scatter",
           "x": [
            20,
            30,
            40,
            50,
            60,
            70,
            80,
            90,
            100
           ],
           "y": [
            48.5,
            48.5,
            48.5,
            48.5,
            48.5,
            48.5,
            48.5,
            48.5,
            48.5
           ]
          },
          {
           "hoverinfo": "none",
           "line": {
            "color": "blue",
            "dash": "dash"
           },
           "showlegend": false,
           "type": "scatter",
           "x": [
            68,
            68
           ],
           "y": [
            0,
            53.5
           ]
          },
          {
           "hoverinfo": "none",
           "line": {
            "color": "yellow",
            "dash": "dash"
           },
           "showlegend": false,
           "type": "scatter",
           "x": [
            74,
            74
           ],
           "y": [
            0,
            53.5
           ]
          },
          {
           "hoverinfo": "text",
           "hovertext": [
            "nflId:35459.0<br>displayName:Kareem Jackson<br>Route Ran:nan",
            "nflId:40347.0<br>displayName:Mike Purcell<br>Route Ran:nan",
            "nflId:42393.0<br>displayName:Ronald Darby<br>Route Ran:nan",
            "nflId:42826.0<br>displayName:DeShawn Williams<br>Route Ran:nan",
            "nflId:42929.0<br>displayName:Alex Singleton<br>Route Ran:nan",
            "nflId:43387.0<br>displayName:Justin Simmons<br>Route Ran:nan",
            "nflId:46074.0<br>displayName:Bradley Chubb<br>Route Ran:nan",
            "nflId:47854.0<br>displayName:Dre'Mont Jones<br>Route Ran:nan",
            "nflId:52706.0<br>displayName:Jonas Griffith<br>Route Ran:nan",
            "nflId:53438.0<br>displayName:Patrick Surtain<br>Route Ran:nan",
            "nflId:53534.0<br>displayName:Baron Browning<br>Route Ran:nan"
           ],
           "marker": {
            "color": "#FB4F14"
           },
           "mode": "markers",
           "name": "DEN",
           "type": "scatter",
           "x": [
            76.16,
            70.45,
            73.43,
            72.87,
            72.46,
            76.35,
            70.37,
            68.5,
            70.8,
            76.16,
            72.21
           ],
           "y": [
            31.43,
            30.22,
            25.56,
            31.95,
            28.72,
            27.5,
            30.84,
            25.49,
            31.96,
            38.85,
            27.53
           ]
          },
          {
           "hoverinfo": "text",
           "hovertext": [
            "nflId:39987.0<br>displayName:Geno Smith<br>Route Ran:nan",
            "nflId:41310.0<br>displayName:Gabe Jackson<br>Route Ran:nan",
            "nflId:43537.0<br>displayName:Austin Blythe<br>Route Ran:nan",
            "nflId:46096.0<br>displayName:Rashaad Penny<br>Route Ran:nan",
            "nflId:46189.0<br>displayName:Will Dissly<br>Route Ran:nan",
            "nflId:47803.0<br>displayName:Noah Fant<br>Route Ran:nan",
            "nflId:47847.0<br>displayName:DK Metcalf<br>Route Ran:nan",
            "nflId:47907.0<br>displayName:Phil Haynes<br>Route Ran:nan",
            "nflId:52541.0<br>displayName:Colby Parkinson<br>Route Ran:nan",
            "nflId:54474.0<br>displayName:Charles Cross<br>Route Ran:nan",
            "nflId:54537.0<br>displayName:Abraham Lucas<br>Route Ran:nan"
           ],
           "marker": {
            "color": "#69BE28"
           },
           "mode": "markers",
           "name": "SEA",
           "type": "scatter",
           "x": [
            60.09,
            70.13,
            70.98,
            71.33,
            66.52,
            71.81,
            75.16,
            71.98,
            75.94,
            69.74,
            71.89
           ],
           "y": [
            21.33,
            29.62,
            31.61,
            31.44,
            26.38,
            28.03,
            38.49,
            32.33,
            28.34,
            29.9,
            29.1
           ]
          },
          {
           "hoverinfo": "none",
           "marker": {
            "color": "#CBB67C"
           },
           "mode": "markers",
           "name": "football",
           "type": "scatter",
           "x": [
            71
           ],
           "y": [
            31.7199993133545
           ]
          }
         ],
         "name": "95"
        },
        {
         "data": [
          {
           "hoverinfo": "none",
           "mode": "text",
           "showlegend": false,
           "text": [
            "10",
            "20",
            "30",
            "40",
            "50",
            "40",
            "30",
            "20",
            "10"
           ],
           "textfont": {
            "color": "#ffffff",
            "family": "Courier New, monospace",
            "size": 30
           },
           "type": "scatter",
           "x": [
            20,
            30,
            40,
            50,
            60,
            70,
            80,
            90,
            100
           ],
           "y": [
            5,
            5,
            5,
            5,
            5,
            5,
            5,
            5,
            5
           ]
          },
          {
           "hoverinfo": "none",
           "mode": "text",
           "showlegend": false,
           "text": [
            "10",
            "20",
            "30",
            "40",
            "50",
            "40",
            "30",
            "20",
            "10"
           ],
           "textfont": {
            "color": "#ffffff",
            "family": "Courier New, monospace",
            "size": 30
           },
           "type": "scatter",
           "x": [
            20,
            30,
            40,
            50,
            60,
            70,
            80,
            90,
            100
           ],
           "y": [
            48.5,
            48.5,
            48.5,
            48.5,
            48.5,
            48.5,
            48.5,
            48.5,
            48.5
           ]
          },
          {
           "hoverinfo": "none",
           "line": {
            "color": "blue",
            "dash": "dash"
           },
           "showlegend": false,
           "type": "scatter",
           "x": [
            68,
            68
           ],
           "y": [
            0,
            53.5
           ]
          },
          {
           "hoverinfo": "none",
           "line": {
            "color": "yellow",
            "dash": "dash"
           },
           "showlegend": false,
           "type": "scatter",
           "x": [
            74,
            74
           ],
           "y": [
            0,
            53.5
           ]
          },
          {
           "hoverinfo": "text",
           "hovertext": [
            "nflId:35459.0<br>displayName:Kareem Jackson<br>Route Ran:nan",
            "nflId:40347.0<br>displayName:Mike Purcell<br>Route Ran:nan",
            "nflId:42393.0<br>displayName:Ronald Darby<br>Route Ran:nan",
            "nflId:42826.0<br>displayName:DeShawn Williams<br>Route Ran:nan",
            "nflId:42929.0<br>displayName:Alex Singleton<br>Route Ran:nan",
            "nflId:43387.0<br>displayName:Justin Simmons<br>Route Ran:nan",
            "nflId:46074.0<br>displayName:Bradley Chubb<br>Route Ran:nan",
            "nflId:47854.0<br>displayName:Dre'Mont Jones<br>Route Ran:nan",
            "nflId:52706.0<br>displayName:Jonas Griffith<br>Route Ran:nan",
            "nflId:53438.0<br>displayName:Patrick Surtain<br>Route Ran:nan",
            "nflId:53534.0<br>displayName:Baron Browning<br>Route Ran:nan"
           ],
           "marker": {
            "color": "#FB4F14"
           },
           "mode": "markers",
           "name": "DEN",
           "type": "scatter",
           "x": [
            75.87,
            70.45,
            73.42,
            73.03,
            72.51,
            76.43,
            70.41,
            68.63,
            70.73,
            76.16,
            72.46
           ],
           "y": [
            31.57,
            30.23,
            25.71,
            32.03,
            28.69,
            27.48,
            30.84,
            25.54,
            32.14,
            38.83,
            27.59
           ]
          },
          {
           "hoverinfo": "text",
           "hovertext": [
            "nflId:39987.0<br>displayName:Geno Smith<br>Route Ran:nan",
            "nflId:41310.0<br>displayName:Gabe Jackson<br>Route Ran:nan",
            "nflId:43537.0<br>displayName:Austin Blythe<br>Route Ran:nan",
            "nflId:46096.0<br>displayName:Rashaad Penny<br>Route Ran:nan",
            "nflId:46189.0<br>displayName:Will Dissly<br>Route Ran:nan",
            "nflId:47803.0<br>displayName:Noah Fant<br>Route Ran:nan",
            "nflId:47847.0<br>displayName:DK Metcalf<br>Route Ran:nan",
            "nflId:47907.0<br>displayName:Phil Haynes<br>Route Ran:nan",
            "nflId:52541.0<br>displayName:Colby Parkinson<br>Route Ran:nan",
            "nflId:54474.0<br>displayName:Charles Cross<br>Route Ran:nan",
            "nflId:54537.0<br>displayName:Abraham Lucas<br>Route Ran:nan"
           ],
           "marker": {
            "color": "#69BE28"
           },
           "mode": "markers",
           "name": "SEA",
           "type": "scatter",
           "x": [
            60.28,
            70.12,
            70.96,
            71.35,
            66.55,
            71.99,
            75.16,
            72.09,
            76.13,
            69.72,
            71.92
           ],
           "y": [
            21.31,
            29.61,
            31.89,
            31.47,
            26.44,
            28.06,
            38.43,
            32.4,
            28.43,
            29.92,
            29.09
           ]
          },
          {
           "hoverinfo": "none",
           "marker": {
            "color": "#CBB67C"
           },
           "mode": "markers",
           "name": "football",
           "type": "scatter",
           "x": [
            70.9100036621094
           ],
           "y": [
            31.4500007629395
           ]
          }
         ],
         "name": "96"
        },
        {
         "data": [
          {
           "hoverinfo": "none",
           "mode": "text",
           "showlegend": false,
           "text": [
            "10",
            "20",
            "30",
            "40",
            "50",
            "40",
            "30",
            "20",
            "10"
           ],
           "textfont": {
            "color": "#ffffff",
            "family": "Courier New, monospace",
            "size": 30
           },
           "type": "scatter",
           "x": [
            20,
            30,
            40,
            50,
            60,
            70,
            80,
            90,
            100
           ],
           "y": [
            5,
            5,
            5,
            5,
            5,
            5,
            5,
            5,
            5
           ]
          },
          {
           "hoverinfo": "none",
           "mode": "text",
           "showlegend": false,
           "text": [
            "10",
            "20",
            "30",
            "40",
            "50",
            "40",
            "30",
            "20",
            "10"
           ],
           "textfont": {
            "color": "#ffffff",
            "family": "Courier New, monospace",
            "size": 30
           },
           "type": "scatter",
           "x": [
            20,
            30,
            40,
            50,
            60,
            70,
            80,
            90,
            100
           ],
           "y": [
            48.5,
            48.5,
            48.5,
            48.5,
            48.5,
            48.5,
            48.5,
            48.5,
            48.5
           ]
          },
          {
           "hoverinfo": "none",
           "line": {
            "color": "blue",
            "dash": "dash"
           },
           "showlegend": false,
           "type": "scatter",
           "x": [
            68,
            68
           ],
           "y": [
            0,
            53.5
           ]
          },
          {
           "hoverinfo": "none",
           "line": {
            "color": "yellow",
            "dash": "dash"
           },
           "showlegend": false,
           "type": "scatter",
           "x": [
            74,
            74
           ],
           "y": [
            0,
            53.5
           ]
          },
          {
           "hoverinfo": "text",
           "hovertext": [
            "nflId:35459.0<br>displayName:Kareem Jackson<br>Route Ran:nan",
            "nflId:40347.0<br>displayName:Mike Purcell<br>Route Ran:nan",
            "nflId:42393.0<br>displayName:Ronald Darby<br>Route Ran:nan",
            "nflId:42826.0<br>displayName:DeShawn Williams<br>Route Ran:nan",
            "nflId:42929.0<br>displayName:Alex Singleton<br>Route Ran:nan",
            "nflId:43387.0<br>displayName:Justin Simmons<br>Route Ran:nan",
            "nflId:46074.0<br>displayName:Bradley Chubb<br>Route Ran:nan",
            "nflId:47854.0<br>displayName:Dre'Mont Jones<br>Route Ran:nan",
            "nflId:52706.0<br>displayName:Jonas Griffith<br>Route Ran:nan",
            "nflId:53438.0<br>displayName:Patrick Surtain<br>Route Ran:nan",
            "nflId:53534.0<br>displayName:Baron Browning<br>Route Ran:nan"
           ],
           "marker": {
            "color": "#FB4F14"
           },
           "mode": "markers",
           "name": "DEN",
           "type": "scatter",
           "x": [
            75.61,
            70.46,
            73.41,
            73.17,
            72.55,
            76.49,
            70.43,
            68.74,
            70.64,
            76.14,
            72.7
           ],
           "y": [
            31.71,
            30.23,
            25.84,
            32.09,
            28.65,
            27.45,
            30.84,
            25.6,
            32.31,
            38.81,
            27.65
           ]
          },
          {
           "hoverinfo": "text",
           "hovertext": [
            "nflId:39987.0<br>displayName:Geno Smith<br>Route Ran:nan",
            "nflId:41310.0<br>displayName:Gabe Jackson<br>Route Ran:nan",
            "nflId:43537.0<br>displayName:Austin Blythe<br>Route Ran:nan",
            "nflId:46096.0<br>displayName:Rashaad Penny<br>Route Ran:nan",
            "nflId:46189.0<br>displayName:Will Dissly<br>Route Ran:nan",
            "nflId:47803.0<br>displayName:Noah Fant<br>Route Ran:nan",
            "nflId:47847.0<br>displayName:DK Metcalf<br>Route Ran:nan",
            "nflId:47907.0<br>displayName:Phil Haynes<br>Route Ran:nan",
            "nflId:52541.0<br>displayName:Colby Parkinson<br>Route Ran:nan",
            "nflId:54474.0<br>displayName:Charles Cross<br>Route Ran:nan",
            "nflId:54537.0<br>displayName:Abraham Lucas<br>Route Ran:nan"
           ],
           "marker": {
            "color": "#69BE28"
           },
           "mode": "markers",
           "name": "SEA",
           "type": "scatter",
           "x": [
            60.46,
            70.11,
            70.94,
            71.36,
            66.57,
            72.17,
            75.15,
            72.18,
            76.28,
            69.71,
            71.94
           ],
           "y": [
            21.29,
            29.61,
            32.16,
            31.49,
            26.49,
            28.05,
            38.36,
            32.48,
            28.48,
            29.94,
            29.07
           ]
          },
          {
           "hoverinfo": "none",
           "marker": {
            "color": "#CBB67C"
           },
           "mode": "markers",
           "name": "football",
           "type": "scatter",
           "x": [
            70.8099975585938
           ],
           "y": [
            31.5200004577637
           ]
          }
         ],
         "name": "97"
        },
        {
         "data": [
          {
           "hoverinfo": "none",
           "mode": "text",
           "showlegend": false,
           "text": [
            "10",
            "20",
            "30",
            "40",
            "50",
            "40",
            "30",
            "20",
            "10"
           ],
           "textfont": {
            "color": "#ffffff",
            "family": "Courier New, monospace",
            "size": 30
           },
           "type": "scatter",
           "x": [
            20,
            30,
            40,
            50,
            60,
            70,
            80,
            90,
            100
           ],
           "y": [
            5,
            5,
            5,
            5,
            5,
            5,
            5,
            5,
            5
           ]
          },
          {
           "hoverinfo": "none",
           "mode": "text",
           "showlegend": false,
           "text": [
            "10",
            "20",
            "30",
            "40",
            "50",
            "40",
            "30",
            "20",
            "10"
           ],
           "textfont": {
            "color": "#ffffff",
            "family": "Courier New, monospace",
            "size": 30
           },
           "type": "scatter",
           "x": [
            20,
            30,
            40,
            50,
            60,
            70,
            80,
            90,
            100
           ],
           "y": [
            48.5,
            48.5,
            48.5,
            48.5,
            48.5,
            48.5,
            48.5,
            48.5,
            48.5
           ]
          },
          {
           "hoverinfo": "none",
           "line": {
            "color": "blue",
            "dash": "dash"
           },
           "showlegend": false,
           "type": "scatter",
           "x": [
            68,
            68
           ],
           "y": [
            0,
            53.5
           ]
          },
          {
           "hoverinfo": "none",
           "line": {
            "color": "yellow",
            "dash": "dash"
           },
           "showlegend": false,
           "type": "scatter",
           "x": [
            74,
            74
           ],
           "y": [
            0,
            53.5
           ]
          },
          {
           "hoverinfo": "text",
           "hovertext": [
            "nflId:35459.0<br>displayName:Kareem Jackson<br>Route Ran:nan",
            "nflId:40347.0<br>displayName:Mike Purcell<br>Route Ran:nan",
            "nflId:42393.0<br>displayName:Ronald Darby<br>Route Ran:nan",
            "nflId:42826.0<br>displayName:DeShawn Williams<br>Route Ran:nan",
            "nflId:42929.0<br>displayName:Alex Singleton<br>Route Ran:nan",
            "nflId:43387.0<br>displayName:Justin Simmons<br>Route Ran:nan",
            "nflId:46074.0<br>displayName:Bradley Chubb<br>Route Ran:nan",
            "nflId:47854.0<br>displayName:Dre'Mont Jones<br>Route Ran:nan",
            "nflId:52706.0<br>displayName:Jonas Griffith<br>Route Ran:nan",
            "nflId:53438.0<br>displayName:Patrick Surtain<br>Route Ran:nan",
            "nflId:53534.0<br>displayName:Baron Browning<br>Route Ran:nan"
           ],
           "marker": {
            "color": "#FB4F14"
           },
           "mode": "markers",
           "name": "DEN",
           "type": "scatter",
           "x": [
            75.38,
            70.46,
            73.4,
            73.28,
            72.58,
            76.51,
            70.46,
            68.86,
            70.55,
            76.11,
            72.93
           ],
           "y": [
            31.84,
            30.23,
            25.96,
            32.15,
            28.64,
            27.4,
            30.82,
            25.67,
            32.47,
            38.78,
            27.7
           ]
          },
          {
           "hoverinfo": "text",
           "hovertext": [
            "nflId:39987.0<br>displayName:Geno Smith<br>Route Ran:nan",
            "nflId:41310.0<br>displayName:Gabe Jackson<br>Route Ran:nan",
            "nflId:43537.0<br>displayName:Austin Blythe<br>Route Ran:nan",
            "nflId:46096.0<br>displayName:Rashaad Penny<br>Route Ran:nan",
            "nflId:46189.0<br>displayName:Will Dissly<br>Route Ran:nan",
            "nflId:47803.0<br>displayName:Noah Fant<br>Route Ran:nan",
            "nflId:47847.0<br>displayName:DK Metcalf<br>Route Ran:nan",
            "nflId:47907.0<br>displayName:Phil Haynes<br>Route Ran:nan",
            "nflId:52541.0<br>displayName:Colby Parkinson<br>Route Ran:nan",
            "nflId:54474.0<br>displayName:Charles Cross<br>Route Ran:nan",
            "nflId:54537.0<br>displayName:Abraham Lucas<br>Route Ran:nan"
           ],
           "marker": {
            "color": "#69BE28"
           },
           "mode": "markers",
           "name": "SEA",
           "type": "scatter",
           "x": [
            60.64,
            70.1,
            70.9,
            71.38,
            66.6,
            72.35,
            75.12,
            72.25,
            76.4,
            69.71,
            71.96
           ],
           "y": [
            21.27,
            29.61,
            32.43,
            31.5,
            26.55,
            28.03,
            38.3,
            32.53,
            28.5,
            29.95,
            29.04
           ]
          },
          {
           "hoverinfo": "none",
           "marker": {
            "color": "#CBB67C"
           },
           "mode": "markers",
           "name": "football",
           "type": "scatter",
           "x": [
            70.9499969482422
           ],
           "y": [
            31.5599994659424
           ]
          }
         ],
         "name": "98"
        },
        {
         "data": [
          {
           "hoverinfo": "none",
           "mode": "text",
           "showlegend": false,
           "text": [
            "10",
            "20",
            "30",
            "40",
            "50",
            "40",
            "30",
            "20",
            "10"
           ],
           "textfont": {
            "color": "#ffffff",
            "family": "Courier New, monospace",
            "size": 30
           },
           "type": "scatter",
           "x": [
            20,
            30,
            40,
            50,
            60,
            70,
            80,
            90,
            100
           ],
           "y": [
            5,
            5,
            5,
            5,
            5,
            5,
            5,
            5,
            5
           ]
          },
          {
           "hoverinfo": "none",
           "mode": "text",
           "showlegend": false,
           "text": [
            "10",
            "20",
            "30",
            "40",
            "50",
            "40",
            "30",
            "20",
            "10"
           ],
           "textfont": {
            "color": "#ffffff",
            "family": "Courier New, monospace",
            "size": 30
           },
           "type": "scatter",
           "x": [
            20,
            30,
            40,
            50,
            60,
            70,
            80,
            90,
            100
           ],
           "y": [
            48.5,
            48.5,
            48.5,
            48.5,
            48.5,
            48.5,
            48.5,
            48.5,
            48.5
           ]
          },
          {
           "hoverinfo": "none",
           "line": {
            "color": "blue",
            "dash": "dash"
           },
           "showlegend": false,
           "type": "scatter",
           "x": [
            68,
            68
           ],
           "y": [
            0,
            53.5
           ]
          },
          {
           "hoverinfo": "none",
           "line": {
            "color": "yellow",
            "dash": "dash"
           },
           "showlegend": false,
           "type": "scatter",
           "x": [
            74,
            74
           ],
           "y": [
            0,
            53.5
           ]
          },
          {
           "hoverinfo": "text",
           "hovertext": [
            "nflId:35459.0<br>displayName:Kareem Jackson<br>Route Ran:nan",
            "nflId:40347.0<br>displayName:Mike Purcell<br>Route Ran:nan",
            "nflId:42393.0<br>displayName:Ronald Darby<br>Route Ran:nan",
            "nflId:42826.0<br>displayName:DeShawn Williams<br>Route Ran:nan",
            "nflId:42929.0<br>displayName:Alex Singleton<br>Route Ran:nan",
            "nflId:43387.0<br>displayName:Justin Simmons<br>Route Ran:nan",
            "nflId:46074.0<br>displayName:Bradley Chubb<br>Route Ran:nan",
            "nflId:47854.0<br>displayName:Dre'Mont Jones<br>Route Ran:nan",
            "nflId:52706.0<br>displayName:Jonas Griffith<br>Route Ran:nan",
            "nflId:53438.0<br>displayName:Patrick Surtain<br>Route Ran:nan",
            "nflId:53534.0<br>displayName:Baron Browning<br>Route Ran:nan"
           ],
           "marker": {
            "color": "#FB4F14"
           },
           "mode": "markers",
           "name": "DEN",
           "type": "scatter",
           "x": [
            75.18,
            70.47,
            73.39,
            73.36,
            72.61,
            76.51,
            70.49,
            68.97,
            70.49,
            76.07,
            73.16
           ],
           "y": [
            31.96,
            30.23,
            26.06,
            32.19,
            28.64,
            27.34,
            30.81,
            25.75,
            32.62,
            38.75,
            27.75
           ]
          },
          {
           "hoverinfo": "text",
           "hovertext": [
            "nflId:39987.0<br>displayName:Geno Smith<br>Route Ran:nan",
            "nflId:41310.0<br>displayName:Gabe Jackson<br>Route Ran:nan",
            "nflId:43537.0<br>displayName:Austin Blythe<br>Route Ran:nan",
            "nflId:46096.0<br>displayName:Rashaad Penny<br>Route Ran:nan",
            "nflId:46189.0<br>displayName:Will Dissly<br>Route Ran:nan",
            "nflId:47803.0<br>displayName:Noah Fant<br>Route Ran:nan",
            "nflId:47847.0<br>displayName:DK Metcalf<br>Route Ran:nan",
            "nflId:47907.0<br>displayName:Phil Haynes<br>Route Ran:nan",
            "nflId:52541.0<br>displayName:Colby Parkinson<br>Route Ran:nan",
            "nflId:54474.0<br>displayName:Charles Cross<br>Route Ran:nan",
            "nflId:54537.0<br>displayName:Abraham Lucas<br>Route Ran:nan"
           ],
           "marker": {
            "color": "#69BE28"
           },
           "mode": "markers",
           "name": "SEA",
           "type": "scatter",
           "x": [
            60.81,
            70.1,
            70.87,
            71.39,
            66.62,
            72.51,
            75.09,
            72.32,
            76.48,
            69.7,
            71.97
           ],
           "y": [
            21.26,
            29.61,
            32.69,
            31.49,
            26.59,
            27.98,
            38.23,
            32.58,
            28.49,
            29.97,
            29.01
           ]
          },
          {
           "hoverinfo": "none",
           "marker": {
            "color": "#CBB67C"
           },
           "mode": "markers",
           "name": "football",
           "type": "scatter",
           "x": [
            70.9300003051758
           ],
           "y": [
            31.5799999237061
           ]
          }
         ],
         "name": "99"
        }
       ],
       "layout": {
        "annotations": [
         {
          "align": "center",
          "bgcolor": "#ff7f0e",
          "bordercolor": "black",
          "borderpad": 4,
          "borderwidth": 2,
          "font": {
           "color": "black",
           "family": "Courier New, monospace",
           "size": 16
          },
          "opacity": 1,
          "showarrow": false,
          "text": "2",
          "x": 74,
          "y": 0
         },
         {
          "align": "center",
          "bgcolor": "#ff7f0e",
          "bordercolor": "black",
          "borderpad": 4,
          "borderwidth": 2,
          "font": {
           "color": "black",
           "family": "Courier New, monospace",
           "size": 16
          },
          "opacity": 1,
          "showarrow": false,
          "text": "2",
          "x": 74,
          "y": 53
         }
        ],
        "autosize": false,
        "height": 600,
        "plot_bgcolor": "#00B140",
        "sliders": [
         {
          "active": 0,
          "currentvalue": {
           "font": {
            "size": 20
           },
           "prefix": "Frame:",
           "visible": true,
           "xanchor": "right"
          },
          "len": 0.9,
          "pad": {
           "b": 10,
           "t": 50
          },
          "steps": [
           {
            "args": [
             [
              1
             ],
             {
              "frame": {
               "duration": 100,
               "redraw": false
              },
              "mode": "immediate",
              "transition": {
               "duration": 0
              }
             }
            ],
            "label": "1",
            "method": "animate"
           },
           {
            "args": [
             [
              2
             ],
             {
              "frame": {
               "duration": 100,
               "redraw": false
              },
              "mode": "immediate",
              "transition": {
               "duration": 0
              }
             }
            ],
            "label": "2",
            "method": "animate"
           },
           {
            "args": [
             [
              3
             ],
             {
              "frame": {
               "duration": 100,
               "redraw": false
              },
              "mode": "immediate",
              "transition": {
               "duration": 0
              }
             }
            ],
            "label": "3",
            "method": "animate"
           },
           {
            "args": [
             [
              4
             ],
             {
              "frame": {
               "duration": 100,
               "redraw": false
              },
              "mode": "immediate",
              "transition": {
               "duration": 0
              }
             }
            ],
            "label": "4",
            "method": "animate"
           },
           {
            "args": [
             [
              5
             ],
             {
              "frame": {
               "duration": 100,
               "redraw": false
              },
              "mode": "immediate",
              "transition": {
               "duration": 0
              }
             }
            ],
            "label": "5",
            "method": "animate"
           },
           {
            "args": [
             [
              6
             ],
             {
              "frame": {
               "duration": 100,
               "redraw": false
              },
              "mode": "immediate",
              "transition": {
               "duration": 0
              }
             }
            ],
            "label": "6",
            "method": "animate"
           },
           {
            "args": [
             [
              7
             ],
             {
              "frame": {
               "duration": 100,
               "redraw": false
              },
              "mode": "immediate",
              "transition": {
               "duration": 0
              }
             }
            ],
            "label": "7",
            "method": "animate"
           },
           {
            "args": [
             [
              8
             ],
             {
              "frame": {
               "duration": 100,
               "redraw": false
              },
              "mode": "immediate",
              "transition": {
               "duration": 0
              }
             }
            ],
            "label": "8",
            "method": "animate"
           },
           {
            "args": [
             [
              9
             ],
             {
              "frame": {
               "duration": 100,
               "redraw": false
              },
              "mode": "immediate",
              "transition": {
               "duration": 0
              }
             }
            ],
            "label": "9",
            "method": "animate"
           },
           {
            "args": [
             [
              10
             ],
             {
              "frame": {
               "duration": 100,
               "redraw": false
              },
              "mode": "immediate",
              "transition": {
               "duration": 0
              }
             }
            ],
            "label": "10",
            "method": "animate"
           },
           {
            "args": [
             [
              11
             ],
             {
              "frame": {
               "duration": 100,
               "redraw": false
              },
              "mode": "immediate",
              "transition": {
               "duration": 0
              }
             }
            ],
            "label": "11",
            "method": "animate"
           },
           {
            "args": [
             [
              12
             ],
             {
              "frame": {
               "duration": 100,
               "redraw": false
              },
              "mode": "immediate",
              "transition": {
               "duration": 0
              }
             }
            ],
            "label": "12",
            "method": "animate"
           },
           {
            "args": [
             [
              13
             ],
             {
              "frame": {
               "duration": 100,
               "redraw": false
              },
              "mode": "immediate",
              "transition": {
               "duration": 0
              }
             }
            ],
            "label": "13",
            "method": "animate"
           },
           {
            "args": [
             [
              14
             ],
             {
              "frame": {
               "duration": 100,
               "redraw": false
              },
              "mode": "immediate",
              "transition": {
               "duration": 0
              }
             }
            ],
            "label": "14",
            "method": "animate"
           },
           {
            "args": [
             [
              15
             ],
             {
              "frame": {
               "duration": 100,
               "redraw": false
              },
              "mode": "immediate",
              "transition": {
               "duration": 0
              }
             }
            ],
            "label": "15",
            "method": "animate"
           },
           {
            "args": [
             [
              16
             ],
             {
              "frame": {
               "duration": 100,
               "redraw": false
              },
              "mode": "immediate",
              "transition": {
               "duration": 0
              }
             }
            ],
            "label": "16",
            "method": "animate"
           },
           {
            "args": [
             [
              17
             ],
             {
              "frame": {
               "duration": 100,
               "redraw": false
              },
              "mode": "immediate",
              "transition": {
               "duration": 0
              }
             }
            ],
            "label": "17",
            "method": "animate"
           },
           {
            "args": [
             [
              18
             ],
             {
              "frame": {
               "duration": 100,
               "redraw": false
              },
              "mode": "immediate",
              "transition": {
               "duration": 0
              }
             }
            ],
            "label": "18",
            "method": "animate"
           },
           {
            "args": [
             [
              19
             ],
             {
              "frame": {
               "duration": 100,
               "redraw": false
              },
              "mode": "immediate",
              "transition": {
               "duration": 0
              }
             }
            ],
            "label": "19",
            "method": "animate"
           },
           {
            "args": [
             [
              20
             ],
             {
              "frame": {
               "duration": 100,
               "redraw": false
              },
              "mode": "immediate",
              "transition": {
               "duration": 0
              }
             }
            ],
            "label": "20",
            "method": "animate"
           },
           {
            "args": [
             [
              21
             ],
             {
              "frame": {
               "duration": 100,
               "redraw": false
              },
              "mode": "immediate",
              "transition": {
               "duration": 0
              }
             }
            ],
            "label": "21",
            "method": "animate"
           },
           {
            "args": [
             [
              22
             ],
             {
              "frame": {
               "duration": 100,
               "redraw": false
              },
              "mode": "immediate",
              "transition": {
               "duration": 0
              }
             }
            ],
            "label": "22",
            "method": "animate"
           },
           {
            "args": [
             [
              23
             ],
             {
              "frame": {
               "duration": 100,
               "redraw": false
              },
              "mode": "immediate",
              "transition": {
               "duration": 0
              }
             }
            ],
            "label": "23",
            "method": "animate"
           },
           {
            "args": [
             [
              24
             ],
             {
              "frame": {
               "duration": 100,
               "redraw": false
              },
              "mode": "immediate",
              "transition": {
               "duration": 0
              }
             }
            ],
            "label": "24",
            "method": "animate"
           },
           {
            "args": [
             [
              25
             ],
             {
              "frame": {
               "duration": 100,
               "redraw": false
              },
              "mode": "immediate",
              "transition": {
               "duration": 0
              }
             }
            ],
            "label": "25",
            "method": "animate"
           },
           {
            "args": [
             [
              26
             ],
             {
              "frame": {
               "duration": 100,
               "redraw": false
              },
              "mode": "immediate",
              "transition": {
               "duration": 0
              }
             }
            ],
            "label": "26",
            "method": "animate"
           },
           {
            "args": [
             [
              27
             ],
             {
              "frame": {
               "duration": 100,
               "redraw": false
              },
              "mode": "immediate",
              "transition": {
               "duration": 0
              }
             }
            ],
            "label": "27",
            "method": "animate"
           },
           {
            "args": [
             [
              28
             ],
             {
              "frame": {
               "duration": 100,
               "redraw": false
              },
              "mode": "immediate",
              "transition": {
               "duration": 0
              }
             }
            ],
            "label": "28",
            "method": "animate"
           },
           {
            "args": [
             [
              29
             ],
             {
              "frame": {
               "duration": 100,
               "redraw": false
              },
              "mode": "immediate",
              "transition": {
               "duration": 0
              }
             }
            ],
            "label": "29",
            "method": "animate"
           },
           {
            "args": [
             [
              30
             ],
             {
              "frame": {
               "duration": 100,
               "redraw": false
              },
              "mode": "immediate",
              "transition": {
               "duration": 0
              }
             }
            ],
            "label": "30",
            "method": "animate"
           },
           {
            "args": [
             [
              31
             ],
             {
              "frame": {
               "duration": 100,
               "redraw": false
              },
              "mode": "immediate",
              "transition": {
               "duration": 0
              }
             }
            ],
            "label": "31",
            "method": "animate"
           },
           {
            "args": [
             [
              32
             ],
             {
              "frame": {
               "duration": 100,
               "redraw": false
              },
              "mode": "immediate",
              "transition": {
               "duration": 0
              }
             }
            ],
            "label": "32",
            "method": "animate"
           },
           {
            "args": [
             [
              33
             ],
             {
              "frame": {
               "duration": 100,
               "redraw": false
              },
              "mode": "immediate",
              "transition": {
               "duration": 0
              }
             }
            ],
            "label": "33",
            "method": "animate"
           },
           {
            "args": [
             [
              34
             ],
             {
              "frame": {
               "duration": 100,
               "redraw": false
              },
              "mode": "immediate",
              "transition": {
               "duration": 0
              }
             }
            ],
            "label": "34",
            "method": "animate"
           },
           {
            "args": [
             [
              35
             ],
             {
              "frame": {
               "duration": 100,
               "redraw": false
              },
              "mode": "immediate",
              "transition": {
               "duration": 0
              }
             }
            ],
            "label": "35",
            "method": "animate"
           },
           {
            "args": [
             [
              36
             ],
             {
              "frame": {
               "duration": 100,
               "redraw": false
              },
              "mode": "immediate",
              "transition": {
               "duration": 0
              }
             }
            ],
            "label": "36",
            "method": "animate"
           },
           {
            "args": [
             [
              37
             ],
             {
              "frame": {
               "duration": 100,
               "redraw": false
              },
              "mode": "immediate",
              "transition": {
               "duration": 0
              }
             }
            ],
            "label": "37",
            "method": "animate"
           },
           {
            "args": [
             [
              38
             ],
             {
              "frame": {
               "duration": 100,
               "redraw": false
              },
              "mode": "immediate",
              "transition": {
               "duration": 0
              }
             }
            ],
            "label": "38",
            "method": "animate"
           },
           {
            "args": [
             [
              39
             ],
             {
              "frame": {
               "duration": 100,
               "redraw": false
              },
              "mode": "immediate",
              "transition": {
               "duration": 0
              }
             }
            ],
            "label": "39",
            "method": "animate"
           },
           {
            "args": [
             [
              40
             ],
             {
              "frame": {
               "duration": 100,
               "redraw": false
              },
              "mode": "immediate",
              "transition": {
               "duration": 0
              }
             }
            ],
            "label": "40",
            "method": "animate"
           },
           {
            "args": [
             [
              41
             ],
             {
              "frame": {
               "duration": 100,
               "redraw": false
              },
              "mode": "immediate",
              "transition": {
               "duration": 0
              }
             }
            ],
            "label": "41",
            "method": "animate"
           },
           {
            "args": [
             [
              42
             ],
             {
              "frame": {
               "duration": 100,
               "redraw": false
              },
              "mode": "immediate",
              "transition": {
               "duration": 0
              }
             }
            ],
            "label": "42",
            "method": "animate"
           },
           {
            "args": [
             [
              43
             ],
             {
              "frame": {
               "duration": 100,
               "redraw": false
              },
              "mode": "immediate",
              "transition": {
               "duration": 0
              }
             }
            ],
            "label": "43",
            "method": "animate"
           },
           {
            "args": [
             [
              44
             ],
             {
              "frame": {
               "duration": 100,
               "redraw": false
              },
              "mode": "immediate",
              "transition": {
               "duration": 0
              }
             }
            ],
            "label": "44",
            "method": "animate"
           },
           {
            "args": [
             [
              45
             ],
             {
              "frame": {
               "duration": 100,
               "redraw": false
              },
              "mode": "immediate",
              "transition": {
               "duration": 0
              }
             }
            ],
            "label": "45",
            "method": "animate"
           },
           {
            "args": [
             [
              46
             ],
             {
              "frame": {
               "duration": 100,
               "redraw": false
              },
              "mode": "immediate",
              "transition": {
               "duration": 0
              }
             }
            ],
            "label": "46",
            "method": "animate"
           },
           {
            "args": [
             [
              47
             ],
             {
              "frame": {
               "duration": 100,
               "redraw": false
              },
              "mode": "immediate",
              "transition": {
               "duration": 0
              }
             }
            ],
            "label": "47",
            "method": "animate"
           },
           {
            "args": [
             [
              48
             ],
             {
              "frame": {
               "duration": 100,
               "redraw": false
              },
              "mode": "immediate",
              "transition": {
               "duration": 0
              }
             }
            ],
            "label": "48",
            "method": "animate"
           },
           {
            "args": [
             [
              49
             ],
             {
              "frame": {
               "duration": 100,
               "redraw": false
              },
              "mode": "immediate",
              "transition": {
               "duration": 0
              }
             }
            ],
            "label": "49",
            "method": "animate"
           },
           {
            "args": [
             [
              50
             ],
             {
              "frame": {
               "duration": 100,
               "redraw": false
              },
              "mode": "immediate",
              "transition": {
               "duration": 0
              }
             }
            ],
            "label": "50",
            "method": "animate"
           },
           {
            "args": [
             [
              51
             ],
             {
              "frame": {
               "duration": 100,
               "redraw": false
              },
              "mode": "immediate",
              "transition": {
               "duration": 0
              }
             }
            ],
            "label": "51",
            "method": "animate"
           },
           {
            "args": [
             [
              52
             ],
             {
              "frame": {
               "duration": 100,
               "redraw": false
              },
              "mode": "immediate",
              "transition": {
               "duration": 0
              }
             }
            ],
            "label": "52",
            "method": "animate"
           },
           {
            "args": [
             [
              53
             ],
             {
              "frame": {
               "duration": 100,
               "redraw": false
              },
              "mode": "immediate",
              "transition": {
               "duration": 0
              }
             }
            ],
            "label": "53",
            "method": "animate"
           },
           {
            "args": [
             [
              54
             ],
             {
              "frame": {
               "duration": 100,
               "redraw": false
              },
              "mode": "immediate",
              "transition": {
               "duration": 0
              }
             }
            ],
            "label": "54",
            "method": "animate"
           },
           {
            "args": [
             [
              55
             ],
             {
              "frame": {
               "duration": 100,
               "redraw": false
              },
              "mode": "immediate",
              "transition": {
               "duration": 0
              }
             }
            ],
            "label": "55",
            "method": "animate"
           },
           {
            "args": [
             [
              56
             ],
             {
              "frame": {
               "duration": 100,
               "redraw": false
              },
              "mode": "immediate",
              "transition": {
               "duration": 0
              }
             }
            ],
            "label": "56",
            "method": "animate"
           },
           {
            "args": [
             [
              57
             ],
             {
              "frame": {
               "duration": 100,
               "redraw": false
              },
              "mode": "immediate",
              "transition": {
               "duration": 0
              }
             }
            ],
            "label": "57",
            "method": "animate"
           },
           {
            "args": [
             [
              58
             ],
             {
              "frame": {
               "duration": 100,
               "redraw": false
              },
              "mode": "immediate",
              "transition": {
               "duration": 0
              }
             }
            ],
            "label": "58",
            "method": "animate"
           },
           {
            "args": [
             [
              59
             ],
             {
              "frame": {
               "duration": 100,
               "redraw": false
              },
              "mode": "immediate",
              "transition": {
               "duration": 0
              }
             }
            ],
            "label": "59",
            "method": "animate"
           },
           {
            "args": [
             [
              60
             ],
             {
              "frame": {
               "duration": 100,
               "redraw": false
              },
              "mode": "immediate",
              "transition": {
               "duration": 0
              }
             }
            ],
            "label": "60",
            "method": "animate"
           },
           {
            "args": [
             [
              61
             ],
             {
              "frame": {
               "duration": 100,
               "redraw": false
              },
              "mode": "immediate",
              "transition": {
               "duration": 0
              }
             }
            ],
            "label": "61",
            "method": "animate"
           },
           {
            "args": [
             [
              62
             ],
             {
              "frame": {
               "duration": 100,
               "redraw": false
              },
              "mode": "immediate",
              "transition": {
               "duration": 0
              }
             }
            ],
            "label": "62",
            "method": "animate"
           },
           {
            "args": [
             [
              63
             ],
             {
              "frame": {
               "duration": 100,
               "redraw": false
              },
              "mode": "immediate",
              "transition": {
               "duration": 0
              }
             }
            ],
            "label": "63",
            "method": "animate"
           },
           {
            "args": [
             [
              64
             ],
             {
              "frame": {
               "duration": 100,
               "redraw": false
              },
              "mode": "immediate",
              "transition": {
               "duration": 0
              }
             }
            ],
            "label": "64",
            "method": "animate"
           },
           {
            "args": [
             [
              65
             ],
             {
              "frame": {
               "duration": 100,
               "redraw": false
              },
              "mode": "immediate",
              "transition": {
               "duration": 0
              }
             }
            ],
            "label": "65",
            "method": "animate"
           },
           {
            "args": [
             [
              66
             ],
             {
              "frame": {
               "duration": 100,
               "redraw": false
              },
              "mode": "immediate",
              "transition": {
               "duration": 0
              }
             }
            ],
            "label": "66",
            "method": "animate"
           },
           {
            "args": [
             [
              67
             ],
             {
              "frame": {
               "duration": 100,
               "redraw": false
              },
              "mode": "immediate",
              "transition": {
               "duration": 0
              }
             }
            ],
            "label": "67",
            "method": "animate"
           },
           {
            "args": [
             [
              68
             ],
             {
              "frame": {
               "duration": 100,
               "redraw": false
              },
              "mode": "immediate",
              "transition": {
               "duration": 0
              }
             }
            ],
            "label": "68",
            "method": "animate"
           },
           {
            "args": [
             [
              69
             ],
             {
              "frame": {
               "duration": 100,
               "redraw": false
              },
              "mode": "immediate",
              "transition": {
               "duration": 0
              }
             }
            ],
            "label": "69",
            "method": "animate"
           },
           {
            "args": [
             [
              70
             ],
             {
              "frame": {
               "duration": 100,
               "redraw": false
              },
              "mode": "immediate",
              "transition": {
               "duration": 0
              }
             }
            ],
            "label": "70",
            "method": "animate"
           },
           {
            "args": [
             [
              71
             ],
             {
              "frame": {
               "duration": 100,
               "redraw": false
              },
              "mode": "immediate",
              "transition": {
               "duration": 0
              }
             }
            ],
            "label": "71",
            "method": "animate"
           },
           {
            "args": [
             [
              72
             ],
             {
              "frame": {
               "duration": 100,
               "redraw": false
              },
              "mode": "immediate",
              "transition": {
               "duration": 0
              }
             }
            ],
            "label": "72",
            "method": "animate"
           },
           {
            "args": [
             [
              73
             ],
             {
              "frame": {
               "duration": 100,
               "redraw": false
              },
              "mode": "immediate",
              "transition": {
               "duration": 0
              }
             }
            ],
            "label": "73",
            "method": "animate"
           },
           {
            "args": [
             [
              74
             ],
             {
              "frame": {
               "duration": 100,
               "redraw": false
              },
              "mode": "immediate",
              "transition": {
               "duration": 0
              }
             }
            ],
            "label": "74",
            "method": "animate"
           },
           {
            "args": [
             [
              75
             ],
             {
              "frame": {
               "duration": 100,
               "redraw": false
              },
              "mode": "immediate",
              "transition": {
               "duration": 0
              }
             }
            ],
            "label": "75",
            "method": "animate"
           },
           {
            "args": [
             [
              76
             ],
             {
              "frame": {
               "duration": 100,
               "redraw": false
              },
              "mode": "immediate",
              "transition": {
               "duration": 0
              }
             }
            ],
            "label": "76",
            "method": "animate"
           },
           {
            "args": [
             [
              77
             ],
             {
              "frame": {
               "duration": 100,
               "redraw": false
              },
              "mode": "immediate",
              "transition": {
               "duration": 0
              }
             }
            ],
            "label": "77",
            "method": "animate"
           },
           {
            "args": [
             [
              78
             ],
             {
              "frame": {
               "duration": 100,
               "redraw": false
              },
              "mode": "immediate",
              "transition": {
               "duration": 0
              }
             }
            ],
            "label": "78",
            "method": "animate"
           },
           {
            "args": [
             [
              79
             ],
             {
              "frame": {
               "duration": 100,
               "redraw": false
              },
              "mode": "immediate",
              "transition": {
               "duration": 0
              }
             }
            ],
            "label": "79",
            "method": "animate"
           },
           {
            "args": [
             [
              80
             ],
             {
              "frame": {
               "duration": 100,
               "redraw": false
              },
              "mode": "immediate",
              "transition": {
               "duration": 0
              }
             }
            ],
            "label": "80",
            "method": "animate"
           },
           {
            "args": [
             [
              81
             ],
             {
              "frame": {
               "duration": 100,
               "redraw": false
              },
              "mode": "immediate",
              "transition": {
               "duration": 0
              }
             }
            ],
            "label": "81",
            "method": "animate"
           },
           {
            "args": [
             [
              82
             ],
             {
              "frame": {
               "duration": 100,
               "redraw": false
              },
              "mode": "immediate",
              "transition": {
               "duration": 0
              }
             }
            ],
            "label": "82",
            "method": "animate"
           },
           {
            "args": [
             [
              83
             ],
             {
              "frame": {
               "duration": 100,
               "redraw": false
              },
              "mode": "immediate",
              "transition": {
               "duration": 0
              }
             }
            ],
            "label": "83",
            "method": "animate"
           },
           {
            "args": [
             [
              84
             ],
             {
              "frame": {
               "duration": 100,
               "redraw": false
              },
              "mode": "immediate",
              "transition": {
               "duration": 0
              }
             }
            ],
            "label": "84",
            "method": "animate"
           },
           {
            "args": [
             [
              85
             ],
             {
              "frame": {
               "duration": 100,
               "redraw": false
              },
              "mode": "immediate",
              "transition": {
               "duration": 0
              }
             }
            ],
            "label": "85",
            "method": "animate"
           },
           {
            "args": [
             [
              86
             ],
             {
              "frame": {
               "duration": 100,
               "redraw": false
              },
              "mode": "immediate",
              "transition": {
               "duration": 0
              }
             }
            ],
            "label": "86",
            "method": "animate"
           },
           {
            "args": [
             [
              87
             ],
             {
              "frame": {
               "duration": 100,
               "redraw": false
              },
              "mode": "immediate",
              "transition": {
               "duration": 0
              }
             }
            ],
            "label": "87",
            "method": "animate"
           },
           {
            "args": [
             [
              88
             ],
             {
              "frame": {
               "duration": 100,
               "redraw": false
              },
              "mode": "immediate",
              "transition": {
               "duration": 0
              }
             }
            ],
            "label": "88",
            "method": "animate"
           },
           {
            "args": [
             [
              89
             ],
             {
              "frame": {
               "duration": 100,
               "redraw": false
              },
              "mode": "immediate",
              "transition": {
               "duration": 0
              }
             }
            ],
            "label": "89",
            "method": "animate"
           },
           {
            "args": [
             [
              90
             ],
             {
              "frame": {
               "duration": 100,
               "redraw": false
              },
              "mode": "immediate",
              "transition": {
               "duration": 0
              }
             }
            ],
            "label": "90",
            "method": "animate"
           },
           {
            "args": [
             [
              91
             ],
             {
              "frame": {
               "duration": 100,
               "redraw": false
              },
              "mode": "immediate",
              "transition": {
               "duration": 0
              }
             }
            ],
            "label": "91",
            "method": "animate"
           },
           {
            "args": [
             [
              92
             ],
             {
              "frame": {
               "duration": 100,
               "redraw": false
              },
              "mode": "immediate",
              "transition": {
               "duration": 0
              }
             }
            ],
            "label": "92",
            "method": "animate"
           },
           {
            "args": [
             [
              93
             ],
             {
              "frame": {
               "duration": 100,
               "redraw": false
              },
              "mode": "immediate",
              "transition": {
               "duration": 0
              }
             }
            ],
            "label": "93",
            "method": "animate"
           },
           {
            "args": [
             [
              94
             ],
             {
              "frame": {
               "duration": 100,
               "redraw": false
              },
              "mode": "immediate",
              "transition": {
               "duration": 0
              }
             }
            ],
            "label": "94",
            "method": "animate"
           },
           {
            "args": [
             [
              95
             ],
             {
              "frame": {
               "duration": 100,
               "redraw": false
              },
              "mode": "immediate",
              "transition": {
               "duration": 0
              }
             }
            ],
            "label": "95",
            "method": "animate"
           },
           {
            "args": [
             [
              96
             ],
             {
              "frame": {
               "duration": 100,
               "redraw": false
              },
              "mode": "immediate",
              "transition": {
               "duration": 0
              }
             }
            ],
            "label": "96",
            "method": "animate"
           },
           {
            "args": [
             [
              97
             ],
             {
              "frame": {
               "duration": 100,
               "redraw": false
              },
              "mode": "immediate",
              "transition": {
               "duration": 0
              }
             }
            ],
            "label": "97",
            "method": "animate"
           },
           {
            "args": [
             [
              98
             ],
             {
              "frame": {
               "duration": 100,
               "redraw": false
              },
              "mode": "immediate",
              "transition": {
               "duration": 0
              }
             }
            ],
            "label": "98",
            "method": "animate"
           },
           {
            "args": [
             [
              99
             ],
             {
              "frame": {
               "duration": 100,
               "redraw": false
              },
              "mode": "immediate",
              "transition": {
               "duration": 0
              }
             }
            ],
            "label": "99",
            "method": "animate"
           }
          ],
          "transition": {
           "duration": 300,
           "easing": "cubic-in-out"
          },
          "x": 0.1,
          "xanchor": "left",
          "y": 0,
          "yanchor": "top"
         }
        ],
        "template": {
         "data": {
          "bar": [
           {
            "error_x": {
             "color": "#2a3f5f"
            },
            "error_y": {
             "color": "#2a3f5f"
            },
            "marker": {
             "line": {
              "color": "#E5ECF6",
              "width": 0.5
             },
             "pattern": {
              "fillmode": "overlay",
              "size": 10,
              "solidity": 0.2
             }
            },
            "type": "bar"
           }
          ],
          "barpolar": [
           {
            "marker": {
             "line": {
              "color": "#E5ECF6",
              "width": 0.5
             },
             "pattern": {
              "fillmode": "overlay",
              "size": 10,
              "solidity": 0.2
             }
            },
            "type": "barpolar"
           }
          ],
          "carpet": [
           {
            "aaxis": {
             "endlinecolor": "#2a3f5f",
             "gridcolor": "white",
             "linecolor": "white",
             "minorgridcolor": "white",
             "startlinecolor": "#2a3f5f"
            },
            "baxis": {
             "endlinecolor": "#2a3f5f",
             "gridcolor": "white",
             "linecolor": "white",
             "minorgridcolor": "white",
             "startlinecolor": "#2a3f5f"
            },
            "type": "carpet"
           }
          ],
          "choropleth": [
           {
            "colorbar": {
             "outlinewidth": 0,
             "ticks": ""
            },
            "type": "choropleth"
           }
          ],
          "contour": [
           {
            "colorbar": {
             "outlinewidth": 0,
             "ticks": ""
            },
            "colorscale": [
             [
              0,
              "#0d0887"
             ],
             [
              0.1111111111111111,
              "#46039f"
             ],
             [
              0.2222222222222222,
              "#7201a8"
             ],
             [
              0.3333333333333333,
              "#9c179e"
             ],
             [
              0.4444444444444444,
              "#bd3786"
             ],
             [
              0.5555555555555556,
              "#d8576b"
             ],
             [
              0.6666666666666666,
              "#ed7953"
             ],
             [
              0.7777777777777778,
              "#fb9f3a"
             ],
             [
              0.8888888888888888,
              "#fdca26"
             ],
             [
              1,
              "#f0f921"
             ]
            ],
            "type": "contour"
           }
          ],
          "contourcarpet": [
           {
            "colorbar": {
             "outlinewidth": 0,
             "ticks": ""
            },
            "type": "contourcarpet"
           }
          ],
          "heatmap": [
           {
            "colorbar": {
             "outlinewidth": 0,
             "ticks": ""
            },
            "colorscale": [
             [
              0,
              "#0d0887"
             ],
             [
              0.1111111111111111,
              "#46039f"
             ],
             [
              0.2222222222222222,
              "#7201a8"
             ],
             [
              0.3333333333333333,
              "#9c179e"
             ],
             [
              0.4444444444444444,
              "#bd3786"
             ],
             [
              0.5555555555555556,
              "#d8576b"
             ],
             [
              0.6666666666666666,
              "#ed7953"
             ],
             [
              0.7777777777777778,
              "#fb9f3a"
             ],
             [
              0.8888888888888888,
              "#fdca26"
             ],
             [
              1,
              "#f0f921"
             ]
            ],
            "type": "heatmap"
           }
          ],
          "heatmapgl": [
           {
            "colorbar": {
             "outlinewidth": 0,
             "ticks": ""
            },
            "colorscale": [
             [
              0,
              "#0d0887"
             ],
             [
              0.1111111111111111,
              "#46039f"
             ],
             [
              0.2222222222222222,
              "#7201a8"
             ],
             [
              0.3333333333333333,
              "#9c179e"
             ],
             [
              0.4444444444444444,
              "#bd3786"
             ],
             [
              0.5555555555555556,
              "#d8576b"
             ],
             [
              0.6666666666666666,
              "#ed7953"
             ],
             [
              0.7777777777777778,
              "#fb9f3a"
             ],
             [
              0.8888888888888888,
              "#fdca26"
             ],
             [
              1,
              "#f0f921"
             ]
            ],
            "type": "heatmapgl"
           }
          ],
          "histogram": [
           {
            "marker": {
             "pattern": {
              "fillmode": "overlay",
              "size": 10,
              "solidity": 0.2
             }
            },
            "type": "histogram"
           }
          ],
          "histogram2d": [
           {
            "colorbar": {
             "outlinewidth": 0,
             "ticks": ""
            },
            "colorscale": [
             [
              0,
              "#0d0887"
             ],
             [
              0.1111111111111111,
              "#46039f"
             ],
             [
              0.2222222222222222,
              "#7201a8"
             ],
             [
              0.3333333333333333,
              "#9c179e"
             ],
             [
              0.4444444444444444,
              "#bd3786"
             ],
             [
              0.5555555555555556,
              "#d8576b"
             ],
             [
              0.6666666666666666,
              "#ed7953"
             ],
             [
              0.7777777777777778,
              "#fb9f3a"
             ],
             [
              0.8888888888888888,
              "#fdca26"
             ],
             [
              1,
              "#f0f921"
             ]
            ],
            "type": "histogram2d"
           }
          ],
          "histogram2dcontour": [
           {
            "colorbar": {
             "outlinewidth": 0,
             "ticks": ""
            },
            "colorscale": [
             [
              0,
              "#0d0887"
             ],
             [
              0.1111111111111111,
              "#46039f"
             ],
             [
              0.2222222222222222,
              "#7201a8"
             ],
             [
              0.3333333333333333,
              "#9c179e"
             ],
             [
              0.4444444444444444,
              "#bd3786"
             ],
             [
              0.5555555555555556,
              "#d8576b"
             ],
             [
              0.6666666666666666,
              "#ed7953"
             ],
             [
              0.7777777777777778,
              "#fb9f3a"
             ],
             [
              0.8888888888888888,
              "#fdca26"
             ],
             [
              1,
              "#f0f921"
             ]
            ],
            "type": "histogram2dcontour"
           }
          ],
          "mesh3d": [
           {
            "colorbar": {
             "outlinewidth": 0,
             "ticks": ""
            },
            "type": "mesh3d"
           }
          ],
          "parcoords": [
           {
            "line": {
             "colorbar": {
              "outlinewidth": 0,
              "ticks": ""
             }
            },
            "type": "parcoords"
           }
          ],
          "pie": [
           {
            "automargin": true,
            "type": "pie"
           }
          ],
          "scatter": [
           {
            "fillpattern": {
             "fillmode": "overlay",
             "size": 10,
             "solidity": 0.2
            },
            "type": "scatter"
           }
          ],
          "scatter3d": [
           {
            "line": {
             "colorbar": {
              "outlinewidth": 0,
              "ticks": ""
             }
            },
            "marker": {
             "colorbar": {
              "outlinewidth": 0,
              "ticks": ""
             }
            },
            "type": "scatter3d"
           }
          ],
          "scattercarpet": [
           {
            "marker": {
             "colorbar": {
              "outlinewidth": 0,
              "ticks": ""
             }
            },
            "type": "scattercarpet"
           }
          ],
          "scattergeo": [
           {
            "marker": {
             "colorbar": {
              "outlinewidth": 0,
              "ticks": ""
             }
            },
            "type": "scattergeo"
           }
          ],
          "scattergl": [
           {
            "marker": {
             "colorbar": {
              "outlinewidth": 0,
              "ticks": ""
             }
            },
            "type": "scattergl"
           }
          ],
          "scattermapbox": [
           {
            "marker": {
             "colorbar": {
              "outlinewidth": 0,
              "ticks": ""
             }
            },
            "type": "scattermapbox"
           }
          ],
          "scatterpolar": [
           {
            "marker": {
             "colorbar": {
              "outlinewidth": 0,
              "ticks": ""
             }
            },
            "type": "scatterpolar"
           }
          ],
          "scatterpolargl": [
           {
            "marker": {
             "colorbar": {
              "outlinewidth": 0,
              "ticks": ""
             }
            },
            "type": "scatterpolargl"
           }
          ],
          "scatterternary": [
           {
            "marker": {
             "colorbar": {
              "outlinewidth": 0,
              "ticks": ""
             }
            },
            "type": "scatterternary"
           }
          ],
          "surface": [
           {
            "colorbar": {
             "outlinewidth": 0,
             "ticks": ""
            },
            "colorscale": [
             [
              0,
              "#0d0887"
             ],
             [
              0.1111111111111111,
              "#46039f"
             ],
             [
              0.2222222222222222,
              "#7201a8"
             ],
             [
              0.3333333333333333,
              "#9c179e"
             ],
             [
              0.4444444444444444,
              "#bd3786"
             ],
             [
              0.5555555555555556,
              "#d8576b"
             ],
             [
              0.6666666666666666,
              "#ed7953"
             ],
             [
              0.7777777777777778,
              "#fb9f3a"
             ],
             [
              0.8888888888888888,
              "#fdca26"
             ],
             [
              1,
              "#f0f921"
             ]
            ],
            "type": "surface"
           }
          ],
          "table": [
           {
            "cells": {
             "fill": {
              "color": "#EBF0F8"
             },
             "line": {
              "color": "white"
             }
            },
            "header": {
             "fill": {
              "color": "#C8D4E3"
             },
             "line": {
              "color": "white"
             }
            },
            "type": "table"
           }
          ]
         },
         "layout": {
          "annotationdefaults": {
           "arrowcolor": "#2a3f5f",
           "arrowhead": 0,
           "arrowwidth": 1
          },
          "autotypenumbers": "strict",
          "coloraxis": {
           "colorbar": {
            "outlinewidth": 0,
            "ticks": ""
           }
          },
          "colorscale": {
           "diverging": [
            [
             0,
             "#8e0152"
            ],
            [
             0.1,
             "#c51b7d"
            ],
            [
             0.2,
             "#de77ae"
            ],
            [
             0.3,
             "#f1b6da"
            ],
            [
             0.4,
             "#fde0ef"
            ],
            [
             0.5,
             "#f7f7f7"
            ],
            [
             0.6,
             "#e6f5d0"
            ],
            [
             0.7,
             "#b8e186"
            ],
            [
             0.8,
             "#7fbc41"
            ],
            [
             0.9,
             "#4d9221"
            ],
            [
             1,
             "#276419"
            ]
           ],
           "sequential": [
            [
             0,
             "#0d0887"
            ],
            [
             0.1111111111111111,
             "#46039f"
            ],
            [
             0.2222222222222222,
             "#7201a8"
            ],
            [
             0.3333333333333333,
             "#9c179e"
            ],
            [
             0.4444444444444444,
             "#bd3786"
            ],
            [
             0.5555555555555556,
             "#d8576b"
            ],
            [
             0.6666666666666666,
             "#ed7953"
            ],
            [
             0.7777777777777778,
             "#fb9f3a"
            ],
            [
             0.8888888888888888,
             "#fdca26"
            ],
            [
             1,
             "#f0f921"
            ]
           ],
           "sequentialminus": [
            [
             0,
             "#0d0887"
            ],
            [
             0.1111111111111111,
             "#46039f"
            ],
            [
             0.2222222222222222,
             "#7201a8"
            ],
            [
             0.3333333333333333,
             "#9c179e"
            ],
            [
             0.4444444444444444,
             "#bd3786"
            ],
            [
             0.5555555555555556,
             "#d8576b"
            ],
            [
             0.6666666666666666,
             "#ed7953"
            ],
            [
             0.7777777777777778,
             "#fb9f3a"
            ],
            [
             0.8888888888888888,
             "#fdca26"
            ],
            [
             1,
             "#f0f921"
            ]
           ]
          },
          "colorway": [
           "#636efa",
           "#EF553B",
           "#00cc96",
           "#ab63fa",
           "#FFA15A",
           "#19d3f3",
           "#FF6692",
           "#B6E880",
           "#FF97FF",
           "#FECB52"
          ],
          "font": {
           "color": "#2a3f5f"
          },
          "geo": {
           "bgcolor": "white",
           "lakecolor": "white",
           "landcolor": "#E5ECF6",
           "showlakes": true,
           "showland": true,
           "subunitcolor": "white"
          },
          "hoverlabel": {
           "align": "left"
          },
          "hovermode": "closest",
          "mapbox": {
           "style": "light"
          },
          "paper_bgcolor": "white",
          "plot_bgcolor": "#E5ECF6",
          "polar": {
           "angularaxis": {
            "gridcolor": "white",
            "linecolor": "white",
            "ticks": ""
           },
           "bgcolor": "#E5ECF6",
           "radialaxis": {
            "gridcolor": "white",
            "linecolor": "white",
            "ticks": ""
           }
          },
          "scene": {
           "xaxis": {
            "backgroundcolor": "#E5ECF6",
            "gridcolor": "white",
            "gridwidth": 2,
            "linecolor": "white",
            "showbackground": true,
            "ticks": "",
            "zerolinecolor": "white"
           },
           "yaxis": {
            "backgroundcolor": "#E5ECF6",
            "gridcolor": "white",
            "gridwidth": 2,
            "linecolor": "white",
            "showbackground": true,
            "ticks": "",
            "zerolinecolor": "white"
           },
           "zaxis": {
            "backgroundcolor": "#E5ECF6",
            "gridcolor": "white",
            "gridwidth": 2,
            "linecolor": "white",
            "showbackground": true,
            "ticks": "",
            "zerolinecolor": "white"
           }
          },
          "shapedefaults": {
           "line": {
            "color": "#2a3f5f"
           }
          },
          "ternary": {
           "aaxis": {
            "gridcolor": "white",
            "linecolor": "white",
            "ticks": ""
           },
           "baxis": {
            "gridcolor": "white",
            "linecolor": "white",
            "ticks": ""
           },
           "bgcolor": "#E5ECF6",
           "caxis": {
            "gridcolor": "white",
            "linecolor": "white",
            "ticks": ""
           }
          },
          "title": {
           "x": 0.05
          },
          "xaxis": {
           "automargin": true,
           "gridcolor": "white",
           "linecolor": "white",
           "ticks": "",
           "title": {
            "standoff": 15
           },
           "zerolinecolor": "white",
           "zerolinewidth": 2
          },
          "yaxis": {
           "automargin": true,
           "gridcolor": "white",
           "linecolor": "white",
           "ticks": "",
           "title": {
            "standoff": 15
           },
           "zerolinecolor": "white",
           "zerolinewidth": 2
          }
         }
        },
        "title": {
         "text": "GameId: 2022091200, PlayId: 180<br>12:19 1Q<br><br><br><br><br><br><br><br><br><br><br><br><br><br><br><br><br><br><br>(12:19) R.Penny left guard to DEN 38 for 4 yards (B.Chubb; M.Purcell)."
        },
        "updatemenus": [
         {
          "buttons": [
           {
            "args": [
             null,
             {
              "frame": {
               "duration": 100,
               "redraw": false
              },
              "fromcurrent": true,
              "transition": {
               "duration": 0
              }
             }
            ],
            "label": "Play",
            "method": "animate"
           },
           {
            "args": [
             [
              null
             ],
             {
              "frame": {
               "duration": 0,
               "redraw": false
              },
              "mode": "immediate",
              "transition": {
               "duration": 0
              }
             }
            ],
            "label": "Pause",
            "method": "animate"
           }
          ],
          "direction": "left",
          "pad": {
           "r": 10,
           "t": 87
          },
          "showactive": false,
          "type": "buttons",
          "x": 0.1,
          "xanchor": "right",
          "y": 0,
          "yanchor": "top"
         }
        ],
        "width": 1200,
        "xaxis": {
         "autorange": false,
         "range": [
          0,
          120
         ],
         "showticklabels": false,
         "tickmode": "array",
         "tickvals": [
          10,
          15,
          20,
          25,
          30,
          35,
          40,
          45,
          50,
          55,
          60,
          65,
          70,
          75,
          80,
          85,
          90,
          95,
          100,
          105,
          110
         ]
        },
        "yaxis": {
         "autorange": false,
         "range": [
          0,
          53.3
         ],
         "showgrid": false,
         "showticklabels": false
        }
       }
      }
     },
     "metadata": {},
     "output_type": "display_data"
    }
   ],
   "source": [
    "animate_play(tracking, plays, players, player_play, 2022091200, 180)"
   ]
  }
 ],
 "metadata": {
  "kernelspec": {
   "display_name": "Python 3.11.7 ('m148')",
   "language": "python",
   "name": "python3"
  },
  "language_info": {
   "codemirror_mode": {
    "name": "ipython",
    "version": 3
   },
   "file_extension": ".py",
   "mimetype": "text/x-python",
   "name": "python",
   "nbconvert_exporter": "python",
   "pygments_lexer": "ipython3",
   "version": "3.11.7"
  },
  "orig_nbformat": 4,
  "vscode": {
   "interpreter": {
    "hash": "a2720be4e965180de30c1a654acfdd0c1b9dd1ebbf99285d20051f30c1cfe82a"
   }
  }
 },
 "nbformat": 4,
 "nbformat_minor": 2
}
